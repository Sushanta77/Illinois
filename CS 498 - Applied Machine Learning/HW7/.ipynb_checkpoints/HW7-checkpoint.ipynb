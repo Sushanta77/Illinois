{
 "cells": [
  {
   "cell_type": "code",
   "execution_count": 232,
   "metadata": {},
   "outputs": [],
   "source": [
    "import pandas as pd\n",
    "import numpy as np\n",
    "from sklearn.feature_extraction.text import CountVectorizer\n",
    "import matplotlib.pyplot as plt\n",
    "from nltk.corpus import stopwords #Please delete this before submission\n",
    "%matplotlib inline\n",
    "import seaborn as sns\n",
    "from sklearn.model_selection import train_test_split\n",
    "from sklearn.linear_model import LogisticRegression\n",
    "from sklearn.neighbors import NearestNeighbors\n",
    "from sklearn.metrics import confusion_matrix\n",
    "from sklearn.metrics import roc_curve\n",
    "from sklearn.metrics import roc_auc_score\n",
    "import warnings\n",
    "warnings.filterwarnings('ignore')\n",
    "sw=stopwords.words('english') # Please delete this before submission"
   ]
  },
  {
   "cell_type": "code",
   "execution_count": 391,
   "metadata": {},
   "outputs": [],
   "source": [
    "def load_data():\n",
    "    yelp = pd.read_csv('data/yelp_2k.csv',usecols=['text','stars'])\n",
    "    yelp_a = np.array(yelp)\n",
    "    return (yelp_a[:,1],yelp_a[:,0].astype(int))\n",
    "\n",
    "def stop_words_create():\n",
    "    stop_words = ['this','for','the','has','had','have','is','was','i','am','a','to','an','are','me','by','my','him',\n",
    "                  'on','in','them','where','you','be','can','at','there','here','if','or','they','out','from',\n",
    "                  'where','of','we','were','all','as','and','not','but','so','when','with','until','that','he','she',\n",
    "                  'it','what','has','your','am','why','our']\n",
    "    return stop_words\n",
    "\n",
    "\n",
    "def data_vectorize(X,stop_words,max_df=1.0,min_df=1,train_idx=2000):\n",
    "    X_lower = list(np.char.lower(X.astype(str)))\n",
    "    #X_lower = list(np.char.lower(X.astype(str)))\n",
    "    vectorizer = CountVectorizer(stop_words=stop_words,max_df=max_df,min_df=min_df)\n",
    "    data_feature=vectorizer.fit_transform(X_lower).toarray()\n",
    "    words_freq = np.sum(data_feature[:train_idx],axis=0)\n",
    "    words = np.array(vectorizer.get_feature_names())\n",
    "    df_words_dist = pd.DataFrame(words,columns=['words'])\n",
    "    df_words_dist['words_freq'] = words_freq\n",
    "    #word_freq=-np.sort(-np.sum(data_feature_arr,axis=0))\n",
    "    return df_words_dist.sort_values(by='words_freq',ascending=False),data_feature[:train_idx].astype(int),data_feature[train_idx:].astype(int)\n",
    "\n",
    " \n",
    "def plot_distribution_word(df_words_dist,title):\n",
    "    plt.figure(figsize=(12,8))\n",
    "    plt.scatter(np.arange(df_words_dist.shape[0]),df_words_dist.sort_values(by='words_freq',ascending=False)['words_freq'],marker='+',c='g')\n",
    "    plt.xlabel('Word Rank')\n",
    "    plt.ylabel('Word Count')\n",
    "    plt.title(title)\n",
    "\n",
    "\n",
    "def cosine_distance(X_features_train,X_features_test,metric='cosine',n_neighbors=5):\n",
    "    neigh=NearestNeighbors(metric='cosine',n_neighbors=n_neighbors)\n",
    "    neigh.fit(X_features_train)\n",
    "    cosine_score,cosine_index=neigh.kneighbors(X_features_test)\n",
    "    return cosine_score,cosine_index\n",
    "\n",
    "\n",
    "def word_cosine_distance(X,cosine_score,cosine_index):\n",
    "    word_cosine_distance = X[cosine_index].reshape(cosine_index.shape[1],1)\n",
    "    word_cosine_score = cosine_score.reshape(cosine_score.shape[1],1)\n",
    "    word_cos_dis_score = np.concatenate([word_cosine_distance,word_cosine_score],axis=1)\n",
    "    return word_cos_dis_score\n",
    "    \n",
    "    \n",
    "def traintest_split(df_X,df_y,split_ratio=0.1):\n",
    "    df_X_train,df_X_test,df_y_train,df_y_test=train_test_split(df_X,df_y,test_size=split_ratio,random_state=2019)\n",
    "    return df_X_train,df_X_test,df_y_train,df_y_test\n",
    "\n",
    "\n",
    "def logistic_model(df_X_train,df_y_train):\n",
    "    clf=LogisticRegression(random_state=2019)\n",
    "    clf.fit(df_X_train,df_y_train)\n",
    "    return clf\n",
    "\n",
    "    \n",
    "def logistic_pred(clf,df_X_train,df_y_train,df_X_test,df_y_test,threshold,print_ind=False):\n",
    "    clf_pred_train = []\n",
    "    clf_pred_test = []\n",
    "   \n",
    "    clf_prob_train=clf.predict_proba(df_X_train)[:,0]\n",
    "    clf_prob_test=clf.predict_proba(df_X_test)[:,0]\n",
    "\n",
    "    #Predict for Train Accuracy\n",
    "    for i in range(clf_prob_train.shape[0]):\n",
    "        if (clf_prob_train[i] > threshold):\n",
    "            clf_pred_train.append(1)\n",
    "        else:\n",
    "            clf_pred_train.append(5)\n",
    "\n",
    "    #Predict for Test Accuracy\n",
    "    for i in range(clf_prob_test.shape[0]):\n",
    "        if (clf_prob_test[i] > threshold):\n",
    "            clf_pred_test.append(1)\n",
    "        else:\n",
    "            clf_pred_test.append(5)\n",
    "            \n",
    "    train_acc = (np.sum(clf_pred_train == df_y_train)/df_y_train.shape[0])*100\n",
    "    test_acc = (np.sum(clf_pred_test == df_y_test)/df_y_test.shape[0])*100\n",
    "    return train_acc,test_acc,clf_pred_train,clf_pred_test,clf_prob_train,clf_prob_test\n",
    "\n",
    "\n",
    "def distplot_clf(clf_prob_train,clf_prob_test,threshold):\n",
    "    plt.figure(figsize=(12,8),dpi=80)\n",
    "    sns.distplot(clf_prob_train[clf_prob_train >= threshold],bins=50,color='green',label='Positive')\n",
    "    sns.distplot(clf_prob_train[clf_prob_train < threshold],bins=50,color='blue',label='Negative')\n",
    "    plt.xlabel('Probability')\n",
    "    plt.ylabel('Count of Prediction in Bucket')\n",
    "    plt.title('Histogram of Predicted Scores')\n",
    "    plt.legend()\n",
    "    \n",
    "def confusion_matrix_calc(y_true,y_pred):\n",
    "    conf=confusion_matrix(y_true,y_pred)\n",
    "    return conf\n",
    "\n",
    "def roc_auc_curve(y_true,y_pred_score,label=None):\n",
    "    fpr,tpr,thresholds=roc_curve(y_true,y_pred_score,pos_label=1)\n",
    "    df_y_true = pd.DataFrame(y_true)\n",
    "    df_y_true[df_y_true[0] == 5] = 0\n",
    "    roc_score=roc_auc_score(df_y_true[0],y_pred_score)\n",
    "    \n",
    "    plt.figure(figsize=(12,8))\n",
    "    plt.plot(fpr,tpr,linewidth=4,label=label,color='orange')\n",
    "    plt.plot([0,1],[0,1],'k--',linewidth=4,color='b')\n",
    "    plt.axis([0,1,0,1])\n",
    "    plt.xlabel('False Positive Rate')\n",
    "    plt.ylabel('True Positive Rate')\n",
    "    plt.title(label)\n",
    "    plt.text(x=0.3,y=0.2,s=\"ROC Curve (area = {:.2f})\".format(roc_score),fontsize=20)\n",
    "    "
   ]
  },
  {
   "cell_type": "code",
   "execution_count": 247,
   "metadata": {},
   "outputs": [
    {
     "data": {
      "image/png": "[encoded data removed]",
      "text/plain": [
       "<Figure size 864x576 with 1 Axes>"
      ]
     },
     "metadata": {},
     "output_type": "display_data"
    }
   ],
   "source": [
    "threshold = 0.5\n",
    "X,y=load_data()\n",
    "\n",
    "#Adding the new Data\n",
    "new_data=np.array(['Horrible customer service'])\n",
    "X=np.append(X,new_data,axis=0)\n",
    "\n",
    "#Without Stop Words, Populate the Distriobution Graph\n",
    "stop_words = []\n",
    "df_words_dist_before_sw,X_features,X_features_new=data_vectorize(X,stop_words,train_idx=2000)\n",
    "plot_distribution_word(df_words_dist_before_sw,title='Distribution Graph (Original)')"
   ]
  },
  {
   "cell_type": "code",
   "execution_count": 248,
   "metadata": {},
   "outputs": [
    {
     "name": "stdout",
     "output_type": "stream",
     "text": [
      "Cosine Distance Index: [[1808   90  729 1721 1723]]\n",
      "[['Rogers ...\\n\\n1) is over priced\\n2) have horrible customer service\\n3) faulty and incorrect billing\\n4) poor customer service\\n5) not enough options\\n6) never arrive for an appointment'\n",
      "  0.4444444444444443]\n",
      " ['Horrible service, horrible customer service, and horrible quality of service!  Do not waste your time or money using this company for your pool needs.  Dan (602)363-8267 broke my pool filtration system and left it in a nonworking condition.  He will not repair the issue he caused, and told me to go somewhere else.  \\n\\nSave yourself the hassle, there are plenty of other quality pool companies out there.  \\n\\nTake care!'\n",
      "  0.611111111111111]\n",
      " [\"Service was horrible came with a major attitude. Payed 30 for lasagna and was no where worth it. Won't ever be going back and will NEVER recommend this place. was treated absolutely horrible. Horrible.\"\n",
      "  0.6631392315733924]\n",
      " ['Went to Marca today to get a haircut and was given a great service both by front desk - customer service and by Georgia, girl who did my hair. I guess I got lucky with her as she has years of experience doing this job. She has excellent customer service skills and takes excellent care of her customers.'\n",
      "  0.6792498504502079]\n",
      " [\"The service is horrible. It's not bad inside, but really one of the most annoying clubs in Vegas. I'm all for Vegas clubs, but service here sucks.\"\n",
      "  0.7113248654051871]]\n"
     ]
    }
   ],
   "source": [
    "cosine_score,cosine_index=cosine_distance(X_features,X_features_new,metric='cosine',n_neighbors=5)\n",
    "word_cos_dis_score=word_cosine_distance(X[:2000],cosine_score,cosine_index)\n",
    "#print (\"Cosine Distance Score: {}\".format(cosine_score))\n",
    "print (\"Cosine Distance Index: {}\".format(cosine_index))\n",
    "print (word_cos_dis_score)"
   ]
  },
  {
   "cell_type": "code",
   "execution_count": 249,
   "metadata": {},
   "outputs": [
    {
     "data": {
      "image/png": "[encoded data removed]",
      "text/plain": [
       "<Figure size 864x576 with 1 Axes>"
      ]
     },
     "metadata": {},
     "output_type": "display_data"
    }
   ],
   "source": [
    "#With Stop Words, Populate the Distribution Graph\n",
    "stop_words = stop_words_create()\n",
    "df_words_dist_after_sw,X_features_after_sw,X_features_new_after_sw=data_vectorize(X,stop_words,max_df=0.5,min_df=10,train_idx=2000)\n",
    "plot_distribution_word(df_words_dist_after_sw,title='Distribution Graph (After Removing Stop Words)')"
   ]
  },
  {
   "cell_type": "code",
   "execution_count": 471,
   "metadata": {},
   "outputs": [
    {
     "name": "stdout",
     "output_type": "stream",
     "text": [
      "Train Accuracy: 100.0\n",
      "Test Accuracy: 95.0\n"
     ]
    }
   ],
   "source": [
    "df_X_features=pd.DataFrame(X_features)\n",
    "df_y=pd.DataFrame(y)\n",
    "df_X_train,df_X_test,df_y_train,df_y_test=traintest_split(df_X_features,df_y)\n",
    "clf=logistic_model(df_X_train,df_y_train)\n",
    "train_acc,test_acc,clf_train_pred,clf_test_pred,clf_prob_train,clf_prob_test=logistic_pred(clf,df_X_train,df_y_train,df_X_test,df_y_test,threshold=0.5)\n",
    "df_X_train['pred']=clf_train_pred\n",
    "df_X_test['pred']=clf_test_pred\n",
    "df_final=pd.concat([df_X_train,df_X_test])\n",
    "print (\"Train Accuracy: {}\".format(train_acc[0]))\n",
    "print (\"Test Accuracy: {}\".format(test_acc[0]))\n",
    "#print (df_final.loc[cosine_index[0]]['pred'])"
   ]
  },
  {
   "cell_type": "code",
   "execution_count": 486,
   "metadata": {},
   "outputs": [
    {
     "name": "stdout",
     "output_type": "stream",
     "text": [
      "0\n",
      "1\n",
      "2\n",
      "3\n",
      "4\n",
      "5\n",
      "6\n",
      "7\n",
      "8\n",
      "9\n",
      "10\n",
      "11\n",
      "12\n",
      "13\n",
      "14\n",
      "15\n",
      "16\n",
      "17\n",
      "18\n",
      "19\n",
      "20\n"
     ]
    }
   ],
   "source": [
    "t_value = [1.00000000e+00, 9.99857750e-01, 9.99812578e-01, 9.80943725e-01,\n",
    "       9.80719086e-01, 8.85576509e-01, 8.82903111e-01, 8.21258378e-01,\n",
    "       7.90866267e-01, 6.13713473e-01, 5.90297067e-01, 5.88836274e-01,\n",
    "       5.58205622e-01, 5.40191420e-01, 5.06402672e-01, 4.71183082e-01,\n",
    "       4.26932123e-01, 3.18315914e-01, 1.19736141e-01, 1.01891910e-01,\n",
    "       3.51655720e-07]\n",
    "for th in np.arange(len(t_value)):\n",
    "    print (th)"
   ]
  },
  {
   "cell_type": "code",
   "execution_count": 489,
   "metadata": {},
   "outputs": [
    {
     "data": {
      "text/plain": [
       "1.0"
      ]
     },
     "execution_count": 489,
     "metadata": {},
     "output_type": "execute_result"
    }
   ],
   "source": [
    "t_value[th]"
   ]
  },
  {
   "cell_type": "code",
   "execution_count": 490,
   "metadata": {},
   "outputs": [],
   "source": [
    "train_acc,test_acc,clf_train_pred,clf_test_pred,clf_prob_train,clf_prob_test=logistic_pred(clf,df_X_train,df_y_train,df_X_test,df_y_test,threshold=1)"
   ]
  },
  {
   "cell_type": "code",
   "execution_count": null,
   "metadata": {},
   "outputs": [],
   "source": [
    "df_X_features=pd.DataFrame(X_features)\n",
    "df_y=pd.DataFrame(y)\n",
    "df_X_train,df_X_test,df_y_train,df_y_test=traintest_split(df_X_features,df_y)\n",
    "clf=logistic_model(df_X_train,df_y_train)\n",
    "train_acc,test_acc,clf_train_pred,clf_test_pred,clf_prob_train,clf_prob_test=logistic_pred(clf,df_X_train,df_y_train,df_X_test,df_y_test,threshold=0.31831591411297866)\n",
    "df_X_train['pred']=clf_train_pred\n",
    "df_X_test['pred']=clf_test_pred\n",
    "df_final=pd.concat([df_X_train,df_X_test])\n",
    "print (\"Train Accuracy: {}\".format(train_acc[0]))\n",
    "print (\"Test Accuracy: {}\".format(test_acc[0]))\n",
    "#print (df_final.loc[cosine_index[0]]['pred'])"
   ]
  },
  {
   "cell_type": "code",
   "execution_count": 495,
   "metadata": {},
   "outputs": [
    {
     "name": "stdout",
     "output_type": "stream",
     "text": [
      "Idx:0 Th:1.0 Test Accuracy: 45.5\n",
      "Idx:1 Th:0.99985775 Test Accuracy: 63.5\n",
      "Idx:2 Th:0.999812578 Test Accuracy: 64.0\n",
      "Idx:3 Th:0.980943725 Test Accuracy: 79.5\n",
      "Idx:4 Th:0.980719086 Test Accuracy: 79.0\n",
      "Idx:5 Th:0.885576509 Test Accuracy: 90.0\n",
      "Idx:6 Th:0.882903111 Test Accuracy: 90.5\n",
      "Idx:7 Th:0.821258378 Test Accuracy: 91.0\n",
      "Idx:8 Th:0.790866267 Test Accuracy: 91.5\n",
      "Idx:9 Th:0.613713473 Test Accuracy: 94.0\n",
      "Idx:10 Th:0.590297067 Test Accuracy: 94.0\n",
      "Idx:11 Th:0.588836274 Test Accuracy: 94.0\n",
      "Idx:12 Th:0.558205622 Test Accuracy: 94.0\n",
      "Idx:13 Th:0.54019142 Test Accuracy: 94.5\n",
      "Idx:14 Th:0.506402672 Test Accuracy: 95.0\n",
      "Idx:15 Th:0.471183082 Test Accuracy: 95.0\n",
      "Idx:16 Th:0.426932123 Test Accuracy: 95.0\n",
      "Idx:17 Th:0.318315914 Test Accuracy: 95.5\n",
      "Idx:18 Th:0.119736141 Test Accuracy: 91.0\n",
      "Idx:19 Th:0.10189191 Test Accuracy: 91.0\n",
      "Idx:20 Th:3.5165572e-07 Test Accuracy: 55.00000000000001\n"
     ]
    }
   ],
   "source": [
    "df_X_features=pd.DataFrame(X_features)\n",
    "df_y=pd.DataFrame(y)\n",
    "df_X_train,df_X_test,df_y_train,df_y_test=traintest_split(df_X_features,df_y)\n",
    "clf=logistic_model(df_X_train,df_y_train)\n",
    "t_value = [1.00000000e+00, 9.99857750e-01, 9.99812578e-01, 9.80943725e-01,\n",
    "       9.80719086e-01, 8.85576509e-01, 8.82903111e-01, 8.21258378e-01,\n",
    "       7.90866267e-01, 6.13713473e-01, 5.90297067e-01, 5.88836274e-01,\n",
    "       5.58205622e-01, 5.40191420e-01, 5.06402672e-01, 4.71183082e-01,\n",
    "       4.26932123e-01, 3.18315914e-01, 1.19736141e-01, 1.01891910e-01,\n",
    "       3.51655720e-07]\n",
    "for th in np.arange(len(t_value)):\n",
    "    th1=t_value[th]\n",
    "    train_acc,test_acc,clf_train_pred,clf_test_pred,clf_prob_train,clf_prob_test=logistic_pred(clf,df_X_train,df_y_train,df_X_test,df_y_test,threshold=th1)\n",
    "    #0.4711830818835384\n",
    "    print (\"Idx:{} Th:{} Test Accuracy: {}\".format(th,th1,test_acc[0]))\n",
    "    \n",
    "#df_X_train['pred']=clf_train_pred\n",
    "#df_X_test['pred']=clf_test_pred\n",
    "#df_final=pd.concat([df_X_train,df_X_test])\n",
    "#print (\"Train Accuracy: {}\".format(train_acc[0]))\n",
    "#print (\"Test Accuracy: {}\".format(test_acc[0]))\n",
    "#print (df_final.loc[cosine_index[0]]['pred'])"
   ]
  },
  {
   "cell_type": "code",
   "execution_count": 496,
   "metadata": {},
   "outputs": [
    {
     "data": {
      "text/plain": [
       "0.31831591411297866"
      ]
     },
     "execution_count": 496,
     "metadata": {},
     "output_type": "execute_result"
    }
   ],
   "source": [
    "thresholds[17]"
   ]
  },
  {
   "cell_type": "code",
   "execution_count": 472,
   "metadata": {},
   "outputs": [
    {
     "name": "stdout",
     "output_type": "stream",
     "text": [
      "[[891   0]\n",
      " [  0 909]]\n",
      "[[106   3]\n",
      " [  7  84]]\n"
     ]
    }
   ],
   "source": [
    "print (confusion_matrix_calc(df_y_train,clf_train_pred))\n",
    "print (confusion_matrix_calc(df_y_test,clf_test_pred))"
   ]
  },
  {
   "cell_type": "code",
   "execution_count": 474,
   "metadata": {},
   "outputs": [
    {
     "name": "stdout",
     "output_type": "stream",
     "text": [
      "[[891   0]\n",
      " [  0 909]]\n",
      "[[106   3]\n",
      " [  7  84]]\n"
     ]
    }
   ],
   "source": [
    "print (confusion_matrix_calc(df_y_train,clf_train_pred))\n",
    "print (confusion_matrix_calc(df_y_test,clf_test_pred))"
   ]
  },
  {
   "cell_type": "code",
   "execution_count": 386,
   "metadata": {},
   "outputs": [
    {
     "data": {
      "image/png": "[encoded data removed]",
      "text/plain": [
       "<Figure size 960x640 with 1 Axes>"
      ]
     },
     "metadata": {},
     "output_type": "display_data"
    }
   ],
   "source": [
    "distplot_clf(clf_prob_train,clf_prob_test,threshold=0.5)"
   ]
  },
  {
   "cell_type": "code",
   "execution_count": 392,
   "metadata": {},
   "outputs": [
    {
     "data": {
      "image/png": "[encoded data removed]",
      "text/plain": [
       "<Figure size 864x576 with 1 Axes>"
      ]
     },
     "metadata": {},
     "output_type": "display_data"
    }
   ],
   "source": [
    "roc_auc_curve(df_y_train[0],clf_prob_train,label='Training')"
   ]
  },
  {
   "cell_type": "code",
   "execution_count": 393,
   "metadata": {},
   "outputs": [
    {
     "data": {
      "image/png": "[encoded data removed]",
      "text/plain": [
       "<Figure size 864x576 with 1 Axes>"
      ]
     },
     "metadata": {},
     "output_type": "display_data"
    }
   ],
   "source": [
    "roc_auc_curve(df_y_test[0],clf_prob_test,label='Test')"
   ]
  },
  {
   "cell_type": "code",
   "execution_count": 394,
   "metadata": {},
   "outputs": [],
   "source": [
    "fpr,tpr,thresholds=roc_curve(df_y_test[0],clf_prob_test,pos_label=1)"
   ]
  },
  {
   "cell_type": "code",
   "execution_count": 445,
   "metadata": {},
   "outputs": [
    {
     "data": {
      "text/plain": [
       "array([0.        , 0.        , 0.01098901, 0.01098901, 0.02197802,\n",
       "       0.02197802, 0.03296703, 0.03296703, 0.04395604, 0.04395604,\n",
       "       0.05494505, 0.05494505, 0.06593407, 0.06593407, 0.07692308,\n",
       "       0.07692308, 0.08791209, 0.08791209, 0.1978022 , 0.1978022 ,\n",
       "       1.        ])"
      ]
     },
     "execution_count": 445,
     "metadata": {},
     "output_type": "execute_result"
    }
   ],
   "source": [
    "fpr #specificity"
   ]
  },
  {
   "cell_type": "code",
   "execution_count": 444,
   "metadata": {},
   "outputs": [
    {
     "data": {
      "text/plain": [
       "array([0.00917431, 0.33944954, 0.33944954, 0.63302752, 0.63302752,\n",
       "       0.8440367 , 0.8440367 , 0.87155963, 0.87155963, 0.93577982,\n",
       "       0.93577982, 0.94495413, 0.94495413, 0.96330275, 0.96330275,\n",
       "       0.98165138, 0.98165138, 0.99082569, 0.99082569, 1.        ,\n",
       "       1.        ])"
      ]
     },
     "execution_count": 444,
     "metadata": {},
     "output_type": "execute_result"
    }
   ],
   "source": [
    "tpr #sentivity"
   ]
  },
  {
   "cell_type": "code",
   "execution_count": 478,
   "metadata": {},
   "outputs": [
    {
     "data": {
      "text/plain": [
       "array([1.00000000e+00, 9.99857750e-01, 9.99812578e-01, 9.80943725e-01,\n",
       "       9.80719086e-01, 8.85576509e-01, 8.82903111e-01, 8.21258378e-01,\n",
       "       7.90866267e-01, 6.13713473e-01, 5.90297067e-01, 5.88836274e-01,\n",
       "       5.58205622e-01, 5.40191420e-01, 5.06402672e-01, 4.71183082e-01,\n",
       "       4.26932123e-01, 3.18315914e-01, 1.19736141e-01, 1.01891910e-01,\n",
       "       3.51655720e-07])"
      ]
     },
     "execution_count": 478,
     "metadata": {},
     "output_type": "execute_result"
    }
   ],
   "source": [
    "thresholds"
   ]
  },
  {
   "cell_type": "code",
   "execution_count": 448,
   "metadata": {},
   "outputs": [
    {
     "data": {
      "text/plain": [
       "15"
      ]
     },
     "execution_count": 448,
     "metadata": {},
     "output_type": "execute_result"
    }
   ],
   "source": [
    "np.argmax(tpr - fpr)"
   ]
  },
  {
   "cell_type": "code",
   "execution_count": 411,
   "metadata": {},
   "outputs": [],
   "source": [
    "sn = tpr\n",
    "sp = 1-fpr"
   ]
  },
  {
   "cell_type": "code",
   "execution_count": 466,
   "metadata": {},
   "outputs": [
    {
     "data": {
      "text/plain": [
       "0.4711830818835384"
      ]
     },
     "execution_count": 466,
     "metadata": {},
     "output_type": "execute_result"
    }
   ],
   "source": [
    "thresholds[15]"
   ]
  },
  {
   "cell_type": "code",
   "execution_count": 467,
   "metadata": {},
   "outputs": [
    {
     "data": {
      "text/plain": [
       "array([0.00917431, 0.33944954, 0.32846053, 0.62203851, 0.6110495 ,\n",
       "       0.82205868, 0.81106966, 0.8385926 , 0.82760359, 0.89182377,\n",
       "       0.88083476, 0.89000907, 0.87902006, 0.89736869, 0.88637968,\n",
       "       0.9047283 , 0.89373929, 0.9029136 , 0.79302349, 0.8021978 ,\n",
       "       0.        ])"
      ]
     },
     "execution_count": 467,
     "metadata": {},
     "output_type": "execute_result"
    }
   ],
   "source": [
    "tpr - fpr"
   ]
  },
  {
   "cell_type": "code",
   "execution_count": 468,
   "metadata": {},
   "outputs": [
    {
     "data": {
      "text/plain": [
       "array([0.        , 0.00917431, 0.32846053, 0.33944954, 0.6110495 ,\n",
       "       0.62203851, 0.79302349, 0.8021978 , 0.81106966, 0.82205868,\n",
       "       0.82760359, 0.8385926 , 0.87902006, 0.88083476, 0.88637968,\n",
       "       0.89000907, 0.89182377, 0.89373929, 0.89736869, 0.9029136 ,\n",
       "       0.9047283 ])"
      ]
     },
     "execution_count": 468,
     "metadata": {},
     "output_type": "execute_result"
    }
   ],
   "source": [
    "np.sort(tpr - fpr)"
   ]
  },
  {
   "cell_type": "code",
   "execution_count": 465,
   "metadata": {},
   "outputs": [
    {
     "data": {
      "text/plain": [
       "15"
      ]
     },
     "execution_count": 465,
     "metadata": {},
     "output_type": "execute_result"
    }
   ],
   "source": [
    "np.argmax(tpr - fpr)"
   ]
  },
  {
   "cell_type": "code",
   "execution_count": 426,
   "metadata": {},
   "outputs": [],
   "source": [
    "thresholds_J=sn+sp"
   ]
  },
  {
   "cell_type": "code",
   "execution_count": 430,
   "metadata": {},
   "outputs": [
    {
     "data": {
      "text/plain": [
       "array([1.00917431, 1.33944954, 1.32846053, 1.62203851, 1.6110495 ,\n",
       "       1.82205868, 1.81106966, 1.8385926 , 1.82760359, 1.89182377,\n",
       "       1.88083476, 1.89000907, 1.87902006, 1.89736869, 1.88637968,\n",
       "       1.9047283 , 1.89373929, 1.9029136 , 1.79302349, 1.8021978 ,\n",
       "       1.        ])"
      ]
     },
     "execution_count": 430,
     "metadata": {},
     "output_type": "execute_result"
    }
   ],
   "source": [
    "thresholds_J"
   ]
  },
  {
   "cell_type": "code",
   "execution_count": 429,
   "metadata": {},
   "outputs": [
    {
     "data": {
      "text/plain": [
       "array([1.        , 1.00917431, 1.32846053, 1.33944954, 1.6110495 ,\n",
       "       1.62203851, 1.79302349, 1.8021978 , 1.81106966, 1.82205868,\n",
       "       1.82760359, 1.8385926 , 1.87902006, 1.88083476, 1.88637968,\n",
       "       1.89000907, 1.89182377, 1.89373929, 1.89736869, 1.9029136 ,\n",
       "       1.9047283 ])"
      ]
     },
     "execution_count": 429,
     "metadata": {},
     "output_type": "execute_result"
    }
   ],
   "source": [
    "np.sort(thresholds_J)"
   ]
  },
  {
   "cell_type": "code",
   "execution_count": 422,
   "metadata": {},
   "outputs": [
    {
     "data": {
      "text/plain": [
       "0.07545852529584876"
      ]
     },
     "execution_count": 422,
     "metadata": {},
     "output_type": "execute_result"
    }
   ],
   "source": [
    "np.sqrt((1-sn[13])**2+(1-sp[13])**2)"
   ]
  },
  {
   "cell_type": "code",
   "execution_count": 419,
   "metadata": {},
   "outputs": [
    {
     "data": {
      "text/plain": [
       "0.963302752293578"
      ]
     },
     "execution_count": 419,
     "metadata": {},
     "output_type": "execute_result"
    }
   ],
   "source": [
    "sn[13]"
   ]
  },
  {
   "cell_type": "code",
   "execution_count": 418,
   "metadata": {},
   "outputs": [
    {
     "data": {
      "text/plain": [
       "0.9340659340659341"
      ]
     },
     "execution_count": 418,
     "metadata": {},
     "output_type": "execute_result"
    }
   ],
   "source": [
    "sp[13]"
   ]
  },
  {
   "cell_type": "code",
   "execution_count": 414,
   "metadata": {},
   "outputs": [],
   "source": [
    "find_threshold=np.sqrt((1-sn)**2 + (1-sp)**2)"
   ]
  },
  {
   "cell_type": "code",
   "execution_count": 417,
   "metadata": {},
   "outputs": [
    {
     "data": {
      "text/plain": [
       "0.07545852529584876"
      ]
     },
     "execution_count": 417,
     "metadata": {},
     "output_type": "execute_result"
    }
   ],
   "source": [
    "find_threshold[13]"
   ]
  },
  {
   "cell_type": "code",
   "execution_count": 415,
   "metadata": {},
   "outputs": [
    {
     "data": {
      "text/plain": [
       "array([0.99082569, 0.66055046, 0.66064186, 0.36713697, 0.36763002,\n",
       "       0.15750424, 0.15940946, 0.13260374, 0.13575368, 0.07782266,\n",
       "       0.0845174 , 0.07777536, 0.0858915 , 0.07545853, 0.08522821,\n",
       "       0.07908117, 0.0898065 , 0.0883895 , 0.19801484, 0.1978022 ,\n",
       "       1.        ])"
      ]
     },
     "execution_count": 415,
     "metadata": {},
     "output_type": "execute_result"
    }
   ],
   "source": [
    "find_threshold"
   ]
  },
  {
   "cell_type": "code",
   "execution_count": 416,
   "metadata": {},
   "outputs": [
    {
     "data": {
      "text/plain": [
       "array([0.07545853, 0.07777536, 0.07782266, 0.07908117, 0.0845174 ,\n",
       "       0.08522821, 0.0858915 , 0.0883895 , 0.0898065 , 0.13260374,\n",
       "       0.13575368, 0.15750424, 0.15940946, 0.1978022 , 0.19801484,\n",
       "       0.36713697, 0.36763002, 0.66055046, 0.66064186, 0.99082569,\n",
       "       1.        ])"
      ]
     },
     "execution_count": 416,
     "metadata": {},
     "output_type": "execute_result"
    }
   ],
   "source": [
    "np.sort(find_threshold)"
   ]
  },
  {
   "cell_type": "code",
   "execution_count": null,
   "metadata": {},
   "outputs": [],
   "source": [
    "print (confusion_matrix_calc(df_y_train,clf_train_pred))\n",
    "print (confusion_matrix_calc(df_y_test,clf_test_pred))"
   ]
  },
  {
   "cell_type": "code",
   "execution_count": 470,
   "metadata": {},
   "outputs": [
    {
     "name": "stdout",
     "output_type": "stream",
     "text": [
      "[[891   0]\n",
      " [  0 909]]\n",
      "[[106   3]\n",
      " [  7  84]]\n"
     ]
    }
   ],
   "source": [
    "print (confusion_matrix_calc(df_y_train,clf_train_pred))\n",
    "print (confusion_matrix_calc(df_y_test,clf_test_pred))"
   ]
  },
  {
   "cell_type": "code",
   "execution_count": 355,
   "metadata": {},
   "outputs": [],
   "source": [
    "#print (confusion_matrix_calc(df_y_train,clf_train_pred))\n",
    "#print (confusion_matrix_calc(df_y_test,clf_test_pred))"
   ]
  },
  {
   "cell_type": "code",
   "execution_count": 353,
   "metadata": {},
   "outputs": [],
   "source": [
    "#print (confusion_matrix_calc(df_y_train,clf_train_pred))\n",
    "#print (confusion_matrix_calc(df_y_test,clf_test_pred))"
   ]
  }
 ],
 "metadata": {
  "kernelspec": {
   "display_name": "Python 3",
   "language": "python",
   "name": "python3"
  },
  "language_info": {
   "codemirror_mode": {
    "name": "ipython",
    "version": 3
   },
   "file_extension": ".py",
   "mimetype": "text/x-python",
   "name": "python",
   "nbconvert_exporter": "python",
   "pygments_lexer": "ipython3",
   "version": "3.6.5"
  }
 },
 "nbformat": 4,
 "nbformat_minor": 2
}
