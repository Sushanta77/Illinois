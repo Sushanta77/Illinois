{
 "cells": [
  {
   "cell_type": "markdown",
   "metadata": {},
   "source": [
    "# Homework 8 - Artificial Neural Networks with PyTorch"
   ]
  },
  {
   "cell_type": "markdown",
   "metadata": {},
   "source": [
    "## About "
   ]
  },
  {
   "cell_type": "markdown",
   "metadata": {},
   "source": [
    "### In this homework, you will get your feet wet with deep learning using the PyTorch deep learning platform. This will involve:\n",
    "* Preparing data \n",
    "* Learning about the components of a deep learning pipeline\n",
    "* Setting up a model, a loss function, and an optimizer\n",
    "* Setting up training and testing loops\n",
    "* Using a visualizer like tensorboard to monitor logged data\n",
    "\n",
    "*This homework is due __April 15th 2019__. Training neural networks takes some time, particularly on CPUs so start early.* \n"
   ]
  },
  {
   "cell_type": "markdown",
   "metadata": {},
   "source": [
    "## Dev Environment\n",
    "### Working on Google Colab\n",
    "You may choose to work locally or on Google Colaboratory. You have access to free compute through this service. \n",
    "1. Visit https://colab.research.google.com/drive \n",
    "2. Navigate to the **`Upload`** tab, and upload your `HW8.ipynb`\n",
    "3. Now on the top right corner, under the `Comment` and `Share` options, you should see a `Connect` option. Once you are connected, you will have access to a VM with 12GB RAM, 50 GB disk space and a single GPU. The dropdown menu will allow you to connect to a local runtime as well.\n",
    "\n",
    "**Notes:** \n",
    "* **If you do not have a working setup for Python 3, this is your best bet. It will also save you from heavy installations like `tensorflow` if you don't want to deal with those.**\n",
    "* ***There is a downside*. You can only use this instance for a single 12-hour stretch, after which your data will be deleted, and you would have redownload all your datasets, any libraries not already on the VM, and regenerate your logs**.\n",
    "\n",
    "\n",
    "### Installing PyTorch and Dependencies\n",
    "\n",
    "The instructions for installing and setting up PyTorch can be found at https://pytorch.org/get-started/locally/. Make sure you follow the instructions for your machine. For any of the remaining libraries used in this assignment:\n",
    "* We have provided a `hw8_requirements.txt` file on the homework web page. \n",
    "* Download this file, and in the same directory you can run `pip3 install -r hw8_requirements.txt`\n",
    "\n",
    "Check that PyTorch installed correctly by running the following:"
   ]
  },
  {
   "cell_type": "code",
   "execution_count": 1,
   "metadata": {},
   "outputs": [
    {
     "data": {
      "text/plain": [
       "tensor([[4.5023e-01, 2.1756e-01, 5.8787e-01],\n",
       "        [1.0168e-02, 4.6840e-01, 8.1920e-01],\n",
       "        [9.9459e-01, 8.3979e-01, 4.2514e-01],\n",
       "        [8.3438e-01, 3.1956e-01, 3.0030e-01],\n",
       "        [2.0281e-01, 8.4286e-01, 1.1098e-04]])"
      ]
     },
     "execution_count": 1,
     "metadata": {},
     "output_type": "execute_result"
    }
   ],
   "source": [
    "import torch\n",
    "torch.rand(5, 3)"
   ]
  },
  {
   "cell_type": "markdown",
   "metadata": {},
   "source": [
    "The output should look something like\n",
    "\n",
    "```python\n",
    "tensor([[0.3380, 0.3845, 0.3217],\n",
    "        [0.8337, 0.9050, 0.2650],\n",
    "        [0.2979, 0.7141, 0.9069],\n",
    "        [0.1449, 0.1132, 0.1375],\n",
    "        [0.4675, 0.3947, 0.1426]])\n",
    "```\n",
    "\n",
    "### Let's get started with the assignment."
   ]
  },
  {
   "cell_type": "markdown",
   "metadata": {},
   "source": [
    "## Instructions\n",
    "### Part 1 -  Datasets and Dataloaders (10 points)\n",
    "\n",
    "In this section we will download the MNIST dataset using PyTorch's own API.\n",
    "\n",
    "Helpful Resources:\n",
    "* https://pytorch.org/docs/stable/torchvision/datasets.html#mnist\n",
    "* https://pytorch.org/docs/stable/torchvision/transforms.html\n",
    "* https://pytorch.org/tutorials/beginner/data_loading_tutorial.html\n",
    "\n",
    "\n",
    "The `torchvision` package consists of popular datasets, model architectures, and common image transformations for computer vision. We are particularly concerned with `torchvision.datasets` and `torchvision.transforms`. Check out the API for these modules in the links provided above.\n",
    "\n",
    "**Create a directory named `hw8_data` with the following command**."
   ]
  },
  {
   "cell_type": "code",
   "execution_count": 2,
   "metadata": {},
   "outputs": [
    {
     "name": "stdout",
     "output_type": "stream",
     "text": [
      "mkdir: hw8_data: File exists\r\n"
     ]
    }
   ],
   "source": [
    "!mkdir hw8_data"
   ]
  },
  {
   "cell_type": "markdown",
   "metadata": {},
   "source": [
    "\n",
    "**Now use `torch.datasets.MNIST` to load the Train and Test data into `hw8_data`.** \n",
    "* ** Use the directory you created above as the `root` directory for your datasets**\n",
    "* ** Populate the `transformations` variable with any transformations you would like to perform on your data.** (Hint: You will need to do at least one)\n",
    "* **Pass your `transformations` variable to `torch.datasets.MNIST`. This allows you to perform arbitrary transformations to your data at loading time.**"
   ]
  },
  {
   "cell_type": "code",
   "execution_count": 3,
   "metadata": {},
   "outputs": [],
   "source": [
    "from torchvision import datasets, transforms\n",
    "\n",
    "## YOUR CODE HERE ##\n",
    "transformations = transforms.Compose([transforms.ToTensor()])\n",
    "mnist_train = datasets.MNIST(root='./hw8_data',train=True,download=True,transform=transformations) \n",
    "mnist_test = datasets.MNIST(root='./hw8_data',train=False,download=True,transform=transformations)"
   ]
  },
  {
   "cell_type": "markdown",
   "metadata": {},
   "source": [
    "Check that your torch datasets have been successfully downloaded into your data directory by running the next two cells. \n",
    "\n",
    "* Each will output some metadata about your dataset. \n",
    "* Check that the training set has 60000 datapoints and a `Root Location: hw8_data`\n",
    "* Check that the testing (__also validation in our case__) set has 10000 datapoints and `Root Location: hw8_data`"
   ]
  },
  {
   "cell_type": "markdown",
   "metadata": {},
   "source": [
    "Notice that these datasets implement the python `__len__` and `__getitem__` functions. Each element in the dataset should be a 2-tuple. What does yours look like?"
   ]
  },
  {
   "cell_type": "code",
   "execution_count": 4,
   "metadata": {},
   "outputs": [
    {
     "name": "stdout",
     "output_type": "stream",
     "text": [
      "60000\n",
      "2\n"
     ]
    },
    {
     "data": {
      "text/plain": [
       "Dataset MNIST\n",
       "    Number of datapoints: 60000\n",
       "    Split: train\n",
       "    Root Location: ./hw8_data\n",
       "    Transforms (if any): Compose(\n",
       "                             ToTensor()\n",
       "                         )\n",
       "    Target Transforms (if any): None"
      ]
     },
     "execution_count": 4,
     "metadata": {},
     "output_type": "execute_result"
    }
   ],
   "source": [
    "print(len(mnist_train))\n",
    "print(len(mnist_train[0]))\n",
    "mnist_train"
   ]
  },
  {
   "cell_type": "code",
   "execution_count": 5,
   "metadata": {},
   "outputs": [
    {
     "name": "stdout",
     "output_type": "stream",
     "text": [
      "10000\n",
      "2\n"
     ]
    },
    {
     "data": {
      "text/plain": [
       "Dataset MNIST\n",
       "    Number of datapoints: 10000\n",
       "    Split: test\n",
       "    Root Location: ./hw8_data\n",
       "    Transforms (if any): Compose(\n",
       "                             ToTensor()\n",
       "                         )\n",
       "    Target Transforms (if any): None"
      ]
     },
     "execution_count": 5,
     "metadata": {},
     "output_type": "execute_result"
    }
   ],
   "source": [
    "print(len(mnist_test))\n",
    "print(len(mnist_test[0]))\n",
    "mnist_test"
   ]
  },
  {
   "cell_type": "markdown",
   "metadata": {},
   "source": [
    "**Any file in our dataset will now be read at runtime, and the specified transformations we need on it will be applied when we need it.**. \n",
    "\n",
    "We could iterate through these directly using a loop, but this is not idiomatic. PyTorch provides us with this abstraction in the form of `DataLoaders`. The module of interest is `torch.utils.data.DataLoader`. \n",
    "\n",
    "`DataLoader` allows us to do lots of useful things\n",
    "* Group our data into batches\n",
    "* Shuffle our data\n",
    "* Load the data in parallel using `multiprocessing` workers\n",
    "\n",
    "**Use `DataLoader` to create a loader for the training set and one for the testing set**\n",
    "* **Use a `batch_size` of 32 to start, you may change it if you wish.**\n",
    "* **Set the `shuffle` parameter to `True`.** \n"
   ]
  },
  {
   "cell_type": "code",
   "execution_count": 6,
   "metadata": {},
   "outputs": [],
   "source": [
    "from torch.utils.data import DataLoader\n",
    "\n",
    "## YOUR CODE HERE ##\n",
    "train_loader = DataLoader(mnist_train, batch_size=100, shuffle=True, num_workers=1)\n",
    "test_loader = DataLoader(mnist_test, batch_size=100, shuffle=True, num_workers=1)"
   ]
  },
  {
   "cell_type": "markdown",
   "metadata": {},
   "source": [
    "The following function is adapted from `show_landmarks_batch` at \n",
    "https://pytorch.org/tutorials/beginner/data_loading_tutorial.html#iterating-through-the-dataset . \n",
    "\n",
    "Run the following cell to see that your loader provides a random `batch_size` number of data points."
   ]
  },
  {
   "cell_type": "code",
   "execution_count": 7,
   "metadata": {},
   "outputs": [
    {
     "data": {
      "image/png": "[encoded data removed]",
      "text/plain": [
       "<Figure size 432x288 with 1 Axes>"
      ]
     },
     "metadata": {},
     "output_type": "display_data"
    }
   ],
   "source": [
    "import matplotlib.pyplot as plt\n",
    "from torchvision import utils\n",
    "%matplotlib inline\n",
    "\n",
    "def show_mnist_batch(sample_batched):\n",
    "    \"\"\"Show images for a batch of samples.\"\"\"\n",
    "    images_batch = sample_batched[0]\n",
    "    batch_size = len(images_batch)\n",
    "    im_size = images_batch.size(2)\n",
    "\n",
    "    grid = utils.make_grid(images_batch)\n",
    "    plt.imshow(grid.numpy().transpose((1, 2, 0)))\n",
    "    plt.title('Batch from DataLoader')\n",
    "    \n",
    "# Displays the first batch of images\n",
    "for i, batch in enumerate(train_loader):\n",
    "    if i==1:\n",
    "        break\n",
    "    show_mnist_batch(batch)"
   ]
  },
  {
   "cell_type": "markdown",
   "metadata": {},
   "source": [
    "### Part 2  - Models, Loss Functions and Optimizers (10 points)\n",
    "\n",
    "In this section, we will do the following:\n",
    "* Learn about how to build your deep learning model and define its parameters\n",
    "* Choose a loss function to optimize\n",
    "* Choose an optimization method to maximize/minimize the loss\n",
    "\n",
    "We'll first start with a single layer neural network to do handwritten digit classification. The math may ring some bells from homework 7.\n",
    "\n",
    "`torch.nn` is the module we will be using here. You can find the API at https://pytorch.org/docs/stable/nn.html. There is also a quick summary at https://pytorch.org/tutorials/beginner/nn_tutorial.html#closing_thoughts.\n",
    "\n",
    "#### Models\n",
    "\n",
    "We will use the following python modules in building our one layer model.\n",
    "\n",
    "* `torch.nn.Module`: Your model will be abstracted as a python class. Your python class must subclass `torch.nn.Module`. It is the base class for all neural network modules in PyTorch (Do not confuse python modules with PyTorch Modules). These implement the `forward()` function which defines how your model handles input and produces an output. Your model class can also have `torch.nn.Module`s as members, allowing nested tree like structures, and it is leveraging this that you are able to build neural networks in PyTorch.   \n",
    "\n",
    "* `torch.nn.Linear`: A unit of computation in neural networks are *Layers* and PyTorch provides abstractions for layers as `nn.Modules`. These come in many forms including *Convolutional*, *Recurrent*, and *Linear*. You can find the API for linear layers here https://pytorch.org/docs/stable/nn.html#linear-layers.\n",
    "\n",
    "**Now use the information provided to define the `OneLayerModel` class below. The superclass constructor has been called for you, and this allows your subclass to access superclass methods and members.**\n",
    "* **Finish the `__init__()` function.**\n",
    "* **Finish the `forward()` function.** (Hint: Use that fact that layer modules implement their own `forward()` function)\n",
    "\n",
    "\n",
    "\n"
   ]
  },
  {
   "cell_type": "code",
   "execution_count": 8,
   "metadata": {},
   "outputs": [],
   "source": [
    "from torch import nn\n",
    "class OneLayerModel(nn.Module):\n",
    "    def __init__(self, input_dim, output_dim):\n",
    "        super(OneLayerModel, self).__init__()\n",
    "        ## YOUR CODE HERE ##\n",
    "        self.layer1 = nn.Sequential(\n",
    "            nn.Conv2d(in_channels=1,out_channels=16, kernel_size=5, stride=1,padding=2),\n",
    "            nn.ReLU(),\n",
    "            nn.MaxPool2d(kernel_size=2,stride=2))\n",
    "        self.fc = nn.Linear(14*14*16, output_dim)\n",
    "        \n",
    "    def forward(self, x):\n",
    "        ## YOUR CODE HERE ##\n",
    "        out = self.layer1(x)\n",
    "        out = out.view(out.size(0), -1)\n",
    "        out = self.fc(out)\n",
    "        return out"
   ]
  },
  {
   "cell_type": "markdown",
   "metadata": {},
   "source": [
    "#### Loss Functions and Optimizers\n",
    "\n",
    "You've defined your model but now what? It's just a black box that takes an input and spits out some numbers. You haven't yet defined what it means to be a good or bad model. \n",
    "\n",
    "A ***Loss Function*** takes what your model outputs and compares it to what it *should* have put out. It returns some  meaningful value used to update your model parameters, and so train your model. Check out Section 21.2.1 of the textbook for more details about types of loss functions. The Loss function represents the overall goal of building this model, and the choice of loss function is very important. \n",
    "\n",
    "We must examine our model parameters and our problem instance to see about how to choose a loss function.\n",
    "* We take in a 784-dimensional vector and output 10 real values, giving our model 784 x 10 parameters. \n",
    "* It is natural given that our problem is an instance of *multi-class classification* that we would want each of our output values to model `P(y==i|x)`.\n",
    "* If we go this route, we get an added constraint that the sum of all 10 of our output values should be 1 (forming a probability mass distribution).\n",
    "\n",
    "Turns out there is a very convenient loss function for just our use case known as ***cross-entropy loss***. Check out this reference https://ml-cheatsheet.readthedocs.io/en/latest/loss_functions.html#cross-entropy for a little more intuition on this.\n",
    "\n",
    "Once again, PyTorch has abstractions built in for us in the `torch.nn` module, namely `torch.nn.CrossEntropyLoss`. The API can be found at https://pytorch.org/docs/stable/nn.html#crossentropyloss. \n",
    "\n",
    "We're still not ready to train our model because while we have some parameters, and we have some measure of how good or bad our predictions are, we have no notion of how to go about updating our parameters in order to improve our loss. \n",
    "\n",
    "This is where ***Optimizers*** come in. In general, we have one main way of minimizing loss functions (training our models), and that is through *Stochastic Gradient Descent* https://en.wikipedia.org/wiki/Stochastic_gradient_descent. There are many variants and optimizations of this method, however, and the `torch.optim` package gives us abstractions for these. The API can be found at https://pytorch.org/docs/stable/optim.html#."
   ]
  },
  {
   "cell_type": "code",
   "execution_count": 9,
   "metadata": {},
   "outputs": [],
   "source": [
    "from torch import optim"
   ]
  },
  {
   "cell_type": "markdown",
   "metadata": {},
   "source": [
    "### Part 3 - Training and Validation (45 points)\n",
    "\n",
    "In this section we will learn how to use the concepts we've learned about so far to train the model we built, and validate how well it does.We also want to monitor how well our training is going while it is happening. \n",
    "\n",
    "For this we can use a package called `tensorboardX`. You will need to install this package using `pip` or `Anaconda`, based on your dev environment. Additionally, we'll want to use a logging module called `tensorboardX.SummaryWriter`. You can consult the API here https://tensorboardx.readthedocs.io/en/latest/tutorial.html. Run the next cell to ensure that all is working well."
   ]
  },
  {
   "cell_type": "code",
   "execution_count": 10,
   "metadata": {},
   "outputs": [],
   "source": [
    "\"\"\" Try uncommenting these commands if you're facing issues here\n",
    "!pip3 install -U protobuf\n",
    "!pip3 install -U tensorflow\n",
    "!pip3 install -U tensorboardX\n",
    "\"\"\"\n",
    "%load_ext tensorboard.notebook\n",
    "from tensorboardX import SummaryWriter"
   ]
  },
  {
   "cell_type": "markdown",
   "metadata": {},
   "source": [
    "We have provided the code to use `tensorboard` just before calling your `train` function. You don't have to change the top-level log directory, but you can create multiple runs (different parameters or versions of your code) just by creating subdirectories for these within your top-level directory.\n",
    "\n",
    "**Now use the information provided above to do the following:**\n",
    "* ** Instantiate a `OneLayerModel` with the appropriate input/output parameters.**\n",
    "* ** Define a cross-entropy loss function.**\n",
    "* ** Define a stochastic gradient descent optimizer based for you model's parameters. Start with a learning rate of 0.001, and adjust as necessary. You can start with the vanilla `optim.SGD` optimizer, and change it if you wish.** \n",
    "* **Create a `SummaryWriter` object that will be responsible for logging our training progress into a directory called `logs/expt1` (Or whatever you wish your top-level directory to be called).**"
   ]
  },
  {
   "cell_type": "code",
   "execution_count": 11,
   "metadata": {},
   "outputs": [],
   "source": [
    "## YOUR CODE HERE ##\n",
    "model = OneLayerModel(784,10)\n",
    "loss = nn.CrossEntropyLoss()\n",
    "optimizer = optim.SGD(model.parameters(),lr=0.001)\n",
    "writer = SummaryWriter('runs/expt1')"
   ]
  },
  {
   "cell_type": "markdown",
   "metadata": {},
   "source": [
    "We've finally come to the point where we need to write our training set up. We're going to use both our training and testing (validation) sets for this. Note that traditionally, you would separate part of your training data into validation data in order to get an unbiased estimate of how your model performs, but here we'll just pretend that our testing data is our validation data. \n",
    "\n",
    "**Training a model with batches of data broadly involves the following steps:**\n",
    "1. **One `epoch` is defined as a full pass of your dataset through your model. We choose the number of epochs we wish to train our model for.**\n",
    "2. **In each epoch, set your model to train mode.** \n",
    "3. **you feed your model `batch_size` examples at a time, and receive `batch_size` number of outputs until you've gotten through your entire dataset.**\n",
    "4. **Calculate the loss function for those outputs given the labels for that batch.**\n",
    "5. **Now calculate the gradients for each model parameter.** (Hint: Your loss function object can do this for you)\n",
    "6. **Update your model parameters** (Hint: The optimizer comes in here)\n",
    "7. **Set the gradients in your model to zero for the next batch.**\n",
    "8. **After each epoch, set your model to evaluation mode.**\n",
    "9. **Now evaluate your model on the validation data. Log the total loss and accuracy over the validation data.** (Note: PyTorch does automatic gradient calculations in the background through its `Autograd` mechanism https://pytorch.org/docs/stable/notes/autograd.html. Make sure to do evaluation in a context where this is turned off!)\n",
    "\n",
    "**Complete the `train()` function below. Try to make it as general as possible, so that it can be used for improved versions of you model. Feel free to define as many helper functions as needed.**\n",
    "**Make sure that you do the following: **\n",
    "* **Log the *training loss* and *training accuracy* on each batch for every epoch, such that it will show up on `tensorboard`.**\n",
    "* **Log the loss on the validation set and the accuracy on the validation set every epoch**\n",
    "\n",
    "**You will need to produce the plots for these.**\n",
    "\n",
    "You may also want to add some print statements in your training function to report progress in this notebook."
   ]
  },
  {
   "cell_type": "code",
   "execution_count": 12,
   "metadata": {},
   "outputs": [],
   "source": [
    "def train(model, train_loader, val_loader, loss_func, opt,num_epochs=10, writer=None):\n",
    "    total_step = len(train_loader)\n",
    "    iteration_train = 0\n",
    "    iteration_valid = 0\n",
    "    predicted_acc_train_batch=0\n",
    "    predicted_acc_valid_batch=0\n",
    "\n",
    "    for epoch in range(num_epochs):\n",
    "        #Training Loss, Accuracy\n",
    "        for i, (image,label) in enumerate(train_loader):\n",
    "            image = torch.autograd.Variable(image.float())\n",
    "            label = torch.autograd.Variable(label)\n",
    "\n",
    "            # Forward pass\n",
    "            output = model(image)\n",
    "            loss_epoch = loss_func(output, label)\n",
    "            \n",
    "            #Calculate Accuracy\n",
    "            _,predicted=torch.max(output,1)\n",
    "            predicted_acc_train = (predicted == label).sum().item()\n",
    "            predicted_acc_train_batch += predicted_acc_train\n",
    "\n",
    "\n",
    "            # Backward and optimize\n",
    "            opt.zero_grad() #Zero the Gradient\n",
    "            loss_epoch.backward() #Backward Propagation\n",
    "            opt.step() #Update the Optimizer Weight\n",
    "            \n",
    "            writer.add_scalar('Train/Loss', loss_epoch.item(), iteration_train)\n",
    "            writer.add_scalar('Train/Accuracy', (predicted == label).sum().item(), iteration_train)\n",
    "\n",
    "            if (i+1) % 100 == 0:\n",
    "                print ('Epoch [{}/{}], Step [{}/{}], Train Loss: {:.4f} Train Accuracy: {:.2f}' \n",
    "                       .format(epoch+1, num_epochs, i+1, total_step, loss_epoch.item(),predicted_acc_train))\n",
    "            iteration_train+=1\n",
    "            \n",
    "        #Validation Loss, Accuracy    \n",
    "        for i, (image_val,label_val) in enumerate(val_loader):\n",
    "            image_val = torch.autograd.Variable(image_val.float())\n",
    "            label_val = torch.autograd.Variable(label_val)\n",
    "\n",
    "            # Forward pass\n",
    "            output_val = model(image_val)\n",
    "            loss_epoch_val = loss_func(output_val, label_val)\n",
    "            \n",
    "            #Calculate Accuracy\n",
    "            _,predicted_val=torch.max(output_val,1)\n",
    "            predicted_acc_valid = (predicted == label).sum().item()\n",
    "            predicted_acc_valid_batch += predicted_acc_valid\n",
    "\n",
    "\n",
    "            # Backward and optimize\n",
    "            opt.zero_grad() #Zero the Gradient\n",
    "            loss_epoch_val.backward() #Backward Propagation\n",
    "            opt.step() #Update the Optimizer Weight\n",
    "            \n",
    "            if (i+1) % 100 == 0:\n",
    "                print ('Epoch [{}/{}], Step [{}/{}], Valid Loss: {:.4f} Valid Accuracy: {:.2f}' \n",
    "                       .format(epoch+1, num_epochs, i+1, total_step, loss_epoch_val.item(),predicted_acc_valid))\n",
    "                \n",
    "        writer.add_scalar('Validation/Loss', loss_epoch_val.item(), epoch)\n",
    "        writer.add_scalar('Validation/Accuracy', (predicted_val == label_val).sum().item(), epoch)\n",
    "        \n",
    "    print (\"Train - Average Accuracy:{}\".format(predicted_acc_train_batch/(num_epochs*len(train_loader))))\n",
    "    print (\"Test - Average Accuracy:{}\".format(predicted_acc_valid_batch/(num_epochs*len(val_loader))))"
   ]
  },
  {
   "cell_type": "markdown",
   "metadata": {},
   "source": [
    "Finally call `train` with the relevant parameters. Run the tensorboard command on your top-level logs directory to monitor training. If there is logging data from a previous run, just delete the directory for the run, and reinstantiate the `SummaryWriter` for that run. (You may want to reinstantiate the model itself if you want to clear the model parameters too).\n",
    "\n",
    "Note : This function may take a while to complete if you're training for many epochs on a cpu. This is where it comes in handy to be running on Google Colab, or just have a GPU on hand. "
   ]
  },
  {
   "cell_type": "code",
   "execution_count": 13,
   "metadata": {},
   "outputs": [
    {
     "name": "stdout",
     "output_type": "stream",
     "text": [
      "Epoch [1/15], Step [100/600], Train Loss: 2.2235 Train Accuracy: 37.00\n",
      "Epoch [1/15], Step [200/600], Train Loss: 2.1442 Train Accuracy: 57.00\n",
      "Epoch [1/15], Step [300/600], Train Loss: 2.0691 Train Accuracy: 60.00\n",
      "Epoch [1/15], Step [400/600], Train Loss: 1.9175 Train Accuracy: 75.00\n",
      "Epoch [1/15], Step [500/600], Train Loss: 1.8516 Train Accuracy: 72.00\n",
      "Epoch [1/15], Step [600/600], Train Loss: 1.7468 Train Accuracy: 79.00\n",
      "Epoch [1/15], Step [100/600], Valid Loss: 1.5935 Valid Accuracy: 79.00\n",
      "Epoch [2/15], Step [100/600], Train Loss: 1.4673 Train Accuracy: 71.00\n",
      "Epoch [2/15], Step [200/600], Train Loss: 1.2637 Train Accuracy: 81.00\n",
      "Epoch [2/15], Step [300/600], Train Loss: 1.2051 Train Accuracy: 75.00\n",
      "Epoch [2/15], Step [400/600], Train Loss: 1.1222 Train Accuracy: 77.00\n",
      "Epoch [2/15], Step [500/600], Train Loss: 0.9440 Train Accuracy: 80.00\n",
      "Epoch [2/15], Step [600/600], Train Loss: 0.9053 Train Accuracy: 80.00\n",
      "Epoch [2/15], Step [100/600], Valid Loss: 0.8358 Valid Accuracy: 80.00\n",
      "Epoch [3/15], Step [100/600], Train Loss: 0.7402 Train Accuracy: 83.00\n",
      "Epoch [3/15], Step [200/600], Train Loss: 0.7890 Train Accuracy: 82.00\n",
      "Epoch [3/15], Step [300/600], Train Loss: 0.6907 Train Accuracy: 85.00\n",
      "Epoch [3/15], Step [400/600], Train Loss: 0.6620 Train Accuracy: 84.00\n",
      "Epoch [3/15], Step [500/600], Train Loss: 0.6087 Train Accuracy: 84.00\n",
      "Epoch [3/15], Step [600/600], Train Loss: 0.5862 Train Accuracy: 83.00\n",
      "Epoch [3/15], Step [100/600], Valid Loss: 0.5029 Valid Accuracy: 83.00\n",
      "Epoch [4/15], Step [100/600], Train Loss: 0.7295 Train Accuracy: 84.00\n",
      "Epoch [4/15], Step [200/600], Train Loss: 0.5334 Train Accuracy: 90.00\n",
      "Epoch [4/15], Step [300/600], Train Loss: 0.5117 Train Accuracy: 87.00\n",
      "Epoch [4/15], Step [400/600], Train Loss: 0.4921 Train Accuracy: 87.00\n",
      "Epoch [4/15], Step [500/600], Train Loss: 0.4383 Train Accuracy: 91.00\n",
      "Epoch [4/15], Step [600/600], Train Loss: 0.4578 Train Accuracy: 88.00\n",
      "Epoch [4/15], Step [100/600], Valid Loss: 0.5096 Valid Accuracy: 88.00\n",
      "Epoch [5/15], Step [100/600], Train Loss: 0.5453 Train Accuracy: 89.00\n",
      "Epoch [5/15], Step [200/600], Train Loss: 0.4459 Train Accuracy: 88.00\n",
      "Epoch [5/15], Step [300/600], Train Loss: 0.4983 Train Accuracy: 86.00\n",
      "Epoch [5/15], Step [400/600], Train Loss: 0.4272 Train Accuracy: 92.00\n",
      "Epoch [5/15], Step [500/600], Train Loss: 0.3217 Train Accuracy: 94.00\n",
      "Epoch [5/15], Step [600/600], Train Loss: 0.4678 Train Accuracy: 88.00\n",
      "Epoch [5/15], Step [100/600], Valid Loss: 0.3788 Valid Accuracy: 88.00\n",
      "Epoch [6/15], Step [100/600], Train Loss: 0.4026 Train Accuracy: 90.00\n",
      "Epoch [6/15], Step [200/600], Train Loss: 0.4934 Train Accuracy: 88.00\n",
      "Epoch [6/15], Step [300/600], Train Loss: 0.3911 Train Accuracy: 88.00\n",
      "Epoch [6/15], Step [400/600], Train Loss: 0.3767 Train Accuracy: 90.00\n",
      "Epoch [6/15], Step [500/600], Train Loss: 0.3883 Train Accuracy: 88.00\n",
      "Epoch [6/15], Step [600/600], Train Loss: 0.5105 Train Accuracy: 85.00\n",
      "Epoch [6/15], Step [100/600], Valid Loss: 0.4426 Valid Accuracy: 85.00\n",
      "Epoch [7/15], Step [100/600], Train Loss: 0.3262 Train Accuracy: 92.00\n",
      "Epoch [7/15], Step [200/600], Train Loss: 0.3972 Train Accuracy: 89.00\n",
      "Epoch [7/15], Step [300/600], Train Loss: 0.4497 Train Accuracy: 86.00\n",
      "Epoch [7/15], Step [400/600], Train Loss: 0.4553 Train Accuracy: 91.00\n",
      "Epoch [7/15], Step [500/600], Train Loss: 0.3061 Train Accuracy: 95.00\n",
      "Epoch [7/15], Step [600/600], Train Loss: 0.3935 Train Accuracy: 87.00\n",
      "Epoch [7/15], Step [100/600], Valid Loss: 0.3309 Valid Accuracy: 87.00\n",
      "Epoch [8/15], Step [100/600], Train Loss: 0.2840 Train Accuracy: 93.00\n",
      "Epoch [8/15], Step [200/600], Train Loss: 0.3149 Train Accuracy: 91.00\n",
      "Epoch [8/15], Step [300/600], Train Loss: 0.4048 Train Accuracy: 90.00\n",
      "Epoch [8/15], Step [400/600], Train Loss: 0.4253 Train Accuracy: 87.00\n",
      "Epoch [8/15], Step [500/600], Train Loss: 0.2602 Train Accuracy: 95.00\n",
      "Epoch [8/15], Step [600/600], Train Loss: 0.4154 Train Accuracy: 87.00\n",
      "Epoch [8/15], Step [100/600], Valid Loss: 0.3288 Valid Accuracy: 87.00\n",
      "Epoch [9/15], Step [100/600], Train Loss: 0.4371 Train Accuracy: 87.00\n",
      "Epoch [9/15], Step [200/600], Train Loss: 0.5010 Train Accuracy: 86.00\n",
      "Epoch [9/15], Step [300/600], Train Loss: 0.6438 Train Accuracy: 84.00\n",
      "Epoch [9/15], Step [400/600], Train Loss: 0.2669 Train Accuracy: 91.00\n",
      "Epoch [9/15], Step [500/600], Train Loss: 0.3175 Train Accuracy: 93.00\n",
      "Epoch [9/15], Step [600/600], Train Loss: 0.3795 Train Accuracy: 88.00\n",
      "Epoch [9/15], Step [100/600], Valid Loss: 0.1654 Valid Accuracy: 88.00\n",
      "Epoch [10/15], Step [100/600], Train Loss: 0.3641 Train Accuracy: 91.00\n",
      "Epoch [10/15], Step [200/600], Train Loss: 0.2129 Train Accuracy: 95.00\n",
      "Epoch [10/15], Step [300/600], Train Loss: 0.2941 Train Accuracy: 89.00\n",
      "Epoch [10/15], Step [400/600], Train Loss: 0.3033 Train Accuracy: 90.00\n",
      "Epoch [10/15], Step [500/600], Train Loss: 0.3745 Train Accuracy: 92.00\n",
      "Epoch [10/15], Step [600/600], Train Loss: 0.4020 Train Accuracy: 87.00\n",
      "Epoch [10/15], Step [100/600], Valid Loss: 0.4408 Valid Accuracy: 87.00\n",
      "Epoch [11/15], Step [100/600], Train Loss: 0.3380 Train Accuracy: 91.00\n",
      "Epoch [11/15], Step [200/600], Train Loss: 0.4202 Train Accuracy: 89.00\n",
      "Epoch [11/15], Step [300/600], Train Loss: 0.3946 Train Accuracy: 89.00\n",
      "Epoch [11/15], Step [400/600], Train Loss: 0.4581 Train Accuracy: 86.00\n",
      "Epoch [11/15], Step [500/600], Train Loss: 0.4628 Train Accuracy: 91.00\n",
      "Epoch [11/15], Step [600/600], Train Loss: 0.3604 Train Accuracy: 90.00\n",
      "Epoch [11/15], Step [100/600], Valid Loss: 0.5274 Valid Accuracy: 90.00\n",
      "Epoch [12/15], Step [100/600], Train Loss: 0.4118 Train Accuracy: 89.00\n",
      "Epoch [12/15], Step [200/600], Train Loss: 0.4359 Train Accuracy: 88.00\n",
      "Epoch [12/15], Step [300/600], Train Loss: 0.3359 Train Accuracy: 91.00\n",
      "Epoch [12/15], Step [400/600], Train Loss: 0.3319 Train Accuracy: 93.00\n",
      "Epoch [12/15], Step [500/600], Train Loss: 0.3332 Train Accuracy: 92.00\n",
      "Epoch [12/15], Step [600/600], Train Loss: 0.2867 Train Accuracy: 92.00\n",
      "Epoch [12/15], Step [100/600], Valid Loss: 0.4182 Valid Accuracy: 92.00\n",
      "Epoch [13/15], Step [100/600], Train Loss: 0.3321 Train Accuracy: 92.00\n",
      "Epoch [13/15], Step [200/600], Train Loss: 0.4304 Train Accuracy: 86.00\n",
      "Epoch [13/15], Step [300/600], Train Loss: 0.4540 Train Accuracy: 89.00\n",
      "Epoch [13/15], Step [400/600], Train Loss: 0.4773 Train Accuracy: 87.00\n",
      "Epoch [13/15], Step [500/600], Train Loss: 0.2207 Train Accuracy: 94.00\n",
      "Epoch [13/15], Step [600/600], Train Loss: 0.3059 Train Accuracy: 89.00\n",
      "Epoch [13/15], Step [100/600], Valid Loss: 0.3157 Valid Accuracy: 89.00\n",
      "Epoch [14/15], Step [100/600], Train Loss: 0.1831 Train Accuracy: 94.00\n",
      "Epoch [14/15], Step [200/600], Train Loss: 0.3283 Train Accuracy: 89.00\n",
      "Epoch [14/15], Step [300/600], Train Loss: 0.3746 Train Accuracy: 89.00\n",
      "Epoch [14/15], Step [400/600], Train Loss: 0.4691 Train Accuracy: 87.00\n",
      "Epoch [14/15], Step [500/600], Train Loss: 0.2706 Train Accuracy: 94.00\n",
      "Epoch [14/15], Step [600/600], Train Loss: 0.3622 Train Accuracy: 88.00\n",
      "Epoch [14/15], Step [100/600], Valid Loss: 0.3466 Valid Accuracy: 88.00\n",
      "Epoch [15/15], Step [100/600], Train Loss: 0.2660 Train Accuracy: 93.00\n",
      "Epoch [15/15], Step [200/600], Train Loss: 0.3929 Train Accuracy: 84.00\n",
      "Epoch [15/15], Step [300/600], Train Loss: 0.5776 Train Accuracy: 87.00\n",
      "Epoch [15/15], Step [400/600], Train Loss: 0.3012 Train Accuracy: 91.00\n",
      "Epoch [15/15], Step [500/600], Train Loss: 0.3223 Train Accuracy: 90.00\n",
      "Epoch [15/15], Step [600/600], Train Loss: 0.3072 Train Accuracy: 90.00\n",
      "Epoch [15/15], Step [100/600], Valid Loss: 0.2340 Valid Accuracy: 90.00\n",
      "Train - Average Accuracy:86.04622222222223\n",
      "Test - Average Accuracy:86.73333333333333\n"
     ]
    }
   ],
   "source": [
    "#%tensorboard --logdir=runs\n",
    "train(model, train_loader, test_loader, loss, optimizer, 15, writer)"
   ]
  },
  {
   "cell_type": "markdown",
   "metadata": {},
   "source": [
    "__Final Validation Loss:__ *0.2340*\n",
    "\n",
    "__Final Validation Accuracy:__ *86.73*"
   ]
  },
  {
   "cell_type": "markdown",
   "metadata": {},
   "source": [
    "#### What is familiar about a 1-layer neural network with cross-entopy loss? Have you seen this before?"
   ]
  },
  {
   "cell_type": "markdown",
   "metadata": {},
   "source": [
    "Answer: One Layer Deep Learning is is like logistic regression, where the loss is the cross entropy is the cost, where as in logistic regression the cost is the log loss, which needs to be minimize via the gradient descent "
   ]
  },
  {
   "cell_type": "markdown",
   "metadata": {},
   "source": [
    "### Part 4 - Two Layer Neural Net (20 points)\n",
    "\n",
    "The thing that makes neural networks really powerful is that they are able to do complex function approximation. As we saw earlier, we can organize the computation done in neural networks into units called *layers*. In a general neural network, there is an *input layer*, and an *output layer*. These may be the same layer as they were in our previous example. When they are not the same, there are intermediate layers known as _hidden layers_. These layers receive input from other layers and send their output to other layers. \n",
    "\n",
    "We have been dealing with a certain type of neural network known as a __fully connected__ network. For our purposes, this just means that the output of the layer is just the dot product of its input `x`, its weights `w` plus a bias term `b`, all wrapped in a non-linear *activation function* `F`.  \n",
    "\n",
    "`y = F(w^T x + b)`.\n",
    "\n",
    "These non-linear activation functions are very important but where in our last neural network did we apply such a function? Implicitly we applied what's known as a __softmax activation__ in order to compute cross-entropy loss https://en.wikipedia.org/wiki/Softmax_function.\n",
    "\n",
    "We'll now try to create a neural network with one hidden layer. This means that we have to come up with an activation function for the output of that hidden layer. A famous, simple but powerful activation function is the __Rectified Linear Unit (ReLU)__ function defined nas `ReLU(x) = max(x,0)`. We will use this on the output of the hidden layer.\n",
    "\n",
    "`torch.nn` has a module known as `nn.Sequential` that allows us to chain together other modules. This module implements a `forward()` function that automatically handles input-output connections etc. Check out the API at https://pytorch.org/docs/stable/nn.html#sequential. \n",
    "\n",
    "**Just like you did with the single layer model, define a class `TwoLayerModel`, a neural network with ReLU activation for the hidden layer. `nn.Sequential` may come in handy.**"
   ]
  },
  {
   "cell_type": "code",
   "execution_count": 14,
   "metadata": {},
   "outputs": [],
   "source": [
    "class TwoLayerModel(nn.Module):\n",
    "    ## YOUR CODE HERE ##\n",
    "    def __init__(self):\n",
    "        ## YOUR CODE HERE ##        \n",
    "        super(TwoLayerModel, self).__init__()\n",
    "        self.layer1 = nn.Sequential(\n",
    "            nn.Conv2d(in_channels=1, out_channels=16, kernel_size=5, stride=1,padding=2),\n",
    "            nn.ReLU(),\n",
    "            nn.MaxPool2d(kernel_size=2,stride=2))\n",
    "        self.layer2 = nn.Sequential(\n",
    "            nn.Conv2d(in_channels=16, out_channels=32, kernel_size=5, stride=1,padding=2),\n",
    "            nn.ReLU(),\n",
    "            nn.MaxPool2d(kernel_size=2,stride=2))\n",
    "        self.fc = nn.Linear(7*7*32, 10)\n",
    "\n",
    "    def forward(self, x):\n",
    "        out = self.layer1(x)\n",
    "        out = self.layer2(out)\n",
    "        out = out.view(out.size(0), -1)\n",
    "        out = self.fc(out)\n",
    "        return out"
   ]
  },
  {
   "cell_type": "markdown",
   "metadata": {},
   "source": [
    "**Once again use the information provided above to do the following:**\n",
    "* ** Instantiate a `TwoLayerModel` with the appropriate input/output/hidden layer parameters.**\n",
    "* ** Define a cross-entropy loss function again.**\n",
    "* ** Define a stochastic gradient descent optimizer based for you model's parameters. Start with a learning rate of 0.001, and adjust as necessary. You can start with the vanilla `optim.SGD` optimizer, and change it if you wish.** \n",
    "* **Create a `SummaryWriter` object that will be responsible for logging our training progress into a directory called `logs/expt2` (Or whatever you wish your top-level directory to be called, just make sure the subdirectory is different from your previous SummaryWriter).**"
   ]
  },
  {
   "cell_type": "code",
   "execution_count": 15,
   "metadata": {},
   "outputs": [],
   "source": [
    "## YOUR CODE HERE ##\n",
    "model2 = TwoLayerModel()\n",
    "loss2 = nn.CrossEntropyLoss()\n",
    "optimizer2 = optim.SGD(model2.parameters(),lr=0.001)\n",
    "writer2 = SummaryWriter('runs/expt2')"
   ]
  },
  {
   "cell_type": "markdown",
   "metadata": {},
   "source": [
    "Call `train` on your two layer neural network."
   ]
  },
  {
   "cell_type": "code",
   "execution_count": 16,
   "metadata": {},
   "outputs": [
    {
     "name": "stdout",
     "output_type": "stream",
     "text": [
      "Epoch [1/15], Step [100/600], Train Loss: 2.2927 Train Accuracy: 17.00\n",
      "Epoch [1/15], Step [200/600], Train Loss: 2.2861 Train Accuracy: 15.00\n",
      "Epoch [1/15], Step [300/600], Train Loss: 2.2611 Train Accuracy: 32.00\n",
      "Epoch [1/15], Step [400/600], Train Loss: 2.2571 Train Accuracy: 30.00\n",
      "Epoch [1/15], Step [500/600], Train Loss: 2.2269 Train Accuracy: 43.00\n",
      "Epoch [1/15], Step [600/600], Train Loss: 2.1910 Train Accuracy: 49.00\n",
      "Epoch [1/15], Step [100/600], Valid Loss: 2.1739 Valid Accuracy: 49.00\n",
      "Epoch [2/15], Step [100/600], Train Loss: 2.1400 Train Accuracy: 58.00\n",
      "Epoch [2/15], Step [200/600], Train Loss: 2.0904 Train Accuracy: 64.00\n",
      "Epoch [2/15], Step [300/600], Train Loss: 2.0611 Train Accuracy: 62.00\n",
      "Epoch [2/15], Step [400/600], Train Loss: 1.9422 Train Accuracy: 70.00\n",
      "Epoch [2/15], Step [500/600], Train Loss: 1.9164 Train Accuracy: 58.00\n",
      "Epoch [2/15], Step [600/600], Train Loss: 1.8313 Train Accuracy: 69.00\n",
      "Epoch [2/15], Step [100/600], Valid Loss: 1.6138 Valid Accuracy: 69.00\n",
      "Epoch [3/15], Step [100/600], Train Loss: 1.4102 Train Accuracy: 84.00\n",
      "Epoch [3/15], Step [200/600], Train Loss: 1.2166 Train Accuracy: 86.00\n",
      "Epoch [3/15], Step [300/600], Train Loss: 1.2213 Train Accuracy: 73.00\n",
      "Epoch [3/15], Step [400/600], Train Loss: 1.1045 Train Accuracy: 77.00\n",
      "Epoch [3/15], Step [500/600], Train Loss: 0.9397 Train Accuracy: 81.00\n",
      "Epoch [3/15], Step [600/600], Train Loss: 0.9216 Train Accuracy: 77.00\n",
      "Epoch [3/15], Step [100/600], Valid Loss: 0.7151 Valid Accuracy: 77.00\n",
      "Epoch [4/15], Step [100/600], Train Loss: 0.5763 Train Accuracy: 90.00\n",
      "Epoch [4/15], Step [200/600], Train Loss: 0.6485 Train Accuracy: 84.00\n",
      "Epoch [4/15], Step [300/600], Train Loss: 0.5305 Train Accuracy: 87.00\n",
      "Epoch [4/15], Step [400/600], Train Loss: 0.5805 Train Accuracy: 84.00\n",
      "Epoch [4/15], Step [500/600], Train Loss: 0.6219 Train Accuracy: 81.00\n",
      "Epoch [4/15], Step [600/600], Train Loss: 0.5575 Train Accuracy: 87.00\n",
      "Epoch [4/15], Step [100/600], Valid Loss: 0.5725 Valid Accuracy: 87.00\n",
      "Epoch [5/15], Step [100/600], Train Loss: 0.6238 Train Accuracy: 83.00\n",
      "Epoch [5/15], Step [200/600], Train Loss: 0.5569 Train Accuracy: 85.00\n",
      "Epoch [5/15], Step [300/600], Train Loss: 0.4133 Train Accuracy: 90.00\n",
      "Epoch [5/15], Step [400/600], Train Loss: 0.5493 Train Accuracy: 87.00\n",
      "Epoch [5/15], Step [500/600], Train Loss: 0.5474 Train Accuracy: 84.00\n",
      "Epoch [5/15], Step [600/600], Train Loss: 0.6361 Train Accuracy: 79.00\n",
      "Epoch [5/15], Step [100/600], Valid Loss: 0.3059 Valid Accuracy: 79.00\n",
      "Epoch [6/15], Step [100/600], Train Loss: 0.4983 Train Accuracy: 87.00\n",
      "Epoch [6/15], Step [200/600], Train Loss: 0.4570 Train Accuracy: 87.00\n",
      "Epoch [6/15], Step [300/600], Train Loss: 0.3164 Train Accuracy: 91.00\n",
      "Epoch [6/15], Step [400/600], Train Loss: 0.4774 Train Accuracy: 88.00\n",
      "Epoch [6/15], Step [500/600], Train Loss: 0.3349 Train Accuracy: 90.00\n",
      "Epoch [6/15], Step [600/600], Train Loss: 0.4775 Train Accuracy: 83.00\n",
      "Epoch [6/15], Step [100/600], Valid Loss: 0.4383 Valid Accuracy: 83.00\n",
      "Epoch [7/15], Step [100/600], Train Loss: 0.4088 Train Accuracy: 89.00\n",
      "Epoch [7/15], Step [200/600], Train Loss: 0.3550 Train Accuracy: 89.00\n",
      "Epoch [7/15], Step [300/600], Train Loss: 0.4949 Train Accuracy: 87.00\n",
      "Epoch [7/15], Step [400/600], Train Loss: 0.3513 Train Accuracy: 89.00\n",
      "Epoch [7/15], Step [500/600], Train Loss: 0.3289 Train Accuracy: 87.00\n",
      "Epoch [7/15], Step [600/600], Train Loss: 0.3020 Train Accuracy: 93.00\n",
      "Epoch [7/15], Step [100/600], Valid Loss: 0.4511 Valid Accuracy: 93.00\n",
      "Epoch [8/15], Step [100/600], Train Loss: 0.3177 Train Accuracy: 91.00\n",
      "Epoch [8/15], Step [200/600], Train Loss: 0.3968 Train Accuracy: 86.00\n",
      "Epoch [8/15], Step [300/600], Train Loss: 0.3108 Train Accuracy: 94.00\n",
      "Epoch [8/15], Step [400/600], Train Loss: 0.3302 Train Accuracy: 91.00\n",
      "Epoch [8/15], Step [500/600], Train Loss: 0.3488 Train Accuracy: 86.00\n",
      "Epoch [8/15], Step [600/600], Train Loss: 0.3277 Train Accuracy: 93.00\n",
      "Epoch [8/15], Step [100/600], Valid Loss: 0.3597 Valid Accuracy: 93.00\n",
      "Epoch [9/15], Step [100/600], Train Loss: 0.3223 Train Accuracy: 88.00\n",
      "Epoch [9/15], Step [200/600], Train Loss: 0.2453 Train Accuracy: 92.00\n",
      "Epoch [9/15], Step [300/600], Train Loss: 0.2388 Train Accuracy: 92.00\n",
      "Epoch [9/15], Step [400/600], Train Loss: 0.2983 Train Accuracy: 93.00\n",
      "Epoch [9/15], Step [500/600], Train Loss: 0.2927 Train Accuracy: 92.00\n",
      "Epoch [9/15], Step [600/600], Train Loss: 0.2417 Train Accuracy: 90.00\n",
      "Epoch [9/15], Step [100/600], Valid Loss: 0.2326 Valid Accuracy: 90.00\n",
      "Epoch [10/15], Step [100/600], Train Loss: 0.2004 Train Accuracy: 96.00\n",
      "Epoch [10/15], Step [200/600], Train Loss: 0.3469 Train Accuracy: 90.00\n",
      "Epoch [10/15], Step [300/600], Train Loss: 0.3349 Train Accuracy: 89.00\n",
      "Epoch [10/15], Step [400/600], Train Loss: 0.2954 Train Accuracy: 91.00\n",
      "Epoch [10/15], Step [500/600], Train Loss: 0.2824 Train Accuracy: 91.00\n",
      "Epoch [10/15], Step [600/600], Train Loss: 0.3007 Train Accuracy: 90.00\n",
      "Epoch [10/15], Step [100/600], Valid Loss: 0.2536 Valid Accuracy: 90.00\n",
      "Epoch [11/15], Step [100/600], Train Loss: 0.2985 Train Accuracy: 90.00\n",
      "Epoch [11/15], Step [200/600], Train Loss: 0.4555 Train Accuracy: 84.00\n",
      "Epoch [11/15], Step [300/600], Train Loss: 0.3079 Train Accuracy: 91.00\n",
      "Epoch [11/15], Step [400/600], Train Loss: 0.2449 Train Accuracy: 94.00\n",
      "Epoch [11/15], Step [500/600], Train Loss: 0.4347 Train Accuracy: 87.00\n",
      "Epoch [11/15], Step [600/600], Train Loss: 0.3192 Train Accuracy: 88.00\n",
      "Epoch [11/15], Step [100/600], Valid Loss: 0.1985 Valid Accuracy: 88.00\n",
      "Epoch [12/15], Step [100/600], Train Loss: 0.1998 Train Accuracy: 93.00\n",
      "Epoch [12/15], Step [200/600], Train Loss: 0.3037 Train Accuracy: 92.00\n",
      "Epoch [12/15], Step [300/600], Train Loss: 0.2325 Train Accuracy: 92.00\n",
      "Epoch [12/15], Step [400/600], Train Loss: 0.3287 Train Accuracy: 92.00\n",
      "Epoch [12/15], Step [500/600], Train Loss: 0.2334 Train Accuracy: 92.00\n",
      "Epoch [12/15], Step [600/600], Train Loss: 0.1752 Train Accuracy: 96.00\n",
      "Epoch [12/15], Step [100/600], Valid Loss: 0.1708 Valid Accuracy: 96.00\n",
      "Epoch [13/15], Step [100/600], Train Loss: 0.2985 Train Accuracy: 93.00\n",
      "Epoch [13/15], Step [200/600], Train Loss: 0.2625 Train Accuracy: 92.00\n",
      "Epoch [13/15], Step [300/600], Train Loss: 0.3705 Train Accuracy: 87.00\n",
      "Epoch [13/15], Step [400/600], Train Loss: 0.4439 Train Accuracy: 91.00\n",
      "Epoch [13/15], Step [500/600], Train Loss: 0.2111 Train Accuracy: 93.00\n",
      "Epoch [13/15], Step [600/600], Train Loss: 0.2728 Train Accuracy: 95.00\n",
      "Epoch [13/15], Step [100/600], Valid Loss: 0.4088 Valid Accuracy: 95.00\n",
      "Epoch [14/15], Step [100/600], Train Loss: 0.3413 Train Accuracy: 92.00\n",
      "Epoch [14/15], Step [200/600], Train Loss: 0.3355 Train Accuracy: 90.00\n",
      "Epoch [14/15], Step [300/600], Train Loss: 0.2359 Train Accuracy: 92.00\n",
      "Epoch [14/15], Step [400/600], Train Loss: 0.1929 Train Accuracy: 94.00\n",
      "Epoch [14/15], Step [500/600], Train Loss: 0.3230 Train Accuracy: 90.00\n",
      "Epoch [14/15], Step [600/600], Train Loss: 0.2833 Train Accuracy: 91.00\n",
      "Epoch [14/15], Step [100/600], Valid Loss: 0.1670 Valid Accuracy: 91.00\n",
      "Epoch [15/15], Step [100/600], Train Loss: 0.2471 Train Accuracy: 92.00\n",
      "Epoch [15/15], Step [200/600], Train Loss: 0.2221 Train Accuracy: 92.00\n",
      "Epoch [15/15], Step [300/600], Train Loss: 0.2104 Train Accuracy: 93.00\n",
      "Epoch [15/15], Step [400/600], Train Loss: 0.3717 Train Accuracy: 91.00\n",
      "Epoch [15/15], Step [500/600], Train Loss: 0.2633 Train Accuracy: 91.00\n",
      "Epoch [15/15], Step [600/600], Train Loss: 0.2869 Train Accuracy: 93.00\n",
      "Epoch [15/15], Step [100/600], Valid Loss: 0.3172 Valid Accuracy: 93.00\n",
      "Train - Average Accuracy:83.33888888888889\n",
      "Test - Average Accuracy:84.86666666666666\n"
     ]
    }
   ],
   "source": [
    "#%tensorboard --logdir=logs\n",
    "train(model2, train_loader, test_loader, loss2, optimizer2, 15, writer2)"
   ]
  },
  {
   "cell_type": "markdown",
   "metadata": {},
   "source": [
    "__Final Validation Loss:__ *0.3494*\n",
    "\n",
    "__Final Validation Accuracy:__ *84.87*"
   ]
  },
  {
   "cell_type": "markdown",
   "metadata": {},
   "source": [
    "#### Did your accuracy on the validation set improve with multiple layers? Why do you think this is ?\n",
    "\n",
    "Answer: Though the average accuracy have slighly lower in Two Layer model, the overall validation accuracy have increased (can be visible from the Tensorboard - Blue Line). The reason behibd is, as we have added more layer, the deep neural network learns more features about the input images, which will have better accuracy"
   ]
  },
  {
   "cell_type": "markdown",
   "metadata": {},
   "source": [
    "### Part 5 - What is being learned at each layer? (10 points)\n",
    "\n",
    "So what exactly are these weights that our network is learning at each layer? By conveniently picking our layer dimensions as perfect square numbers, we can try to visualize the weights learned at each layer as square images. Use the following function to do so for *all interesting layers* across your models. Feel free to modify the function as you wish. \n",
    "\n",
    "**At the very least, you must generate:**\n",
    "1. **The ten 28x28 weight images learned by your one layer model.**\n",
    "2. **The 256 28x28 weight images learned by the hidden layer in your two-layer model.**"
   ]
  },
  {
   "cell_type": "code",
   "execution_count": 20,
   "metadata": {},
   "outputs": [],
   "source": [
    "def visualize_layer_weights(model, layer_idx, num_images, image_dim, title):\n",
    "    # Find number of rows and columns based on number of images\n",
    "    for d in range(1,num_images):\n",
    "        f = num_images/d\n",
    "        if int(f)==f:\n",
    "            dim1 = int(min(f,d))\n",
    "            dim2 = int(max(f,d))\n",
    "        if d > f:\n",
    "            break    \n",
    "    # Plot weights as square images\n",
    "    fig, ax  = plt.subplots(dim1, dim2)\n",
    "    \n",
    "    # At least 1 inch by 1 inch images\n",
    "    fig.set_size_inches(dim2, dim1)\n",
    "    weights = (list(model.parameters())[layer_idx])\n",
    "    fig.suptitle(title)\n",
    "    for i in range(dim1):\n",
    "        for j in range(dim2):\n",
    "            ax[i][j].imshow(weights[dim2*i+j].reshape(image_dim,image_dim).detach().numpy(), cmap='gray')"
   ]
  },
  {
   "cell_type": "code",
   "execution_count": 21,
   "metadata": {},
   "outputs": [
    {
     "data": {
      "image/png": "[encoded data removed]",
      "text/plain": [
       "<Figure size 288x288 with 16 Axes>"
      ]
     },
     "metadata": {},
     "output_type": "display_data"
    }
   ],
   "source": [
    "visualize_layer_weights(model, 0, 16, 5, 'Model - One Layer')"
   ]
  },
  {
   "cell_type": "code",
   "execution_count": 22,
   "metadata": {},
   "outputs": [
    {
     "data": {
      "image/png": "[encoded data removed]",
      "text/plain": [
       "<Figure size 288x288 with 16 Axes>"
      ]
     },
     "metadata": {},
     "output_type": "display_data"
    }
   ],
   "source": [
    "visualize_layer_weights(model2, 0, 16, 5, 'Model - Two Layer')"
   ]
  }
 ],
 "metadata": {
  "kernelspec": {
   "display_name": "Python 3",
   "language": "python",
   "name": "python3"
  },
  "language_info": {
   "codemirror_mode": {
    "name": "ipython",
    "version": 3
   },
   "file_extension": ".py",
   "mimetype": "text/x-python",
   "name": "python",
   "nbconvert_exporter": "python",
   "pygments_lexer": "ipython3",
   "version": "3.6.5"
  }
 },
 "nbformat": 4,
 "nbformat_minor": 2
}
