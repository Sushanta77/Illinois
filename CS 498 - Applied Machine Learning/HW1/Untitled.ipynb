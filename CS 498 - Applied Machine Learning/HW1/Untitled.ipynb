{
 "cells": [
  {
   "cell_type": "code",
   "execution_count": 4,
   "metadata": {},
   "outputs": [],
   "source": [
    "import numpy as np\n",
    "import pandas as pd\n",
    "from sklearn.datasets import fetch_mldata"
   ]
  },
  {
   "cell_type": "code",
   "execution_count": 27,
   "metadata": {},
   "outputs": [],
   "source": [
    "def load_mnist_data():\n",
    "    from sklearn.datasets import fetch_mldata\n",
    "    mnist = fetch_mldata('MNIST original')\n",
    "    X,Y = mnist[\"data\"],mnist[\"target\"].astype(int)\n",
    "    df_mnist=pd.DataFrame(X)\n",
    "    df_mnist['target'] = Y\n",
    "    distinct_class=pd.Series(Y).unique().astype(int)\n",
    "    return df_mnist,distinct_class\n",
    "\n",
    "\n",
    "def train_bernoulli_nb( label_train, data_train_bi ):\n",
    "\n",
    "    train, priors = extract_vocabulary_and_count_docs( label_train, data_train_bi )\n",
    "    print(\"train_bernoilli_nb\")\n",
    "\n",
    "    for i in range( 10 ):\n",
    "        for j in range ( 784 ):\n",
    "            train[i][j] = ( train[i][j] + 0.01 ) / ( priors[i] + 0.02 )\n",
    "        priors[i] = priors[i] / len( label_train )\n",
    "\n",
    "    return train, priors\n",
    "\n",
    "def apply_bernoulli_nb( train, priors, test_dataset_bi ):\n",
    "\n",
    "    results, score = extract_terms_from_dosc( test_dataset_bi )\n",
    "    print(\"apply_bernoilli_nb\")\n",
    "    for i in range( len( test_dataset_bi ) ):\n",
    "            for j in range( len( priors ) ):\n",
    "                score[j] = np.log( priors[j] )\n",
    "                for k in range( 784 ):\n",
    "                    if test_dataset_bi[i][k] == 1:\n",
    "                        score[j] += np.log( train[j][k] )\n",
    "                    else:\n",
    "                        score[j] += np.log ( 1. - train[j][k] )\n",
    "            results[i] = [i+1, np.argmax( score )]\n",
    "            print(i)\n",
    "\n",
    "\n",
    "    return results\n",
    "\n",
    "\n",
    "def  extract_terms_from_dosc (test_dataset_bi ):\n",
    "\n",
    "    results = [[0]*2 for i in range( len( test_dataset_bi ) )]\n",
    "    score = [0]*10\n",
    "    return results, score\n",
    "\n",
    "def extract_vocabulary_and_count_docs( label_train, data_train_bi ):\n",
    "\n",
    "    train = [[0]*785 for _ in range(10)]\n",
    "    priors = [0]*10\n",
    "    #Count Vocabulary and Docs\n",
    "    for i in range( len( label_train ) ):\n",
    "        priors[label_train[i]] = priors[label_train[i]] + 1\n",
    "        for j in range ( 784 ):\n",
    "            train[label_train[i]][j] = train[label_train[i]][j] + data_train_bi[i][j]\n",
    "\n",
    "    return train, priors\n",
    "\n",
    "\n",
    "def read_csv_as_matrix( csv_path ):\n",
    "    return pd.read_csv( csv_path ).as_matrix()\n",
    "\n",
    "def get_label_and_data_from_train( csv_as_matrix ):\n",
    "\n",
    "    print(\"get_label_and_data_from_train\")\n",
    "    label_train = csv_as_matrix[0:,0]\n",
    "    data_train = csv_as_matrix[0:,1:]\n",
    "\n",
    "    return label_train, data_train\n",
    "\n",
    "def binarization( data_train ):\n",
    "\n",
    "    print(\"binarization\")\n",
    "    return ( data_train >= 128 ).astype( int )\n",
    "\n",
    "def export_result( results, file_name ):\n",
    "\n",
    "    print(\"export_result\")\n",
    "    df = pd.DataFrame( data = results, columns = ['ImageId', 'Label'] )\n",
    "    df.to_csv( file_name, sep = ',', index=False )\n",
    "\n",
    "def main():\n",
    "        \n",
    "    mnist = fetch_mldata('MNIST original')\n",
    "    X,Y = mnist[\"data\"],mnist[\"target\"].astype(int)\n",
    "    df_mnist=pd.DataFrame(X)\n",
    "    df_mnist['target'] = Y\n",
    "\n",
    "    #train_dataset = read_csv_as_matrix( 'train.csv' )\n",
    "    #test_dataset = read_csv_as_matrix( 'test.csv' )\n",
    "\n",
    "    #label_train, data_train = get_label_and_data_from_train( train_dataset )\n",
    "    \n",
    "    label_train = Y[:60000]\n",
    "    data_train = X[:60000]\n",
    "\n",
    "    #train\n",
    "    data_train_bi = binarization( data_train )\n",
    "    train, priors = train_bernoulli_nb( label_train, data_train_bi )\n",
    "\n",
    "    #predict\n",
    "    test_dataset_bi = binarization( test_dataset )\n",
    "    results = apply_bernoulli_nb( train, priors, test_dataset_bi )\n",
    "\n",
    "    #export result\n",
    "    export_result( results, \"result.csv\" )\n",
    "    \n",
    "    "
   ]
  },
  {
   "cell_type": "code",
   "execution_count": 151,
   "metadata": {},
   "outputs": [],
   "source": [
    "    mnist = fetch_mldata('MNIST original')\n",
    "    X,Y = mnist[\"data\"],mnist[\"target\"].astype(int)\n",
    "    df_mnist=pd.DataFrame(X)\n",
    "    df_mnist['target'] = Y\n",
    "    \n",
    "    label_train = Y[:60000]\n",
    "    data_train = X[:60000]    "
   ]
  },
  {
   "cell_type": "code",
   "execution_count": 152,
   "metadata": {},
   "outputs": [
    {
     "name": "stdout",
     "output_type": "stream",
     "text": [
      "binarization\n"
     ]
    }
   ],
   "source": [
    "data_train_bi = binarization( data_train )"
   ]
  },
  {
   "cell_type": "code",
   "execution_count": 155,
   "metadata": {},
   "outputs": [],
   "source": [
    "train, priors = extract_vocabulary_and_count_docs( label_train, data_train_bi )"
   ]
  },
  {
   "cell_type": "code",
   "execution_count": 163,
   "metadata": {},
   "outputs": [
    {
     "name": "stdout",
     "output_type": "stream",
     "text": [
      "train_bernoilli_nb\n"
     ]
    }
   ],
   "source": [
    "train, priors = train_bernoulli_nb( label_train, data_train_bi )"
   ]
  },
  {
   "cell_type": "code",
   "execution_count": 168,
   "metadata": {},
   "outputs": [
    {
     "data": {
      "text/plain": [
       "146"
      ]
     },
     "execution_count": 168,
     "metadata": {},
     "output_type": "execute_result"
    }
   ],
   "source": [
    "np.sum(test_dataset_bi[0])"
   ]
  },
  {
   "cell_type": "code",
   "execution_count": 161,
   "metadata": {},
   "outputs": [
    {
     "data": {
      "text/plain": [
       "814737"
      ]
     },
     "execution_count": 161,
     "metadata": {},
     "output_type": "execute_result"
    }
   ],
   "source": [
    "np.sum(train[0])"
   ]
  },
  {
   "cell_type": "code",
   "execution_count": 164,
   "metadata": {},
   "outputs": [
    {
     "name": "stdout",
     "output_type": "stream",
     "text": [
      "0 137.55564559971094\n",
      "1 60.206412914823744\n",
      "2 118.23136545362385\n",
      "3 112.45777048517212\n",
      "4 95.94435486355745\n",
      "5 102.16450778635755\n",
      "6 109.09186518463946\n",
      "7 90.69641278080516\n",
      "8 119.61894507282491\n",
      "9 97.30776497641628\n"
     ]
    }
   ],
   "source": [
    "for k in range(10):\n",
    "    print(k,np.sum(train[k]))"
   ]
  },
  {
   "cell_type": "code",
   "execution_count": 36,
   "metadata": {},
   "outputs": [
    {
     "data": {
      "text/plain": [
       "10000"
      ]
     },
     "execution_count": 36,
     "metadata": {},
     "output_type": "execute_result"
    }
   ],
   "source": [
    "len(results)"
   ]
  },
  {
   "cell_type": "code",
   "execution_count": 89,
   "metadata": {},
   "outputs": [
    {
     "data": {
      "text/plain": [
       "array([0, 0, 0, ..., 9, 9, 9])"
      ]
     },
     "execution_count": 89,
     "metadata": {},
     "output_type": "execute_result"
    }
   ],
   "source": [
    "label_train"
   ]
  },
  {
   "cell_type": "code",
   "execution_count": 96,
   "metadata": {},
   "outputs": [],
   "source": [
    "train = [[0]*785 for _ in range(10)]\n",
    "k=0\n",
    "for i in range( len( label_train ) ):\n",
    "    if (label_train[i]) == 0:\n",
    "        k+=1\n",
    "        priors[label_train[i]] = priors[label_train[i]] + 1\n",
    "        for j in range ( 784 ):\n",
    "            train[label_train[i]][j] = train[label_train[i]][j] + data_train_bi[i][j]"
   ]
  },
  {
   "cell_type": "code",
   "execution_count": 116,
   "metadata": {},
   "outputs": [],
   "source": [
    "df_X=pd.DataFrame(data_train_bi)"
   ]
  },
  {
   "cell_type": "code",
   "execution_count": 117,
   "metadata": {},
   "outputs": [],
   "source": [
    "df_X['target'] = label_train"
   ]
  },
  {
   "cell_type": "code",
   "execution_count": 132,
   "metadata": {},
   "outputs": [
    {
     "data": {
      "text/plain": [
       "0"
      ]
     },
     "execution_count": 132,
     "metadata": {},
     "output_type": "execute_result"
    }
   ],
   "source": [
    "df_X[df_X['target'] == 0][39][202]"
   ]
  },
  {
   "cell_type": "code",
   "execution_count": 136,
   "metadata": {},
   "outputs": [
    {
     "data": {
      "text/plain": [
       "3607    128\n",
       "Name: 39, dtype: uint8"
      ]
     },
     "execution_count": 136,
     "metadata": {},
     "output_type": "execute_result"
    }
   ],
   "source": [
    "df_mnist.iloc[[3607]][39]"
   ]
  },
  {
   "cell_type": "code",
   "execution_count": 134,
   "metadata": {},
   "outputs": [
    {
     "data": {
      "text/html": [
       "<div>\n",
       "<style scoped>\n",
       "    .dataframe tbody tr th:only-of-type {\n",
       "        vertical-align: middle;\n",
       "    }\n",
       "\n",
       "    .dataframe tbody tr th {\n",
       "        vertical-align: top;\n",
       "    }\n",
       "\n",
       "    .dataframe thead th {\n",
       "        text-align: right;\n",
       "    }\n",
       "</style>\n",
       "<table border=\"1\" class=\"dataframe\">\n",
       "  <thead>\n",
       "    <tr style=\"text-align: right;\">\n",
       "      <th></th>\n",
       "      <th>0</th>\n",
       "      <th>1</th>\n",
       "      <th>2</th>\n",
       "      <th>3</th>\n",
       "      <th>4</th>\n",
       "      <th>5</th>\n",
       "      <th>6</th>\n",
       "      <th>7</th>\n",
       "      <th>8</th>\n",
       "      <th>9</th>\n",
       "      <th>...</th>\n",
       "      <th>775</th>\n",
       "      <th>776</th>\n",
       "      <th>777</th>\n",
       "      <th>778</th>\n",
       "      <th>779</th>\n",
       "      <th>780</th>\n",
       "      <th>781</th>\n",
       "      <th>782</th>\n",
       "      <th>783</th>\n",
       "      <th>target</th>\n",
       "    </tr>\n",
       "  </thead>\n",
       "  <tbody>\n",
       "    <tr>\n",
       "      <th>3607</th>\n",
       "      <td>0</td>\n",
       "      <td>0</td>\n",
       "      <td>0</td>\n",
       "      <td>0</td>\n",
       "      <td>0</td>\n",
       "      <td>0</td>\n",
       "      <td>0</td>\n",
       "      <td>0</td>\n",
       "      <td>0</td>\n",
       "      <td>0</td>\n",
       "      <td>...</td>\n",
       "      <td>0</td>\n",
       "      <td>0</td>\n",
       "      <td>0</td>\n",
       "      <td>0</td>\n",
       "      <td>0</td>\n",
       "      <td>0</td>\n",
       "      <td>0</td>\n",
       "      <td>0</td>\n",
       "      <td>0</td>\n",
       "      <td>0</td>\n",
       "    </tr>\n",
       "  </tbody>\n",
       "</table>\n",
       "<p>1 rows × 785 columns</p>\n",
       "</div>"
      ],
      "text/plain": [
       "      0  1  2  3  4  5  6  7  8  9   ...    775  776  777  778  779  780  781  \\\n",
       "3607  0  0  0  0  0  0  0  0  0  0   ...      0    0    0    0    0    0    0   \n",
       "\n",
       "      782  783  target  \n",
       "3607    0    0       0  \n",
       "\n",
       "[1 rows x 785 columns]"
      ]
     },
     "execution_count": 134,
     "metadata": {},
     "output_type": "execute_result"
    }
   ],
   "source": [
    "df_X.iloc[[3607]]"
   ]
  },
  {
   "cell_type": "code",
   "execution_count": 133,
   "metadata": {},
   "outputs": [
    {
     "name": "stdout",
     "output_type": "stream",
     "text": [
      "3607\n"
     ]
    }
   ],
   "source": [
    "for k in df_X[df_X['target'] == 0][39].index:\n",
    "    if (df_X[df_X['target'] == 0][39][k] >0):\n",
    "        print (k)"
   ]
  },
  {
   "cell_type": "code",
   "execution_count": 145,
   "metadata": {},
   "outputs": [
    {
     "data": {
      "text/plain": [
       "1"
      ]
     },
     "execution_count": 145,
     "metadata": {},
     "output_type": "execute_result"
    }
   ],
   "source": [
    "data_train_bi[3607]"
   ]
  },
  {
   "cell_type": "code",
   "execution_count": 110,
   "metadata": {},
   "outputs": [
    {
     "name": "stdout",
     "output_type": "stream",
     "text": [
      "39 1\n",
      "40 1\n",
      "44 1\n",
      "63 1\n",
      "68 1\n",
      "69 2\n",
      "71 1\n",
      "72 1\n",
      "75 1\n",
      "89 2\n",
      "90 1\n",
      "91 1\n",
      "92 3\n",
      "93 4\n",
      "94 11\n",
      "95 31\n",
      "96 52\n",
      "97 71\n",
      "98 89\n",
      "99 106\n",
      "100 106\n",
      "101 87\n",
      "102 62\n",
      "103 55\n",
      "104 40\n",
      "105 16\n",
      "106 6\n",
      "107 3\n",
      "108 1\n",
      "117 1\n",
      "118 4\n",
      "119 10\n",
      "120 30\n",
      "121 77\n",
      "122 153\n",
      "123 293\n",
      "124 546\n",
      "125 903\n",
      "126 1227\n",
      "127 1483\n",
      "128 1563\n",
      "129 1425\n",
      "130 1124\n",
      "131 809\n",
      "132 478\n",
      "133 220\n",
      "134 81\n",
      "135 14\n",
      "136 2\n",
      "137 1\n",
      "143 1\n",
      "144 1\n",
      "145 1\n",
      "146 15\n",
      "147 38\n",
      "148 102\n",
      "149 248\n",
      "150 523\n",
      "151 998\n",
      "152 1595\n",
      "153 2316\n",
      "154 2975\n",
      "155 3420\n",
      "156 3586\n",
      "157 3330\n",
      "158 2793\n",
      "159 2054\n",
      "160 1292\n",
      "161 683\n",
      "162 276\n",
      "163 59\n",
      "164 8\n",
      "165 1\n",
      "172 2\n",
      "173 16\n",
      "174 36\n",
      "175 102\n",
      "176 276\n",
      "177 624\n",
      "178 1181\n",
      "179 1939\n",
      "180 2752\n",
      "181 3539\n",
      "182 4106\n",
      "183 4474\n",
      "184 4581\n",
      "185 4471\n",
      "186 4073\n",
      "187 3272\n",
      "188 2391\n",
      "189 1432\n",
      "190 684\n",
      "191 188\n",
      "192 21\n",
      "193 1\n",
      "200 4\n",
      "201 24\n",
      "202 68\n",
      "203 232\n",
      "204 570\n",
      "205 1192\n",
      "206 1996\n",
      "207 2857\n",
      "208 3622\n",
      "209 4122\n",
      "210 4389\n",
      "211 4482\n",
      "212 4519\n",
      "213 4601\n",
      "214 4510\n",
      "215 4089\n",
      "216 3274\n",
      "217 2231\n",
      "218 1239\n",
      "219 456\n",
      "220 67\n",
      "221 4\n",
      "223 1\n",
      "228 4\n",
      "229 37\n",
      "230 149\n",
      "231 457\n",
      "232 1053\n",
      "233 1898\n",
      "234 2804\n",
      "235 3561\n",
      "236 4021\n",
      "237 4113\n",
      "238 3972\n",
      "239 3750\n",
      "240 3656\n",
      "241 3735\n",
      "242 4046\n",
      "243 4172\n",
      "244 3836\n",
      "245 2941\n",
      "246 1841\n",
      "247 779\n",
      "248 143\n",
      "249 2\n",
      "255 1\n",
      "256 7\n",
      "257 59\n",
      "258 320\n",
      "259 848\n",
      "260 1635\n",
      "261 2608\n",
      "262 3465\n",
      "263 3943\n",
      "264 3961\n",
      "265 3632\n",
      "266 3071\n",
      "267 2630\n",
      "268 2348\n",
      "269 2522\n",
      "270 3056\n",
      "271 3729\n",
      "272 3912\n",
      "273 3460\n",
      "274 2428\n",
      "275 1129\n",
      "276 246\n",
      "277 3\n",
      "282 1\n",
      "284 16\n",
      "285 137\n",
      "286 576\n",
      "287 1327\n",
      "288 2301\n",
      "289 3277\n",
      "290 3854\n",
      "291 3951\n",
      "292 3484\n",
      "293 2762\n",
      "294 2067\n",
      "295 1507\n",
      "296 1253\n",
      "297 1436\n",
      "298 2124\n",
      "299 3064\n",
      "300 3812\n",
      "301 3728\n",
      "302 2892\n",
      "303 1511\n",
      "304 367\n",
      "305 6\n",
      "311 1\n",
      "312 32\n",
      "313 268\n",
      "314 912\n",
      "315 1906\n",
      "316 2956\n",
      "317 3727\n",
      "318 3970\n",
      "319 3517\n",
      "320 2652\n",
      "321 1824\n",
      "322 1093\n",
      "323 705\n",
      "324 595\n",
      "325 837\n",
      "326 1479\n",
      "327 2541\n",
      "328 3570\n",
      "329 3833\n",
      "330 3187\n",
      "331 1821\n",
      "332 488\n",
      "333 10\n",
      "334 1\n",
      "339 1\n",
      "340 52\n",
      "341 476\n",
      "342 1391\n",
      "343 2522\n",
      "344 3484\n",
      "345 3983\n",
      "346 3719\n",
      "347 2840\n",
      "348 1788\n",
      "349 997\n",
      "350 504\n",
      "351 319\n",
      "352 305\n",
      "353 536\n",
      "354 1181\n",
      "355 2254\n",
      "356 3332\n",
      "357 3814\n",
      "358 3264\n",
      "359 2014\n",
      "360 631\n",
      "361 14\n",
      "362 1\n",
      "367 2\n",
      "368 106\n",
      "369 789\n",
      "370 1904\n",
      "371 3097\n",
      "372 3849\n",
      "373 3938\n",
      "374 3220\n",
      "375 2035\n",
      "376 1017\n",
      "377 423\n",
      "378 215\n",
      "379 142\n",
      "380 175\n",
      "381 436\n",
      "382 1124\n",
      "383 2182\n",
      "384 3300\n",
      "385 3759\n",
      "386 3234\n",
      "387 2067\n",
      "388 689\n",
      "389 24\n",
      "395 1\n",
      "396 164\n",
      "397 1137\n",
      "398 2423\n",
      "399 3561\n",
      "400 4041\n",
      "401 3672\n",
      "402 2551\n",
      "403 1313\n",
      "404 519\n",
      "405 197\n",
      "406 106\n",
      "407 90\n",
      "408 146\n",
      "409 498\n",
      "410 1277\n",
      "411 2350\n",
      "412 3355\n",
      "413 3702\n",
      "414 3107\n",
      "415 1966\n",
      "416 710\n",
      "417 27\n",
      "423 1\n",
      "424 282\n",
      "425 1525\n",
      "426 2862\n",
      "427 3846\n",
      "428 4020\n",
      "429 3228\n",
      "430 1958\n",
      "431 855\n",
      "432 286\n",
      "433 98\n",
      "434 68\n",
      "435 92\n",
      "436 254\n",
      "437 758\n",
      "438 1611\n",
      "439 2710\n",
      "440 3516\n",
      "441 3564\n",
      "442 2867\n",
      "443 1728\n",
      "444 594\n",
      "445 22\n",
      "451 1\n",
      "452 395\n",
      "453 1818\n",
      "454 3169\n",
      "455 3986\n",
      "456 3889\n",
      "457 2814\n",
      "458 1505\n",
      "459 580\n",
      "460 188\n",
      "461 82\n",
      "462 97\n",
      "463 197\n",
      "464 519\n",
      "465 1246\n",
      "466 2250\n",
      "467 3176\n",
      "468 3626\n",
      "469 3351\n",
      "470 2445\n",
      "471 1396\n",
      "472 431\n",
      "473 13\n",
      "479 5\n",
      "480 527\n",
      "481 2022\n",
      "482 3330\n",
      "483 4038\n",
      "484 3736\n",
      "485 2625\n",
      "486 1313\n",
      "487 514\n",
      "488 206\n",
      "489 152\n",
      "490 256\n",
      "491 544\n",
      "492 1142\n",
      "493 1997\n",
      "494 2971\n",
      "495 3585\n",
      "496 3578\n",
      "497 2932\n",
      "498 1975\n",
      "499 950\n",
      "500 261\n",
      "501 11\n",
      "507 7\n",
      "508 582\n",
      "509 1999\n",
      "510 3326\n",
      "511 4077\n",
      "512 3788\n",
      "513 2727\n",
      "514 1544\n",
      "515 762\n",
      "516 485\n",
      "517 525\n",
      "518 799\n",
      "519 1351\n",
      "520 2125\n",
      "521 2955\n",
      "522 3573\n",
      "523 3715\n",
      "524 3189\n",
      "525 2325\n",
      "526 1415\n",
      "527 581\n",
      "528 123\n",
      "529 4\n",
      "535 9\n",
      "536 533\n",
      "537 1806\n",
      "538 3142\n",
      "539 4033\n",
      "540 4006\n",
      "541 3273\n",
      "542 2284\n",
      "543 1530\n",
      "544 1312\n",
      "545 1460\n",
      "546 1884\n",
      "547 2497\n",
      "548 3187\n",
      "549 3731\n",
      "550 3843\n",
      "551 3363\n",
      "552 2593\n",
      "553 1671\n",
      "554 842\n",
      "555 292\n",
      "556 44\n",
      "557 2\n",
      "561 1\n",
      "563 7\n",
      "564 398\n",
      "565 1409\n",
      "566 2725\n",
      "567 3787\n",
      "568 4277\n",
      "569 4127\n",
      "570 3564\n",
      "571 3029\n",
      "572 2769\n",
      "573 2920\n",
      "574 3235\n",
      "575 3689\n",
      "576 3988\n",
      "577 3954\n",
      "578 3424\n",
      "579 2656\n",
      "580 1752\n",
      "581 976\n",
      "582 397\n",
      "583 100\n",
      "584 14\n",
      "586 1\n",
      "591 7\n",
      "592 213\n",
      "593 911\n",
      "594 1999\n",
      "595 3182\n",
      "596 4104\n",
      "597 4636\n",
      "598 4681\n",
      "599 4510\n",
      "600 4321\n",
      "601 4286\n",
      "602 4340\n",
      "603 4328\n",
      "604 4017\n",
      "605 3342\n",
      "606 2556\n",
      "607 1683\n",
      "608 949\n",
      "609 417\n",
      "610 118\n",
      "611 29\n",
      "612 3\n",
      "614 1\n",
      "619 4\n",
      "620 69\n",
      "621 429\n",
      "622 1166\n",
      "623 2112\n",
      "624 3191\n",
      "625 4082\n",
      "626 4617\n",
      "627 4812\n",
      "628 4791\n",
      "629 4653\n",
      "630 4294\n",
      "631 3719\n",
      "632 2987\n",
      "633 2130\n",
      "634 1363\n",
      "635 769\n",
      "636 339\n",
      "637 117\n",
      "638 29\n",
      "639 9\n",
      "640 1\n",
      "642 1\n",
      "648 10\n",
      "649 107\n",
      "650 341\n",
      "651 861\n",
      "652 1575\n",
      "653 2348\n",
      "654 2983\n",
      "655 3440\n",
      "656 3535\n",
      "657 3211\n",
      "658 2692\n",
      "659 2009\n",
      "660 1372\n",
      "661 829\n",
      "662 412\n",
      "663 170\n",
      "664 62\n",
      "665 18\n",
      "666 4\n",
      "667 4\n",
      "668 1\n",
      "676 3\n",
      "677 9\n",
      "678 42\n",
      "679 104\n",
      "680 241\n",
      "681 433\n",
      "682 667\n",
      "683 829\n",
      "684 881\n",
      "685 819\n",
      "686 652\n",
      "687 443\n",
      "688 274\n",
      "689 132\n",
      "690 55\n",
      "691 22\n",
      "692 8\n",
      "693 4\n",
      "694 1\n",
      "695 1\n",
      "707 1\n",
      "708 3\n",
      "709 6\n",
      "710 11\n",
      "711 12\n",
      "712 10\n",
      "713 10\n",
      "714 5\n",
      "715 4\n",
      "716 2\n",
      "717 1\n"
     ]
    }
   ],
   "source": [
    "for k in range(len(train[0])):\n",
    "    if (train[0][k] > 0):\n",
    "        print (k,train[0][k])"
   ]
  },
  {
   "cell_type": "code",
   "execution_count": 95,
   "metadata": {},
   "outputs": [
    {
     "data": {
      "text/plain": [
       "814737"
      ]
     },
     "execution_count": 95,
     "metadata": {},
     "output_type": "execute_result"
    }
   ],
   "source": [
    "np.sum(train[0])"
   ]
  },
  {
   "cell_type": "code",
   "execution_count": 47,
   "metadata": {},
   "outputs": [
    {
     "name": "stdout",
     "output_type": "stream",
     "text": [
      "Match 0.8441%\n"
     ]
    }
   ],
   "source": [
    "match_class = 0\n",
    "for i in range(test_Y.shape[0]):\n",
    "    if (test_Y[i] == results[i][1]):\n",
    "        match_class += 1\n",
    "print (\"Match {}%\".format(match_class/test_Y.shape[0]))"
   ]
  },
  {
   "cell_type": "code",
   "execution_count": null,
   "metadata": {},
   "outputs": [],
   "source": []
  },
  {
   "cell_type": "code",
   "execution_count": 170,
   "metadata": {},
   "outputs": [
    {
     "data": {
      "text/plain": [
       "array([0, 0, 0, 0, 0, 0, 0, 0, 0, 0, 0, 0, 0, 0, 0, 0, 0, 0, 0, 0, 0, 0,\n",
       "       0, 0, 0, 0, 0, 0, 0, 0, 0, 0, 0, 0, 0, 0, 0, 0, 0, 0, 0, 0, 0, 0,\n",
       "       0, 0, 0, 0, 0, 0, 0, 0, 0, 0, 0, 0, 0, 0, 0, 0, 0, 0, 0, 0, 0, 0,\n",
       "       0, 0, 0, 0, 0, 0, 0, 0, 0, 0, 0, 0, 0, 0, 0, 0, 0, 0, 0, 0, 0, 0,\n",
       "       0, 0, 0, 0, 0, 0, 0, 0, 0, 0, 0, 0, 0, 0, 0, 0, 0, 0, 0, 0, 0, 0,\n",
       "       0, 0, 0, 0, 0, 0, 0, 0, 0, 0, 0, 0, 0, 0, 0, 1, 1, 1, 0, 0, 0, 0,\n",
       "       0, 0, 0, 0, 0, 0, 0, 0, 0, 0, 0, 0, 0, 0, 0, 0, 0, 0, 0, 0, 0, 1,\n",
       "       1, 1, 0, 0, 0, 0, 0, 0, 0, 0, 0, 0, 0, 0, 0, 0, 0, 0, 0, 0, 0, 0,\n",
       "       0, 0, 0, 0, 1, 1, 1, 1, 0, 0, 0, 0, 0, 0, 0, 0, 0, 0, 0, 0, 0, 0,\n",
       "       0, 0, 0, 0, 0, 0, 0, 0, 0, 1, 1, 1, 1, 1, 1, 0, 0, 0, 0, 0, 0, 0,\n",
       "       0, 0, 0, 0, 0, 0, 0, 0, 0, 0, 0, 0, 0, 0, 1, 1, 1, 1, 1, 1, 1, 1,\n",
       "       1, 0, 0, 0, 0, 0, 0, 0, 0, 0, 0, 0, 0, 0, 0, 0, 0, 0, 0, 1, 1, 1,\n",
       "       1, 1, 1, 1, 1, 1, 1, 1, 0, 0, 0, 0, 0, 0, 0, 0, 0, 0, 0, 0, 0, 0,\n",
       "       0, 0, 0, 1, 1, 1, 1, 1, 1, 0, 0, 1, 1, 1, 0, 0, 0, 0, 0, 0, 0, 0,\n",
       "       0, 0, 0, 0, 0, 0, 0, 0, 1, 1, 1, 1, 1, 1, 0, 0, 0, 0, 1, 1, 1, 0,\n",
       "       0, 0, 0, 0, 0, 0, 0, 0, 0, 0, 0, 0, 0, 0, 1, 1, 1, 1, 0, 0, 0, 0,\n",
       "       0, 0, 0, 1, 1, 1, 0, 0, 0, 0, 0, 0, 0, 0, 0, 0, 0, 0, 0, 0, 1, 1,\n",
       "       1, 0, 0, 0, 0, 0, 0, 0, 0, 1, 1, 1, 0, 0, 0, 0, 0, 0, 0, 0, 0, 0,\n",
       "       0, 0, 0, 0, 1, 1, 0, 0, 0, 0, 0, 0, 0, 0, 0, 1, 1, 1, 1, 0, 0, 0,\n",
       "       0, 0, 0, 0, 0, 0, 0, 0, 0, 1, 1, 1, 0, 0, 0, 0, 0, 0, 0, 0, 0, 1,\n",
       "       1, 1, 0, 0, 0, 0, 0, 0, 0, 0, 0, 0, 0, 0, 0, 1, 1, 1, 0, 0, 0, 0,\n",
       "       0, 0, 0, 0, 1, 1, 1, 1, 0, 0, 0, 0, 0, 0, 0, 0, 0, 0, 0, 0, 0, 1,\n",
       "       1, 1, 0, 0, 0, 0, 0, 0, 1, 1, 1, 1, 1, 0, 0, 0, 0, 0, 0, 0, 0, 0,\n",
       "       0, 0, 0, 0, 0, 1, 1, 1, 0, 0, 0, 0, 0, 1, 1, 1, 1, 1, 1, 0, 0, 0,\n",
       "       0, 0, 0, 0, 0, 0, 0, 0, 0, 0, 0, 1, 1, 1, 0, 0, 1, 1, 1, 1, 1, 1,\n",
       "       1, 1, 0, 0, 0, 0, 0, 0, 0, 0, 0, 0, 0, 0, 0, 0, 0, 0, 1, 1, 1, 1,\n",
       "       1, 1, 1, 1, 1, 1, 1, 1, 0, 0, 0, 0, 0, 0, 0, 0, 0, 0, 0, 0, 0, 0,\n",
       "       0, 0, 1, 1, 1, 1, 1, 1, 1, 1, 1, 1, 0, 0, 0, 0, 0, 0, 0, 0, 0, 0,\n",
       "       0, 0, 0, 0, 0, 0, 0, 0, 0, 1, 1, 1, 1, 1, 1, 1, 0, 0, 0, 0, 0, 0,\n",
       "       0, 0, 0, 0, 0, 0, 0, 0, 0, 0, 0, 0, 0, 0, 0, 0, 0, 1, 1, 1, 0, 0,\n",
       "       0, 0, 0, 0, 0, 0, 0, 0, 0, 0, 0, 0, 0, 0, 0, 0, 0, 0, 0, 0, 0, 0,\n",
       "       0, 0, 0, 0, 0, 0, 0, 0, 0, 0, 0, 0, 0, 0, 0, 0, 0, 0, 0, 0, 0, 0,\n",
       "       0, 0, 0, 0, 0, 0, 0, 0, 0, 0, 0, 0, 0, 0, 0, 0, 0, 0, 0, 0, 0, 0,\n",
       "       0, 0, 0, 0, 0, 0, 0, 0, 0, 0, 0, 0, 0, 0, 0, 0, 0, 0, 0, 0, 0, 0,\n",
       "       0, 0, 0, 0, 0, 0, 0, 0, 0, 0, 0, 0, 0, 0, 0, 0, 0, 0, 0, 0, 0, 0,\n",
       "       0, 0, 0, 0, 0, 0, 0, 0, 0, 0, 0, 0, 0, 0])"
      ]
     },
     "execution_count": 170,
     "metadata": {},
     "output_type": "execute_result"
    }
   ],
   "source": [
    "test_dataset_bi[0]"
   ]
  },
  {
   "cell_type": "code",
   "execution_count": 177,
   "metadata": {},
   "outputs": [
    {
     "data": {
      "text/plain": [
       "1"
      ]
     },
     "execution_count": 177,
     "metadata": {},
     "output_type": "execute_result"
    }
   ],
   "source": [
    "len([test_dataset_bi[0]])"
   ]
  },
  {
   "cell_type": "code",
   "execution_count": 173,
   "metadata": {},
   "outputs": [
    {
     "data": {
      "text/plain": [
       "10000"
      ]
     },
     "execution_count": 173,
     "metadata": {},
     "output_type": "execute_result"
    }
   ],
   "source": [
    "len( test_dataset_bi )"
   ]
  },
  {
   "cell_type": "code",
   "execution_count": 180,
   "metadata": {},
   "outputs": [],
   "source": [
    "results, score = extract_terms_from_dosc( [test_dataset_bi[0]] )"
   ]
  },
  {
   "cell_type": "code",
   "execution_count": 182,
   "metadata": {},
   "outputs": [
    {
     "data": {
      "text/plain": [
       "[0, 0, 0, 0, 0, 0, 0, 0, 0, 0]"
      ]
     },
     "execution_count": 182,
     "metadata": {},
     "output_type": "execute_result"
    }
   ],
   "source": [
    "score"
   ]
  },
  {
   "cell_type": "code",
   "execution_count": 186,
   "metadata": {},
   "outputs": [
    {
     "name": "stdout",
     "output_type": "stream",
     "text": [
      "1st Score:-2.315501484927273\n",
      "1st Score:-2.185987945410232\n",
      "1st Score:-2.3096097079310103\n",
      "1st Score:-2.28098669344155\n",
      "1st Score:-2.3292713582565514\n",
      "1st Score:-2.4040642619438994\n",
      "1st Score:-2.3163460082440825\n",
      "1st Score:-2.2593659738740692\n",
      "1st Score:-2.3277319754160017\n",
      "1st Score:-2.3111214240163322\n"
     ]
    }
   ],
   "source": [
    "    for i in range( len( [test_dataset_bi[0]] ) ):\n",
    "            for j in range( len( priors ) ):\n",
    "                score[j] = np.log( priors[j] )\n",
    "                print (\"1st Score:{}\".format(np.log( priors[j] )))\n",
    "                for k in range( 784 ):\n",
    "                    if test_dataset_bi[i][k] == 1:\n",
    "                        score[j] += np.log( train[j][k] )\n",
    "                    else:\n",
    "                        score[j] += np.log ( 1. - train[j][k] )\n",
    "            results[i] = [i+1, np.argmax( score )]"
   ]
  },
  {
   "cell_type": "code",
   "execution_count": 184,
   "metadata": {},
   "outputs": [
    {
     "data": {
      "text/plain": [
       "[-164.0697847334753,\n",
       " -541.0151946192461,\n",
       " -265.64044539560155,\n",
       " -269.93792820737264,\n",
       " -288.0041015773926,\n",
       " -239.53186236372906,\n",
       " -220.47289355173845,\n",
       " -306.3917606433365,\n",
       " -267.51265180329654,\n",
       " -287.12953767603346]"
      ]
     },
     "execution_count": 184,
     "metadata": {},
     "output_type": "execute_result"
    }
   ],
   "source": [
    "score"
   ]
  },
  {
   "cell_type": "code",
   "execution_count": 185,
   "metadata": {},
   "outputs": [
    {
     "data": {
      "text/plain": [
       "[[1, 0]]"
      ]
     },
     "execution_count": 185,
     "metadata": {},
     "output_type": "execute_result"
    }
   ],
   "source": [
    "results"
   ]
  }
 ],
 "metadata": {
  "kernelspec": {
   "display_name": "Python 3",
   "language": "python",
   "name": "python3"
  },
  "language_info": {
   "codemirror_mode": {
    "name": "ipython",
    "version": 3
   },
   "file_extension": ".py",
   "mimetype": "text/x-python",
   "name": "python",
   "nbconvert_exporter": "python",
   "pygments_lexer": "ipython3",
   "version": "3.6.5"
  }
 },
 "nbformat": 4,
 "nbformat_minor": 2
}
