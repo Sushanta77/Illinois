{
 "cells": [
  {
   "cell_type": "code",
   "execution_count": 1,
   "metadata": {},
   "outputs": [],
   "source": [
    "import numpy as np\n",
    "import pandas as pd"
   ]
  },
  {
   "cell_type": "code",
   "execution_count": 2,
   "metadata": {},
   "outputs": [],
   "source": [
    "def train_bernoulli_nb( label_train, data_train_bi ):\n",
    "\n",
    "    train, priors = extract_vocabulary_and_count_docs( label_train, data_train_bi )\n",
    "    print(\"train_bernoilli_nb\")\n",
    "\n",
    "    for i in range( 10 ):\n",
    "        for j in range ( 784 ):\n",
    "            train[i][j] = ( train[i][j] + 0.01 ) / ( priors[i] + 0.02 )\n",
    "        priors[i] = priors[i] / len( label_train )\n",
    "\n",
    "    return train, priors\n",
    "\n",
    "def apply_bernoulli_nb( train, priors, test_dataset_bi ):\n",
    "\n",
    "    results, score = extract_terms_from_dosc( test_dataset_bi )\n",
    "    print(\"apply_bernoilli_nb\")\n",
    "    for i in range( len( test_dataset_bi ) ):\n",
    "            for j in range( len( priors ) ):\n",
    "                score[j] = log( priors[j] )\n",
    "                for k in range( 784 ):\n",
    "                    if test_dataset_bi[i][k] == 1:\n",
    "                        score[j] += log( train[j][k] )\n",
    "                    else:\n",
    "                        score[j] += log ( 1. - train[j][k] )\n",
    "            results[i] = [i+1, np.argmax( score )]\n",
    "            print(i)\n",
    "\n",
    "\n",
    "    return results\n",
    "\n",
    "\n",
    "def  extract_terms_from_dosc (test_dataset_bi ):\n",
    "\n",
    "    results = [[0]*2 for i in range( len( test_dataset_bi ) )]\n",
    "    score = [0]*10\n",
    "    return results, score\n",
    "\n",
    "def extract_vocabulary_and_count_docs( label_train, data_train_bi ):\n",
    "\n",
    "    train = [[0]*785 for _ in range(10)]\n",
    "    priors = [0]*10\n",
    "    #Count Vocabulary and Docs\n",
    "    for i in range( len( label_train ) ):\n",
    "        priors[label_train[i]] = priors[label_train[i]] + 1\n",
    "        for j in range ( 784 ):\n",
    "            train[label_train[i]][j] = train[label_train[i]][j] + data_train_bi[i][j]\n",
    "\n",
    "    return train, priors\n",
    "\n",
    "def read_csv_as_matrix( csv_path ):\n",
    "\n",
    "    return pd.read_csv( csv_path ).as_matrix()\n",
    "\n",
    "def get_label_and_data_from_train( csv_as_matrix ):\n",
    "\n",
    "    print(\"get_label_and_data_from_train\")\n",
    "    label_train = csv_as_matrix[0:,0]\n",
    "    data_train = csv_as_matrix[0:,1:]\n",
    "\n",
    "    return label_train, data_train\n",
    "\n",
    "def binarization( data_train ):\n",
    "\n",
    "    print(\"binarization\")\n",
    "    return ( data_train >= 128 ).astype( int )\n",
    "\n",
    "def export_result( results, file_name ):\n",
    "\n",
    "    print(\"export_result\")\n",
    "    df = pd.DataFrame( data = results, columns = ['ImageId', 'Label'] )\n",
    "    df.to_csv( file_name, sep = ',', index=False )\n",
    "\n",
    "def main():\n",
    "\n",
    "    train_dataset = read_csv_as_matrix( 'train.csv' )\n",
    "    test_dataset = read_csv_as_matrix( 'test.csv' )\n",
    "\n",
    "    label_train, data_train = get_label_and_data_from_train( train_dataset )\n",
    "\n",
    "    #train\n",
    "    data_train_bi = binarization( data_train )\n",
    "    train, priors = train_bernoulli_nb( label_train, data_train_bi )\n",
    "\n",
    "    #predict\n",
    "    test_dataset_bi = binarization( test_dataset )\n",
    "    results = apply_bernoulli_nb( train, priors, test_dataset_bi )\n",
    "\n",
    "    #export result\n",
    "    export_result( results, \"result.csv\" )\n",
    "    \n",
    "    "
   ]
  },
  {
   "cell_type": "code",
   "execution_count": 3,
   "metadata": {},
   "outputs": [
    {
     "ename": "NameError",
     "evalue": "name 'main' is not defined",
     "output_type": "error",
     "traceback": [
      "\u001b[0;31m---------------------------------------------------------------------------\u001b[0m",
      "\u001b[0;31mNameError\u001b[0m                                 Traceback (most recent call last)",
      "\u001b[0;32m<ipython-input-3-263240bbee7e>\u001b[0m in \u001b[0;36m<module>\u001b[0;34m()\u001b[0m\n\u001b[0;32m----> 1\u001b[0;31m \u001b[0mmain\u001b[0m\u001b[0;34m(\u001b[0m\u001b[0;34m)\u001b[0m\u001b[0;34m\u001b[0m\u001b[0m\n\u001b[0m",
      "\u001b[0;31mNameError\u001b[0m: name 'main' is not defined"
     ]
    }
   ],
   "source": [
    "main()"
   ]
  }
 ],
 "metadata": {
  "kernelspec": {
   "display_name": "Python 3",
   "language": "python",
   "name": "python3"
  },
  "language_info": {
   "codemirror_mode": {
    "name": "ipython",
    "version": 3
   },
   "file_extension": ".py",
   "mimetype": "text/x-python",
   "name": "python",
   "nbconvert_exporter": "python",
   "pygments_lexer": "ipython3",
   "version": "3.6.5"
  }
 },
 "nbformat": 4,
 "nbformat_minor": 2
}
