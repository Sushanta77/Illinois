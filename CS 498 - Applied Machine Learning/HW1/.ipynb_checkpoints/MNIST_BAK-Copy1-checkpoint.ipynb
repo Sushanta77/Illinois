{
 "cells": [
  {
   "cell_type": "code",
   "execution_count": 1,
   "metadata": {},
   "outputs": [],
   "source": [
    "import pandas as pd\n",
    "import numpy as np\n",
    "from sklearn.naive_bayes import GaussianNB\n",
    "import matplotlib.pyplot as plt\n",
    "import cv2\n",
    "%matplotlib inline\n",
    "import warnings\n",
    "warnings.filterwarnings('ignore')"
   ]
  },
  {
   "cell_type": "code",
   "execution_count": 5,
   "metadata": {},
   "outputs": [],
   "source": [
    "def load_mnist_data():\n",
    "    from sklearn.datasets import fetch_mldata\n",
    "    mnist = fetch_mldata('MNIST original')\n",
    "    X,Y = mnist[\"data\"],mnist[\"target\"].astype(int)\n",
    "    df_mnist=pd.DataFrame(X)\n",
    "    df_mnist['target'] = Y\n",
    "    distinct_class=pd.Series(Y).unique().astype(int)\n",
    "    return df_mnist,distinct_class\n",
    "\n",
    "def train_test_split(input_df=None,fold=10,print_ind=False,train_split=80):\n",
    "    train_splitloc = []\n",
    "    test_splitloc  = []\n",
    "    train_end_loc = np.round(input.shape[0]*(train_split/100)).astype(int)\n",
    "    for f in range(fold):\n",
    "        loc_arr = np.arange(input_df.shape[0])\n",
    "        np.random.shuffle(loc_arr)\n",
    "        train_splitloc.append(loc_arr[:train_end_loc])\n",
    "        test_splitloc.append(loc_arr[train_end_loc:])\n",
    "    return train_splitloc,test_splitloc\n",
    "\n",
    "\n",
    "def train_class_mean_std(input_train_splitloc,print_ind=False):\n",
    "    dict_train_mean_stdev = {}\n",
    "    eps = 1e-4 #Added a small value in order to avoid the variance to 0 (divisible by zero)\n",
    "    for c in distinct_class:\n",
    "        #print (\"Running for the Class: {}\".format(c))\n",
    "        mean=df_mnist.iloc[input_train_splitloc][df_mnist.iloc[input_train_splitloc]['target'] == c].describe().loc['mean'][:-1]\n",
    "        stdev=df_mnist.iloc[input_train_splitloc][df_mnist.iloc[input_train_splitloc]['target'] == c].describe().loc['std'][:-1]+eps\n",
    "        dict_train_mean_stdev[c] = mean,stdev\n",
    "    if (print_ind):\n",
    "        print (\"Len Train:{}. Number of 0:{} 1:{}\".format(len(input_train_splitloc),df_pima.iloc[input_train_splitloc][df_pima.iloc[input_train_splitloc]['Class'] == 0].shape,df_pima.iloc[input_train_splitloc][df_pima.iloc[input_train_splitloc]['Class'] == 1].shape))\n",
    "    return dict_train_mean_stdev\n",
    "\n",
    "\n",
    "def naive_bayes_normal_distribution(input_test_splitloc,input_dict_train_mean_stdev,input_distinct_class):\n",
    "    fold_predict_class = np.zeros((len(input_test_splitloc),len(input_distinct_class)))\n",
    "    for c in input_distinct_class:\n",
    "        exp_nr = -((df_mnist.iloc[input_test_splitloc].drop('target',axis=1)-np.array(input_dict_train_mean_stdev[c][0]))**2)\n",
    "        exp_dn = (2*((dict_train_mean_stdev[c][1]) ** 2 ))\n",
    "        exp = exp_nr / exp_dn\n",
    "        exp = np.exp(exp)\n",
    "        coef = (1/((np.sqrt(2*np.pi))*input_dict_train_mean_stdev[c][1]))\n",
    "        ndf = np.sum(np.log(coef * exp),axis=1)\n",
    "        fold_predict_class[:,c] = ndf\n",
    "    pred_test = pd.Series(pd.DataFrame(fold_predict_class).idxmax(axis=1).values,index=input_test_splitloc)\n",
    "    return pred_test\n",
    "\n",
    "\n",
    "def mnist_transform(input_df):\n",
    "    df_mnist_transformed = (input_df.drop('target',axis=1) > 0).astype(int)\n",
    "    return df_mnist_transformed\n",
    "\n",
    "\n",
    "def mnist_resize_rescale(input_df,width=20,height=20):\n",
    "    sr_mnist_cropped = []\n",
    "    df_mnist_cropped = pd.DataFrame()\n",
    "    for k in np.array(input_df.drop('target',axis=1)):\n",
    "        x=k.reshape(28,28)\n",
    "        coord=np.argwhere(x)\n",
    "        x0,y0=np.min(coord,axis=0)\n",
    "        x1,y1=np.max(coord,axis=0)\n",
    "        X_cropped=x[x0:x1,y0:y1]\n",
    "        \n",
    "        width = 20\n",
    "        height = 20\n",
    "        dim = (width, height)\n",
    "        \n",
    "        X_stretched=cv2.resize(X_cropped, dim, interpolation = cv2.INTER_NEAREST)\n",
    "        X_stretched=X_stretched.reshape(width*height,)\n",
    "        sr_mnist_cropped.append(X_stretched)\n",
    "    #df_sr_mnist_train_cropped=sr_mnist_train_cropped\n",
    "    df_mnist_cropped=pd.DataFrame(sr_mnist_cropped)\n",
    "    df_mnist_cropped['target'] = df_mnist['target']\n",
    "    return df_mnist_cropped\n",
    "\n",
    "\n",
    "def priors_calc(input_df):\n",
    "    data_loc=np.arange(input_df.shape[0])\n",
    "    train_splitloc=[data_loc[:60000]]\n",
    "    test_splitloc=[data_loc[60000:]]\n",
    "    priors=input_df.iloc[train_splitloc[0]].groupby('target').count()[0]\n",
    "    #return priors,train_splitloc,test_splitloc\n",
    "    return priors\n",
    "\n",
    "\n",
    "def mnist_split(input_df,train_splitloc,test_splitloc):\n",
    "    df_mnist_train = input_df.iloc[train_splitloc[0]]\n",
    "    df_mnist_test = input_df.iloc[test_splitloc[0]]\n",
    "    return df_mnist_train.drop('target',axis=1),df_mnist_test.drop('target',axis=1)\n",
    "\n",
    "\n",
    "def mnist_summary(df_mnist_target,df_mnist_train,df_mnist_test,priors):\n",
    "    #df_mnist_transformed = (df_mnist.iloc[train_splitloc[0]].drop('target',axis=1) >= 128).astype(int)\n",
    "    #df_mnist_test = ((df_mnist.iloc[test_splitloc[0]].drop('target',axis=1)/255) > 0.3).astype(int)\n",
    "    \n",
    "    #df_mnist_transformed = (input_df.iloc[train_splitloc[0]].drop('target',axis=1) > 0).astype(int)\n",
    "    #df_mnist_test = (input_df.iloc[test_splitloc[0]].drop('target',axis=1) > 0).astype(int)\n",
    "    df_mnist_train['target'] = df_mnist_target\n",
    "    df_mnist_train_summary=df_mnist_train.groupby('target').sum()\n",
    "    for p in range(len(priors)):\n",
    "        df_mnist_train_summary.iloc[p] = (df_mnist_train_summary.iloc[p]+0.01)/(priors[p]+0.02)\n",
    "    return df_mnist_train_summary\n",
    "\n",
    "def naive_bayes_bernouilli_calc(transformed_summary,df_mnist_test):\n",
    "    pred_test_val=np.argmax(np.dot((np.log(1-transformed_summary)),(1-df_mnist_test).T)+np.dot((np.log(transformed_summary)),(df_mnist_test).T),axis=0)\n",
    "    np.array(df_mnist.iloc[test_splitloc[0]]['target'])\n",
    "    return np.sum((np.array(df_mnist.iloc[test_splitloc[0]]['target'])) == pred_test_val)/100\n"
   ]
  },
  {
   "cell_type": "code",
   "execution_count": 24,
   "metadata": {},
   "outputs": [],
   "source": [
    "\n",
    "pred_test_val=np.argmax(np.dot((np.log(1-df_mnist_train_summary)),(1-df_mnist_test).T)+np.dot((np.log(df_mnist_train_summary)),(df_mnist_test).T),axis=0)\n"
   ]
  },
  {
   "cell_type": "code",
   "execution_count": 19,
   "metadata": {},
   "outputs": [],
   "source": [
    "df_mnist,distinct_class=load_mnist_data() #Load the Dataset\n",
    "df_mnist_transformed=mnist_transform(df_mnist)\n",
    "priors,train_splitloc,test_splitloc=priors_calc(df_mnist)\n",
    "df_mnist_train,df_mnist_test=mnist_split(df_mnist,train_splitloc,test_splitloc)\n",
    "df_mnist_train_summary=mnist_summary(df_mnist['target'],df_mnist_train,df_mnist_test,priors)"
   ]
  },
  {
   "cell_type": "code",
   "execution_count": 10,
   "metadata": {},
   "outputs": [],
   "source": [
    "df_mnist,distinct_class=load_mnist_data() #Load the Dataset\n",
    "data_loc=np.arange(df_mnist.shape[0])\n",
    "train_splitloc=[data_loc[:60000]]\n",
    "test_splitloc=[data_loc[60000:]]\n",
    "\n",
    "priors=priors_calc(df_mnist)"
   ]
  },
  {
   "cell_type": "code",
   "execution_count": 11,
   "metadata": {},
   "outputs": [],
   "source": [
    "df_mnist_transformed = (df_mnist.iloc[train_splitloc[0]].drop('target',axis=1) > 128).astype(int)\n",
    "df_mnist_transformed.replace([True,False],[1,0],inplace=True)\n",
    "df_mnist_transformed['target'] = df_mnist['target']\n",
    "df_mnist_transformed_summary=df_mnist_transformed.groupby('target').sum()\n",
    "\n"
   ]
  },
  {
   "cell_type": "code",
   "execution_count": 12,
   "metadata": {},
   "outputs": [
    {
     "data": {
      "text/html": [
       "<div>\n",
       "<style scoped>\n",
       "    .dataframe tbody tr th:only-of-type {\n",
       "        vertical-align: middle;\n",
       "    }\n",
       "\n",
       "    .dataframe tbody tr th {\n",
       "        vertical-align: top;\n",
       "    }\n",
       "\n",
       "    .dataframe thead th {\n",
       "        text-align: right;\n",
       "    }\n",
       "</style>\n",
       "<table border=\"1\" class=\"dataframe\">\n",
       "  <thead>\n",
       "    <tr style=\"text-align: right;\">\n",
       "      <th></th>\n",
       "      <th>0</th>\n",
       "      <th>1</th>\n",
       "      <th>2</th>\n",
       "      <th>3</th>\n",
       "      <th>4</th>\n",
       "      <th>5</th>\n",
       "      <th>6</th>\n",
       "      <th>7</th>\n",
       "      <th>8</th>\n",
       "      <th>9</th>\n",
       "      <th>...</th>\n",
       "      <th>774</th>\n",
       "      <th>775</th>\n",
       "      <th>776</th>\n",
       "      <th>777</th>\n",
       "      <th>778</th>\n",
       "      <th>779</th>\n",
       "      <th>780</th>\n",
       "      <th>781</th>\n",
       "      <th>782</th>\n",
       "      <th>783</th>\n",
       "    </tr>\n",
       "    <tr>\n",
       "      <th>target</th>\n",
       "      <th></th>\n",
       "      <th></th>\n",
       "      <th></th>\n",
       "      <th></th>\n",
       "      <th></th>\n",
       "      <th></th>\n",
       "      <th></th>\n",
       "      <th></th>\n",
       "      <th></th>\n",
       "      <th></th>\n",
       "      <th></th>\n",
       "      <th></th>\n",
       "      <th></th>\n",
       "      <th></th>\n",
       "      <th></th>\n",
       "      <th></th>\n",
       "      <th></th>\n",
       "      <th></th>\n",
       "      <th></th>\n",
       "      <th></th>\n",
       "      <th></th>\n",
       "    </tr>\n",
       "  </thead>\n",
       "  <tbody>\n",
       "    <tr>\n",
       "      <th>0</th>\n",
       "      <td>0</td>\n",
       "      <td>0</td>\n",
       "      <td>0</td>\n",
       "      <td>0</td>\n",
       "      <td>0</td>\n",
       "      <td>0</td>\n",
       "      <td>0</td>\n",
       "      <td>0</td>\n",
       "      <td>0</td>\n",
       "      <td>0</td>\n",
       "      <td>...</td>\n",
       "      <td>0</td>\n",
       "      <td>0</td>\n",
       "      <td>0</td>\n",
       "      <td>0</td>\n",
       "      <td>0</td>\n",
       "      <td>0</td>\n",
       "      <td>0</td>\n",
       "      <td>0</td>\n",
       "      <td>0</td>\n",
       "      <td>0</td>\n",
       "    </tr>\n",
       "    <tr>\n",
       "      <th>1</th>\n",
       "      <td>0</td>\n",
       "      <td>0</td>\n",
       "      <td>0</td>\n",
       "      <td>0</td>\n",
       "      <td>0</td>\n",
       "      <td>0</td>\n",
       "      <td>0</td>\n",
       "      <td>0</td>\n",
       "      <td>0</td>\n",
       "      <td>0</td>\n",
       "      <td>...</td>\n",
       "      <td>0</td>\n",
       "      <td>0</td>\n",
       "      <td>0</td>\n",
       "      <td>0</td>\n",
       "      <td>0</td>\n",
       "      <td>0</td>\n",
       "      <td>0</td>\n",
       "      <td>0</td>\n",
       "      <td>0</td>\n",
       "      <td>0</td>\n",
       "    </tr>\n",
       "    <tr>\n",
       "      <th>2</th>\n",
       "      <td>0</td>\n",
       "      <td>0</td>\n",
       "      <td>0</td>\n",
       "      <td>0</td>\n",
       "      <td>0</td>\n",
       "      <td>0</td>\n",
       "      <td>0</td>\n",
       "      <td>0</td>\n",
       "      <td>0</td>\n",
       "      <td>0</td>\n",
       "      <td>...</td>\n",
       "      <td>0</td>\n",
       "      <td>0</td>\n",
       "      <td>0</td>\n",
       "      <td>0</td>\n",
       "      <td>0</td>\n",
       "      <td>0</td>\n",
       "      <td>0</td>\n",
       "      <td>0</td>\n",
       "      <td>0</td>\n",
       "      <td>0</td>\n",
       "    </tr>\n",
       "    <tr>\n",
       "      <th>3</th>\n",
       "      <td>0</td>\n",
       "      <td>0</td>\n",
       "      <td>0</td>\n",
       "      <td>0</td>\n",
       "      <td>0</td>\n",
       "      <td>0</td>\n",
       "      <td>0</td>\n",
       "      <td>0</td>\n",
       "      <td>0</td>\n",
       "      <td>0</td>\n",
       "      <td>...</td>\n",
       "      <td>0</td>\n",
       "      <td>0</td>\n",
       "      <td>0</td>\n",
       "      <td>0</td>\n",
       "      <td>0</td>\n",
       "      <td>0</td>\n",
       "      <td>0</td>\n",
       "      <td>0</td>\n",
       "      <td>0</td>\n",
       "      <td>0</td>\n",
       "    </tr>\n",
       "    <tr>\n",
       "      <th>4</th>\n",
       "      <td>0</td>\n",
       "      <td>0</td>\n",
       "      <td>0</td>\n",
       "      <td>0</td>\n",
       "      <td>0</td>\n",
       "      <td>0</td>\n",
       "      <td>0</td>\n",
       "      <td>0</td>\n",
       "      <td>0</td>\n",
       "      <td>0</td>\n",
       "      <td>...</td>\n",
       "      <td>0</td>\n",
       "      <td>0</td>\n",
       "      <td>0</td>\n",
       "      <td>0</td>\n",
       "      <td>0</td>\n",
       "      <td>0</td>\n",
       "      <td>0</td>\n",
       "      <td>0</td>\n",
       "      <td>0</td>\n",
       "      <td>0</td>\n",
       "    </tr>\n",
       "    <tr>\n",
       "      <th>5</th>\n",
       "      <td>0</td>\n",
       "      <td>0</td>\n",
       "      <td>0</td>\n",
       "      <td>0</td>\n",
       "      <td>0</td>\n",
       "      <td>0</td>\n",
       "      <td>0</td>\n",
       "      <td>0</td>\n",
       "      <td>0</td>\n",
       "      <td>0</td>\n",
       "      <td>...</td>\n",
       "      <td>0</td>\n",
       "      <td>0</td>\n",
       "      <td>0</td>\n",
       "      <td>0</td>\n",
       "      <td>0</td>\n",
       "      <td>0</td>\n",
       "      <td>0</td>\n",
       "      <td>0</td>\n",
       "      <td>0</td>\n",
       "      <td>0</td>\n",
       "    </tr>\n",
       "    <tr>\n",
       "      <th>6</th>\n",
       "      <td>0</td>\n",
       "      <td>0</td>\n",
       "      <td>0</td>\n",
       "      <td>0</td>\n",
       "      <td>0</td>\n",
       "      <td>0</td>\n",
       "      <td>0</td>\n",
       "      <td>0</td>\n",
       "      <td>0</td>\n",
       "      <td>0</td>\n",
       "      <td>...</td>\n",
       "      <td>0</td>\n",
       "      <td>0</td>\n",
       "      <td>0</td>\n",
       "      <td>0</td>\n",
       "      <td>0</td>\n",
       "      <td>0</td>\n",
       "      <td>0</td>\n",
       "      <td>0</td>\n",
       "      <td>0</td>\n",
       "      <td>0</td>\n",
       "    </tr>\n",
       "    <tr>\n",
       "      <th>7</th>\n",
       "      <td>0</td>\n",
       "      <td>0</td>\n",
       "      <td>0</td>\n",
       "      <td>0</td>\n",
       "      <td>0</td>\n",
       "      <td>0</td>\n",
       "      <td>0</td>\n",
       "      <td>0</td>\n",
       "      <td>0</td>\n",
       "      <td>0</td>\n",
       "      <td>...</td>\n",
       "      <td>38</td>\n",
       "      <td>13</td>\n",
       "      <td>7</td>\n",
       "      <td>2</td>\n",
       "      <td>2</td>\n",
       "      <td>0</td>\n",
       "      <td>0</td>\n",
       "      <td>0</td>\n",
       "      <td>0</td>\n",
       "      <td>0</td>\n",
       "    </tr>\n",
       "    <tr>\n",
       "      <th>8</th>\n",
       "      <td>0</td>\n",
       "      <td>0</td>\n",
       "      <td>0</td>\n",
       "      <td>0</td>\n",
       "      <td>0</td>\n",
       "      <td>0</td>\n",
       "      <td>0</td>\n",
       "      <td>0</td>\n",
       "      <td>0</td>\n",
       "      <td>0</td>\n",
       "      <td>...</td>\n",
       "      <td>0</td>\n",
       "      <td>0</td>\n",
       "      <td>0</td>\n",
       "      <td>0</td>\n",
       "      <td>0</td>\n",
       "      <td>0</td>\n",
       "      <td>0</td>\n",
       "      <td>0</td>\n",
       "      <td>0</td>\n",
       "      <td>0</td>\n",
       "    </tr>\n",
       "    <tr>\n",
       "      <th>9</th>\n",
       "      <td>0</td>\n",
       "      <td>0</td>\n",
       "      <td>0</td>\n",
       "      <td>0</td>\n",
       "      <td>0</td>\n",
       "      <td>0</td>\n",
       "      <td>0</td>\n",
       "      <td>0</td>\n",
       "      <td>0</td>\n",
       "      <td>0</td>\n",
       "      <td>...</td>\n",
       "      <td>4</td>\n",
       "      <td>4</td>\n",
       "      <td>5</td>\n",
       "      <td>1</td>\n",
       "      <td>1</td>\n",
       "      <td>0</td>\n",
       "      <td>0</td>\n",
       "      <td>0</td>\n",
       "      <td>0</td>\n",
       "      <td>0</td>\n",
       "    </tr>\n",
       "  </tbody>\n",
       "</table>\n",
       "<p>10 rows × 784 columns</p>\n",
       "</div>"
      ],
      "text/plain": [
       "        0    1    2    3    4    5    6    7    8    9   ...   774  775  776  \\\n",
       "target                                                   ...                   \n",
       "0         0    0    0    0    0    0    0    0    0    0 ...     0    0    0   \n",
       "1         0    0    0    0    0    0    0    0    0    0 ...     0    0    0   \n",
       "2         0    0    0    0    0    0    0    0    0    0 ...     0    0    0   \n",
       "3         0    0    0    0    0    0    0    0    0    0 ...     0    0    0   \n",
       "4         0    0    0    0    0    0    0    0    0    0 ...     0    0    0   \n",
       "5         0    0    0    0    0    0    0    0    0    0 ...     0    0    0   \n",
       "6         0    0    0    0    0    0    0    0    0    0 ...     0    0    0   \n",
       "7         0    0    0    0    0    0    0    0    0    0 ...    38   13    7   \n",
       "8         0    0    0    0    0    0    0    0    0    0 ...     0    0    0   \n",
       "9         0    0    0    0    0    0    0    0    0    0 ...     4    4    5   \n",
       "\n",
       "        777  778  779  780  781  782  783  \n",
       "target                                     \n",
       "0         0    0    0    0    0    0    0  \n",
       "1         0    0    0    0    0    0    0  \n",
       "2         0    0    0    0    0    0    0  \n",
       "3         0    0    0    0    0    0    0  \n",
       "4         0    0    0    0    0    0    0  \n",
       "5         0    0    0    0    0    0    0  \n",
       "6         0    0    0    0    0    0    0  \n",
       "7         2    2    0    0    0    0    0  \n",
       "8         0    0    0    0    0    0    0  \n",
       "9         1    1    0    0    0    0    0  \n",
       "\n",
       "[10 rows x 784 columns]"
      ]
     },
     "execution_count": 12,
     "metadata": {},
     "output_type": "execute_result"
    }
   ],
   "source": [
    "df_mnist_transformed_summary"
   ]
  },
  {
   "cell_type": "code",
   "execution_count": null,
   "metadata": {},
   "outputs": [],
   "source": [
    "df_mnist_transformed = (df_mnist.iloc[train_splitloc[0]].drop('target',axis=1) >= 128).astype(int)\n",
    "df_mnist_transformed['target'] = df_mnist['target']\n",
    "df_mnist_transformed_summary=df_mnist_transformed.groupby('target').sum()\n",
    "\n"
   ]
  },
  {
   "cell_type": "code",
   "execution_count": 14,
   "metadata": {},
   "outputs": [],
   "source": [
    "df_mnist,distinct_class=load_mnist_data() #Load the Dataset\n",
    "data_loc=np.arange(df_mnist.shape[0])\n",
    "train_splitloc=[data_loc[:60000]]\n",
    "test_splitloc=[data_loc[60000:]]\n",
    "\n",
    "priors=priors_calc(df_mnist)\n",
    "df_mnist_transformed_summary=df_mnist_transformed.groupby('target').sum()\n",
    "\n",
    "df_mnist_transformed_summary=[]\n",
    "df_mnist_transformed = (df_mnist.iloc[train_splitloc[0]].drop('target',axis=1) >= 128).astype(int)\n",
    "df_mnist_transformed['target'] = df_mnist['target']\n",
    "df_mnist_transformed_summary=df_mnist_transformed.groupby('target').sum()\n",
    "\n"
   ]
  },
  {
   "cell_type": "code",
   "execution_count": 15,
   "metadata": {},
   "outputs": [
    {
     "data": {
      "text/html": [
       "<div>\n",
       "<style scoped>\n",
       "    .dataframe tbody tr th:only-of-type {\n",
       "        vertical-align: middle;\n",
       "    }\n",
       "\n",
       "    .dataframe tbody tr th {\n",
       "        vertical-align: top;\n",
       "    }\n",
       "\n",
       "    .dataframe thead th {\n",
       "        text-align: right;\n",
       "    }\n",
       "</style>\n",
       "<table border=\"1\" class=\"dataframe\">\n",
       "  <thead>\n",
       "    <tr style=\"text-align: right;\">\n",
       "      <th></th>\n",
       "      <th>0</th>\n",
       "      <th>1</th>\n",
       "      <th>2</th>\n",
       "      <th>3</th>\n",
       "      <th>4</th>\n",
       "      <th>5</th>\n",
       "      <th>6</th>\n",
       "      <th>7</th>\n",
       "      <th>8</th>\n",
       "      <th>9</th>\n",
       "      <th>...</th>\n",
       "      <th>774</th>\n",
       "      <th>775</th>\n",
       "      <th>776</th>\n",
       "      <th>777</th>\n",
       "      <th>778</th>\n",
       "      <th>779</th>\n",
       "      <th>780</th>\n",
       "      <th>781</th>\n",
       "      <th>782</th>\n",
       "      <th>783</th>\n",
       "    </tr>\n",
       "    <tr>\n",
       "      <th>target</th>\n",
       "      <th></th>\n",
       "      <th></th>\n",
       "      <th></th>\n",
       "      <th></th>\n",
       "      <th></th>\n",
       "      <th></th>\n",
       "      <th></th>\n",
       "      <th></th>\n",
       "      <th></th>\n",
       "      <th></th>\n",
       "      <th></th>\n",
       "      <th></th>\n",
       "      <th></th>\n",
       "      <th></th>\n",
       "      <th></th>\n",
       "      <th></th>\n",
       "      <th></th>\n",
       "      <th></th>\n",
       "      <th></th>\n",
       "      <th></th>\n",
       "      <th></th>\n",
       "    </tr>\n",
       "  </thead>\n",
       "  <tbody>\n",
       "    <tr>\n",
       "      <th>0</th>\n",
       "      <td>0</td>\n",
       "      <td>0</td>\n",
       "      <td>0</td>\n",
       "      <td>0</td>\n",
       "      <td>0</td>\n",
       "      <td>0</td>\n",
       "      <td>0</td>\n",
       "      <td>0</td>\n",
       "      <td>0</td>\n",
       "      <td>0</td>\n",
       "      <td>...</td>\n",
       "      <td>0</td>\n",
       "      <td>0</td>\n",
       "      <td>0</td>\n",
       "      <td>0</td>\n",
       "      <td>0</td>\n",
       "      <td>0</td>\n",
       "      <td>0</td>\n",
       "      <td>0</td>\n",
       "      <td>0</td>\n",
       "      <td>0</td>\n",
       "    </tr>\n",
       "    <tr>\n",
       "      <th>1</th>\n",
       "      <td>0</td>\n",
       "      <td>0</td>\n",
       "      <td>0</td>\n",
       "      <td>0</td>\n",
       "      <td>0</td>\n",
       "      <td>0</td>\n",
       "      <td>0</td>\n",
       "      <td>0</td>\n",
       "      <td>0</td>\n",
       "      <td>0</td>\n",
       "      <td>...</td>\n",
       "      <td>0</td>\n",
       "      <td>0</td>\n",
       "      <td>0</td>\n",
       "      <td>0</td>\n",
       "      <td>0</td>\n",
       "      <td>0</td>\n",
       "      <td>0</td>\n",
       "      <td>0</td>\n",
       "      <td>0</td>\n",
       "      <td>0</td>\n",
       "    </tr>\n",
       "    <tr>\n",
       "      <th>2</th>\n",
       "      <td>0</td>\n",
       "      <td>0</td>\n",
       "      <td>0</td>\n",
       "      <td>0</td>\n",
       "      <td>0</td>\n",
       "      <td>0</td>\n",
       "      <td>0</td>\n",
       "      <td>0</td>\n",
       "      <td>0</td>\n",
       "      <td>0</td>\n",
       "      <td>...</td>\n",
       "      <td>0</td>\n",
       "      <td>0</td>\n",
       "      <td>0</td>\n",
       "      <td>0</td>\n",
       "      <td>0</td>\n",
       "      <td>0</td>\n",
       "      <td>0</td>\n",
       "      <td>0</td>\n",
       "      <td>0</td>\n",
       "      <td>0</td>\n",
       "    </tr>\n",
       "    <tr>\n",
       "      <th>3</th>\n",
       "      <td>0</td>\n",
       "      <td>0</td>\n",
       "      <td>0</td>\n",
       "      <td>0</td>\n",
       "      <td>0</td>\n",
       "      <td>0</td>\n",
       "      <td>0</td>\n",
       "      <td>0</td>\n",
       "      <td>0</td>\n",
       "      <td>0</td>\n",
       "      <td>...</td>\n",
       "      <td>0</td>\n",
       "      <td>0</td>\n",
       "      <td>0</td>\n",
       "      <td>0</td>\n",
       "      <td>0</td>\n",
       "      <td>0</td>\n",
       "      <td>0</td>\n",
       "      <td>0</td>\n",
       "      <td>0</td>\n",
       "      <td>0</td>\n",
       "    </tr>\n",
       "    <tr>\n",
       "      <th>4</th>\n",
       "      <td>0</td>\n",
       "      <td>0</td>\n",
       "      <td>0</td>\n",
       "      <td>0</td>\n",
       "      <td>0</td>\n",
       "      <td>0</td>\n",
       "      <td>0</td>\n",
       "      <td>0</td>\n",
       "      <td>0</td>\n",
       "      <td>0</td>\n",
       "      <td>...</td>\n",
       "      <td>0</td>\n",
       "      <td>0</td>\n",
       "      <td>0</td>\n",
       "      <td>0</td>\n",
       "      <td>0</td>\n",
       "      <td>0</td>\n",
       "      <td>0</td>\n",
       "      <td>0</td>\n",
       "      <td>0</td>\n",
       "      <td>0</td>\n",
       "    </tr>\n",
       "    <tr>\n",
       "      <th>5</th>\n",
       "      <td>0</td>\n",
       "      <td>0</td>\n",
       "      <td>0</td>\n",
       "      <td>0</td>\n",
       "      <td>0</td>\n",
       "      <td>0</td>\n",
       "      <td>0</td>\n",
       "      <td>0</td>\n",
       "      <td>0</td>\n",
       "      <td>0</td>\n",
       "      <td>...</td>\n",
       "      <td>0</td>\n",
       "      <td>0</td>\n",
       "      <td>0</td>\n",
       "      <td>0</td>\n",
       "      <td>0</td>\n",
       "      <td>0</td>\n",
       "      <td>0</td>\n",
       "      <td>0</td>\n",
       "      <td>0</td>\n",
       "      <td>0</td>\n",
       "    </tr>\n",
       "    <tr>\n",
       "      <th>6</th>\n",
       "      <td>0</td>\n",
       "      <td>0</td>\n",
       "      <td>0</td>\n",
       "      <td>0</td>\n",
       "      <td>0</td>\n",
       "      <td>0</td>\n",
       "      <td>0</td>\n",
       "      <td>0</td>\n",
       "      <td>0</td>\n",
       "      <td>0</td>\n",
       "      <td>...</td>\n",
       "      <td>0</td>\n",
       "      <td>0</td>\n",
       "      <td>0</td>\n",
       "      <td>0</td>\n",
       "      <td>0</td>\n",
       "      <td>0</td>\n",
       "      <td>0</td>\n",
       "      <td>0</td>\n",
       "      <td>0</td>\n",
       "      <td>0</td>\n",
       "    </tr>\n",
       "    <tr>\n",
       "      <th>7</th>\n",
       "      <td>0</td>\n",
       "      <td>0</td>\n",
       "      <td>0</td>\n",
       "      <td>0</td>\n",
       "      <td>0</td>\n",
       "      <td>0</td>\n",
       "      <td>0</td>\n",
       "      <td>0</td>\n",
       "      <td>0</td>\n",
       "      <td>0</td>\n",
       "      <td>...</td>\n",
       "      <td>38</td>\n",
       "      <td>13</td>\n",
       "      <td>7</td>\n",
       "      <td>2</td>\n",
       "      <td>2</td>\n",
       "      <td>0</td>\n",
       "      <td>0</td>\n",
       "      <td>0</td>\n",
       "      <td>0</td>\n",
       "      <td>0</td>\n",
       "    </tr>\n",
       "    <tr>\n",
       "      <th>8</th>\n",
       "      <td>0</td>\n",
       "      <td>0</td>\n",
       "      <td>0</td>\n",
       "      <td>0</td>\n",
       "      <td>0</td>\n",
       "      <td>0</td>\n",
       "      <td>0</td>\n",
       "      <td>0</td>\n",
       "      <td>0</td>\n",
       "      <td>0</td>\n",
       "      <td>...</td>\n",
       "      <td>0</td>\n",
       "      <td>0</td>\n",
       "      <td>0</td>\n",
       "      <td>0</td>\n",
       "      <td>0</td>\n",
       "      <td>0</td>\n",
       "      <td>0</td>\n",
       "      <td>0</td>\n",
       "      <td>0</td>\n",
       "      <td>0</td>\n",
       "    </tr>\n",
       "    <tr>\n",
       "      <th>9</th>\n",
       "      <td>0</td>\n",
       "      <td>0</td>\n",
       "      <td>0</td>\n",
       "      <td>0</td>\n",
       "      <td>0</td>\n",
       "      <td>0</td>\n",
       "      <td>0</td>\n",
       "      <td>0</td>\n",
       "      <td>0</td>\n",
       "      <td>0</td>\n",
       "      <td>...</td>\n",
       "      <td>4</td>\n",
       "      <td>4</td>\n",
       "      <td>5</td>\n",
       "      <td>2</td>\n",
       "      <td>1</td>\n",
       "      <td>0</td>\n",
       "      <td>0</td>\n",
       "      <td>0</td>\n",
       "      <td>0</td>\n",
       "      <td>0</td>\n",
       "    </tr>\n",
       "  </tbody>\n",
       "</table>\n",
       "<p>10 rows × 784 columns</p>\n",
       "</div>"
      ],
      "text/plain": [
       "        0    1    2    3    4    5    6    7    8    9   ...   774  775  776  \\\n",
       "target                                                   ...                   \n",
       "0         0    0    0    0    0    0    0    0    0    0 ...     0    0    0   \n",
       "1         0    0    0    0    0    0    0    0    0    0 ...     0    0    0   \n",
       "2         0    0    0    0    0    0    0    0    0    0 ...     0    0    0   \n",
       "3         0    0    0    0    0    0    0    0    0    0 ...     0    0    0   \n",
       "4         0    0    0    0    0    0    0    0    0    0 ...     0    0    0   \n",
       "5         0    0    0    0    0    0    0    0    0    0 ...     0    0    0   \n",
       "6         0    0    0    0    0    0    0    0    0    0 ...     0    0    0   \n",
       "7         0    0    0    0    0    0    0    0    0    0 ...    38   13    7   \n",
       "8         0    0    0    0    0    0    0    0    0    0 ...     0    0    0   \n",
       "9         0    0    0    0    0    0    0    0    0    0 ...     4    4    5   \n",
       "\n",
       "        777  778  779  780  781  782  783  \n",
       "target                                     \n",
       "0         0    0    0    0    0    0    0  \n",
       "1         0    0    0    0    0    0    0  \n",
       "2         0    0    0    0    0    0    0  \n",
       "3         0    0    0    0    0    0    0  \n",
       "4         0    0    0    0    0    0    0  \n",
       "5         0    0    0    0    0    0    0  \n",
       "6         0    0    0    0    0    0    0  \n",
       "7         2    2    0    0    0    0    0  \n",
       "8         0    0    0    0    0    0    0  \n",
       "9         2    1    0    0    0    0    0  \n",
       "\n",
       "[10 rows x 784 columns]"
      ]
     },
     "execution_count": 15,
     "metadata": {},
     "output_type": "execute_result"
    }
   ],
   "source": [
    "df_mnist_transformed_summary"
   ]
  },
  {
   "cell_type": "code",
   "execution_count": 16,
   "metadata": {},
   "outputs": [
    {
     "data": {
      "text/plain": [
       "(target\n",
       " 0    5923\n",
       " 1    6742\n",
       " 2    5958\n",
       " 3    6131\n",
       " 4    5842\n",
       " 5    5421\n",
       " 6    5918\n",
       " 7    6265\n",
       " 8    5851\n",
       " 9    5949\n",
       " Name: 0, dtype: int64,\n",
       " [array([    0,     1,     2, ..., 59997, 59998, 59999])],\n",
       " [array([60000, 60001, 60002, ..., 69997, 69998, 69999])])"
      ]
     },
     "execution_count": 16,
     "metadata": {},
     "output_type": "execute_result"
    }
   ],
   "source": [
    "priors"
   ]
  },
  {
   "cell_type": "code",
   "execution_count": null,
   "metadata": {},
   "outputs": [],
   "source": [
    "for p in range(len(priors)):\n",
    "    df_mnist_transformed_summary.iloc[p] = (df_mnist_transformed_summary.iloc[p]+0.01)/(priors[p]+0.02)\n",
    "\n"
   ]
  },
  {
   "cell_type": "code",
   "execution_count": 9,
   "metadata": {},
   "outputs": [
    {
     "ename": "TypeError",
     "evalue": "can only concatenate list (not \"float\") to list",
     "output_type": "error",
     "traceback": [
      "\u001b[0;31m---------------------------------------------------------------------------\u001b[0m",
      "\u001b[0;31mTypeError\u001b[0m                                 Traceback (most recent call last)",
      "\u001b[0;32m<ipython-input-9-a0df4439e99e>\u001b[0m in \u001b[0;36m<module>\u001b[0;34m()\u001b[0m\n\u001b[1;32m     16\u001b[0m \u001b[0mdf_mnist_transformed_summary\u001b[0m\u001b[0;34m=\u001b[0m\u001b[0mdf_mnist_transformed\u001b[0m\u001b[0;34m.\u001b[0m\u001b[0mgroupby\u001b[0m\u001b[0;34m(\u001b[0m\u001b[0;34m'target'\u001b[0m\u001b[0;34m)\u001b[0m\u001b[0;34m.\u001b[0m\u001b[0msum\u001b[0m\u001b[0;34m(\u001b[0m\u001b[0;34m)\u001b[0m\u001b[0;34m\u001b[0m\u001b[0m\n\u001b[1;32m     17\u001b[0m \u001b[0;32mfor\u001b[0m \u001b[0mp\u001b[0m \u001b[0;32min\u001b[0m \u001b[0mrange\u001b[0m\u001b[0;34m(\u001b[0m\u001b[0mlen\u001b[0m\u001b[0;34m(\u001b[0m\u001b[0mpriors\u001b[0m\u001b[0;34m)\u001b[0m\u001b[0;34m)\u001b[0m\u001b[0;34m:\u001b[0m\u001b[0;34m\u001b[0m\u001b[0m\n\u001b[0;32m---> 18\u001b[0;31m     \u001b[0mdf_mnist_transformed_summary\u001b[0m\u001b[0;34m.\u001b[0m\u001b[0miloc\u001b[0m\u001b[0;34m[\u001b[0m\u001b[0mp\u001b[0m\u001b[0;34m]\u001b[0m \u001b[0;34m=\u001b[0m \u001b[0;34m(\u001b[0m\u001b[0mdf_mnist_transformed_summary\u001b[0m\u001b[0;34m.\u001b[0m\u001b[0miloc\u001b[0m\u001b[0;34m[\u001b[0m\u001b[0mp\u001b[0m\u001b[0;34m]\u001b[0m\u001b[0;34m+\u001b[0m\u001b[0;36m0.01\u001b[0m\u001b[0;34m)\u001b[0m\u001b[0;34m/\u001b[0m\u001b[0;34m(\u001b[0m\u001b[0mpriors\u001b[0m\u001b[0;34m[\u001b[0m\u001b[0mp\u001b[0m\u001b[0;34m]\u001b[0m\u001b[0;34m+\u001b[0m\u001b[0;36m0.02\u001b[0m\u001b[0;34m)\u001b[0m\u001b[0;34m\u001b[0m\u001b[0m\n\u001b[0m\u001b[1;32m     19\u001b[0m \u001b[0;34m\u001b[0m\u001b[0m\n\u001b[1;32m     20\u001b[0m \u001b[0;34m\u001b[0m\u001b[0m\n",
      "\u001b[0;31mTypeError\u001b[0m: can only concatenate list (not \"float\") to list"
     ]
    }
   ],
   "source": [
    "df_mnist,distinct_class=load_mnist_data() #Load the Dataset\n",
    "data_loc=np.arange(df_mnist.shape[0])\n",
    "train_splitloc=[data_loc[:60000]]\n",
    "test_splitloc=[data_loc[60000:]]\n",
    "\n",
    "priors=priors_calc(df_mnist)\n",
    "df_mnist_transformed_summary=df_mnist_transformed.groupby('target').sum()\n",
    "\n",
    "df_mnist_transformed_summary=[]\n",
    "df_mnist_transformed = (df_mnist.iloc[train_splitloc[0]].drop('target',axis=1) >= 128).astype(int)\n",
    "df_mnist_transformed['target'] = df_mnist['target']\n",
    "df_mnist_transformed_summary=df_mnist_transformed.groupby('target').sum()\n",
    "for p in range(len(priors)):\n",
    "    df_mnist_transformed_summary.iloc[p] = (df_mnist_transformed_summary.iloc[p]+0.01)/(priors[p]+0.02)\n",
    "\n",
    "\n",
    "\n",
    "pred_test_val=np.argmax(np.dot((np.log(1-df_mnist_transformed_summary)),(1-df_mnist_test).T)+np.dot((np.log(df_mnist_transformed_summary)),(df_mnist_test).T),axis=0)\n",
    "np.array(df_mnist.iloc[test_splitloc[0]]['target'])\n",
    "np.sum((np.array(df_mnist.iloc[test_splitloc[0]]['target'])) == pred_test_val)/100\n"
   ]
  },
  {
   "cell_type": "code",
   "execution_count": 11,
   "metadata": {},
   "outputs": [
    {
     "name": "stdout",
     "output_type": "stream",
     "text": [
      "folder: 0 Train Accuracy: 53.098333333333336  Test Accuracy:0.0\n"
     ]
    }
   ],
   "source": [
    "fold = 1\n",
    "\n",
    "df_mnist,distinct_class=load_mnist_data() #Load the Dataset\n",
    "train_splitloc,test_splitloc=train_test_split(df_mnist) #Split the Dataset\n",
    "data_loc=np.arange(df_mnist.shape[0])\n",
    "train_splitloc=[data_loc[:60000]]\n",
    "test_splitloc=[data_loc[60000:]]\n",
    "\n",
    "#Below code to Predict - Bernouilli Distribution\n",
    "df_mnist_train,df_mnist_test=mnist_transform(df_mnist,train_splitloc,test_splitloc)\n",
    "df_mnist_train_summary=mnist_summary(df_mnist['target'],df_mnist_train,df_mnist_test,priors)\n",
    "naive_bayes_bernouilli_calc(df_mnist_train_summary,df_mnist_test)\n",
    "\n",
    "#Below code to Predict - Standard Distribution\n",
    "for f in range(fold): #For each Fold\n",
    "    \n",
    "    match_train_class = 0\n",
    "    match_test_class = 0\n",
    "    dict_train_mean_stdev=train_class_mean_std(train_splitloc[f])\n",
    "    pred_train_val=naive_bayes_normal_distribution(train_splitloc[f],dict_train_mean_stdev,distinct_class) # Train Accuracy\n",
    "    pred_test_val=naive_bayes_normal_distribution(test_splitloc[f],dict_train_mean_stdev,distinct_class) # Test Accuracy\n",
    "\n",
    "    for train_val_loc in train_splitloc[f]:\n",
    "        #print (\"Fold:{} Train Loc:{} Pred:{}  Act:{}\".format(f,train_val_loc,pred_test_val[train_val_loc],df_mnist.iloc[train_val_loc][-1]))\n",
    "        if pred_train_val[train_val_loc] == df_mnist.iloc[train_val_loc][-1]:\n",
    "            match_train_class += 1\n",
    "\n",
    "#     for test_val_loc in test_splitloc[f]:\n",
    "#         #print (\"Fold:{} Test Loc:{} Pred:{}  Act:{}\".format(f,test_val_loc,pred_test_val[test_val_loc],df_mnist.iloc[test_val_loc][-1]))\n",
    "#         if pred_test_val[test_val_loc] == df_mnist.iloc[test_val_loc][-1]:\n",
    "#             match_test_class += 1\n",
    "\n",
    "#     clf = GaussianNB()\n",
    "#     X=df_mnist.iloc[train_splitloc[f]].drop('target',axis=1)\n",
    "#     Y=df_mnist.iloc[train_splitloc[f]][['target']]\n",
    "#     clf.fit(X, Y)\n",
    "#     match_train_class_scikit=0\n",
    "#     match_test_class_scikit=0\n",
    "\n",
    "#     for train_val_loc in train_splitloc[f]:\n",
    "#         pred_train_val_scikit=clf.predict(df_mnist.iloc[[train_val_loc]].drop('target',axis=1))\n",
    "#         if pred_train_val_scikit[0] == df_mnist.iloc[[train_val_loc]]['target'][train_val_loc]:\n",
    "#             match_train_class_scikit += 1\n",
    "\n",
    "#     for test_val_loc in test_splitloc[f]:\n",
    "#         pred_test_val_scikit=clf.predict(df_mnist.iloc[[test_val_loc]].drop('target',axis=1))\n",
    "#         if pred_test_val_scikit[0] == df_mnist.iloc[[test_val_loc]]['target'][test_val_loc]:\n",
    "#             match_test_class_scikit += 1\n",
    "\n",
    "    #print (\"folder: {} Train Accuracy: {}  Test Accuracy:{}  Scikit Train Accuracy: {}  Scikit Test Accuracy: {}\".format(f,(match_train_class/len(train_splitloc[f]))*100,(match_test_class/len(test_splitloc[f]))*100,(match_train_class_scikit/len(train_splitloc[f]))*100,(match_test_class_scikit/len(test_splitloc[f]))*100))\n",
    "    print (\"folder: {} Train Accuracy: {}  Test Accuracy:{}\".format(f,(match_train_class/len(train_splitloc[f]))*100,(match_test_class/len(test_splitloc[f]))*100))\n"
   ]
  },
  {
   "cell_type": "code",
   "execution_count": 85,
   "metadata": {},
   "outputs": [],
   "source": [
    "# from sklearn.naive_bayes import GaussianNB\n",
    "# from sklearn.linear_model import SGDClassifier\n",
    "# from sklearn.naive_bayes import BernoulliNB\n",
    "\n",
    "# clf_ber = BernoulliNB()\n",
    "# clf_lin = SGDClassifier()\n",
    "# clf_gnb = GaussianNB()\n",
    "\n",
    "# clf_ber.fit(df_mnist[:60000].drop('target',axis=1),df_mnist[:60000][['target']])\n",
    "# clf_lin.fit(df_mnist[:60000].drop('target',axis=1),df_mnist[:60000][['target']])\n",
    "# clf_gnb.fit(df_mnist[:60000].drop('target',axis=1),df_mnist[:60000][['target']])\n",
    "\n",
    "\n",
    "# Y_PRED_BER=clf_lin.predict(df_mnist[60000:].drop('target',axis=1))\n",
    "# Y_PRED_SGD=clf_lin.predict(df_mnist[60000:].drop('target',axis=1))\n",
    "# Y_PRED_GNB=clf.predict(df_mnist[60000:].drop('target',axis=1))\n",
    "# Y_ACT = np.array(df_mnist[60000:]['target'])\n",
    "\n",
    "# match_class=0\n",
    "# for i in np.arange(Y_PRED_GNB.shape[0]):\n",
    "#     if (Y_PRED_GNB[i] == Y_ACT[i]):\n",
    "#         match_class +=1\n",
    "        \n",
    "# match_class/Y_PRED.shape[0]\n"
   ]
  },
  {
   "cell_type": "code",
   "execution_count": null,
   "metadata": {},
   "outputs": [],
   "source": [
    "# X_0=np.array(df_mnist.iloc[60978][:-1]).reshape(28,28)\n",
    "# plt.imshow(X_0)\n",
    "\n",
    "# X_MEAN_9=np.array(df_mnist[df_mnist['target'] == 9].describe().loc['mean'][:-1]).reshape(28,28)\n",
    "# plt.imshow(X_MEAN_9)"
   ]
  },
  {
   "cell_type": "code",
   "execution_count": 618,
   "metadata": {},
   "outputs": [
    {
     "data": {
      "text/plain": [
       "9.8"
      ]
     },
     "execution_count": 618,
     "metadata": {},
     "output_type": "execute_result"
    }
   ],
   "source": [
    "# pred_test_val=np.argmax(np.dot((np.log(1-df_mnist_transformed_summary)),(1-df_mnist_test).T)+np.dot((np.log(df_mnist_transformed_summary)),(df_mnist_test).T),axis=0)\n",
    "# np.array(df_mnist.iloc[test_splitloc[0]]['target'])\n",
    "# np.sum((np.array(df_mnist.iloc[test_splitloc[0]]['target'])) == pred_test_val)/100"
   ]
  },
  {
   "cell_type": "code",
   "execution_count": null,
   "metadata": {},
   "outputs": [],
   "source": []
  },
  {
   "cell_type": "code",
   "execution_count": 177,
   "metadata": {},
   "outputs": [],
   "source": [
    "i=0\n",
    "sr_mnist_train_cropped = []\n",
    "df_sr_mnist_train_cropped = pd.DataFrame()\n",
    "for k in np.array(df_mnist.drop('target',axis=1)):\n",
    "    x=k.reshape(28,28)\n",
    "    coord=np.argwhere(x)\n",
    "    x0,y0=np.min(coord,axis=0)\n",
    "    x1,y1=np.max(coord,axis=0)\n",
    "    X_cropped=x[x0:x1,y0:y1]\n",
    "    \n",
    "    width = 20\n",
    "    height = 20\n",
    "    dim = (width, height)\n",
    "\n",
    "    X_stretched=cv2.resize(X_cropped, dim, interpolation = cv2.INTER_NEAREST)\n",
    "    X_stretched=X_stretched.reshape(width*height,)\n",
    "    sr_mnist_train_cropped.append(X_stretched)\n",
    "    #df_sr_mnist_train_cropped=sr_mnist_train_cropped\n",
    "df_sr_mnist_train_cropped=pd.DataFrame(sr_mnist_train_cropped)\n",
    "df_sr_mnist_train_cropped['target'] = df_mnist['target']"
   ]
  },
  {
   "cell_type": "code",
   "execution_count": 117,
   "metadata": {},
   "outputs": [],
   "source": [
    "x=(np.array(df_mnist.iloc[60978][:-1]) > 0).astype(int)"
   ]
  },
  {
   "cell_type": "code",
   "execution_count": 123,
   "metadata": {},
   "outputs": [
    {
     "data": {
      "text/plain": [
       "(785,)"
      ]
     },
     "execution_count": 123,
     "metadata": {},
     "output_type": "execute_result"
    }
   ],
   "source": [
    "k.shape"
   ]
  },
  {
   "cell_type": "code",
   "execution_count": 121,
   "metadata": {},
   "outputs": [
    {
     "data": {
      "text/plain": [
       "(784,)"
      ]
     },
     "execution_count": 121,
     "metadata": {},
     "output_type": "execute_result"
    }
   ],
   "source": [
    "x.shape"
   ]
  },
  {
   "cell_type": "code",
   "execution_count": 89,
   "metadata": {},
   "outputs": [],
   "source": [
    "x=(np.array(df_mnist.iloc[60978][:-1]) > 0).astype(int)\n",
    "x=x.reshape(28,28)\n",
    "coord=np.argwhere(x)\n",
    "x0,y0=np.min(coord,axis=0)\n",
    "x1,y1=np.max(coord,axis=0)"
   ]
  },
  {
   "cell_type": "code",
   "execution_count": null,
   "metadata": {},
   "outputs": [],
   "source": []
  },
  {
   "cell_type": "code",
   "execution_count": 92,
   "metadata": {},
   "outputs": [
    {
     "data": {
      "text/plain": [
       "(19, 17)"
      ]
     },
     "execution_count": 92,
     "metadata": {},
     "output_type": "execute_result"
    }
   ],
   "source": [
    "x[x0:x1,y0:y1].shape"
   ]
  },
  {
   "cell_type": "code",
   "execution_count": 90,
   "metadata": {},
   "outputs": [
    {
     "data": {
      "text/plain": [
       "<matplotlib.image.AxesImage at 0x1a26099dd8>"
      ]
     },
     "execution_count": 90,
     "metadata": {},
     "output_type": "execute_result"
    },
    {
     "data": {
      "image/png": "[encoded data removed]",
      "text/plain": [
       "<Figure size 432x288 with 1 Axes>"
      ]
     },
     "metadata": {},
     "output_type": "display_data"
    }
   ],
   "source": [
    "plt.imshow(x[x0:x1,y0:y1])"
   ]
  },
  {
   "cell_type": "code",
   "execution_count": 30,
   "metadata": {},
   "outputs": [
    {
     "data": {
      "text/plain": [
       "(19, 17)"
      ]
     },
     "execution_count": 30,
     "metadata": {},
     "output_type": "execute_result"
    }
   ],
   "source": [
    "x[x0:x1,y0:y1].shape"
   ]
  },
  {
   "cell_type": "code",
   "execution_count": 133,
   "metadata": {},
   "outputs": [
    {
     "ename": "TypeError",
     "evalue": "Expected cv::UMat for argument 'src'",
     "output_type": "error",
     "traceback": [
      "\u001b[0;31m---------------------------------------------------------------------------\u001b[0m",
      "\u001b[0;31mTypeError\u001b[0m                                 Traceback (most recent call last)",
      "\u001b[0;32m<ipython-input-133-a6885294afeb>\u001b[0m in \u001b[0;36m<module>\u001b[0;34m()\u001b[0m\n\u001b[0;32m----> 1\u001b[0;31m \u001b[0mcv2\u001b[0m\u001b[0;34m.\u001b[0m\u001b[0mresize\u001b[0m\u001b[0;34m(\u001b[0m\u001b[0mplt\u001b[0m\u001b[0;34m.\u001b[0m\u001b[0mimshow\u001b[0m\u001b[0;34m(\u001b[0m\u001b[0mx\u001b[0m\u001b[0;34m[\u001b[0m\u001b[0mx0\u001b[0m\u001b[0;34m:\u001b[0m\u001b[0mx1\u001b[0m\u001b[0;34m,\u001b[0m\u001b[0my0\u001b[0m\u001b[0;34m:\u001b[0m\u001b[0my1\u001b[0m\u001b[0;34m]\u001b[0m\u001b[0;34m)\u001b[0m\u001b[0;34m,\u001b[0m\u001b[0;36m20\u001b[0m\u001b[0;34m,\u001b[0m\u001b[0;36m20\u001b[0m\u001b[0;34m)\u001b[0m\u001b[0;34m\u001b[0m\u001b[0m\n\u001b[0m",
      "\u001b[0;31mTypeError\u001b[0m: Expected cv::UMat for argument 'src'"
     ]
    },
    {
     "data": {
      "image/png": "[encoded data removed]",
      "text/plain": [
       "<Figure size 432x288 with 1 Axes>"
      ]
     },
     "metadata": {},
     "output_type": "display_data"
    }
   ],
   "source": [
    "cv2.resize(plt.imshow(x[x0:x1,y0:y1]),20,20)"
   ]
  },
  {
   "cell_type": "code",
   "execution_count": 39,
   "metadata": {},
   "outputs": [],
   "source": [
    "import cv2"
   ]
  },
  {
   "cell_type": "code",
   "execution_count": 7,
   "metadata": {},
   "outputs": [
    {
     "data": {
      "text/plain": [
       "'/Users/sushanta/Documents/Kaggle/Illinois/CS 598 - Applied Machine Learning/HW1'"
      ]
     },
     "execution_count": 7,
     "metadata": {},
     "output_type": "execute_result"
    }
   ],
   "source": [
    "pwd"
   ]
  },
  {
   "cell_type": "code",
   "execution_count": 8,
   "metadata": {},
   "outputs": [],
   "source": [
    "img = cv2.imread('0a1a7f395.jpg', cv2.IMREAD_UNCHANGED)"
   ]
  },
  {
   "cell_type": "code",
   "execution_count": 25,
   "metadata": {},
   "outputs": [],
   "source": [
    "X_sample=x[x0:x1,y0:y1]"
   ]
  },
  {
   "cell_type": "code",
   "execution_count": 29,
   "metadata": {},
   "outputs": [
    {
     "data": {
      "text/plain": [
       "array([[0, 0, 0, 0, 0, 1, 1, 1, 1, 1, 1, 1, 1, 1, 1, 0, 0],\n",
       "       [0, 0, 0, 0, 0, 1, 1, 1, 1, 1, 1, 1, 1, 1, 1, 1, 1],\n",
       "       [0, 0, 0, 0, 1, 1, 1, 1, 1, 1, 1, 1, 1, 1, 1, 1, 1],\n",
       "       [0, 0, 0, 1, 1, 1, 1, 1, 1, 1, 1, 1, 1, 1, 1, 1, 1],\n",
       "       [0, 0, 0, 1, 1, 1, 1, 1, 1, 1, 1, 1, 1, 1, 1, 1, 1],\n",
       "       [0, 1, 1, 1, 1, 1, 1, 1, 1, 1, 1, 1, 0, 0, 1, 1, 1],\n",
       "       [0, 1, 1, 1, 1, 1, 1, 1, 1, 0, 0, 0, 0, 0, 1, 1, 1],\n",
       "       [0, 1, 1, 1, 1, 1, 0, 0, 0, 0, 0, 0, 0, 0, 1, 1, 1],\n",
       "       [1, 1, 1, 1, 1, 1, 0, 0, 0, 0, 0, 0, 0, 0, 1, 1, 1],\n",
       "       [1, 1, 1, 1, 1, 0, 0, 0, 0, 0, 0, 0, 0, 0, 1, 1, 1],\n",
       "       [1, 1, 1, 1, 1, 0, 0, 0, 0, 0, 0, 0, 0, 0, 1, 1, 1],\n",
       "       [1, 1, 1, 1, 0, 0, 0, 0, 0, 0, 0, 0, 0, 0, 1, 1, 1],\n",
       "       [1, 1, 1, 1, 0, 0, 0, 0, 0, 0, 0, 0, 0, 1, 1, 1, 1],\n",
       "       [1, 1, 1, 1, 0, 0, 0, 0, 0, 0, 0, 0, 1, 1, 1, 1, 1],\n",
       "       [1, 1, 1, 1, 0, 0, 0, 0, 0, 0, 0, 1, 1, 1, 1, 1, 0],\n",
       "       [1, 1, 1, 1, 1, 1, 0, 1, 1, 1, 1, 1, 1, 1, 1, 1, 0],\n",
       "       [1, 1, 1, 1, 1, 1, 1, 1, 1, 1, 1, 1, 1, 1, 1, 0, 0],\n",
       "       [0, 1, 1, 1, 1, 1, 1, 1, 1, 1, 1, 1, 1, 1, 0, 0, 0],\n",
       "       [0, 1, 1, 1, 1, 1, 1, 1, 1, 1, 1, 1, 1, 0, 0, 0, 0]])"
      ]
     },
     "execution_count": 29,
     "metadata": {},
     "output_type": "execute_result"
    }
   ],
   "source": [
    "X_sample"
   ]
  },
  {
   "cell_type": "code",
   "execution_count": 9,
   "metadata": {},
   "outputs": [
    {
     "data": {
      "text/plain": [
       "(768, 768, 3)"
      ]
     },
     "execution_count": 9,
     "metadata": {},
     "output_type": "execute_result"
    }
   ],
   "source": [
    "img.shape"
   ]
  },
  {
   "cell_type": "code",
   "execution_count": 34,
   "metadata": {},
   "outputs": [],
   "source": [
    "width = 350\n",
    "height = 450\n",
    "dim = (width, height)\n",
    "\n",
    "width1 = 20\n",
    "height1 = 20\n",
    "dim1 = (width1, height1)"
   ]
  },
  {
   "cell_type": "code",
   "execution_count": 35,
   "metadata": {},
   "outputs": [
    {
     "data": {
      "text/plain": [
       "(19, 17)"
      ]
     },
     "execution_count": 35,
     "metadata": {},
     "output_type": "execute_result"
    }
   ],
   "source": [
    "X_sample.shape"
   ]
  },
  {
   "cell_type": "code",
   "execution_count": 40,
   "metadata": {},
   "outputs": [],
   "source": [
    "X_stretched=cv2.resize(X_sample, dim1, interpolation = cv2.INTER_NEAREST)"
   ]
  },
  {
   "cell_type": "code",
   "execution_count": 135,
   "metadata": {},
   "outputs": [
    {
     "data": {
      "text/plain": [
       "(20, 20)"
      ]
     },
     "execution_count": 135,
     "metadata": {},
     "output_type": "execute_result"
    }
   ],
   "source": [
    "X_stretched"
   ]
  },
  {
   "cell_type": "code",
   "execution_count": 41,
   "metadata": {},
   "outputs": [
    {
     "data": {
      "text/plain": [
       "<matplotlib.image.AxesImage at 0x1a25df8d68>"
      ]
     },
     "execution_count": 41,
     "metadata": {},
     "output_type": "execute_result"
    },
    {
     "data": {
      "image/png": "[encoded data removed]",
      "text/plain": [
       "<Figure size 432x288 with 1 Axes>"
      ]
     },
     "metadata": {},
     "output_type": "display_data"
    }
   ],
   "source": [
    "plt.imshow(X_sample)"
   ]
  },
  {
   "cell_type": "code",
   "execution_count": 42,
   "metadata": {},
   "outputs": [
    {
     "data": {
      "text/plain": [
       "<matplotlib.image.AxesImage at 0x1a25e5b0b8>"
      ]
     },
     "execution_count": 42,
     "metadata": {},
     "output_type": "execute_result"
    },
    {
     "data": {
      "image/png": "[encoded data removed]",
      "text/plain": [
       "<Figure size 432x288 with 1 Axes>"
      ]
     },
     "metadata": {},
     "output_type": "display_data"
    }
   ],
   "source": [
    "plt.imshow(X_stretched)"
   ]
  },
  {
   "cell_type": "code",
   "execution_count": 37,
   "metadata": {},
   "outputs": [
    {
     "ename": "error",
     "evalue": "OpenCV(4.0.0) /Users/travis/build/skvark/opencv-python/opencv/modules/imgproc/src/resize.cpp:3659: error: (-5:Bad argument) Unknown interpolation method in function 'resize'\n",
     "output_type": "error",
     "traceback": [
      "\u001b[0;31m---------------------------------------------------------------------------\u001b[0m",
      "\u001b[0;31merror\u001b[0m                                     Traceback (most recent call last)",
      "\u001b[0;32m<ipython-input-37-a8eb4616b2cd>\u001b[0m in \u001b[0;36m<module>\u001b[0;34m()\u001b[0m\n\u001b[0;32m----> 1\u001b[0;31m \u001b[0mcv2\u001b[0m\u001b[0;34m.\u001b[0m\u001b[0mresize\u001b[0m\u001b[0;34m(\u001b[0m\u001b[0mimg\u001b[0m\u001b[0;34m,\u001b[0m \u001b[0mdim\u001b[0m\u001b[0;34m,\u001b[0m \u001b[0minterpolation\u001b[0m \u001b[0;34m=\u001b[0m \u001b[0mcv2\u001b[0m\u001b[0;34m.\u001b[0m\u001b[0mIMREAD_UNCHANGED\u001b[0m\u001b[0;34m)\u001b[0m\u001b[0;34m\u001b[0m\u001b[0m\n\u001b[0m",
      "\u001b[0;31merror\u001b[0m: OpenCV(4.0.0) /Users/travis/build/skvark/opencv-python/opencv/modules/imgproc/src/resize.cpp:3659: error: (-5:Bad argument) Unknown interpolation method in function 'resize'\n"
     ]
    }
   ],
   "source": [
    "cv2.resize(img, dim, interpolation = cv2.INTER_AREA)"
   ]
  },
  {
   "cell_type": "code",
   "execution_count": 48,
   "metadata": {},
   "outputs": [
    {
     "name": "stdout",
     "output_type": "stream",
     "text": [
      "Requirement already satisfied: opencv-python in /Library/Frameworks/Python.framework/Versions/2.7/lib/python2.7/site-packages\r\n",
      "Requirement already satisfied: numpy>=1.11.1 in /Library/Frameworks/Python.framework/Versions/2.7/lib/python2.7/site-packages (from opencv-python)\r\n",
      "\u001b[33mYou are using pip version 9.0.3, however version 19.0.1 is available.\r\n",
      "You should consider upgrading via the 'pip install --upgrade pip' command.\u001b[0m\r\n"
     ]
    }
   ],
   "source": [
    "!pip install opencv-python"
   ]
  },
  {
   "cell_type": "code",
   "execution_count": 52,
   "metadata": {},
   "outputs": [
    {
     "ename": "NameError",
     "evalue": "name 'python' is not defined",
     "output_type": "error",
     "traceback": [
      "\u001b[0;31m---------------------------------------------------------------------------\u001b[0m",
      "\u001b[0;31mNameError\u001b[0m                                 Traceback (most recent call last)",
      "\u001b[0;32m<ipython-input-52-45a3ce2a2cc7>\u001b[0m in \u001b[0;36m<module>\u001b[0;34m()\u001b[0m\n\u001b[0;32m----> 1\u001b[0;31m \u001b[0mpython\u001b[0m\u001b[0;34m.\u001b[0m\u001b[0m__version__\u001b[0m\u001b[0;34m\u001b[0m\u001b[0m\n\u001b[0m",
      "\u001b[0;31mNameError\u001b[0m: name 'python' is not defined"
     ]
    }
   ],
   "source": [
    "python.__version__"
   ]
  },
  {
   "cell_type": "code",
   "execution_count": 53,
   "metadata": {},
   "outputs": [
    {
     "data": {
      "text/plain": [
       "'3.6.5 |Anaconda, Inc.| (default, Apr 26 2018, 08:42:37) \\n[GCC 4.2.1 Compatible Clang 4.0.1 (tags/RELEASE_401/final)]'"
      ]
     },
     "execution_count": 53,
     "metadata": {},
     "output_type": "execute_result"
    }
   ],
   "source": [
    "import sys\n",
    "sys.version"
   ]
  }
 ],
 "metadata": {
  "kernelspec": {
   "display_name": "Python 3",
   "language": "python",
   "name": "python3"
  },
  "language_info": {
   "codemirror_mode": {
    "name": "ipython",
    "version": 3
   },
   "file_extension": ".py",
   "mimetype": "text/x-python",
   "name": "python",
   "nbconvert_exporter": "python",
   "pygments_lexer": "ipython3",
   "version": "3.6.5"
  }
 },
 "nbformat": 4,
 "nbformat_minor": 2
}
