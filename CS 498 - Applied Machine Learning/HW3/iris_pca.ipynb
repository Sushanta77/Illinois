{
 "cells": [
  {
   "cell_type": "code",
   "execution_count": 1,
   "metadata": {},
   "outputs": [
    {
     "data": {
      "text/plain": [
       "'/Users/sushanta/Documents/Kaggle/Illinois/CS 598 - Applied Machine Learning/HW3'"
      ]
     },
     "execution_count": 1,
     "metadata": {},
     "output_type": "execute_result"
    }
   ],
   "source": [
    "pwd"
   ]
  },
  {
   "cell_type": "code",
   "execution_count": 2,
   "metadata": {},
   "outputs": [],
   "source": [
    "import numpy as np\n",
    "import pandas as pd\n",
    "\n",
    "def load_data(print_ind=False):\n",
    "    final_data = []\n",
    "    final_data.append(np.array(pd.read_csv('data/iris.csv')).T)\n",
    "    final_data.append(np.array(pd.read_csv('data/dataI.csv')).T)\n",
    "    final_data.append(np.array(pd.read_csv('data/dataII.csv')).T)\n",
    "    final_data.append(np.array(pd.read_csv('data/dataIII.csv')).T)\n",
    "    final_data.append(np.array(pd.read_csv('data/dataIV.csv')).T)\n",
    "    final_data.append(np.array(pd.read_csv('data/dataV.csv')).T)\n",
    "\n",
    "    if (print_ind):\n",
    "        print (\"Iris:{} DataI:{} DataII:{} DataIII:{} DataIV:{} DataV:{}\".format(iris.shape,dataI.shape,dataII.shape,dataIII.shape,dataIV.shape,dataV.shape))\n",
    "    return final_data\n",
    "\n",
    "def data_mean(data,print_ind=False):\n",
    "    data_mean=np.mean(data,axis=1).reshape(data.shape[0],1)\n",
    "    if (print_ind):\n",
    "        print (\"Data Mean :{}\".format(data_mean.shape))\n",
    "    return data_mean\n",
    "\n",
    "\n",
    "def data_final_mean(final_data):\n",
    "    final_mean_data = []\n",
    "    for f in range(len(final_data)):\n",
    "        final_mean_data.append(data_mean(final_data[f],False))\n",
    "    return final_mean_data\n",
    "\n",
    "\n",
    "def data_adjusted(data,data_mean,print_ind=False):\n",
    "    if (print_ind):\n",
    "        print (\"Data Adjusted: {}\".format(data.shape))\n",
    "    return (data-data_mean)\n",
    "    \n",
    "    \n",
    "def data_cov(data,print_ind=False):\n",
    "    data_cov=np.cov(data,bias=True)\n",
    "    if (print_ind):\n",
    "        print (\"Data Cov:{}\".format(data_cov.shape))\n",
    "    return data_cov\n",
    "\n",
    "\n",
    "def data_eigen(data,print_ind=False):\n",
    "    eigenval,eigenvec = np.linalg.eig(data)\n",
    "    idx = eigenval.argsort()[::-1]\n",
    "    eigenval_sort = eigenval[idx]\n",
    "    eigenvec_sort = eigenvec[:,idx]\n",
    "    \n",
    "    if (print_ind):\n",
    "        print (\"Eigen Values:{} Eigen Vectors:{}\".format(eigenval_sort.shape,eigenvec_sort.shape))\n",
    "    return eigenval_sort,eigenvec_sort\n",
    "\n",
    "\n",
    "def data_final_eigenvec(final_data,final_mean):\n",
    "    final_eigenvec_data = []\n",
    "    for f in range(len(final_data)):\n",
    "        final_eigenvec_data.append(data_eigen(data_cov(data_adjusted(final_data[f],final_mean[f],False),False),False)[1])\n",
    "    return final_eigenvec_data\n",
    "\n",
    "\n",
    "def pca_represent_newdataset(data,data_mean,eigenvec,print_ind=False):\n",
    "    data_transformed = data_adjusted(data,data_mean,False)\n",
    "    data_hat = np.zeros((data_transformed.shape[0],data_transformed.shape[1]))\n",
    "    for e in range(eigenvec.shape[1]):\n",
    "        loop_eigenvec = eigenvec[:,e].reshape(eigenvec[:,e].shape[0],1)\n",
    "        val = np.dot(loop_eigenvec.T,data_transformed)*loop_eigenvec #Added\n",
    "        data_hat += val\n",
    "    data_hat += data_mean\n",
    "    return data_hat\n",
    "\n",
    "\n",
    "def data_mse(data1,date2):\n",
    "    mse = (np.sum((data1-date2)**2))/(data1.shape[1])\n",
    "    return mse\n",
    "\n",
    "def generate_number_csv(final_data,final_mean,final_eigenvec):\n",
    "    final_mse=np.zeros((5,10))\n",
    "    for row in range(5):\n",
    "        columns = ['0N','1N','2N','3N','4N','0C','1C','2C','3C','4C']\n",
    "        df_numbers_temp = pd.DataFrame(columns=columns)\n",
    "        for col in range(5):\n",
    "            #Below code is for N Series *****\n",
    "            if (col == 0):\n",
    "                new_dataset=pca_represent_newdataset(final_data[row+1],final_mean[0],np.array([[]]))\n",
    "                mse = data_mse(final_data[0],new_dataset)\n",
    "                final_mse[row][col] = round(mse,3)\n",
    "            else:\n",
    "                new_dataset=pca_represent_newdataset(final_data[row+1],final_mean[0],final_eigenvec[0][:,0:col])\n",
    "                mse = data_mse(final_data[0],new_dataset)\n",
    "                final_mse[row][col] = round(mse,3)\n",
    "\n",
    "            #Below code is for C Series *****\n",
    "            if (col == 0):\n",
    "                new_dataset=pca_represent_newdataset(final_data[row+1],final_mean[row+1],np.array([[]]))\n",
    "                mse = data_mse(final_data[0],new_dataset)\n",
    "                final_mse[row][col+5] = round(mse,3)\n",
    "            else:\n",
    "                new_dataset=pca_represent_newdataset(final_data[row+1],final_mean[row+1],final_eigenvec[row+1][:,0:col])\n",
    "                mse = data_mse(final_data[0],new_dataset)\n",
    "                final_mse[row][col+5] = round(mse,3)\n",
    "    columns = ['0N','1N','2N','3N','4N','0C','1C','2C','3C','4C']\n",
    "    sub=pd.DataFrame(final_mse,columns=columns)\n",
    "    sub.to_csv(\"submission/panda5-numbers.csv\",index=False)\n",
    "\n",
    "    \n",
    "def generate_recon_csv(final_data,final_mean,final_eigenvec):\n",
    "    new_dataset=pca_represent_newdataset(final_data[1],final_mean[1],final_eigenvec[1][:,0:2])\n",
    "    columns = ['Sepal.Length','Sepal.Width','Petal.Length','Petal.Width']\n",
    "    sub_recon=pd.DataFrame(new_dataset.T,columns=columns)\n",
    "    sub_recon.to_csv(\"submission/panda5-recon.csv\",index=False)    \n",
    "    \n",
    "    \n",
    "def main():\n",
    "    final_data = load_data(False)\n",
    "    final_mean=data_final_mean(final_data)\n",
    "    final_eigenvec=data_final_eigenvec(final_data,final_mean)\n",
    "    generate_number_csv(final_data,final_mean,final_eigenvec)\n",
    "    generate_recon_csv(final_data,final_mean,final_eigenvec)\n",
    "\n",
    "#main()"
   ]
  },
  {
   "cell_type": "code",
   "execution_count": 3,
   "metadata": {},
   "outputs": [],
   "source": [
    "final_data = load_data(False)"
   ]
  },
  {
   "cell_type": "code",
   "execution_count": 6,
   "metadata": {},
   "outputs": [],
   "source": [
    "final_mean=data_final_mean(final_data)"
   ]
  },
  {
   "cell_type": "code",
   "execution_count": 9,
   "metadata": {},
   "outputs": [
    {
     "data": {
      "text/plain": [
       "[array([[ 0.36138659, -0.65658877, -0.58202985,  0.31548719],\n",
       "        [-0.08452251, -0.73016143,  0.59791083, -0.3197231 ],\n",
       "        [ 0.85667061,  0.17337266,  0.07623608, -0.47983899],\n",
       "        [ 0.3582892 ,  0.07548102,  0.54583143,  0.75365743]]),\n",
       " array([[-0.38711419,  0.47159017,  0.78814663, -0.08105681],\n",
       "        [ 0.08425652,  0.8619338 , -0.48629913, -0.11612112],\n",
       "        [-0.85063163, -0.16460923, -0.3553842 , -0.35075876],\n",
       "        [-0.34564329,  0.08704384, -0.12664958,  0.92569648]]),\n",
       " array([[ 0.41580527,  0.57822892,  0.00291634,  0.70196067],\n",
       "        [-0.07126305,  0.67647347, -0.52373122, -0.51284582],\n",
       "        [ 0.85736718, -0.33182687, -0.31690255, -0.23320638],\n",
       "        [ 0.29487127,  0.31293112,  0.79074008, -0.43572373]]),\n",
       " array([[ 0.42030922, -0.894822  , -0.12347848,  0.08594655],\n",
       "        [-0.08180074, -0.17063432,  0.30947042, -0.93189089],\n",
       "        [ 0.84670985,  0.40968658, -0.24807944, -0.23172384],\n",
       "        [ 0.31580252,  0.04831585,  0.90963604,  0.26551201]]),\n",
       " array([[-0.56116464,  0.82735318, -0.02197202, -0.00990875],\n",
       "        [ 0.08233456,  0.02889129, -0.99522797, -0.04367616],\n",
       "        [-0.7832082 , -0.5366733 , -0.06691237, -0.30673999],\n",
       "        [-0.25475513, -0.16319858, -0.06753709,  0.95073907]]),\n",
       " array([[ 0.37180582, -0.62870747, -0.56011837,  0.39083853],\n",
       "        [-0.08372954, -0.75237019,  0.58284097, -0.29533856],\n",
       "        [ 0.85118549,  0.14371568,  0.05343789, -0.50196957],\n",
       "        [ 0.36087817,  0.13420812,  0.58626633,  0.7127741 ]])]"
      ]
     },
     "execution_count": 9,
     "metadata": {},
     "output_type": "execute_result"
    }
   ],
   "source": [
    "data_final_eigenvec(final_data,final_mean)"
   ]
  }
 ],
 "metadata": {
  "kernelspec": {
   "display_name": "Python 3",
   "language": "python",
   "name": "python3"
  },
  "language_info": {
   "codemirror_mode": {
    "name": "ipython",
    "version": 3
   },
   "file_extension": ".py",
   "mimetype": "text/x-python",
   "name": "python",
   "nbconvert_exporter": "python",
   "pygments_lexer": "ipython3",
   "version": "3.6.5"
  }
 },
 "nbformat": 4,
 "nbformat_minor": 2
}
