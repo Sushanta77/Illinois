{
 "cells": [
  {
   "cell_type": "code",
   "execution_count": 53,
   "metadata": {},
   "outputs": [],
   "source": [
    "import numpy as np\n",
    "import pandas as pd\n",
    "from sklearn.decomposition import pca\n",
    "import matplotlib.pyplot as plt\n",
    "import warnings\n",
    "warnings.filterwarnings('ignore')\n",
    "%matplotlib inline\n",
    "\n",
    "\n",
    "def unpickle(file):\n",
    "    import pickle\n",
    "    with open(file, 'rb') as fo:\n",
    "        dict = pickle.load(fo, encoding='bytes')\n",
    "    return dict\n",
    "\n",
    "\n",
    "def load_dataset(Print_Ind=True):\n",
    "    filename=['data_batch_1','data_batch_2','data_batch_3','data_batch_4','data_batch_5','test_batch']\n",
    "    cifar_10=np.zeros((len(filename)*10000,3072))\n",
    "    cifar_10_per_class = []\n",
    "    labels=np.zeros((len(filename)*10000,1))\n",
    "    start=0\n",
    "    end=10000\n",
    "    for i in range(len(filename)):\n",
    "        dict=unpickle('data/'+filename[i])\n",
    "        cifar_10[start:end,:]=np.asarray(dict[b'data'])\n",
    "        labels[start:end,:]=np.array(dict[b'labels']).reshape(len(dict[b'labels']),1)\n",
    "        start = start+10000\n",
    "        end = end+10000\n",
    "    unique_labels=np.unique(labels)\n",
    "    for u in unique_labels:\n",
    "        index_per_class,_ = np.where(labels == u)\n",
    "        cifar_10_per_class.append(cifar_10[index_per_class].T)\n",
    "    if (Print_Ind):\n",
    "        print (\"Cifar Per Class:{}  Labels:{}\".format(len(cifar_10_per_class),len(labels)))\n",
    "    return cifar_10_per_class,labels\n",
    "\n",
    "\n",
    "def plt_img(img):\n",
    "    img_transformed = img.reshape(3,32,32).transpose([1, 2, 0])\n",
    "    plt.imshow(img_transformed)\n",
    "\n",
    "\n",
    "def mean_per_class(data,Print_Ind=True):\n",
    "    cifar_10_mean_per_class = []\n",
    "    for u in range(len(data)):\n",
    "        cifar_10_mean_per_class.append(np.mean(data[u],axis=1).reshape(3072,1))\n",
    "    if (Print_Ind):\n",
    "        print (\"Cifar 10 Per Class: {}\".format(len(cifar_10_mean_per_class)))\n",
    "    return cifar_10_mean_per_class\n",
    "\n",
    "\n",
    "def data_adjusted(data,data_mean,print_ind=False):\n",
    "    if (print_ind):\n",
    "        print (\"Data Adjusted: {}\".format(data.shape))\n",
    "    return (data-data_mean)\n",
    "\n",
    "\n",
    "def data_cov(data,print_ind=False):\n",
    "    data_cov=np.cov(data,bias=True)\n",
    "    if (print_ind):\n",
    "        print (\"Data Cov:{}\".format(data_cov.shape))\n",
    "    return data_cov\n",
    "\n",
    "\n",
    "def data_eigen(data,print_ind=False):\n",
    "    eigenval,eigenvec = np.linalg.eig(data)\n",
    "    idx = eigenval.argsort()[::-1]\n",
    "    eigenval_sort = eigenval[idx]\n",
    "    eigenvec_sort = eigenvec[:,idx]\n",
    "    \n",
    "    if (print_ind):\n",
    "        print (\"Eigen Values:{} Eigen Vectors:{}\".format(len(eigenval_sort),len(eigenvec_sort)))\n",
    "    return eigenval_sort,eigenvec_sort\n",
    "\n",
    "\n",
    "def data_final_eigenvec(final_data,final_mean,Print_Ind=True):\n",
    "    final_eigenvec_data = []\n",
    "    for f in range(len(final_data)):\n",
    "        final_eigenvec_data.append(data_eigen(data_cov(data_adjusted(final_data[f],final_mean[f],False),False),False)[1])\n",
    "    if (Print_Ind):\n",
    "        print (\"Final EigenVec:{}\".format(len(final_eigenvec_data)))\n",
    "    return final_eigenvec_data\n",
    "\n",
    "\n",
    "def pca_represent_newdataset(data,data_mean,eigenvec,add_mean_Ind=True,print_ind=False):\n",
    "    data_transformed = data_adjusted(data,data_mean,False)\n",
    "    data_hat = np.zeros((data_transformed.shape[0],data_transformed.shape[1]))\n",
    "    for e in range(eigenvec.shape[1]):\n",
    "        loop_eigenvec = eigenvec[:,e].reshape(eigenvec[:,e].shape[0],1)\n",
    "        val = np.dot(loop_eigenvec.T,data_transformed)*loop_eigenvec #Added\n",
    "        data_hat += val\n",
    "    if (add_mean_Ind):\n",
    "        data_hat += data_mean\n",
    "    return data_hat\n",
    "\n",
    "\n",
    "def data_mse(data1,date2):\n",
    "    mse = (np.sum((data1-date2)**2))/(data1.shape[1])\n",
    "    return mse\n",
    "\n",
    "\n",
    "def error_each_class(cifar_10_per_class,mean_cifar_10_per_class,eigenvec_cifar_10_per_class,Print_Ind=True):\n",
    "    mse_each_class = []\n",
    "    for c in range(len(cifar_10_per_class)):\n",
    "        x_hat = pca_represent_newdataset(cifar_10_per_class[c],mean_cifar_10_per_class[c],eigenvec_cifar_10_per_class[c][:,0:20])\n",
    "        mse_each_class.append(data_mse(cifar_10_per_class[c],x_hat))\n",
    "    if (Print_Ind):\n",
    "        print (\"MSE Per Class: {}\".format(len(mse_each_class)))\n",
    "    return mse_each_class\n",
    "\n",
    "\n",
    "def plot_error(mse_each_class,bar_ind=False):\n",
    "    label=['airplane','automobile','bird','cat','deer','dog','frog','horse','ship','truck']\n",
    "    fig,ax = plt.subplots(figsize=(9,6))\n",
    "    if (bar_ind):\n",
    "        ax.bar(np.arange(len(label)),mse_each_class)\n",
    "        plt.xticks(np.arange(len(label)),label)\n",
    "    else:\n",
    "        ax.scatter(x=np.arange(10),y=mse_each_class)\n",
    "        for i,txt in enumerate(label):\n",
    "            ax.annotate(txt,(i,mse_each_class[i]))\n",
    "    plt.xlabel('Category')\n",
    "    plt.ylabel('MSE')\n",
    "    plt.title('Category Error')\n",
    "    plt.show()\n",
    "\n",
    "    \n",
    "def euclidean_distance(mean_cifar_10_per_class):\n",
    "    euclidean_distance_per_class=np.zeros((10,10))\n",
    "    for m in range(len(mean_cifar_10_per_class)):\n",
    "        for k in range(len(mean_cifar_10_per_class)):\n",
    "            euclidean_distance_per_class[m][k] = np.sum((mean_cifar_10_per_class[m] - mean_cifar_10_per_class[k])**2)\n",
    "    np.savetxt(\"submission/partb_distances.csv\",euclidean_distance_per_class,delimiter=\",\")    \n",
    "    return euclidean_distance_per_class\n",
    "\n",
    "\n",
    "def part_c(cifar_10_per_class,mean_cifar_10_per_class,eigenvec_cifar_10_per_class,print_Ind=False):\n",
    "    euclidean_distance_part_c=np.zeros((10,10))\n",
    "    i = 0\n",
    "    for m in range(len(mean_cifar_10_per_class)):\n",
    "        for k in range(len(mean_cifar_10_per_class)):\n",
    "            i+=1\n",
    "            x_hat_A_B=pca_represent_newdataset(cifar_10_per_class[m],mean_cifar_10_per_class[m],eigenvec_cifar_10_per_class[k][:,0:20])\n",
    "            compute_E_A_B=data_mse(cifar_10_per_class[m],x_hat_A_B)\n",
    "            x_hat_B_A=pca_represent_newdataset(cifar_10_per_class[k],mean_cifar_10_per_class[k],eigenvec_cifar_10_per_class[m][:,0:20])\n",
    "            compute_E_B_A=data_mse(cifar_10_per_class[k],x_hat_B_A)\n",
    "            X=((compute_E_A_B + compute_E_B_A) / 2)\n",
    "            if (print_Ind):\n",
    "                print (\"{} Compute i:{} j:{} A_B:{}  B_A:{}\".format(i,m,k,compute_E_A_B,compute_E_B_A))\n",
    "            euclidean_distance_part_c[m][k]=X\n",
    "    np.savetxt(\"submission/partc_distances.csv\",euclidean_distance_part_c,delimiter=\",\")\n",
    "    return euclidean_distance_part_c    \n",
    "    \n",
    "def multi_dimensional_scaling(data,n_components=2,PrintInd=True):\n",
    "    N=data.shape[1]\n",
    "    X_1=np.ones((N,1))\n",
    "    A=np.identity(N)-(np.dot(X_1,X_1.T))/10\n",
    "    W = (-1/2)*np.dot(np.dot(A,data),(A.T))\n",
    "    W_eigenval,W_eigenvec=data_eigen(W)\n",
    "    u=W_eigenvec[:,0:n_components]\n",
    "    lam=W_eigenval[0:n_components]\n",
    "    lam_sqrt = np.sqrt(lam)\n",
    "    Y = u*lam_sqrt\n",
    "    return Y\n",
    "\n",
    "\n",
    "def plot_principal_coordinate_analysis(Y,title):\n",
    "    label=['airplane','automobile','bird','cat','deer','dog','frog','horse','ship','truck']\n",
    "    fig,ax=plt.subplots()\n",
    "    plt.scatter(Y[:,0],Y[:,1])\n",
    "    plt.xlabel('Component 1')\n",
    "    plt.ylabel('Component 2')\n",
    "    plt.title(title)\n",
    "    for i,text in enumerate(label):\n",
    "        ax.annotate(text,(Y[i,0],Y[i,1]))\n",
    "    \n",
    "def main ():\n",
    "    cifar_10_per_class,labels,=load_dataset()\n",
    "    mean_cifar_10_per_class=mean_per_class(cifar_10_per_class)\n",
    "    eigenvec_cifar_10_per_class=data_final_eigenvec(cifar_10_per_class,mean_cifar_10_per_class)\n",
    "    plt_img(mean_cifar_10_per_class[0].astype('int'))\n",
    "    plt_img(mean_cifar_10_per_class[1].astype('int'))\n",
    "    plt_img(mean_cifar_10_per_class[2].astype('int'))\n",
    "    plt_img(mean_cifar_10_per_class[3].astype('int'))\n",
    "    plt_img(mean_cifar_10_per_class[4].astype('int'))\n",
    "    plt_img(mean_cifar_10_per_class[5].astype('int'))\n",
    "    plt_img(mean_cifar_10_per_class[6].astype('int'))\n",
    "    plt_img(mean_cifar_10_per_class[7].astype('int'))\n",
    "    plt_img(mean_cifar_10_per_class[8].astype('int'))\n",
    "    plt_img(mean_cifar_10_per_class[9].astype('int'))\n",
    "    mse_each_class=error_each_class(cifar_10_per_class,mean_cifar_10_per_class,eigenvec_cifar_10_per_class)\n",
    "    plot_error(mse_each_class,False)\n",
    "    plot_error(mse_each_class,True)\n",
    "    #euclidean_distance(mean_cifar_10_per_class)\n",
    "    euclidean_distance_per_class=euclidean_distance(mean_cifar_10_per_class)\n",
    "    Y = multi_dimensional_scaling(euclidean_distance_per_class,n_components=2,PrintInd=True)\n",
    "    plot_principal_coordinate_analysis(Y,'Part B')\n",
    "\n",
    "    euclidean_distance_part_c = euclidean_distance_part_c(cifar_10_per_class,mean_cifar_10_per_class,eigenvec_cifar_10_per_class)\n",
    "    #part_c=np.array(pd.read_csv(\"submission/partc_distances.csv\",header=None))\n",
    "    Y = multi_dimensional_scaling(euclidean_distance_part_c,n_components=2,PrintInd=True)\n",
    "    plot_principal_coordinate_analysis(Y,'Part C')\n",
    "    \n",
    "#main()"
   ]
  },
  {
   "cell_type": "code",
   "execution_count": 3,
   "metadata": {},
   "outputs": [
    {
     "name": "stdout",
     "output_type": "stream",
     "text": [
      "Cifar Per Class:10  Labels:60000\n",
      "Cifar 10 Per Class: 10\n",
      "Final EigenVec:10\n"
     ]
    }
   ],
   "source": [
    "cifar_10_per_class,labels,=load_dataset()\n",
    "mean_cifar_10_per_class=mean_per_class(cifar_10_per_class)\n",
    "eigenvec_cifar_10_per_class=data_final_eigenvec(cifar_10_per_class,mean_cifar_10_per_class)\n",
    "euclidean_distance_per_class=euclidean_distance(mean_cifar_10_per_class)"
   ]
  },
  {
   "cell_type": "code",
   "execution_count": 34,
   "metadata": {},
   "outputs": [
    {
     "name": "stdout",
     "output_type": "stream",
     "text": [
      "MSE Per Class: 10\n"
     ]
    }
   ],
   "source": [
    "mse_each_class=error_each_class(cifar_10_per_class,mean_cifar_10_per_class,eigenvec_cifar_10_per_class)"
   ]
  },
  {
   "cell_type": "code",
   "execution_count": 52,
   "metadata": {},
   "outputs": [
    {
     "data": {
      "image/png": "[encoded data removed]",
      "text/plain": [
       "<Figure size 648x432 with 1 Axes>"
      ]
     },
     "metadata": {},
     "output_type": "display_data"
    }
   ],
   "source": [
    "plot_error(mse_each_class,True)"
   ]
  },
  {
   "cell_type": "code",
   "execution_count": 55,
   "metadata": {},
   "outputs": [
    {
     "data": {
      "image/png": "[encoded data removed]",
      "text/plain": [
       "<Figure size 432x288 with 1 Axes>"
      ]
     },
     "metadata": {},
     "output_type": "display_data"
    }
   ],
   "source": [
    "euclidean_distance_per_class=euclidean_distance(mean_cifar_10_per_class)\n",
    "Y = multi_dimensional_scaling(euclidean_distance_per_class,n_components=2,PrintInd=True)\n",
    "plot_principal_coordinate_analysis(Y,'Part B')"
   ]
  },
  {
   "cell_type": "code",
   "execution_count": 56,
   "metadata": {},
   "outputs": [
    {
     "data": {
      "image/png": "[encoded data removed]",
      "text/plain": [
       "<Figure size 432x288 with 1 Axes>"
      ]
     },
     "metadata": {},
     "output_type": "display_data"
    }
   ],
   "source": [
    "part_c=np.array(pd.read_csv(\"submission/partc_distances.csv\",header=None))\n",
    "Y = multi_dimensional_scaling(part_c,n_components=2,PrintInd=True)\n",
    "plot_principal_coordinate_analysis(Y,'Part C')"
   ]
  }
 ],
 "metadata": {
  "kernelspec": {
   "display_name": "Python 3",
   "language": "python",
   "name": "python3"
  },
  "language_info": {
   "codemirror_mode": {
    "name": "ipython",
    "version": 3
   },
   "file_extension": ".py",
   "mimetype": "text/x-python",
   "name": "python",
   "nbconvert_exporter": "python",
   "pygments_lexer": "ipython3",
   "version": "3.6.5"
  }
 },
 "nbformat": 4,
 "nbformat_minor": 2
}
