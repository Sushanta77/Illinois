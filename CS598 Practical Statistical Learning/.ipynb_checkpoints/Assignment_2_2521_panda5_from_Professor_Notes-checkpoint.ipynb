{
 "cells": [
  {
   "cell_type": "code",
   "execution_count": 1,
   "metadata": {},
   "outputs": [],
   "source": [
    "import numpy as np\n",
    "import pandas as pd\n",
    "import matplotlib.pyplot as plt\n",
    "from sklearn.linear_model import LinearRegression,LogisticRegression\n",
    "from sklearn.model_selection import KFold,train_test_split\n",
    "from sklearn.preprocessing import StandardScaler\n",
    "from sklearn import datasets\n",
    "%matplotlib inline"
   ]
  },
  {
   "cell_type": "code",
   "execution_count": 2,
   "metadata": {},
   "outputs": [],
   "source": [
    "def load_datasets():\n",
    "    data = pd.read_csv(\"/users/Sushanta/Documents/GitHub/Illinois/CS598 Practical Statistical Learning/Coding2_myData.csv\")\n",
    "    X = data[data.columns[:-1]]\n",
    "    y = data['Y']\n",
    "    \n",
    "    return X,y"
   ]
  },
  {
   "cell_type": "code",
   "execution_count": 136,
   "metadata": {},
   "outputs": [],
   "source": [
    "def MyLasso(X, y, lam_seq, maxit = 500):\n",
    "    \n",
    "    # X: n-by-p design matrix without the intercept \n",
    "    # y: n-by-1 response vector \n",
    "    # lam_seq: sequence of lambda values \n",
    "    # maxit: number of updates for each lambda \n",
    " \n",
    "    # Center/Scale X\n",
    "    # Center y\n",
    "  \n",
    "    n, p = X.shape\n",
    "    nlam = len(lam_seq)\n",
    "    \n",
    "    scale_X = StandardScaler().fit(X)\n",
    "    Xs = scale_X.transform(X)\n",
    "    scale_y = StandardScaler().fit(np.array(y).reshape(-1,1))\n",
    "    norm_y = scale_y.transform(np.array(y).reshape(-1,1))\n",
    "    y = norm_y\n",
    "    print (\"Scale Value of X: {}\".format(scale_X.scale_))\n",
    "    print (\"Scale Value of y: {}\".format(scale_y.scale_))\n",
    "    ##############################\n",
    "    # YOUR CODE: \n",
    "    # Record the corresponding means and scales\n",
    "    # For example, \n",
    "    # y_mean = mean of y\n",
    "    # Xs = centered and scaled X\n",
    "    ##############################\n",
    "    \n",
    "\n",
    "    # Initilize coef vector b and residual vector r\n",
    "    b = np.zeros(p)\n",
    "    r = y\n",
    "    B = np.zeros((nlam, p + 1))\n",
    "    \n",
    "    # Triple nested loop\n",
    "    for m in range(nlam):\n",
    "        lam = 2 * n * lam_seq[m]\n",
    "        lam = lam_seq[m]\n",
    "        for step in range(maxit):\n",
    "            for j in range(p):\n",
    "                Xs_j = Xs[:, j].reshape(-1,1)\n",
    "                r = r + Xs_j * b[j]\n",
    "                b[j] = one_var_lasso(r, Xs_j, lam)\n",
    "                r = r - Xs_j * b[j]\n",
    "        B[m, 1:] = b \n",
    "    \n",
    "    ##############################\n",
    "    # YOUR CODE:\n",
    "    # Scale back the coefficients;\n",
    "    # Update the intercepts stored in B[, 1]\n",
    "    ##############################\n",
    "    \n",
    "    \n",
    "    return(B.T)"
   ]
  },
  {
   "cell_type": "code",
   "execution_count": 137,
   "metadata": {},
   "outputs": [],
   "source": [
    "def one_var_lasso(r, x, lam):\n",
    "    # the code is written with r, x being n-by-1 vectors\n",
    "    xx = x.T @ x\n",
    "    xr = x.T @ r\n",
    "    b = (abs(xr) - lam/2)/xx\n",
    "    if b < 0:\n",
    "        b = 0\n",
    "    b = np.sign(xr) * b\n",
    "    return(b)"
   ]
  },
  {
   "cell_type": "code",
   "execution_count": 138,
   "metadata": {},
   "outputs": [],
   "source": [
    "X, y = load_datasets()"
   ]
  },
  {
   "cell_type": "code",
   "execution_count": 139,
   "metadata": {},
   "outputs": [
    {
     "name": "stdout",
     "output_type": "stream",
     "text": [
      "Scale Value of X: [2.1599128  2.32993957 0.77621918 0.25374293 0.20128372 0.11221396\n",
      " 3.56302006 0.53901312 0.8739684  0.39597467 1.36266243 0.91204607\n",
      " 0.98619131]\n",
      "Scale Value of y: [0.40835274]\n"
     ]
    }
   ],
   "source": [
    "log_lam_seq = np.linspace(-1, -8, num = 80)\n",
    "lam_seq = np.exp(log_lam_seq)\n",
    "myout = MyLasso(X, y, lam_seq, maxit = 100)"
   ]
  },
  {
   "cell_type": "code",
   "execution_count": 141,
   "metadata": {},
   "outputs": [],
   "source": [
    "scale_X = StandardScaler().fit(X)\n",
    "Xs = scale_X.transform(X)\n",
    "scale_y = StandardScaler().fit(np.array(y).reshape(-1,1))\n",
    "norm_y = scale_y.transform(np.array(y).reshape(-1,1))"
   ]
  },
  {
   "cell_type": "code",
   "execution_count": 142,
   "metadata": {},
   "outputs": [],
   "source": [
    "final_data = np.true_divide(myout[1:,:],scale_X.scale_.reshape(-1,1))"
   ]
  },
  {
   "cell_type": "code",
   "execution_count": 54,
   "metadata": {},
   "outputs": [],
   "source": [
    "myout_final = myout[1:,:]/scale_X.scale_.reshape(-1,1)*scale_y.scale_[0]"
   ]
  },
  {
   "cell_type": "code",
   "execution_count": 63,
   "metadata": {},
   "outputs": [],
   "source": [
    "from sklearn.linear_model import Lasso"
   ]
  },
  {
   "cell_type": "code",
   "execution_count": null,
   "metadata": {},
   "outputs": [],
   "source": [
    "np.true_divide(myout[1:,:])"
   ]
  }
 ],
 "metadata": {
  "kernelspec": {
   "display_name": "Python 3",
   "language": "python",
   "name": "python3"
  },
  "language_info": {
   "codemirror_mode": {
    "name": "ipython",
    "version": 3
   },
   "file_extension": ".py",
   "mimetype": "text/x-python",
   "name": "python",
   "nbconvert_exporter": "python",
   "pygments_lexer": "ipython3",
   "version": "3.7.6"
  }
 },
 "nbformat": 4,
 "nbformat_minor": 4
}
