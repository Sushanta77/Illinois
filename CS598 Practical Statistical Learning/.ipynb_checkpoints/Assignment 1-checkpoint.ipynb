{
 "cells": [
  {
   "cell_type": "code",
   "execution_count": 1,
   "metadata": {},
   "outputs": [],
   "source": [
    "import numpy as np\n",
    "import pandas as pd\n",
    "import matplotlib.pyplot as plt\n",
    "from sklearn.linear_model import LinearRegression\n",
    "from sklearn.neighbors import KNeighborsClassifier\n",
    "import seaborn as sns\n",
    "%matplotlib inline"
   ]
  },
  {
   "cell_type": "code",
   "execution_count": 80,
   "metadata": {},
   "outputs": [],
   "source": [
    "#This function is to generate the center \n",
    "def generate_center(n=20,mu1=(0,1),mu2=(1,0),sigma=0.5):\n",
    "    center_1 = np.random.normal(size=(int(n/2),2),loc=mu1)\n",
    "    center_2 = np.random.normal(size=(int(n/2),2),loc=mu2)\n",
    "    center = np.vstack((center_1,center_2))\n",
    "    return center\n",
    "    \n",
    "def generate_data(n_size=200,mu1=(0,1),mu2=(1,0),sigma=0.5):\n",
    "    x_train_class_0 = np.random.normal(size=((int(n_size/2)),2),loc=mu1,scale=sigma)\n",
    "    x_train_class_1 = np.random.normal(size=((int(n_size/2)),2),loc=mu2,scale=sigma)\n",
    "    y_train_class_0 = [0]*int(n_size/2)\n",
    "    y_train_class_1 = [1]*int(n_size/2)\n",
    "    x_train = np.concatenate((x_train_class_0,x_train_class_1))\n",
    "    y_train = np.concatenate((y_train_class_0,y_train_class_1))\n",
    "    return x_train,y_train\n",
    "\n",
    "def plot_data(x_train,n=100,mu1=(0,1),mu2=(1,0)):\n",
    "    plt.figure(figsize=(8,6))\n",
    "    plt.scatter(x_train[:n,0],x_train[:n,1],label = \"Class 0\",alpha = 0.3)\n",
    "    plt.scatter(x_train[n:,0],x_train[n:,1],label = \"Class 1\",alpha = 0.3)\n",
    "    plt.scatter(mu1[0],mu1[1],marker=\"+\",color=\"blue\",s=200)\n",
    "    plt.scatter(mu2[0],mu2[1],marker=\"+\",color=\"red\",s=200)\n",
    "    plt.legend()\n",
    "    plt.show()\n",
    "    \n",
    "def train_linear_mode(x_train,y_train):\n",
    "    lin_reg = LinearRegression()\n",
    "    lin_reg.fit(x_train,y_train)\n",
    "    \n",
    "def linear_model_predict(data,model):\n",
    "    y_predict_val = lin_reg.predict(data)\n",
    "    y_pred = [1 if i >= 0.5 else 0 for i in y_predict_val]\n",
    "    return y_pred\n",
    "\n",
    "\n",
    "def bayes_predict(data, mu1=(0,1),mu2=(1,0)):\n",
    "    bayes_val = 2*np.dot(data, np.subtract(mu2, mu1)) - (np.dot(mu2, mu2) - np.dot(mu1, mu2))\n",
    "    bayes_pred = [i > 0 for i in bayes_val]\n",
    "    return bayes_pred\n",
    "    \n",
    "def eror_cal(y_true,y_predict):\n",
    "    n = pd.Series(y_predict).shape[0]\n",
    "    lin_error = np.sum(y_true != y_predict)/n\n",
    "    return lin_error    \n",
    "    \n",
    "def plot_boxplot(data,labels,title = \"Box Plot\"):\n",
    "    fig1, ax1 = plt.subplots()\n",
    "    ax1.set_title(title)\n",
    "    ax1.boxplot(data,labels=labels)\n",
    "    plt.show()"
   ]
  },
  {
   "cell_type": "code",
   "execution_count": 79,
   "metadata": {},
   "outputs": [
    {
     "data": {
      "text/plain": [
       "array([-0.31488045, -0.1591189 ])"
      ]
     },
     "execution_count": 79,
     "metadata": {},
     "output_type": "execute_result"
    }
   ],
   "source": [
    "center[np.random.randint(10,20),:]"
   ]
  },
  {
   "cell_type": "code",
   "execution_count": 129,
   "metadata": {},
   "outputs": [
    {
     "name": "stdout",
     "output_type": "stream",
     "text": [
      "Random for Mu1 :2, Mu2: 17\n",
      "Iteration : 0 Linear Error : Train : 0.005 : Test: 0.0048\n",
      "Iteration : 0 Bayes Error  : Train : 0.005 : Test: 0.0058\n",
      "Iteration : 0 Linear Quad Error : Train : 0.005 : Test: 0.0047\n"
     ]
    },
    {
     "data": {
      "image/png": "[encoded data removed]",
      "text/plain": [
       "<Figure size 576x432 with 1 Axes>"
      ]
     },
     "metadata": {
      "needs_background": "light"
     },
     "output_type": "display_data"
    }
   ],
   "source": [
    "#Set the Seed to have consistent output for all Runs\n",
    "np.random.seed(11041977) \n",
    "num_iteration = 1\n",
    "num_center = 20\n",
    "lin_error = np.zeros([20,2])\n",
    "bayes_lin_error = np.zeros([20,2])\n",
    "lin_quad_error = np.zeros([20,2])\n",
    "bayes_lin_quad_error = np.zeros([20,2])\n",
    "print_ind = True\n",
    "\n",
    "#Generate the 20 Centers\n",
    "center = generate_center(num_center)\n",
    "\n",
    "#Loop through the 20 iterations to generate 20 Train / Test Samples\n",
    "for i in np.arange(num_iteration):\n",
    "    #Generate random number between 1 & 10 (mean = (0,1))\n",
    "    rand_mu1 = np.random.randint(1,10)\n",
    "    #Generate random number between 1 & 10 (mean = (1,0))\n",
    "    rand_mu2 = np.random.randint(11,20)\n",
    "    \n",
    "    if (print_ind):\n",
    "        print (\"Random for Mu1 :{}, Mu2: {}\".format(rand_mu1,rand_mu2))\n",
    "    \n",
    "    #Retrieve the data from the center from the random number\n",
    "    center_mu1 = center[rand_mu1,:]\n",
    "    center_mu2 = center[rand_mu2,:]\n",
    "    \n",
    "    #Generate the Train & Test Data based on the Center\n",
    "    x_train,y_train = generate_data(n_size=200,mu1=center_mu1,mu2=center_mu2)\n",
    "    x_test,y_test = generate_data(n_size=10000,mu1=center_mu1,mu2=center_mu2)\n",
    "    \n",
    "    #Generate the Quadratic Feature\n",
    "    x_train_qudratic = np.hstack((x_train,(x_train[:,0]**2).reshape(x_train.shape[0],1),(x_train[:,1]**2).reshape(x_train.shape[0],1),(x_train[:,0]*x_train[:,1]).reshape(x_train.shape[0],1)))\n",
    "    x_test_quadratic = np.hstack((x_test,(x_test[:,0]**2).reshape(x_test.shape[0],1),(x_test[:,1]**2).reshape(x_test.shape[0],1),(x_test[:,0]*x_test[:,1]).reshape(x_test.shape[0],1)))\n",
    "    \n",
    "    #plot_train_data(x_train)\n",
    "    if (False):\n",
    "        print (\"Data For Train: {}\".format(x_train[:2,:]))\n",
    "        print (\"Data For Test: {}\".format(x_test[:2,:]))\n",
    "\n",
    "    #Linear Regression Prediction (Non Quadrtic)\n",
    "    lin_reg = LinearRegression()\n",
    "    lin_reg.fit(x_train,y_train)\n",
    "    y_train_pred = linear_model_predict(data=x_train,model = lin_reg)\n",
    "    y_test_pred = linear_model_predict(data=x_test,model = lin_reg)\n",
    "    lin_error_train = eror_cal(y_train,y_train_pred)\n",
    "    lin_error_test = eror_cal(y_test,y_test_pred)\n",
    "    lin_error[i,0] = lin_error_train\n",
    "    lin_error[i,1] = lin_error_test\n",
    "    \n",
    "    #Linear Regression Prediction (Quadratic)\n",
    "    lin_reg = LinearRegression()\n",
    "    lin_reg.fit(x_train_qudratic,y_train)\n",
    "    y_train_pred = linear_model_predict(data=x_train_qudratic,model = lin_reg)\n",
    "    y_test_pred = linear_model_predict(data=x_test_quadratic,model = lin_reg)\n",
    "    lin_quad_error_train = eror_cal(y_train,y_train_pred)\n",
    "    lin_quad_error_test = eror_cal(y_test,y_test_pred)\n",
    "    lin_quad_error[i,0] = lin_quad_error_train\n",
    "    lin_quad_error[i,1] = lin_quad_error_test\n",
    "    \n",
    "    #Bayes Prediction (Non Quadratic)\n",
    "    y_train_pred = bayes_predict(data=x_train)\n",
    "    y_test_pred = bayes_predict(data=x_test)\n",
    "    bayes_error_train = eror_cal(y_train,y_train_pred)\n",
    "    bayes_error_test = eror_cal(y_test,y_test_pred)\n",
    "    bayes_lin_error[i,0] = bayes_error_train\n",
    "    bayes_lin_error[i,1] = bayes_error_test\n",
    "    \n",
    "    #Bayes Prediction (Quadratic)    \n",
    "    #y_train_pred = bayes_predict(data=x_train_qudratic)\n",
    "    #y_test_pred = bayes_predict(data=x_test_quadratic)\n",
    "    #bayes_quad_error_train = eror_cal(y_train,y_train_pred)\n",
    "    #bayes_quad_error_test = eror_cal(y_test,y_test_pred)\n",
    "    #bayes_lin_quad_error[i,0] = bayes_quad_error_train\n",
    "    #bayes_lin_quad_error[i,1] = bayes_quad_error_test\n",
    "    \n",
    "    \n",
    "    if (print_ind):\n",
    "        print (\"Iteration : {} Linear Error : Train : {} : Test: {}\".format(i,lin_error_train,lin_error_test))\n",
    "        print (\"Iteration : {} Bayes Error  : Train : {} : Test: {}\".format(i,bayes_error_train,bayes_error_test))\n",
    "        \n",
    "        print (\"Iteration : {} Linear Quad Error : Train : {} : Test: {}\".format(i,lin_quad_error_train,lin_quad_error_test))\n",
    "        #print (\"Iteration : {} Bayes Quad Error  : Train : {} : Test: {}\".format(i,bayes_quad_error_train,bayes_quad_error_test))\n",
    "\n",
    "#Plot Train Data\n",
    "plot_train_data(x_train)\n",
    "\n",
    "plot_trai\n",
    "#Plot Box Plot\n",
    "labels = [\"Train Error\",\"Test Error\"]\n",
    "#plot_boxplot(data=lin_error, labels = labels, title = \"Box Plot for Linear Regression\")\n",
    "#plot_boxplot(data=lin_quad_error, labels = labels, title = \"Box Plot for Linear Regression - Quadratic\")\n",
    "#plot_boxplot(data=bayes_lin_error, labels = labels, title = \"Box Plot for Bayes Error - Non Quadratic\")\n",
    "\n",
    "#plot_boxplot(data=bayes_lin_quad_error, labels = labels, title = \"Box Plot for Bayes Error - Quadratic\")\n"
   ]
  },
  {
   "cell_type": "code",
   "execution_count": 85,
   "metadata": {},
   "outputs": [
    {
     "data": {
      "text/plain": [
       "(10000, 2)"
      ]
     },
     "execution_count": 85,
     "metadata": {},
     "output_type": "execute_result"
    }
   ],
   "source": [
    "x_test.shape"
   ]
  },
  {
   "cell_type": "code",
   "execution_count": 24,
   "metadata": {},
   "outputs": [
    {
     "data": {
      "text/plain": [
       "<matplotlib.collections.PathCollection at 0x1a22666c90>"
      ]
     },
     "execution_count": 24,
     "metadata": {},
     "output_type": "execute_result"
    },
    {
     "data": {
      "image/png": "[encoded data removed]",
      "text/plain": [
       "<Figure size 432x288 with 1 Axes>"
      ]
     },
     "metadata": {
      "needs_background": "light"
     },
     "output_type": "display_data"
    }
   ],
   "source": [
    "n=100\n",
    "plt.scatter(x_train[:n,0],x_train[:n,1],color=\"blue\",alpha=0.5)\n",
    "plt.scatter(x_train[n:,0],x_train[n:,1],color=\"red\",alpha=0.5)"
   ]
  },
  {
   "cell_type": "code",
   "execution_count": 29,
   "metadata": {},
   "outputs": [
    {
     "data": {
      "text/plain": [
       "KNeighborsClassifier(algorithm='auto', leaf_size=30, metric='minkowski',\n",
       "                     metric_params=None, n_jobs=None, n_neighbors=20, p=2,\n",
       "                     weights='uniform')"
      ]
     },
     "execution_count": 29,
     "metadata": {},
     "output_type": "execute_result"
    }
   ],
   "source": [
    "knn = KNeighborsClassifier(n_neighbors=20)\n",
    "knn.fit(x_train,y_train)"
   ]
  },
  {
   "cell_type": "code",
   "execution_count": 30,
   "metadata": {},
   "outputs": [
    {
     "data": {
      "text/plain": [
       "array([0, 0, 0, ..., 1, 1, 1])"
      ]
     },
     "execution_count": 30,
     "metadata": {},
     "output_type": "execute_result"
    }
   ],
   "source": [
    "knn.predict(x_test)"
   ]
  },
  {
   "cell_type": "code",
   "execution_count": 35,
   "metadata": {},
   "outputs": [],
   "source": [
    "from sklearn.neighbors import KNeighborsRegressor"
   ]
  }
 ],
 "metadata": {
  "kernelspec": {
   "display_name": "Python 3",
   "language": "python",
   "name": "python3"
  },
  "language_info": {
   "codemirror_mode": {
    "name": "ipython",
    "version": 3
   },
   "file_extension": ".py",
   "mimetype": "text/x-python",
   "name": "python",
   "nbconvert_exporter": "python",
   "pygments_lexer": "ipython3",
   "version": "3.7.6"
  }
 },
 "nbformat": 4,
 "nbformat_minor": 4
}
