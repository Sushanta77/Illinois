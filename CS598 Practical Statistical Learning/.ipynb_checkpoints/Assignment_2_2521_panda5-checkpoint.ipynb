{
 "cells": [
  {
   "cell_type": "code",
   "execution_count": 1,
   "metadata": {},
   "outputs": [],
   "source": [
    "import numpy as np\n",
    "import pandas as pd\n",
    "import matplotlib.pyplot as plt\n",
    "from sklearn.linear_model import LinearRegression,LogisticRegression\n",
    "from sklearn.model_selection import KFold,train_test_split\n",
    "from sklearn.preprocessing import StandardScaler\n",
    "from sklearn import datasets\n",
    "%matplotlib inline"
   ]
  },
  {
   "cell_type": "code",
   "execution_count": 2,
   "metadata": {},
   "outputs": [],
   "source": [
    "def load_datasets():\n",
    "    data = pd.read_csv(\"/users/Sushanta/Documents/GitHub/Illinois/CS598 Practical Statistical Learning/Coding2_myData.csv\")\n",
    "    X = data[data.columns[:-1]]\n",
    "    y = data['Y']\n",
    "    \n",
    "    return X,y"
   ]
  },
  {
   "cell_type": "code",
   "execution_count": 3,
   "metadata": {},
   "outputs": [],
   "source": [
    "X, y = load_datasets()"
   ]
  },
  {
   "cell_type": "code",
   "execution_count": 25,
   "metadata": {},
   "outputs": [],
   "source": [
    "def MyLasso(X, y, lam_seq, maxit = 500):\n",
    "    \n",
    "    # X: n-by-p design matrix without the intercept \n",
    "    # y: n-by-1 response vector \n",
    "    # lam_seq: sequence of lambda values \n",
    "    # maxit: number of updates for each lambda \n",
    " \n",
    "    # Center/Scale X\n",
    "    # Center y\n",
    "  \n",
    "    n, p = X.shape\n",
    "    nlam = len(lam_seq)\n",
    "    \n",
    "    scale_X = StandardScaler().fit(X)\n",
    "    Xs = scale_X.transform(X)\n",
    "    scale_y = StandardScaler().fit(np.array(y).reshape(-1,1))\n",
    "    norm_y = scale_y.transform(np.array(y).reshape(-1,1))\n",
    "    y = norm_y\n",
    "    print (\"Scale Value of X: {}\".format(scale_X.scale_))\n",
    "    print (\"Scale Value of y: {}\".format(scale_y.scale_))\n",
    "    ##############################\n",
    "    # YOUR CODE: \n",
    "    # Record the corresponding means and scales\n",
    "    # For example, \n",
    "    # y_mean = mean of y\n",
    "    # Xs = centered and scaled X\n",
    "    ##############################\n",
    "    \n",
    "\n",
    "    # Initilize coef vector b and residual vector r\n",
    "    b = np.zeros(p)\n",
    "    r = y\n",
    "    B = np.zeros((nlam, p + 1))\n",
    "    \n",
    "    # Triple nested loop\n",
    "    for m in range(nlam):\n",
    "        #lam = 2 * n * lam_seq[m]\n",
    "        lam = lam_seq[m]\n",
    "        for step in range(maxit):\n",
    "            for j in range(p):\n",
    "                Xs_j = Xs[:, j].reshape(-1,1)\n",
    "                r = r + Xs_j * b[j]\n",
    "                b[j] = one_var_lasso(r, Xs_j, lam)\n",
    "                r = r - Xs_j * b[j]\n",
    "        B[m, 1:] = b \n",
    "    \n",
    "    ##############################\n",
    "    # YOUR CODE:\n",
    "    # Scale back the coefficients;\n",
    "    # Update the intercepts stored in B[, 1]\n",
    "    ##############################\n",
    "    \n",
    "    \n",
    "    return(B.T)"
   ]
  },
  {
   "cell_type": "code",
   "execution_count": 26,
   "metadata": {},
   "outputs": [],
   "source": [
    "def one_var_lasso(r, x, lam):\n",
    "    # the code is written with r, x being n-by-1 vectors\n",
    "    xx = x.T @ x\n",
    "    xr = x.T @ r\n",
    "    b = (abs(xr) - lam/2)/xx\n",
    "    if b < 0:\n",
    "        b = 0\n",
    "    b = np.sign(xr) * b\n",
    "    return(b)"
   ]
  },
  {
   "cell_type": "code",
   "execution_count": 27,
   "metadata": {},
   "outputs": [],
   "source": [
    "X, y = load_datasets()"
   ]
  },
  {
   "cell_type": "code",
   "execution_count": 28,
   "metadata": {},
   "outputs": [
    {
     "name": "stdout",
     "output_type": "stream",
     "text": [
      "Scale Value of X: [2.1599128  2.32993957 0.77621918 0.25374293 0.20128372 0.11221396\n",
      " 3.56302006 0.53901312 0.8739684  0.39597467 1.36266243 0.91204607\n",
      " 0.98619131]\n",
      "Scale Value of y: [0.40835274]\n"
     ]
    }
   ],
   "source": [
    "log_lam_seq = np.linspace(-1, -8, num = 80)\n",
    "lam_seq = np.exp(log_lam_seq)\n",
    "myout = MyLasso(X, y, lam_seq, maxit = 100)"
   ]
  },
  {
   "cell_type": "code",
   "execution_count": 29,
   "metadata": {},
   "outputs": [],
   "source": [
    "scale_X = StandardScaler().fit(X)\n",
    "Xs = scale_X.transform(X)\n",
    "scale_y = StandardScaler().fit(np.array(y).reshape(-1,1))\n",
    "norm_y = scale_y.transform(np.array(y).reshape(-1,1))"
   ]
  },
  {
   "cell_type": "code",
   "execution_count": 119,
   "metadata": {},
   "outputs": [],
   "source": [
    "final_data = np.true_divide(myout[1:,:],scale_X.scale_.reshape(-1,1))"
   ]
  },
  {
   "cell_type": "code",
   "execution_count": 135,
   "metadata": {},
   "outputs": [
    {
     "data": {
      "text/plain": [
       "array([-0.        ,  0.        , -0.        ,  0.        , -0.        ,\n",
       "        0.15963976, -0.        ,  0.        , -0.        , -0.05519732,\n",
       "       -0.02907179,  0.        , -0.59509023])"
      ]
     },
     "execution_count": 135,
     "metadata": {},
     "output_type": "execute_result"
    }
   ],
   "source": [
    "final_data[:,7]"
   ]
  },
  {
   "cell_type": "code",
   "execution_count": 54,
   "metadata": {},
   "outputs": [],
   "source": [
    "myout_final = myout[1:,:]/scale_X.scale_.reshape(-1,1)*scale_y.scale_[0]"
   ]
  },
  {
   "cell_type": "code",
   "execution_count": 60,
   "metadata": {},
   "outputs": [
    {
     "data": {
      "text/plain": [
       "array([ 0.        , -0.        ,  0.        , -0.        ,  0.        ,\n",
       "       -0.        ,  0.        , -0.        ,  0.        , -0.        ,\n",
       "       -0.        , -0.        ,  0.        , -0.54301662])"
      ]
     },
     "execution_count": 60,
     "metadata": {},
     "output_type": "execute_result"
    }
   ],
   "source": [
    "myout[:,3]"
   ]
  },
  {
   "cell_type": "code",
   "execution_count": 61,
   "metadata": {},
   "outputs": [
    {
     "data": {
      "text/plain": [
       "array([-0.        ,  0.        , -0.        ,  0.        , -0.        ,\n",
       "        0.02502664, -0.        ,  0.        , -0.        , -0.01297772,\n",
       "       -0.0090553 ,  0.        , -0.24207523])"
      ]
     },
     "execution_count": 61,
     "metadata": {},
     "output_type": "execute_result"
    }
   ],
   "source": [
    "myout_final[:,6]"
   ]
  },
  {
   "cell_type": "code",
   "execution_count": 68,
   "metadata": {},
   "outputs": [
    {
     "data": {
      "text/plain": [
       "array([-1.        , -1.08860759, -1.17721519, -1.26582278, -1.35443038,\n",
       "       -1.44303797, -1.53164557, -1.62025316, -1.70886076, -1.79746835,\n",
       "       -1.88607595, -1.97468354, -2.06329114, -2.15189873, -2.24050633,\n",
       "       -2.32911392, -2.41772152, -2.50632911, -2.59493671, -2.6835443 ,\n",
       "       -2.7721519 , -2.86075949, -2.94936709, -3.03797468, -3.12658228,\n",
       "       -3.21518987, -3.30379747, -3.39240506, -3.48101266, -3.56962025,\n",
       "       -3.65822785, -3.74683544, -3.83544304, -3.92405063, -4.01265823,\n",
       "       -4.10126582, -4.18987342, -4.27848101, -4.36708861, -4.4556962 ,\n",
       "       -4.5443038 , -4.63291139, -4.72151899, -4.81012658, -4.89873418,\n",
       "       -4.98734177, -5.07594937, -5.16455696, -5.25316456, -5.34177215,\n",
       "       -5.43037975, -5.51898734, -5.60759494, -5.69620253, -5.78481013,\n",
       "       -5.87341772, -5.96202532, -6.05063291, -6.13924051, -6.2278481 ,\n",
       "       -6.3164557 , -6.40506329, -6.49367089, -6.58227848, -6.67088608,\n",
       "       -6.75949367, -6.84810127, -6.93670886, -7.02531646, -7.11392405,\n",
       "       -7.20253165, -7.29113924, -7.37974684, -7.46835443, -7.55696203,\n",
       "       -7.64556962, -7.73417722, -7.82278481, -7.91139241, -8.        ])"
      ]
     },
     "execution_count": 68,
     "metadata": {},
     "output_type": "execute_result"
    }
   ],
   "source": [
    "np.linspace(-1, -8, num = 80)"
   ]
  },
  {
   "cell_type": "code",
   "execution_count": 94,
   "metadata": {},
   "outputs": [],
   "source": [
    "lam = np.exp(lam_seq[1])"
   ]
  },
  {
   "cell_type": "code",
   "execution_count": 95,
   "metadata": {},
   "outputs": [
    {
     "data": {
      "text/plain": [
       "1.400297857477617"
      ]
     },
     "execution_count": 95,
     "metadata": {},
     "output_type": "execute_result"
    }
   ],
   "source": [
    "lam"
   ]
  },
  {
   "cell_type": "code",
   "execution_count": 67,
   "metadata": {},
   "outputs": [
    {
     "data": {
      "text/plain": [
       "0.36787944117144233"
      ]
     },
     "execution_count": 67,
     "metadata": {},
     "output_type": "execute_result"
    }
   ],
   "source": [
    "lam_seq[0]"
   ]
  },
  {
   "cell_type": "code",
   "execution_count": 63,
   "metadata": {},
   "outputs": [],
   "source": [
    "from sklearn.linear_model import Lasso"
   ]
  },
  {
   "cell_type": "code",
   "execution_count": 79,
   "metadata": {},
   "outputs": [],
   "source": [
    "scale_X = StandardScaler().fit(X)\n",
    "Xs = scale_X.transform(X)\n",
    "scale_y = StandardScaler().fit(np.array(y).reshape(-1,1))\n",
    "norm_y = scale_y.transform(np.array(y).reshape(-1,1))\n",
    "#y = norm_y"
   ]
  },
  {
   "cell_type": "code",
   "execution_count": null,
   "metadata": {},
   "outputs": [],
   "source": [
    "np.true_divide(myout[1:,:])"
   ]
  },
  {
   "cell_type": "code",
   "execution_count": 114,
   "metadata": {},
   "outputs": [
    {
     "data": {
      "text/plain": [
       "array([-0.,  0., -0.,  0., -0.,  0., -0.,  0., -0., -0., -0.,  0., -0.])"
      ]
     },
     "execution_count": 114,
     "metadata": {},
     "output_type": "execute_result"
    }
   ],
   "source": [
    "lam = np.exp(2*506*lam_seq[55])\n",
    "lasso = Lasso(alpha = lam)\n",
    "lasso.fit(Xs,norm_y)\n",
    "lasso.coef_"
   ]
  },
  {
   "cell_type": "code",
   "execution_count": 100,
   "metadata": {},
   "outputs": [],
   "source": []
  },
  {
   "cell_type": "code",
   "execution_count": 105,
   "metadata": {},
   "outputs": [
    {
     "data": {
      "text/plain": [
       "array([-0.,  0., -0.,  0., -0.,  0., -0.,  0., -0., -0., -0.,  0., -0.])"
      ]
     },
     "execution_count": 105,
     "metadata": {},
     "output_type": "execute_result"
    }
   ],
   "source": []
  }
 ],
 "metadata": {
  "kernelspec": {
   "display_name": "Python 3",
   "language": "python",
   "name": "python3"
  },
  "language_info": {
   "codemirror_mode": {
    "name": "ipython",
    "version": 3
   },
   "file_extension": ".py",
   "mimetype": "text/x-python",
   "name": "python",
   "nbconvert_exporter": "python",
   "pygments_lexer": "ipython3",
   "version": "3.7.6"
  }
 },
 "nbformat": 4,
 "nbformat_minor": 4
}
