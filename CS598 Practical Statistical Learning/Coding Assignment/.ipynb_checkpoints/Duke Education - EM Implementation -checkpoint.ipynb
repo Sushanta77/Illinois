{
 "cells": [
  {
   "cell_type": "code",
   "execution_count": 4,
   "metadata": {},
   "outputs": [],
   "source": [
    "from scipy.stats import multivariate_normal as mvn\n",
    "import numpy as np"
   ]
  },
  {
   "cell_type": "code",
   "execution_count": 51,
   "metadata": {},
   "outputs": [],
   "source": [
    "def em_gaussian_mixture(xs, pis, mus, sigmas, tol=0.01, max_iter=100):\n",
    "\n",
    "    n, p = xs.shape\n",
    "    k = len(pis)\n",
    "\n",
    "    ll_old = 0\n",
    "    for i in range(max_iter):\n",
    "        exp_A = []\n",
    "        exp_B = []\n",
    "        ll_new = 0\n",
    "\n",
    "        # E Step\n",
    "        ws = np.zeros((k, n))\n",
    "        for j in range(len(mus)):\n",
    "            for i in range(n):\n",
    "                ws[j, i] = pis[j] * mvn(mus[j], sigmas[j]).pdf(xs[i])\n",
    "        ws /= ws.sum(0)\n",
    "\n",
    "        # M Step\n",
    "        pis = np.zeros(k)\n",
    "        for j in range(len(mus)):\n",
    "            for i in range(n):\n",
    "                pis[j] += ws[j, i]\n",
    "        pis /= n\n",
    "        mus = np.zeros((k, p))\n",
    "        for j in range(k):\n",
    "            for i in range(n):\n",
    "                mus[j] += ws[j, i] * xs[i]\n",
    "            mus[j] /= ws[j, :].sum()\n",
    "\n",
    "        sigmas = np.zeros((k, p, p))\n",
    "        for j in range(k):\n",
    "            for i in range(n):\n",
    "                ys = np.reshape(xs[i]- mus[j], (2,1))\n",
    "                sigmas[j] += ws[j, i] * np.dot(ys, ys.T)\n",
    "            sigmas[j] /= ws[j,:].sum()\n",
    "\n",
    "        # log likelihoood (Update Parameters)\n",
    "        ll_new = 0.0\n",
    "        for i in range(n):\n",
    "            s = 0\n",
    "            for j in range(k):\n",
    "                s += pis[j] * mvn(mus[j], sigmas[j]).pdf(xs[i])\n",
    "            ll_new += np.log(s)\n",
    "        ll_old = ll_new\n",
    "\n",
    "    return ll_new, pis, mus, sigmas"
   ]
  },
  {
   "cell_type": "code",
   "execution_count": 52,
   "metadata": {},
   "outputs": [],
   "source": [
    "np.random.seed(123)\n",
    "\n",
    "# create data set\n",
    "n = 1000\n",
    "_mus = np.array([[0,4], [-2,0]])\n",
    "_sigmas = np.array([[[3, 0], [0, 0.5]], [[1,0],[0,2]]])\n",
    "_pis = np.array([0.6, 0.4])\n",
    "#xs = np.concatenate([np.random.multivariate_normal(mu, sigma, int(pi*n))\n",
    "#                    for pi, mu, sigma in zip(_pis, _mus, _sigmas)])\n",
    "\n",
    "xs = np.loadtxt('data/Faithful.txt')\n",
    "\n",
    "\n",
    "# initial guesses for parameters\n",
    "#pis = np.random.random(2)\n",
    "#pis /= pis.sum()\n",
    "#mus = np.random.random((2,2))\n",
    "#sigmas = np.array([np.eye(2)] * 2)\n",
    "\n",
    "\n",
    "pis = [0.5,0.5]\n",
    "mus = np.array([[3.467750,70.132353],[3.5078162,71.6617647]])\n",
    "sigmas = np.array(([[[1.2975376,13.9110994],[13.911099,183.559040]]]*2))\n"
   ]
  },
  {
   "cell_type": "code",
   "execution_count": 53,
   "metadata": {},
   "outputs": [
    {
     "name": "stdout",
     "output_type": "stream",
     "text": [
      "pis1: [0.50351735 0.49648265]\n",
      "muss1: [[ 2.73476657 61.55115711]\n",
      " [ 4.25146916 80.37538348]]\n",
      "sigmas: [[  1.15930139  11.84677091]\n",
      " [ 11.84677091 149.42192184]]\n",
      "CPU times: user 2.84 s, sys: 26.2 ms, total: 2.86 s\n",
      "Wall time: 2.84 s\n"
     ]
    }
   ],
   "source": [
    "%%time\n",
    "ll1, pis1, mus1, sigmas1 = em_gaussian_mixture(xs, pis, mus, sigmas, max_iter=20)\n",
    "\n",
    "print (\"pis1: {}\".format(pis1))\n",
    "print (\"muss1: {}\".format(mus1))\n",
    "print (\"sigmas: {}\".format(sigmas1[0]))"
   ]
  },
  {
   "cell_type": "code",
   "execution_count": 54,
   "metadata": {},
   "outputs": [
    {
     "name": "stdout",
     "output_type": "stream",
     "text": [
      "Prob: [0.50351735 0.49648265]\n"
     ]
    }
   ],
   "source": [
    "print (\"Prob: {}\".format(pis1))"
   ]
  },
  {
   "cell_type": "code",
   "execution_count": 55,
   "metadata": {},
   "outputs": [
    {
     "name": "stdout",
     "output_type": "stream",
     "text": [
      "Mean: [[ 2.73476657 61.55115711]\n",
      " [ 4.25146916 80.37538348]]\n"
     ]
    }
   ],
   "source": [
    "print (\"Mean: {}\".format(mus1))"
   ]
  },
  {
   "cell_type": "code",
   "execution_count": 56,
   "metadata": {},
   "outputs": [
    {
     "name": "stdout",
     "output_type": "stream",
     "text": [
      "sigmas: [[  1.15930139  11.84677091]\n",
      " [ 11.84677091 149.42192184]]\n"
     ]
    }
   ],
   "source": [
    "print (\"sigmas: {}\".format(sigmas1[0]))"
   ]
  },
  {
   "cell_type": "code",
   "execution_count": null,
   "metadata": {},
   "outputs": [],
   "source": []
  }
 ],
 "metadata": {
  "kernelspec": {
   "display_name": "Python 3",
   "language": "python",
   "name": "python3"
  },
  "language_info": {
   "codemirror_mode": {
    "name": "ipython",
    "version": 3
   },
   "file_extension": ".py",
   "mimetype": "text/x-python",
   "name": "python",
   "nbconvert_exporter": "python",
   "pygments_lexer": "ipython3",
   "version": "3.7.6"
  }
 },
 "nbformat": 4,
 "nbformat_minor": 4
}
