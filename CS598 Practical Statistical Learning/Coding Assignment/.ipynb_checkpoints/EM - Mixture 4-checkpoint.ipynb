{
 "cells": [
  {
   "cell_type": "code",
   "execution_count": 2,
   "metadata": {},
   "outputs": [],
   "source": [
    "import numpy as np\n",
    "import scipy as sp"
   ]
  },
  {
   "cell_type": "code",
   "execution_count": 3,
   "metadata": {},
   "outputs": [],
   "source": [
    "import seaborn as sns\n",
    "from matplotlib import pyplot as plt\n",
    "%matplotlib inline"
   ]
  },
  {
   "cell_type": "code",
   "execution_count": 1,
   "metadata": {},
   "outputs": [],
   "source": [
    "class GMM(object):\n",
    "    def __init__(self, X, k=2):\n",
    "        # dimension\n",
    "        X = np.asarray(X)\n",
    "        self.m, self.n = X.shape\n",
    "        self.data = X.copy()\n",
    "        # number of mixtures\n",
    "        self.k = k\n",
    "        \n",
    "    def _init(self):\n",
    "        # init mixture means/sigmas\n",
    "        self.mean_arr = np.asmatrix(np.random.random((self.k, self.n)))\n",
    "        self.sigma_arr = np.array([np.asmatrix(np.identity(self.n)) for i in range(self.k)])\n",
    "        self.phi = np.ones(self.k)/self.k\n",
    "        self.w = np.asmatrix(np.empty((self.m, self.k), dtype=float))\n",
    "        #print(self.mean_arr)\n",
    "        #print(self.sigma_arr)\n",
    "    \n",
    "    def fit(self, tol=1e-4):\n",
    "        self._init()\n",
    "        num_iters = 0\n",
    "        ll = 1\n",
    "        previous_ll = 0\n",
    "        while(ll-previous_ll > tol):\n",
    "            previous_ll = self.loglikelihood()\n",
    "            self._fit()\n",
    "            num_iters += 1\n",
    "            ll = self.loglikelihood()\n",
    "            print('Iteration %d: log-likelihood is %.6f'%(num_iters, ll))\n",
    "        print('Terminate at %d-th iteration:log-likelihood is %.6f'%(num_iters, ll))\n",
    "    \n",
    "    def loglikelihood(self):\n",
    "        ll = 0\n",
    "        for i in range(self.m):\n",
    "            tmp = 0\n",
    "            for j in range(self.k):\n",
    "                #print(self.sigma_arr[j])\n",
    "                tmp += sp.stats.multivariate_normal.pdf(self.data[i, :], \n",
    "                                                        self.mean_arr[j, :].A1, \n",
    "                                                        self.sigma_arr[j, :]) *\\\n",
    "                       self.phi[j]\n",
    "            ll += np.log(tmp) \n",
    "        return ll\n",
    "    \n",
    "    def _fit(self):\n",
    "        self.e_step()\n",
    "        self.m_step()\n",
    "        \n",
    "    def e_step(self):\n",
    "        # calculate w_j^{(i)}\n",
    "        for i in range(self.m):\n",
    "            den = 0\n",
    "            for j in range(self.k):\n",
    "                num = sp.stats.multivariate_normal.pdf(self.data[i, :], \n",
    "                                                       self.mean_arr[j].A1, \n",
    "                                                       self.sigma_arr[j]) *\\\n",
    "                      self.phi[j]\n",
    "                den += num\n",
    "                self.w[i, j] = num\n",
    "            self.w[i, :] /= den\n",
    "            assert self.w[i, :].sum() - 1 < 1e-4\n",
    "            \n",
    "    def m_step(self):\n",
    "        for j in range(self.k):\n",
    "            const = self.w[:, j].sum()\n",
    "            self.phi[j] = 1/self.m * const\n",
    "            _mu_j = np.zeros(self.n)\n",
    "            _sigma_j = np.zeros((self.n, self.n))\n",
    "            for i in range(self.m):\n",
    "                _mu_j += (self.data[i, :] * self.w[i, j])\n",
    "                _sigma_j += self.w[i, j] * ((self.data[i, :] - self.mean_arr[j, :]).T * (self.data[i, :] - self.mean_arr[j, :]))\n",
    "                #print((self.data[i, :] - self.mean_arr[j, :]).T * (self.data[i, :] - self.mean_arr[j, :]))\n",
    "            self.mean_arr[j] = _mu_j / const\n",
    "            self.sigma_arr[j] = _sigma_j / const\n",
    "        #print(self.sigma_arr)"
   ]
  },
  {
   "cell_type": "code",
   "execution_count": 20,
   "metadata": {},
   "outputs": [],
   "source": [
    "def normalize_data(X):\n",
    "    \n",
    "    X_norm = np.zeros(X.shape)\n",
    "    X_norm[:,0] = (X[:,0] - np.amin(X[:,0]))/(np.amax(X[:,0]) - np.amin(X[:,0]))\n",
    "    X_norm[:,1] = (X[:,1] - np.amin(X[:,1]))/(np.amax(X[:,1]) - np.amin(X[:,1]))\n",
    "\n",
    "    return X_norm"
   ]
  },
  {
   "cell_type": "code",
   "execution_count": 43,
   "metadata": {},
   "outputs": [
    {
     "data": {
      "text/plain": [
       "(272, 2)"
      ]
     },
     "execution_count": 43,
     "metadata": {},
     "output_type": "execute_result"
    }
   ],
   "source": [
    "np.loadtxt('data/Faithful.txt')"
   ]
  },
  {
   "cell_type": "code",
   "execution_count": 21,
   "metadata": {},
   "outputs": [
    {
     "data": {
      "text/plain": [
       "(272, 2)"
      ]
     },
     "execution_count": 21,
     "metadata": {},
     "output_type": "execute_result"
    }
   ],
   "source": [
    "#X = np.random.multivariate_normal([0, 3], [[0.5, 0], [0, 0.8]], 20)\n",
    "#X = np.vstack((X, np.random.multivariate_normal([20, 10], np.identity(2), 50)))\n",
    "X = np.loadtxt('data/Faithful.txt')\n",
    "X = normalize_data(X)\n",
    "X.shape"
   ]
  },
  {
   "cell_type": "code",
   "execution_count": 22,
   "metadata": {},
   "outputs": [
    {
     "name": "stdout",
     "output_type": "stream",
     "text": [
      "Iteration 1: log-likelihood is 23.853017\n",
      "Iteration 2: log-likelihood is 129.969848\n",
      "Iteration 3: log-likelihood is 130.791615\n",
      "Iteration 4: log-likelihood is 131.165071\n",
      "Iteration 5: log-likelihood is 131.416280\n",
      "Iteration 6: log-likelihood is 131.670635\n",
      "Iteration 7: log-likelihood is 132.012542\n",
      "Iteration 8: log-likelihood is 132.555412\n",
      "Iteration 9: log-likelihood is 133.534060\n",
      "Iteration 10: log-likelihood is 135.555829\n",
      "Iteration 11: log-likelihood is 140.481602\n",
      "Iteration 12: log-likelihood is 154.375061\n",
      "Iteration 13: log-likelihood is 185.773989\n",
      "Iteration 14: log-likelihood is 209.182169\n",
      "Iteration 15: log-likelihood is 219.171828\n",
      "Iteration 16: log-likelihood is 225.867364\n",
      "Iteration 17: log-likelihood is 232.839856\n",
      "Iteration 18: log-likelihood is 242.309736\n",
      "Iteration 19: log-likelihood is 255.164158\n",
      "Iteration 20: log-likelihood is 269.201371\n",
      "Iteration 21: log-likelihood is 280.796583\n",
      "Iteration 22: log-likelihood is 289.020760\n",
      "Iteration 23: log-likelihood is 290.358276\n",
      "Iteration 24: log-likelihood is 290.404734\n",
      "Iteration 25: log-likelihood is 290.406844\n",
      "Iteration 26: log-likelihood is 290.406961\n",
      "Iteration 27: log-likelihood is 290.406967\n",
      "Terminate at 27-th iteration:log-likelihood is 290.406967\n"
     ]
    }
   ],
   "source": [
    "gmm = GMM(X)\n",
    "gmm.fit()"
   ]
  },
  {
   "cell_type": "code",
   "execution_count": 23,
   "metadata": {},
   "outputs": [
    {
     "data": {
      "text/plain": [
       "matrix([[0.12468479, 0.21657736],\n",
       "        [0.76847695, 0.69751328]])"
      ]
     },
     "execution_count": 23,
     "metadata": {},
     "output_type": "execute_result"
    }
   ],
   "source": [
    "gmm.mean_arr"
   ]
  },
  {
   "cell_type": "code",
   "execution_count": 24,
   "metadata": {},
   "outputs": [
    {
     "data": {
      "text/plain": [
       "array([[[0.00564688, 0.00234629],\n",
       "        [0.00234629, 0.01199635]],\n",
       "\n",
       "       [[0.01387421, 0.00507003],\n",
       "        [0.00507003, 0.01283192]]])"
      ]
     },
     "execution_count": 24,
     "metadata": {},
     "output_type": "execute_result"
    }
   ],
   "source": [
    "gmm.sigma_arr"
   ]
  },
  {
   "cell_type": "code",
   "execution_count": 25,
   "metadata": {},
   "outputs": [
    {
     "data": {
      "text/plain": [
       "array([0.35587627, 0.64412373])"
      ]
     },
     "execution_count": 25,
     "metadata": {},
     "output_type": "execute_result"
    }
   ],
   "source": [
    "gmm.phi"
   ]
  },
  {
   "cell_type": "code",
   "execution_count": 33,
   "metadata": {},
   "outputs": [
    {
     "data": {
      "text/html": [
       "<div>\n",
       "<style scoped>\n",
       "    .dataframe tbody tr th:only-of-type {\n",
       "        vertical-align: middle;\n",
       "    }\n",
       "\n",
       "    .dataframe tbody tr th {\n",
       "        vertical-align: top;\n",
       "    }\n",
       "\n",
       "    .dataframe thead th {\n",
       "        text-align: right;\n",
       "    }\n",
       "</style>\n",
       "<table border=\"1\" class=\"dataframe\">\n",
       "  <thead>\n",
       "    <tr style=\"text-align: right;\">\n",
       "      <th></th>\n",
       "      <th>3.600000000000000089e+00 7.900000000000000000e+01</th>\n",
       "    </tr>\n",
       "  </thead>\n",
       "  <tbody>\n",
       "    <tr>\n",
       "      <th>0</th>\n",
       "      <td>1.800000000000000044e+00 5.400000000000000000e+01</td>\n",
       "    </tr>\n",
       "    <tr>\n",
       "      <th>1</th>\n",
       "      <td>3.333000000000000185e+00 7.400000000000000000e+01</td>\n",
       "    </tr>\n",
       "    <tr>\n",
       "      <th>2</th>\n",
       "      <td>2.282999999999999918e+00 6.200000000000000000e+01</td>\n",
       "    </tr>\n",
       "    <tr>\n",
       "      <th>3</th>\n",
       "      <td>4.533000000000000362e+00 8.500000000000000000e+01</td>\n",
       "    </tr>\n",
       "    <tr>\n",
       "      <th>4</th>\n",
       "      <td>2.883000000000000007e+00 5.500000000000000000e+01</td>\n",
       "    </tr>\n",
       "    <tr>\n",
       "      <th>...</th>\n",
       "      <td>...</td>\n",
       "    </tr>\n",
       "    <tr>\n",
       "      <th>266</th>\n",
       "      <td>4.116999999999999993e+00 8.100000000000000000e+01</td>\n",
       "    </tr>\n",
       "    <tr>\n",
       "      <th>267</th>\n",
       "      <td>2.149999999999999911e+00 4.600000000000000000e+01</td>\n",
       "    </tr>\n",
       "    <tr>\n",
       "      <th>268</th>\n",
       "      <td>4.416999999999999815e+00 9.000000000000000000e+01</td>\n",
       "    </tr>\n",
       "    <tr>\n",
       "      <th>269</th>\n",
       "      <td>1.816999999999999948e+00 4.600000000000000000e+01</td>\n",
       "    </tr>\n",
       "    <tr>\n",
       "      <th>270</th>\n",
       "      <td>4.466999999999999638e+00 7.400000000000000000e+01</td>\n",
       "    </tr>\n",
       "  </tbody>\n",
       "</table>\n",
       "<p>271 rows × 1 columns</p>\n",
       "</div>"
      ],
      "text/plain": [
       "     3.600000000000000089e+00 7.900000000000000000e+01\n",
       "0    1.800000000000000044e+00 5.400000000000000000e+01\n",
       "1    3.333000000000000185e+00 7.400000000000000000e+01\n",
       "2    2.282999999999999918e+00 6.200000000000000000e+01\n",
       "3    4.533000000000000362e+00 8.500000000000000000e+01\n",
       "4    2.883000000000000007e+00 5.500000000000000000e+01\n",
       "..                                                 ...\n",
       "266  4.116999999999999993e+00 8.100000000000000000e+01\n",
       "267  2.149999999999999911e+00 4.600000000000000000e+01\n",
       "268  4.416999999999999815e+00 9.000000000000000000e+01\n",
       "269  1.816999999999999948e+00 4.600000000000000000e+01\n",
       "270  4.466999999999999638e+00 7.400000000000000000e+01\n",
       "\n",
       "[271 rows x 1 columns]"
      ]
     },
     "execution_count": 33,
     "metadata": {},
     "output_type": "execute_result"
    }
   ],
   "source": [
    "pd.read_csv('data/Faithful.txt')"
   ]
  },
  {
   "cell_type": "code",
   "execution_count": 55,
   "metadata": {},
   "outputs": [
    {
     "data": {
      "image/png": "[encoded data removed]",
      "text/plain": [
       "<Figure size 432x288 with 1 Axes>"
      ]
     },
     "metadata": {
      "needs_background": "light"
     },
     "output_type": "display_data"
    }
   ],
   "source": [
    "import pandas as pd\n",
    "data = pd.read_csv('data/Faithful.txt',names = (['height','weight']),delimiter=' ')\n",
    "\n",
    "# training gaussian mixture model \n",
    "from sklearn.mixture import GaussianMixture\n",
    "gmm = GaussianMixture(n_components=2,max_iter=20)\n",
    "gmm.fit(data)\n",
    "\n",
    "#predictions from gmm\n",
    "labels = gmm.predict(data)\n",
    "frame = pd.DataFrame(data)\n",
    "frame['cluster'] = labels\n",
    "frame.columns = ['Weight', 'Height', 'cluster']\n",
    "\n",
    "color=['blue','green']\n",
    "for k in range(0,2):\n",
    "    data = frame[frame[\"cluster\"]==k]\n",
    "    plt.scatter(data[\"Weight\"],data[\"Height\"],c=color[k])\n",
    "plt.show()\n",
    "\n",
    "print (\"Covariance: {}\".format(gmm.covariances_))\n",
    "print (\"Means: {}\".format(gmm.covariances_))"
   ]
  },
  {
   "cell_type": "code",
   "execution_count": 56,
   "metadata": {},
   "outputs": [
    {
     "data": {
      "text/plain": [
       "array([[[ 0.06927449,  0.43627723],\n",
       "        [ 0.43627723, 33.70493352]],\n",
       "\n",
       "       [[ 0.16982046,  0.93871793],\n",
       "        [ 0.93871793, 36.02497019]]])"
      ]
     },
     "execution_count": 56,
     "metadata": {},
     "output_type": "execute_result"
    }
   ],
   "source": [
    "gmm.covariances_"
   ]
  },
  {
   "cell_type": "code",
   "execution_count": 57,
   "metadata": {},
   "outputs": [
    {
     "data": {
      "text/plain": [
       "array([[ 2.03652149, 54.47986018],\n",
       "       [ 4.28977944, 79.96953298]])"
      ]
     },
     "execution_count": 57,
     "metadata": {},
     "output_type": "execute_result"
    }
   ],
   "source": [
    "gmm.means_"
   ]
  }
 ],
 "metadata": {
  "kernelspec": {
   "display_name": "Python 3",
   "language": "python",
   "name": "python3"
  },
  "language_info": {
   "codemirror_mode": {
    "name": "ipython",
    "version": 3
   },
   "file_extension": ".py",
   "mimetype": "text/x-python",
   "name": "python",
   "nbconvert_exporter": "python",
   "pygments_lexer": "ipython3",
   "version": "3.7.6"
  }
 },
 "nbformat": 4,
 "nbformat_minor": 4
}
