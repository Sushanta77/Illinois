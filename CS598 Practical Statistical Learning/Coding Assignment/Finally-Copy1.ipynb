{
 "cells": [
  {
   "cell_type": "code",
   "execution_count": 1,
   "metadata": {},
   "outputs": [],
   "source": [
    "import numpy as np\n",
    "from scipy.stats import multivariate_normal\n",
    "import matplotlib.pyplot as plt \n",
    "%matplotlib inline"
   ]
  },
  {
   "cell_type": "code",
   "execution_count": 2,
   "metadata": {},
   "outputs": [],
   "source": [
    "def log_sum_exp(Z):\n",
    "    \"\"\" Compute log(\\sum_i exp(Z_i)) for some array Z.\"\"\"\n",
    "    return np.max(Z) + np.log(np.sum(np.exp(Z - np.max(Z))))\n",
    "\n",
    "def loglikelihood(data, weights, means, covs):\n",
    "    \"\"\" Compute the loglikelihood of the data for a Gaussian mixture model with the given parameters. \"\"\"\n",
    "    num_clusters = len(means)\n",
    "    num_dim = len(data[0])\n",
    "    \n",
    "    ll = 0\n",
    "    for d in data:\n",
    "        \n",
    "        Z = np.zeros(num_clusters)\n",
    "        for k in range(num_clusters):\n",
    "            \n",
    "            # Compute (x-mu)^T * Sigma^{-1} * (x-mu)\n",
    "            delta = np.array(d) - means[k]\n",
    "            exponent_term = np.dot(delta.T, np.dot(np.linalg.inv(covs[k]), delta))\n",
    "            \n",
    "            # Compute loglikelihood contribution for this data point and this cluster\n",
    "            Z[k] += np.log(weights[k])\n",
    "            Z[k] -= 1/2. * (num_dim * np.log(2*np.pi) + np.log(np.linalg.det(covs[k])) + exponent_term)\n",
    "            \n",
    "        # Increment loglikelihood contribution of this data point across all clusters\n",
    "        ll += log_sum_exp(Z)\n",
    "        \n",
    "    return ll"
   ]
  },
  {
   "cell_type": "code",
   "execution_count": 25,
   "metadata": {},
   "outputs": [
    {
     "ename": "NameError",
     "evalue": "name 'means' is not defined",
     "output_type": "error",
     "traceback": [
      "\u001b[0;31m---------------------------------------------------------------------------\u001b[0m",
      "\u001b[0;31mNameError\u001b[0m                                 Traceback (most recent call last)",
      "\u001b[0;32m<ipython-input-25-d0d4c54ee07a>\u001b[0m in \u001b[0;36m<module>\u001b[0;34m\u001b[0m\n\u001b[0;32m----> 1\u001b[0;31m \u001b[0mlen\u001b[0m\u001b[0;34m(\u001b[0m\u001b[0mmeans\u001b[0m\u001b[0;34m)\u001b[0m\u001b[0;34m\u001b[0m\u001b[0;34m\u001b[0m\u001b[0m\n\u001b[0m",
      "\u001b[0;31mNameError\u001b[0m: name 'means' is not defined"
     ]
    }
   ],
   "source": [
    "len(means)"
   ]
  },
  {
   "cell_type": "code",
   "execution_count": 23,
   "metadata": {},
   "outputs": [],
   "source": [
    "def EM(data, init_means, init_covariances, init_weights, maxiter=20):\n",
    "    \n",
    "    # Make copies of initial parameters, which we will update during each iteration\n",
    "    means = init_means[:]\n",
    "    covariances = init_covariances[:]\n",
    "    weights = init_weights[:]\n",
    "    \n",
    "    # Infer dimensions of dataset and the number of clusters\n",
    "    num_data = len(data)\n",
    "    num_dim = len(data[0])\n",
    "    num_clusters = len(means)\n",
    "    \n",
    "    # Initialize some useful variables\n",
    "    resp = np.zeros((num_data, num_clusters))\n",
    "    ll = loglikelihood(data, weights, means, covariances)\n",
    "    ll_trace = [ll]\n",
    "    \n",
    "    for i in range(maxiter):\n",
    "        # E-step: compute responsibilities\n",
    "        for j in range(num_data):\n",
    "            for k in range(num_clusters):\n",
    "                resp[j, k] = weights[k]*multivariate_normal.pdf(data[j],means[k],covariances[k])\n",
    "        row_sums = resp.sum(axis=1)[:, np.newaxis]\n",
    "        resp = resp / row_sums # normalize over all possible cluster assignments\n",
    "\n",
    "        # M-step\n",
    "        counts = np.sum(resp, axis=0)\n",
    "        print (\"num_data:{}\".format(num_data))\n",
    "        for k in range(num_clusters):\n",
    "            weights[k] = counts[k]/num_data\n",
    "            weighted_sum = 0\n",
    "            for j in range(num_data):\n",
    "                weighted_sum += (resp[j,k]*data[j])\n",
    "            means[k] = weighted_sum/counts[k]\n",
    "            \n",
    "            weighted_sum = np.zeros((num_dim, num_dim))\n",
    "            for j in range(num_data):\n",
    "                weighted_sum += (resp[j,k]*np.outer(data[j]-means[k],data[j]-means[k]))\n",
    "            covariances[k] = weighted_sum/counts[k]\n",
    "        \n",
    "        # Compute the loglikelihood at this iteration\n",
    "        ll_latest = loglikelihood(data, weights, means, covariances)\n",
    "        ll_trace.append(ll_latest)\n",
    "        \n",
    "        ll = ll_latest\n",
    "    \n",
    "        print(\"Iteration : {} - means:{}\".format(i,means))\n",
    "        \n",
    "        #plt.figure(figsize=(12,8))\n",
    "        #plt.scatter(X[:,0],X[:,1])\n",
    "        #plt.scatter(means[0][0], means[0][1], color = \"red\")\n",
    "        #plt.scatter(means[1][0], means[1][1],color=\"orange\")\n",
    "    \n",
    "    out = {'weights': weights, 'means': means, 'covs': covariances, 'loglik': ll_trace, 'resp': resp}\n",
    "\n",
    "    return out"
   ]
  },
  {
   "cell_type": "code",
   "execution_count": 13,
   "metadata": {},
   "outputs": [],
   "source": [
    "#Load the Data\n",
    "X = np.loadtxt('data/Faithful.txt')"
   ]
  },
  {
   "cell_type": "code",
   "execution_count": 28,
   "metadata": {},
   "outputs": [
    {
     "data": {
      "text/plain": [
       "2"
      ]
     },
     "execution_count": 28,
     "metadata": {},
     "output_type": "execute_result"
    }
   ],
   "source": [
    "len(initial_weights)"
   ]
  },
  {
   "cell_type": "code",
   "execution_count": 26,
   "metadata": {},
   "outputs": [
    {
     "name": "stdout",
     "output_type": "stream",
     "text": [
      "num_data:272\n",
      "Iteration : 0 - means:[array([ 3.46776969, 70.13260977]), array([ 3.5078488 , 71.66350617])]\n",
      "num_data:272\n",
      "Iteration : 1 - means:[array([ 3.46294816, 70.05882059]), array([ 3.51268552, 71.73757547])]\n",
      "num_data:272\n",
      "Iteration : 2 - means:[array([ 3.45668322, 69.95616588]), array([ 3.51897131, 71.84062497])]\n",
      "num_data:272\n",
      "Iteration : 3 - means:[array([ 3.44929539, 69.83095522]), array([ 3.52638636, 71.96636365])]\n",
      "num_data:272\n",
      "Iteration : 4 - means:[array([ 3.4406794 , 69.68368151]), array([ 3.53503842, 72.11434259])]\n",
      "num_data:272\n",
      "Iteration : 5 - means:[array([ 3.43064547, 69.51340357]), array([ 3.54512126, 72.28557083])]\n",
      "num_data:272\n",
      "Iteration : 6 - means:[array([ 3.41895944, 69.31842936]), array([ 3.55687499, 72.48184128])]\n",
      "num_data:272\n",
      "Iteration : 7 - means:[array([ 3.40534086, 69.09644779]), array([ 3.57058905, 72.70561393])]\n",
      "num_data:272\n",
      "Iteration : 8 - means:[array([ 3.38945156, 68.84452123]), array([ 3.58661524, 72.96004629])]\n",
      "num_data:272\n",
      "Iteration : 9 - means:[array([ 3.37087721, 68.55898572]), array([ 3.60538887, 73.24912975])]\n",
      "num_data:272\n",
      "Iteration : 10 - means:[array([ 3.34909907, 68.23524897]), array([ 3.62746135, 73.57795157])]\n",
      "num_data:272\n",
      "Iteration : 11 - means:[array([ 3.32345101, 67.86745754]), array([ 3.65355087, 73.95312851])]\n",
      "num_data:272\n",
      "Iteration : 12 - means:[array([ 3.29305266, 67.4479858 ]), array([ 3.68462262, 74.38348842])]\n",
      "num_data:272\n",
      "Iteration : 13 - means:[array([ 3.25670374, 66.96667177]), array([ 3.72201798, 74.8811179 ])]\n",
      "num_data:272\n",
      "Iteration : 14 - means:[array([ 3.21271203, 66.40968686]), array([ 3.7676665 , 75.46293712])]\n",
      "num_data:272\n",
      "Iteration : 15 - means:[array([ 3.15860538, 65.75789358]), array([ 3.82443481, 76.15290933])]\n",
      "num_data:272\n",
      "Iteration : 16 - means:[array([ 3.09064133, 64.98462901]), array([ 3.89666815, 76.98431664])]\n",
      "num_data:272\n",
      "Iteration : 17 - means:[array([ 3.00300482, 64.05355724]), array([ 3.99075858, 77.99744624])]\n",
      "num_data:272\n",
      "Iteration : 18 - means:[array([ 2.88689783, 62.92018254]), array([ 4.11363446, 79.20536546])]\n",
      "num_data:272\n",
      "Iteration : 19 - means:[array([ 2.73291856, 61.53818513]), array([ 4.25370854, 80.39306683])]\n"
     ]
    }
   ],
   "source": [
    "np.random.seed(234)\n",
    "\n",
    "#Two Cluster\n",
    "initial_means = [np.array([3.467750,70.132353]),np.array([3.5078162,71.6617647])]\n",
    "initial_covs = [np.array([[1.2975376,13.9110994],[13.911099,183.559040]])]*2\n",
    "initial_weights = [0.50062804,0.49937196]\n",
    "\n",
    "#Three Cluster\n",
    "#initial_means = [np.array([3.4459639,69.8433735]),np.array([3.6217053,72.1578947]),np.array([3.3893617,70.5531915])]\n",
    "#initial_covs = [np.array([[1.2877935,13.842302],[13.8423020,183.208932]])]*3\n",
    "#initial_weights = [0.30514706,0.34926471,0.34558824]\n",
    "\n",
    "# Run EM \n",
    "results = EM(X, initial_means, initial_covs, initial_weights)"
   ]
  },
  {
   "cell_type": "code",
   "execution_count": 6,
   "metadata": {},
   "outputs": [
    {
     "data": {
      "text/plain": [
       "[0.5036365730555193, 0.49636342694448077]"
      ]
     },
     "execution_count": 6,
     "metadata": {},
     "output_type": "execute_result"
    }
   ],
   "source": [
    "results['weights']"
   ]
  },
  {
   "cell_type": "code",
   "execution_count": 7,
   "metadata": {},
   "outputs": [
    {
     "data": {
      "text/plain": [
       "[array([ 2.73291856, 61.53818513]), array([ 4.25370854, 80.39306683])]"
      ]
     },
     "execution_count": 7,
     "metadata": {},
     "output_type": "execute_result"
    }
   ],
   "source": [
    "results['means']"
   ]
  },
  {
   "cell_type": "code",
   "execution_count": 8,
   "metadata": {},
   "outputs": [
    {
     "data": {
      "text/plain": [
       "array([[  1.15708628,  11.82112052],\n",
       "       [ 11.82112052, 149.17019173]])"
      ]
     },
     "execution_count": 8,
     "metadata": {},
     "output_type": "execute_result"
    }
   ],
   "source": [
    "results['covs'][0]"
   ]
  }
 ],
 "metadata": {
  "kernelspec": {
   "display_name": "Python 3",
   "language": "python",
   "name": "python3"
  },
  "language_info": {
   "codemirror_mode": {
    "name": "ipython",
    "version": 3
   },
   "file_extension": ".py",
   "mimetype": "text/x-python",
   "name": "python",
   "nbconvert_exporter": "python",
   "pygments_lexer": "ipython3",
   "version": "3.7.6"
  }
 },
 "nbformat": 4,
 "nbformat_minor": 4
}
