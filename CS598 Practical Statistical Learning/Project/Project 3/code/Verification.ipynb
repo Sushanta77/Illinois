{
 "cells": [
  {
   "cell_type": "code",
   "execution_count": 1,
   "metadata": {},
   "outputs": [],
   "source": [
    "import numpy as np\n",
    "import pandas as pd\n",
    "from sklearn.metrics import roc_auc_score"
   ]
  },
  {
   "cell_type": "code",
   "execution_count": 7,
   "metadata": {},
   "outputs": [
    {
     "name": "stdout",
     "output_type": "stream",
     "text": [
      "AUC Score:0.963359342649349\n"
     ]
    }
   ],
   "source": [
    "#---------------------------------------------\n",
    "#Remove the Below code when you are Done !!\n",
    "#---------------------------------------------\n",
    "test_y = pd.read_csv(\"test_y.tsv\", sep=\"\\t\")\n",
    "y_test = test_y[\"sentiment\"]\n",
    "pred = pd.read_csv(\"mysubmission.txt\",sep=\"\\t\")\n",
    "\n",
    "#Print the AUC Score\n",
    "print (\"AUC Score:{}\".format(roc_auc_score(y_test, pred[\"prob\"])))"
   ]
  }
 ],
 "metadata": {
  "kernelspec": {
   "display_name": "Python 3",
   "language": "python",
   "name": "python3"
  },
  "language_info": {
   "codemirror_mode": {
    "name": "ipython",
    "version": 3
   },
   "file_extension": ".py",
   "mimetype": "text/x-python",
   "name": "python",
   "nbconvert_exporter": "python",
   "pygments_lexer": "ipython3",
   "version": "3.7.6"
  }
 },
 "nbformat": 4,
 "nbformat_minor": 4
}
