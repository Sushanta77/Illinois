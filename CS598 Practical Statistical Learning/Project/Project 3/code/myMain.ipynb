{
 "cells": [
  {
   "cell_type": "code",
   "execution_count": 21,
   "metadata": {},
   "outputs": [],
   "source": [
    "import pandas as pd\n",
    "import numpy as np\n",
    "from nltk.corpus import stopwords\n",
    "from bs4 import BeautifulSoup\n",
    "from sklearn.feature_extraction.text import CountVectorizer\n",
    "import re\n",
    "from sklearn.linear_model import LogisticRegression, SGDClassifier\n",
    "from sklearn.metrics import accuracy_score, roc_auc_score, roc_curve, confusion_matrix\n",
    "import xgboost as xgb"
   ]
  },
  {
   "cell_type": "code",
   "execution_count": 2,
   "metadata": {},
   "outputs": [],
   "source": [
    "#stopword_list = set(stopwords.words('english'))\n",
    "\n",
    "stopword_list = set([\"i\", \"me\", \"my\", \"myself\",\"we\", \"our\", \"ours\", \"ourselves\",\"you\", \"your\", \"yours\",\n",
    "               \"their\", \"they\", \"his\", \"her\",\"she\", \"he\", \"a\", \"an\", \"and\",\"is\", \"was\", \"are\", \"were\", \n",
    "               \"him\", \"himself\", \"has\", \"have\", \"it\", \"its\", \"the\", \"us\"])\n",
    "\n",
    "def strip_html(text):\n",
    "    soup = BeautifulSoup(text, \"html.parser\")\n",
    "    return soup.get_text()\n",
    "\n",
    "def remove_between_square_brackets(text):\n",
    "    return re.sub('\\[[^]]*\\]', '', text)\n",
    "\n",
    "def remove_special_characters(text, remove_digits=True):\n",
    "    pattern=r'[^a-zA-z0-9\\s]'\n",
    "    text=re.sub(pattern,'',text)\n",
    "    return text\n",
    "\n",
    "def remove_noise_text(text):\n",
    "    text = strip_html(text)\n",
    "    text = remove_between_square_brackets(text)\n",
    "    text = remove_special_characters(text)\n",
    "    return text"
   ]
  },
  {
   "cell_type": "code",
   "execution_count": 3,
   "metadata": {},
   "outputs": [],
   "source": [
    "#Load the Train, Test, Test_y data\n",
    "x_data = pd.read_csv(\"../data/alldata.tsv\",sep=\"\\t\")\n",
    "x_train = pd.read_csv(\"../data/split_0/train.csv\")\n",
    "x_test = pd.read_csv(\"../data/split_0/test.csv\")\n",
    "test_y = pd.read_csv(\"../data/split_0/test_y.csv\")"
   ]
  },
  {
   "cell_type": "code",
   "execution_count": null,
   "metadata": {},
   "outputs": [],
   "source": [
    "#Remove the Noise\n",
    "#x_data[\"review\"] = x_data[\"review\"].apply(remove_noise_text)"
   ]
  },
  {
   "cell_type": "code",
   "execution_count": 4,
   "metadata": {},
   "outputs": [],
   "source": [
    "#Remove stopwords\n",
    "x_data[\"review\"] = x_data[\"review\"].apply(lambda x: \" \".join(x for x in x.split() if x.lower() not in stopword_list))"
   ]
  },
  {
   "cell_type": "code",
   "execution_count": 5,
   "metadata": {},
   "outputs": [],
   "source": [
    "df = (pd.Series(' '.join(x_data['review']).split())).value_counts().reset_index()\n",
    "df = df.rename(columns={'index':'word',0:'word_count'})"
   ]
  },
  {
   "cell_type": "code",
   "execution_count": 6,
   "metadata": {},
   "outputs": [],
   "source": [
    "#Remove less frequent words\n",
    "least_frequent_words = set(df[df['word_count'] < 11]['word'].str.lower())\n",
    "x_data[\"review\"] = x_data[\"review\"].apply(lambda x: \" \".join(x for x in x.split() if x.lower() not in least_frequent_words))\n"
   ]
  },
  {
   "cell_type": "code",
   "execution_count": 12,
   "metadata": {},
   "outputs": [],
   "source": [
    "y_train = x_train['sentiment']\n",
    "y_test = test_y['sentiment']"
   ]
  },
  {
   "cell_type": "code",
   "execution_count": 9,
   "metadata": {},
   "outputs": [
    {
     "name": "stdout",
     "output_type": "stream",
     "text": [
      "3251992\n",
      "(25000, 3251992)\n",
      "(25000, 3251992)\n"
     ]
    }
   ],
   "source": [
    "#cv=CountVectorizer(min_df=0.001,max_df=0.5,ngram_range=(1,3))\n",
    "cv=CountVectorizer(ngram_range=(1,3))\n",
    "X_data_sparse = cv.fit_transform(x_data['review'])\n",
    "\n",
    "X_train_sparse = cv.transform(x_train['review'])\n",
    "X_test_sparse = cv.transform(x_test['review'])\n",
    "\n",
    "print (len(cv.vocabulary_))\n",
    "print (X_test_sparse.shape)\n",
    "print (X_train_sparse.shape)"
   ]
  },
  {
   "cell_type": "code",
   "execution_count": 10,
   "metadata": {},
   "outputs": [
    {
     "name": "stdout",
     "output_type": "stream",
     "text": [
      "AUC: 0.89\n"
     ]
    }
   ],
   "source": [
    "#Logistic Regression\n",
    "logit = LogisticRegression(random_state=17,n_jobs=-1, solver='lbfgs')\n",
    "logit.fit(X_train_sparse, y_train)\n",
    "print (\"AUC: {}\".format(round(roc_auc_score(y_test, logit.predict(X_test_sparse)), 3)))"
   ]
  },
  {
   "cell_type": "code",
   "execution_count": null,
   "metadata": {},
   "outputs": [],
   "source": [
    "df = (pd.Series(' '.join(x_data['review']).split())).value_counts().reset_index()\n",
    "df = df.rename(columns={'index':'word',0:'word_count'})"
   ]
  },
  {
   "cell_type": "code",
   "execution_count": null,
   "metadata": {},
   "outputs": [],
   "source": [
    "least_frequent_words = set(df[df['word_count'] < 11]['word'].str.lower())\n",
    "x_data[\"review\"] = x_data[\"review\"].apply(lambda x: \" \".join(x for x in x.split() if x.lower() not in least_frequent_words))"
   ]
  },
  {
   "cell_type": "code",
   "execution_count": 7,
   "metadata": {},
   "outputs": [],
   "source": [
    "df1 = (pd.Series(' '.join(x_data['review']).split())).value_counts().reset_index()\n",
    "df1 = df1.rename(columns={'index':'word',0:'word_count'})"
   ]
  },
  {
   "cell_type": "code",
   "execution_count": null,
   "metadata": {},
   "outputs": [],
   "source": [
    "df1"
   ]
  },
  {
   "cell_type": "code",
   "execution_count": null,
   "metadata": {},
   "outputs": [],
   "source": [
    "#Logistic Regression\n",
    "logit = LogisticRegression(C=2.0,\n",
    "                           solver='lbfgs')\n",
    "logit.fit(X_train_sparse, y_train)\n",
    "print (\"AUC: {}\".format(round(roc_auc_score(y_test, logit.predict(X_test_sparse)), 3)))"
   ]
  },
  {
   "cell_type": "code",
   "execution_count": 19,
   "metadata": {},
   "outputs": [
    {
     "name": "stdout",
     "output_type": "stream",
     "text": [
      "Sigma:0.001 AUC: 0.857\n",
      "Sigma:0.002 AUC: 0.869\n",
      "Sigma:0.003 AUC: 0.876\n",
      "Sigma:0.004 AUC: 0.88\n",
      "Sigma:0.006 AUC: 0.885\n",
      "Sigma:0.009 AUC: 0.888\n",
      "Sigma:0.01 AUC: 0.889\n",
      "Sigma:0.02 AUC: 0.89\n",
      "Sigma:0.04 AUC: 0.893\n",
      "Sigma:0.05 AUC: 0.893\n",
      "Sigma:0.07 AUC: 0.893\n",
      "Sigma:0.09 AUC: 0.894\n",
      "Sigma:0.1 AUC: 0.894\n",
      "Sigma:0.2 AUC: 0.893\n",
      "Sigma:0.3 AUC: 0.892\n",
      "Sigma:0.4 AUC: 0.891\n",
      "Sigma:0.5 AUC: 0.892\n",
      "Sigma:0.6 AUC: 0.893\n"
     ]
    }
   ],
   "source": [
    "#Logistic Regression\n",
    "for i in [0.001,0.002,0.003,0.004,0.006,0.009,0.01,0.02,0.04,0.05,0.07,0.09,0.1,0.2,0.3,0.4,0.5,0.6]:\n",
    "    logit = LogisticRegression(penalty='l2',\n",
    "                               C=i,\n",
    "                               random_state=17,\n",
    "                               n_jobs=-1,\n",
    "                               solver='lbfgs')\n",
    "    logit.fit(X_train_sparse, y_train)\n",
    "    print (\"Sigma:{} AUC: {}\".format(i,round(roc_auc_score(y_test, logit.predict(X_test_sparse)), 3)))"
   ]
  },
  {
   "cell_type": "code",
   "execution_count": 20,
   "metadata": {},
   "outputs": [
    {
     "name": "stdout",
     "output_type": "stream",
     "text": [
      "Sigma:0.7 AUC: 0.891\n",
      "Sigma:0.8 AUC: 0.892\n",
      "Sigma:0.9 AUC: 0.892\n",
      "Sigma:1.0 AUC: 0.89\n",
      "Sigma:1.1 AUC: 0.891\n",
      "Sigma:1.3 AUC: 0.891\n",
      "Sigma:1.5 AUC: 0.891\n",
      "Sigma:1.7 AUC: 0.89\n",
      "Sigma:1.9 AUC: 0.89\n",
      "Sigma:2.0 AUC: 0.889\n",
      "Sigma:2.3 AUC: 0.89\n",
      "Sigma:2.5 AUC: 0.89\n",
      "Sigma:2.7 AUC: 0.891\n"
     ]
    }
   ],
   "source": [
    "#Logistic Regression\n",
    "for i in [0.7,0.8,0.9,1.0,1.1,1.3,1.5,1.7,1.9,2.0,2.3,2.5,2.7]:\n",
    "    logit = LogisticRegression(penalty='l2',\n",
    "                               C=i,\n",
    "                               random_state=17,\n",
    "                               n_jobs=-1,\n",
    "                               solver='lbfgs')\n",
    "    logit.fit(X_train_sparse, y_train)\n",
    "    print (\"Sigma:{} AUC: {}\".format(i,round(roc_auc_score(y_test, logit.predict(X_test_sparse)), 3)))"
   ]
  },
  {
   "cell_type": "code",
   "execution_count": 22,
   "metadata": {},
   "outputs": [
    {
     "name": "stdout",
     "output_type": "stream",
     "text": [
      "Sigma:2.7 AUC: 0.891\n"
     ]
    }
   ],
   "source": [
    "#Xgboost - Classifier\n",
    "xg_reg = xgb.XGBClassifier(objective ='reg:squarederror', \n",
    "                           colsample_bytree = 0.1, \n",
    "                           learning_rate = 0.04,\n",
    "                           max_depth = 25, \n",
    "                           alpha = 1, \n",
    "                           n_estimators = 1000)\n",
    "\n",
    "xg_reg.fit(X_train_sparse,y_train)\n",
    "print (\"Sigma:{} AUC: {}\".format(i,round(roc_auc_score(y_test, logit.predict(X_test_sparse)), 3)))"
   ]
  },
  {
   "cell_type": "code",
   "execution_count": null,
   "metadata": {},
   "outputs": [],
   "source": [
    "#Logistic Regression\n",
    "for i in [0.09]:\n",
    "    logit = LogisticRegression(penalty='l2',\n",
    "                               C=i,\n",
    "                               random_state=17,\n",
    "                               n_jobs=-1,\n",
    "                               max_iter=1000,\n",
    "                               solver='lbfgs')\n",
    "    logit.fit(X_train_sparse, y_train)\n",
    "    print (\"Sigma:{} AUC: {}\".format(i,round(roc_auc_score(y_test, logit.predict(X_test_sparse)), 3)))"
   ]
  }
 ],
 "metadata": {
  "kernelspec": {
   "display_name": "Python 3",
   "language": "python",
   "name": "python3"
  },
  "language_info": {
   "codemirror_mode": {
    "name": "ipython",
    "version": 3
   },
   "file_extension": ".py",
   "mimetype": "text/x-python",
   "name": "python",
   "nbconvert_exporter": "python",
   "pygments_lexer": "ipython3",
   "version": "3.7.6"
  }
 },
 "nbformat": 4,
 "nbformat_minor": 4
}
