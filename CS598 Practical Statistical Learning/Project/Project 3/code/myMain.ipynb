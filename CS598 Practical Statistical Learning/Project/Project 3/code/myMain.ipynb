{
 "cells": [
  {
   "cell_type": "code",
   "execution_count": 1,
   "metadata": {},
   "outputs": [],
   "source": [
    "import pandas as pd\n",
    "import numpy as np\n",
    "from sklearn.linear_model import LogisticRegression\n",
    "from sklearn.metrics import roc_auc_score\n",
    "from sklearn.feature_extraction.text import TfidfVectorizer\n",
    "from scipy.stats import ttest_ind\n",
    "import warnings \n",
    "warnings.filterwarnings('ignore')"
   ]
  },
  {
   "cell_type": "code",
   "execution_count": 2,
   "metadata": {},
   "outputs": [],
   "source": [
    "def prep_train_test(x_train, x_test):\n",
    "    \n",
    "    #Remove the HTML tags from the review\n",
    "    x_train[\"review\"] = x_train[\"review\"].str.replace('<br /><br />',' ')\n",
    "    x_test [\"review\"] = x_test[\"review\"].str.replace('<br /><br />',' ')\n",
    "\n",
    "    #Defined the Stopwords\n",
    "    stop_words=['the','with','he','she','also','made','had','out','in','his','hers','there','was','then'] \n",
    "    \n",
    "    #Tfidf Vectorization\n",
    "    cv = TfidfVectorizer(stop_words=stop_words, ngram_range=(1,2), min_df=20, max_df=0.3)\n",
    "    X_train = cv.fit_transform(train[\"review\"]).toarray()\n",
    "    X_test  = cv.transform(test[\"review\"]).toarray()\n",
    "    \n",
    "    #Extract the Vocabulary Size\n",
    "    vocab = np.array(cv.get_feature_names())\n",
    "\n",
    "    return X_train,X_test, vocab"
   ]
  },
  {
   "cell_type": "code",
   "execution_count": 3,
   "metadata": {},
   "outputs": [
    {
     "name": "stdout",
     "output_type": "stream",
     "text": [
      "CPU times: user 35.7 s, sys: 5.61 s, total: 41.3 s\n",
      "Wall time: 33.3 s\n"
     ]
    }
   ],
   "source": [
    "%%time\n",
    "#Load the Vocab\n",
    "myvocab_list = np.loadtxt('myvocab.txt', dtype=np.str, delimiter='\\n')\n",
    "\n",
    "#Load the Train, Test, Test_y data\n",
    "train = pd.read_csv(\"train.tsv\",sep = \"\\t\")\n",
    "test = pd.read_csv(\"test.tsv\", sep = \"\\t\")\n",
    "\n",
    "#Retrieve the y_Train and y_test\n",
    "y_train = train[\"sentiment\"]\n",
    "\n",
    "#Remove the Stopwords and TFIDF Vectorization\n",
    "X_train,X_test,vocab = prep_train_test(train.copy(), test.copy())\n",
    "indices = np.where(np.in1d(vocab, myvocab_list))[0]\n",
    "X_train = X_train[:, indices].copy()\n",
    "X_test  = X_test [:, indices].copy()\n",
    "    \n",
    "#Logistic Model Building\n",
    "model = LogisticRegression(penalty='l2',C=17, random_state=125247)\n",
    "_ = model.fit(X_train, y_train)\n",
    "probs = model.predict_proba(X_test)[:,1]\n",
    "\n",
    "df_probs = pd.DataFrame(probs)\n",
    "df_probs = df_probs.rename(columns={0:'prob'})\n",
    "\n",
    "mysubmission = pd.concat([test[[\"id\"]], df_probs.reindex(test[[\"id\"]].index)], axis=1)\n",
    "\n",
    "mysubmission.to_csv(\"mysubmission.txt\",sep=\"\\t\",index=False)\n"
   ]
  },
  {
   "cell_type": "code",
   "execution_count": 12,
   "metadata": {},
   "outputs": [
    {
     "data": {
      "text/plain": [
       "array([0.05202214])"
      ]
     },
     "execution_count": 12,
     "metadata": {},
     "output_type": "execute_result"
    }
   ],
   "source": [
    "model.intercept_"
   ]
  },
  {
   "cell_type": "code",
   "execution_count": 19,
   "metadata": {},
   "outputs": [
    {
     "data": {
      "text/plain": [
       "0.9854107266136989"
      ]
     },
     "execution_count": 19,
     "metadata": {},
     "output_type": "execute_result"
    }
   ],
   "source": [
    "1/(1+np.exp(-(np.sum(X_test[0,:]*model.coef_)+model.intercept_)[0]))"
   ]
  },
  {
   "cell_type": "code",
   "execution_count": 20,
   "metadata": {},
   "outputs": [
    {
     "data": {
      "text/html": [
       "<div>\n",
       "<style scoped>\n",
       "    .dataframe tbody tr th:only-of-type {\n",
       "        vertical-align: middle;\n",
       "    }\n",
       "\n",
       "    .dataframe tbody tr th {\n",
       "        vertical-align: top;\n",
       "    }\n",
       "\n",
       "    .dataframe thead th {\n",
       "        text-align: right;\n",
       "    }\n",
       "</style>\n",
       "<table border=\"1\" class=\"dataframe\">\n",
       "  <thead>\n",
       "    <tr style=\"text-align: right;\">\n",
       "      <th></th>\n",
       "      <th>prob</th>\n",
       "    </tr>\n",
       "  </thead>\n",
       "  <tbody>\n",
       "    <tr>\n",
       "      <th>0</th>\n",
       "      <td>0.985411</td>\n",
       "    </tr>\n",
       "    <tr>\n",
       "      <th>1</th>\n",
       "      <td>0.010135</td>\n",
       "    </tr>\n",
       "    <tr>\n",
       "      <th>2</th>\n",
       "      <td>0.571685</td>\n",
       "    </tr>\n",
       "    <tr>\n",
       "      <th>3</th>\n",
       "      <td>0.967848</td>\n",
       "    </tr>\n",
       "    <tr>\n",
       "      <th>4</th>\n",
       "      <td>0.006939</td>\n",
       "    </tr>\n",
       "    <tr>\n",
       "      <th>...</th>\n",
       "      <td>...</td>\n",
       "    </tr>\n",
       "    <tr>\n",
       "      <th>24995</th>\n",
       "      <td>0.876939</td>\n",
       "    </tr>\n",
       "    <tr>\n",
       "      <th>24996</th>\n",
       "      <td>0.164634</td>\n",
       "    </tr>\n",
       "    <tr>\n",
       "      <th>24997</th>\n",
       "      <td>0.005659</td>\n",
       "    </tr>\n",
       "    <tr>\n",
       "      <th>24998</th>\n",
       "      <td>0.001034</td>\n",
       "    </tr>\n",
       "    <tr>\n",
       "      <th>24999</th>\n",
       "      <td>0.319707</td>\n",
       "    </tr>\n",
       "  </tbody>\n",
       "</table>\n",
       "<p>25000 rows × 1 columns</p>\n",
       "</div>"
      ],
      "text/plain": [
       "           prob\n",
       "0      0.985411\n",
       "1      0.010135\n",
       "2      0.571685\n",
       "3      0.967848\n",
       "4      0.006939\n",
       "...         ...\n",
       "24995  0.876939\n",
       "24996  0.164634\n",
       "24997  0.005659\n",
       "24998  0.001034\n",
       "24999  0.319707\n",
       "\n",
       "[25000 rows x 1 columns]"
      ]
     },
     "execution_count": 20,
     "metadata": {},
     "output_type": "execute_result"
    }
   ],
   "source": [
    "df_probs"
   ]
  }
 ],
 "metadata": {
  "kernelspec": {
   "display_name": "Python 3",
   "language": "python",
   "name": "python3"
  },
  "language_info": {
   "codemirror_mode": {
    "name": "ipython",
    "version": 3
   },
   "file_extension": ".py",
   "mimetype": "text/x-python",
   "name": "python",
   "nbconvert_exporter": "python",
   "pygments_lexer": "ipython3",
   "version": "3.7.6"
  }
 },
 "nbformat": 4,
 "nbformat_minor": 4
}
