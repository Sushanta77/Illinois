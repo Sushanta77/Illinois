{
 "cells": [
  {
   "cell_type": "code",
   "execution_count": null,
   "metadata": {},
   "outputs": [],
   "source": [
    "import pandas as pd\n",
    "import numpy as np\n",
    "from nltk.corpus import stopwords\n",
    "from bs4 import BeautifulSoup\n",
    "from sklearn.feature_extraction.text import CountVectorizer\n",
    "import re"
   ]
  },
  {
   "cell_type": "code",
   "execution_count": null,
   "metadata": {},
   "outputs": [],
   "source": [
    "#stopword_list = set(stopwords.words('english'))\n",
    "\n",
    "stopword_list = set([\"i\", \"me\", \"my\", \"myself\",\"we\", \"our\", \"ours\", \"ourselves\",\"you\", \"your\", \"yours\",\n",
    "               \"their\", \"they\", \"his\", \"her\",\"she\", \"he\", \"a\", \"an\", \"and\",\"is\", \"was\", \"are\", \"were\", \n",
    "               \"him\", \"himself\", \"has\", \"have\", \"it\", \"its\", \"the\", \"us\"])\n",
    "\n",
    "def strip_html(text):\n",
    "    soup = BeautifulSoup(text, \"html.parser\")\n",
    "    return soup.get_text()\n",
    "\n",
    "def remove_between_square_brackets(text):\n",
    "    return re.sub('\\[[^]]*\\]', '', text)\n",
    "\n",
    "def remove_special_characters(text, remove_digits=True):\n",
    "    pattern=r'[^a-zA-z0-9\\s]'\n",
    "    text=re.sub(pattern,'',text)\n",
    "    return text\n",
    "\n",
    "def remove_noise_text(text):\n",
    "    text = strip_html(text)\n",
    "    text = remove_between_square_brackets(text)\n",
    "    text = remove_special_characters(text)\n",
    "    return text"
   ]
  },
  {
   "cell_type": "code",
   "execution_count": null,
   "metadata": {},
   "outputs": [],
   "source": [
    "#Load the Train, Test, Test_y data\n",
    "x_data = pd.read_csv(\"../data/alldata.tsv\",sep=\"\\t\")\n",
    "x_train = pd.read_csv(\"../data/split_0/train.csv\")\n",
    "x_test = pd.read_csv(\"../data/split_0/test.csv\")\n",
    "test_y = pd.read_csv(\"../data/split_0/test_y.csv\")"
   ]
  },
  {
   "cell_type": "code",
   "execution_count": null,
   "metadata": {},
   "outputs": [],
   "source": [
    "#Remove the Noise\n",
    "#x_data[\"review\"] = x_data[\"review\"].apply(remove_noise_text)"
   ]
  },
  {
   "cell_type": "code",
   "execution_count": null,
   "metadata": {},
   "outputs": [],
   "source": [
    "#Remove stopwords\n",
    "x_data[\"review\"] = x_data[\"review\"].apply(lambda x: \" \".join(x for x in x.split() if x.lower() not in stopword_list))"
   ]
  },
  {
   "cell_type": "code",
   "execution_count": null,
   "metadata": {},
   "outputs": [],
   "source": [
    "df = (pd.Series(' '.join(x_data['review']).split())).value_counts().reset_index()\n",
    "df = df.rename(columns={'index':'word',0:'word_count'})"
   ]
  },
  {
   "cell_type": "code",
   "execution_count": null,
   "metadata": {},
   "outputs": [],
   "source": [
    "#Remove less frequent words\n",
    "least_frequent_words = set(df[df['word_count'] < 11]['word'].str.lower())\n",
    "x_data[\"review\"] = x_data[\"review\"].apply(lambda x: \" \".join(x for x in x.split() if x.lower() not in least_frequent_words))\n"
   ]
  },
  {
   "cell_type": "code",
   "execution_count": null,
   "metadata": {},
   "outputs": [],
   "source": [
    "#cv=CountVectorizer(min_df=0.001,max_df=0.5,ngram_range=(1,3))\n",
    "cv=CountVectorizer(ngram_range=(1,3))\n",
    "X_data_sparse = cv.fit_transform(x_data['review'])\n",
    "\n",
    "X_train_sparse = cv.transform(x_train['review'])\n",
    "X_test_sparse = cv.transform(x_test['review'])\n",
    "\n",
    "print (len(cv.vocabulary_))\n",
    "print (X_test_sparse.shape)\n",
    "print (X_train_sparse.shape)"
   ]
  },
  {
   "cell_type": "code",
   "execution_count": null,
   "metadata": {},
   "outputs": [],
   "source": [
    "from sklearn.linear_model import LogisticRegression, SGDClassifier\n",
    "from sklearn.metrics import accuracy_score, roc_auc_score, roc_curve, confusion_matrix\n",
    "\n",
    "logit = LogisticRegression(random_state=17,n_jobs=-1, solver='lbfgs')\n",
    "\n",
    "y_train = x_train['sentiment']\n",
    "y_test = test_y['sentiment']\n",
    "\n",
    "logit.fit(X_train_sparse, y_train)\n",
    "\n",
    "print (\"AUC: {}\".format(round(roc_auc_score(y_test, logit.predict(X_test_sparse)), 3)))"
   ]
  },
  {
   "cell_type": "code",
   "execution_count": null,
   "metadata": {},
   "outputs": [],
   "source": [
    "df = (pd.Series(' '.join(x_data['review']).split())).value_counts().reset_index()\n",
    "df = df.rename(columns={'index':'word',0:'word_count'})"
   ]
  },
  {
   "cell_type": "code",
   "execution_count": null,
   "metadata": {},
   "outputs": [],
   "source": [
    "least_frequent_words = set(df[df['word_count'] < 11]['word'].str.lower())\n",
    "x_data[\"review\"] = x_data[\"review\"].apply(lambda x: \" \".join(x for x in x.split() if x.lower() not in least_frequent_words))\n"
   ]
  },
  {
   "cell_type": "code",
   "execution_count": null,
   "metadata": {},
   "outputs": [],
   "source": [
    "df1 = (pd.Series(' '.join(x_data['review']).split())).value_counts().reset_index()\n",
    "df1 = df1.rename(columns={'index':'word',0:'word_count'})"
   ]
  },
  {
   "cell_type": "code",
   "execution_count": null,
   "metadata": {},
   "outputs": [],
   "source": [
    "df1"
   ]
  },
  {
   "cell_type": "code",
   "execution_count": null,
   "metadata": {},
   "outputs": [],
   "source": [
    "df1"
   ]
  }
 ],
 "metadata": {
  "kernelspec": {
   "display_name": "Python 3",
   "language": "python",
   "name": "python3"
  },
  "language_info": {
   "codemirror_mode": {
    "name": "ipython",
    "version": 3
   },
   "file_extension": ".py",
   "mimetype": "text/x-python",
   "name": "python",
   "nbconvert_exporter": "python",
   "pygments_lexer": "ipython3",
   "version": "3.7.6"
  }
 },
 "nbformat": 4,
 "nbformat_minor": 4
}
