{
 "cells": [
  {
   "cell_type": "code",
   "execution_count": 3,
   "metadata": {},
   "outputs": [],
   "source": [
    "import numpy as np\n",
    "import pandas as pd\n",
    "from sklearn.linear_model import LinearRegression,ElasticNet\n",
    "from sklearn.ensemble import RandomForestRegressor\n",
    "import xgboost as xgb"
   ]
  },
  {
   "cell_type": "code",
   "execution_count": 4,
   "metadata": {},
   "outputs": [],
   "source": [
    "#Load the Train Dataset\n",
    "train = pd.read_csv(\"../data/X_train_ini.csv\")\n",
    "test = pd.read_csv(\"../data/test.csv\")"
   ]
  },
  {
   "cell_type": "code",
   "execution_count": 5,
   "metadata": {},
   "outputs": [],
   "source": [
    "def mypredict(new_train):\n",
    "    \n",
    "    global train,test,t\n",
    "    \n",
    "    #Create Empty Data Frame\n",
    "    df = pd.DataFrame()\n",
    "    \n",
    "    X_train = train.copy()\n",
    "    X_test = new_train.copy()\n",
    "\n",
    "    #----------------------------------------------------------\n",
    "    # Feature Engineering\n",
    "    #----------------------------------------------------------\n",
    "    #One Hot Encoding\n",
    "    X_train['IsHoliday_oh'] = X_train['IsHoliday'].astype(int)\n",
    "    #Extract Year, Month, Week, Date (Train)\n",
    "    X_train['day'] = pd.to_datetime(X_train['Date']).dt.day\n",
    "    X_train['week'] = pd.to_datetime(X_train['Date']).dt.week\n",
    "    X_train['month'] = pd.to_datetime(X_train['Date']).dt.month\n",
    "    X_train['year'] = pd.to_datetime(X_train['Date']).dt.year\n",
    "\n",
    "    y_train = train['Weekly_Sales']\n",
    "    X_train = X_train.drop(['IsHoliday','Date','Weekly_Sales'],axis=1)\n",
    "\n",
    "    #One Hot Encoding\n",
    "    X_test['IsHoliday_oh'] = X_test['IsHoliday'].astype(int)\n",
    "    #Extract Year, Month, Week, Date (Train)\n",
    "    X_test['day'] = pd.to_datetime(X_test['Date']).dt.day\n",
    "    X_test['week'] = pd.to_datetime(X_test['Date']).dt.week\n",
    "    X_test['month'] = pd.to_datetime(X_test['Date']).dt.month\n",
    "    X_test['year'] = pd.to_datetime(X_test['Date']).dt.year\n",
    "    X_test = X_test.drop(['IsHoliday','Date','Weekly_Sales'],axis=1)\n",
    "\n",
    "    #----------------------------------------------------------\n",
    "    # Model Building\n",
    "    #----------------------------------------------------------\n",
    "    rf_mod = RandomForestRegressor(n_estimators=150,\n",
    "                                   random_state=125247)\n",
    "    rf_mod.fit(X_train,y_train)\n",
    "\n",
    "    #Random Forest (Prediction)\n",
    "    y_preds = rf_mod.predict(X_test)\n",
    "    y_preds[np.isnan(y_preds)] = 0\n",
    "\n",
    "    df['Weekly_Pred'] = y_preds\n",
    "    \n",
    "    train = pd.concat([train,new_train])\n",
    "    \n",
    "    return df\n",
    "        "
   ]
  },
  {
   "cell_type": "code",
   "execution_count": 6,
   "metadata": {},
   "outputs": [
    {
     "name": "stdout",
     "output_type": "stream",
     "text": [
      "RF - Fold:1 - WAE:1731.7923736134726\n",
      "RF - Fold:2 - WAE:1424.243267669094\n",
      "RF - Fold:3 - WAE:1347.834076027682\n",
      "RF - Fold:4 - WAE:1393.652038929543\n",
      "RF - Fold:5 - WAE:2633.4714950173634\n",
      "RF - Fold:6 - WAE:1648.0231413370645\n",
      "RF - Fold:7 - WAE:1642.7074726304932\n",
      "RF - Fold:8 - WAE:1342.9034368842938\n",
      "RF - Fold:9 - WAE:1254.4201269070277\n",
      "RF - Fold:10 - WAE:1227.092273014353\n",
      "RF -Average WAE:1564.6139702030384\n"
     ]
    }
   ],
   "source": [
    "#Below code shouldn't be part of the delivery, it's only to test your code for each fold\n",
    "\n",
    "avg_wae = 0\n",
    "\n",
    "for t in np.arange(10)+1:\n",
    "    fold_file = \"fold_\"+np.str(t)+\".csv\"\n",
    "    new_train = pd.read_csv(\"../data/fold/\"+fold_file)\n",
    "    df_return = mypredict(new_train)\n",
    "    actuals = new_train['Weekly_Sales']\n",
    "    preds = df_return['Weekly_Pred']\n",
    "    \n",
    "    #Assign the Weights based on the IsHoliday\n",
    "    weights = [5 if i==1 else 1 for i in new_train['IsHoliday'].astype(int)]\n",
    "    \n",
    "    #Calculate the WAE\n",
    "    wae = sum(weights * abs(actuals - preds)) / sum(weights)\n",
    "    avg_wae = avg_wae + wae\n",
    "    \n",
    "    print (\"RF - Fold:{} - WAE:{}\".format(t,wae))\n",
    "avg_wae = (avg_wae/10)\n",
    "\n",
    "print (\"RF -Average WAE:{}\".format(avg_wae))\n",
    "    \n",
    "    \n"
   ]
  }
 ],
 "metadata": {
  "kernelspec": {
   "display_name": "Python 3",
   "language": "python",
   "name": "python3"
  },
  "language_info": {
   "codemirror_mode": {
    "name": "ipython",
    "version": 3
   },
   "file_extension": ".py",
   "mimetype": "text/x-python",
   "name": "python",
   "nbconvert_exporter": "python",
   "pygments_lexer": "ipython3",
   "version": "3.7.6"
  }
 },
 "nbformat": 4,
 "nbformat_minor": 4
}
