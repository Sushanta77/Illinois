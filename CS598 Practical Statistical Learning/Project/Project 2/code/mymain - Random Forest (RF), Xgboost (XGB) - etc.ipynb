{
 "cells": [
  {
   "cell_type": "code",
   "execution_count": 73,
   "metadata": {},
   "outputs": [],
   "source": [
    "import numpy as np\n",
    "import pandas as pd\n",
    "from sklearn.linear_model import LinearRegression,ElasticNet\n",
    "from sklearn.ensemble import RandomForestRegressor\n",
    "import xgboost as xgb"
   ]
  },
  {
   "cell_type": "code",
   "execution_count": 2,
   "metadata": {},
   "outputs": [],
   "source": [
    "#Load the Train Dataset\n",
    "train = pd.read_csv(\"../data/X_train_ini.csv\")\n",
    "test = pd.read_csv(\"../data/test.csv\")\n",
    "test_fold_1 = pd.read_csv(\"../data/fold/fold_1.csv\")"
   ]
  },
  {
   "cell_type": "code",
   "execution_count": 3,
   "metadata": {},
   "outputs": [],
   "source": [
    "#Load the Train Dataset\n",
    "train = pd.read_csv(\"../data/X_train_ini.csv\")\n",
    "test = pd.read_csv(\"../data/test.csv\")\n",
    "test_fold_1 = pd.read_csv(\"../data/fold/fold_1.csv\")\n",
    "\n",
    "X_test=test_fold_1.copy()\n",
    "\n",
    "#Feature Engineering\n",
    "#One Hot Encoding Train\n",
    "train['IsHoliday_oh'] = train['IsHoliday'].astype(int)\n",
    "#One Hot Encoding Test\n",
    "X_test['IsHoliday_oh'] = X_test['IsHoliday'].astype(int)\n",
    "#Extract Year, Month, Week, Date (Train)\n",
    "train['day'] = pd.to_datetime(train['Date']).dt.day\n",
    "train['week'] = pd.to_datetime(train['Date']).dt.week\n",
    "train['month'] = pd.to_datetime(train['Date']).dt.month\n",
    "train['year'] = pd.to_datetime(train['Date']).dt.year\n",
    "\n",
    "#Extract Year, Month, Week, Date (Test)\n",
    "X_test['day'] = pd.to_datetime(X_test['Date']).dt.day\n",
    "X_test['week'] = pd.to_datetime(X_test['Date']).dt.week\n",
    "X_test['month'] = pd.to_datetime(X_test['Date']).dt.month\n",
    "X_test['year'] = pd.to_datetime(X_test['Date']).dt.year\n",
    "\n",
    "\n",
    "y_train = train['Weekly_Sales']\n",
    "X_train = train.drop(['IsHoliday','Date','Weekly_Sales'],axis=1)\n",
    "\n",
    "X_test = X_test.drop(['IsHoliday','Date','Weekly_Sales'],axis=1)"
   ]
  },
  {
   "cell_type": "code",
   "execution_count": 61,
   "metadata": {},
   "outputs": [
    {
     "data": {
      "text/html": [
       "<div>\n",
       "<style scoped>\n",
       "    .dataframe tbody tr th:only-of-type {\n",
       "        vertical-align: middle;\n",
       "    }\n",
       "\n",
       "    .dataframe tbody tr th {\n",
       "        vertical-align: top;\n",
       "    }\n",
       "\n",
       "    .dataframe thead th {\n",
       "        text-align: right;\n",
       "    }\n",
       "</style>\n",
       "<table border=\"1\" class=\"dataframe\">\n",
       "  <thead>\n",
       "    <tr style=\"text-align: right;\">\n",
       "      <th></th>\n",
       "      <th>Store</th>\n",
       "      <th>Dept</th>\n",
       "      <th>IsHoliday_oh</th>\n",
       "      <th>day</th>\n",
       "      <th>week</th>\n",
       "      <th>month</th>\n",
       "      <th>year</th>\n",
       "    </tr>\n",
       "  </thead>\n",
       "  <tbody>\n",
       "    <tr>\n",
       "      <th>0</th>\n",
       "      <td>1</td>\n",
       "      <td>1</td>\n",
       "      <td>0</td>\n",
       "      <td>5</td>\n",
       "      <td>5</td>\n",
       "      <td>2</td>\n",
       "      <td>2010</td>\n",
       "    </tr>\n",
       "    <tr>\n",
       "      <th>1</th>\n",
       "      <td>1</td>\n",
       "      <td>1</td>\n",
       "      <td>1</td>\n",
       "      <td>12</td>\n",
       "      <td>6</td>\n",
       "      <td>2</td>\n",
       "      <td>2010</td>\n",
       "    </tr>\n",
       "    <tr>\n",
       "      <th>2</th>\n",
       "      <td>1</td>\n",
       "      <td>1</td>\n",
       "      <td>0</td>\n",
       "      <td>19</td>\n",
       "      <td>7</td>\n",
       "      <td>2</td>\n",
       "      <td>2010</td>\n",
       "    </tr>\n",
       "    <tr>\n",
       "      <th>3</th>\n",
       "      <td>1</td>\n",
       "      <td>1</td>\n",
       "      <td>0</td>\n",
       "      <td>26</td>\n",
       "      <td>8</td>\n",
       "      <td>2</td>\n",
       "      <td>2010</td>\n",
       "    </tr>\n",
       "    <tr>\n",
       "      <th>4</th>\n",
       "      <td>1</td>\n",
       "      <td>1</td>\n",
       "      <td>0</td>\n",
       "      <td>5</td>\n",
       "      <td>9</td>\n",
       "      <td>3</td>\n",
       "      <td>2010</td>\n",
       "    </tr>\n",
       "    <tr>\n",
       "      <th>...</th>\n",
       "      <td>...</td>\n",
       "      <td>...</td>\n",
       "      <td>...</td>\n",
       "      <td>...</td>\n",
       "      <td>...</td>\n",
       "      <td>...</td>\n",
       "      <td>...</td>\n",
       "    </tr>\n",
       "    <tr>\n",
       "      <th>164110</th>\n",
       "      <td>45</td>\n",
       "      <td>98</td>\n",
       "      <td>0</td>\n",
       "      <td>28</td>\n",
       "      <td>4</td>\n",
       "      <td>1</td>\n",
       "      <td>2011</td>\n",
       "    </tr>\n",
       "    <tr>\n",
       "      <th>164111</th>\n",
       "      <td>45</td>\n",
       "      <td>98</td>\n",
       "      <td>0</td>\n",
       "      <td>4</td>\n",
       "      <td>5</td>\n",
       "      <td>2</td>\n",
       "      <td>2011</td>\n",
       "    </tr>\n",
       "    <tr>\n",
       "      <th>164112</th>\n",
       "      <td>45</td>\n",
       "      <td>98</td>\n",
       "      <td>1</td>\n",
       "      <td>11</td>\n",
       "      <td>6</td>\n",
       "      <td>2</td>\n",
       "      <td>2011</td>\n",
       "    </tr>\n",
       "    <tr>\n",
       "      <th>164113</th>\n",
       "      <td>45</td>\n",
       "      <td>98</td>\n",
       "      <td>0</td>\n",
       "      <td>18</td>\n",
       "      <td>7</td>\n",
       "      <td>2</td>\n",
       "      <td>2011</td>\n",
       "    </tr>\n",
       "    <tr>\n",
       "      <th>164114</th>\n",
       "      <td>45</td>\n",
       "      <td>98</td>\n",
       "      <td>0</td>\n",
       "      <td>25</td>\n",
       "      <td>8</td>\n",
       "      <td>2</td>\n",
       "      <td>2011</td>\n",
       "    </tr>\n",
       "  </tbody>\n",
       "</table>\n",
       "<p>164115 rows × 7 columns</p>\n",
       "</div>"
      ],
      "text/plain": [
       "        Store  Dept  IsHoliday_oh  day  week  month  year\n",
       "0           1     1             0    5     5      2  2010\n",
       "1           1     1             1   12     6      2  2010\n",
       "2           1     1             0   19     7      2  2010\n",
       "3           1     1             0   26     8      2  2010\n",
       "4           1     1             0    5     9      3  2010\n",
       "...       ...   ...           ...  ...   ...    ...   ...\n",
       "164110     45    98             0   28     4      1  2011\n",
       "164111     45    98             0    4     5      2  2011\n",
       "164112     45    98             1   11     6      2  2011\n",
       "164113     45    98             0   18     7      2  2011\n",
       "164114     45    98             0   25     8      2  2011\n",
       "\n",
       "[164115 rows x 7 columns]"
      ]
     },
     "execution_count": 61,
     "metadata": {},
     "output_type": "execute_result"
    }
   ],
   "source": [
    "X_train"
   ]
  },
  {
   "cell_type": "code",
   "execution_count": null,
   "metadata": {},
   "outputs": [],
   "source": [
    "#Assign the Weights based on the IsHoliday\n",
    "weights = [5 if i==1 else 1 for i in test_fold_1['IsHoliday'].astype(int)]\n",
    "#Actuals Weekly Sales\n",
    "y_actuals = test_fold_1['Weekly_Sales']"
   ]
  },
  {
   "cell_type": "code",
   "execution_count": 75,
   "metadata": {},
   "outputs": [
    {
     "name": "stdout",
     "output_type": "stream",
     "text": [
      "Elastic - WAE:14413.761438591679\n"
     ]
    }
   ],
   "source": [
    "#ElasticNet\n",
    "el_mod = ElasticNet(random_state = 125247)\n",
    "el_mod.fit(X_train,y_train)\n",
    "\n",
    "#ElasticNet (Prediction)\n",
    "y_preds = el_mod.predict(X_test)\n",
    "y_preds[np.isnan(y_preds)] = 0\n",
    "\n",
    "#Calculate the WAE\n",
    "wae = sum(weights * abs(y_actuals - y_preds)) / sum(weights)\n",
    "print (\"Elastic - WAE:{}\".format(wae))"
   ]
  },
  {
   "cell_type": "code",
   "execution_count": null,
   "metadata": {},
   "outputs": [],
   "source": [
    "#xgboost\n",
    "xgb_mod = xgb.XGBRegressor(objective ='reg:squarederror',\n",
    "                           colsample_bytree = 0.1,\n",
    "                           learning_rate = 0.04,\n",
    "                           max_depth = 25,\n",
    "                           alpha = 1, \n",
    "                           n_estimators = 1000,\n",
    "                           verbosity=1\n",
    "                          )\n",
    "xgb_mod.fit(X_train,y_train)\n",
    "\n",
    "#Xgboost (Prediction)\n",
    "y_preds = xgb_mod.predict(X_test)\n",
    "y_preds[np.isnan(y_preds)] = 0\n",
    "\n",
    "#Calculate the WAE\n",
    "wae = sum(weights * abs(y_actuals - y_preds)) / sum(weights)\n",
    "print (\"Xgboost - WAE:{}\".format(wae))"
   ]
  },
  {
   "cell_type": "code",
   "execution_count": 25,
   "metadata": {},
   "outputs": [
    {
     "name": "stdout",
     "output_type": "stream",
     "text": [
      "Linear Regression - WAE:14207.524492659804\n"
     ]
    }
   ],
   "source": [
    "#Linear Regression\n",
    "lin_mod = LinearRegression()\n",
    "lin_mod.fit(X_train,y_train)\n",
    "\n",
    "#Linear Regression (Prediction)\n",
    "y_preds = lin_mod.predict(X_test)\n",
    "y_preds[np.isnan(y_preds)] = 0\n",
    "\n",
    "#Calculate the WAE\n",
    "wae = sum(weights * abs(y_actuals - y_preds)) / sum(weights)\n",
    "print (\"Linear Regression - WAE:{}\".format(wae))"
   ]
  },
  {
   "cell_type": "code",
   "execution_count": 58,
   "metadata": {},
   "outputs": [
    {
     "name": "stdout",
     "output_type": "stream",
     "text": [
      "Random Forrest - WAE:1727.2223987770749\n"
     ]
    }
   ],
   "source": [
    "#Random Forest\n",
    "#'''\n",
    "rf_mod = RandomForestRegressor(max_depth=60,\n",
    "                               n_estimators=2000,\n",
    "                               random_state=125247)\n",
    "'''\n",
    "rf_mod = RandomForestRegressor(n_estimators=150,\n",
    "                               random_state=125247)\n",
    "'''\n",
    "rf_mod.fit(X_train,y_train)\n",
    "\n",
    "#Random Forest (Prediction)\n",
    "y_preds = rf_mod.predict(X_test)\n",
    "y_preds[np.isnan(y_preds)] = 0\n",
    "\n",
    "#Calculate the WAE\n",
    "wae = sum(weights * abs(y_actuals - y_preds)) / sum(weights)\n",
    "print (\"Random Forrest - WAE:{}\".format(wae))"
   ]
  },
  {
   "cell_type": "code",
   "execution_count": 59,
   "metadata": {},
   "outputs": [
    {
     "name": "stdout",
     "output_type": "stream",
     "text": [
      "Random Forrest - WAE:1731.7923736134726\n"
     ]
    }
   ],
   "source": [
    "#Random Forest\n",
    "rf_mod = RandomForestRegressor(n_estimators=150,\n",
    "                               random_state=125247)\n",
    "rf_mod.fit(X_train,y_train)\n",
    "\n",
    "#Random Forest (Prediction)\n",
    "y_preds = rf_mod.predict(X_test)\n",
    "y_preds[np.isnan(y_preds)] = 0\n",
    "\n",
    "#Calculate the WAE\n",
    "wae = sum(weights * abs(y_actuals - y_preds)) / sum(weights)\n",
    "print (\"Random Forrest - WAE:{}\".format(wae))"
   ]
  },
  {
   "cell_type": "code",
   "execution_count": 56,
   "metadata": {},
   "outputs": [
    {
     "name": "stdout",
     "output_type": "stream",
     "text": [
      "Random Forrest - WAE:1727.1289489649562\n"
     ]
    }
   ],
   "source": [
    "#Random Forest\n",
    "#'''\n",
    "rf_mod = RandomForestRegressor(max_depth=40,\n",
    "                               n_estimators=1000,\n",
    "                               random_state=125247)\n",
    "'''\n",
    "rf_mod = RandomForestRegressor(n_estimators=150,\n",
    "                               random_state=125247)\n",
    "'''\n",
    "rf_mod.fit(X_train,y_train)\n",
    "\n",
    "#Random Forest (Prediction)\n",
    "y_preds = rf_mod.predict(X_test)\n",
    "y_preds[np.isnan(y_preds)] = 0\n",
    "\n",
    "#Calculate the WAE\n",
    "wae = sum(weights * abs(y_actuals - y_preds)) / sum(weights)\n",
    "print (\"Random Forrest - WAE:{}\".format(wae))"
   ]
  },
  {
   "cell_type": "code",
   "execution_count": 37,
   "metadata": {},
   "outputs": [
    {
     "name": "stdout",
     "output_type": "stream",
     "text": [
      "Xgboost - WAE:7625.359656636214\n"
     ]
    }
   ],
   "source": [
    "#xgboost\n",
    "xgb_mod = xgb.XGBRegressor(objective ='reg:squarederror',\n",
    "                           colsample_bytree = 0.1,\n",
    "                           learning_rate = 0.04,\n",
    "                           max_depth = 25,\n",
    "                           alpha = 1, \n",
    "                           n_estimators = 1000,\n",
    "                           verbosity=1\n",
    "                          )\n",
    "xgb_mod.fit(X_train,y_train)\n",
    "\n",
    "#Xgboost (Prediction)\n",
    "y_preds = xgb_mod.predict(X_test)\n",
    "y_preds[np.isnan(y_preds)] = 0\n",
    "\n",
    "#Calculate the WAE\n",
    "wae = sum(weights * abs(y_actuals - y_preds)) / sum(weights)\n",
    "print (\"Xgboost - WAE:{}\".format(wae))"
   ]
  },
  {
   "cell_type": "code",
   "execution_count": 42,
   "metadata": {},
   "outputs": [],
   "source": [
    "import pandas as pd\n",
    "from statsmodels.graphics.tsaplots import plot_acf, plot_pacf\n",
    "import matplotlib.pyplot as plt"
   ]
  },
  {
   "cell_type": "code",
   "execution_count": 39,
   "metadata": {},
   "outputs": [],
   "source": [
    "df = pd.read_csv('https://raw.githubusercontent.com/selva86/datasets/master/austa.csv')"
   ]
  },
  {
   "cell_type": "code",
   "execution_count": 43,
   "metadata": {},
   "outputs": [
    {
     "data": {
      "image/png": "[encoded data removed]",
      "text/plain": [
       "<Figure size 432x288 with 2 Axes>"
      ]
     },
     "metadata": {
      "needs_background": "light"
     },
     "output_type": "display_data"
    }
   ],
   "source": [
    "fig, axes = plt.subplots(1, 2, sharex=True)\n",
    "axes[0].plot(df.value.diff()); axes[0].set_title('1st Differencing')\n",
    "axes[1].set(ylim=(0,1.2))\n",
    "plot_acf(df.value.diff().dropna(), ax=axes[1])\n",
    "\n",
    "plt.show()"
   ]
  },
  {
   "cell_type": "code",
   "execution_count": 44,
   "metadata": {},
   "outputs": [],
   "source": [
    "from statsmodels.tsa.arima_model import ARIMA"
   ]
  },
  {
   "cell_type": "code",
   "execution_count": 46,
   "metadata": {},
   "outputs": [
    {
     "name": "stdout",
     "output_type": "stream",
     "text": [
      "                             ARIMA Model Results                              \n",
      "==============================================================================\n",
      "Dep. Variable:                D.value   No. Observations:                   30\n",
      "Model:                 ARIMA(1, 1, 2)   Log Likelihood                  11.512\n",
      "Method:                       css-mle   S.D. of innovations              0.160\n",
      "Date:                Sat, 10 Apr 2021   AIC                            -13.023\n",
      "Time:                        14:36:52   BIC                             -6.017\n",
      "Sample:                             1   HQIC                           -10.782\n",
      "                                                                              \n",
      "=================================================================================\n",
      "                    coef    std err          z      P>|z|      [0.025      0.975]\n",
      "---------------------------------------------------------------------------------\n",
      "const             0.1677      0.013     12.997      0.000       0.142       0.193\n",
      "ar.L1.D.value     0.7104      0.177      4.013      0.000       0.363       1.057\n",
      "ma.L1.D.value    -0.6119      0.217     -2.816      0.005      -1.038      -0.186\n",
      "ma.L2.D.value    -0.3881      0.199     -1.947      0.052      -0.779       0.003\n",
      "                                    Roots                                    \n",
      "=============================================================================\n",
      "                  Real          Imaginary           Modulus         Frequency\n",
      "-----------------------------------------------------------------------------\n",
      "AR.1            1.4077           +0.0000j            1.4077            0.0000\n",
      "MA.1            1.0000           +0.0000j            1.0000            0.0000\n",
      "MA.2           -2.5769           +0.0000j            2.5769            0.5000\n",
      "-----------------------------------------------------------------------------\n"
     ]
    }
   ],
   "source": [
    "model = ARIMA(df.value, order=(1,1,2))\n",
    "model_fit = model.fit(disp=0)\n",
    "print(model_fit.summary())"
   ]
  },
  {
   "cell_type": "code",
   "execution_count": 47,
   "metadata": {},
   "outputs": [
    {
     "name": "stdout",
     "output_type": "stream",
     "text": [
      "                             ARIMA Model Results                              \n",
      "==============================================================================\n",
      "Dep. Variable:                D.value   No. Observations:                   30\n",
      "Model:                 ARIMA(1, 1, 1)   Log Likelihood                  10.322\n",
      "Method:                       css-mle   S.D. of innovations              0.171\n",
      "Date:                Sat, 10 Apr 2021   AIC                            -12.645\n",
      "Time:                        14:37:56   BIC                             -7.040\n",
      "Sample:                             1   HQIC                           -10.852\n",
      "                                                                              \n",
      "=================================================================================\n",
      "                    coef    std err          z      P>|z|      [0.025      0.975]\n",
      "---------------------------------------------------------------------------------\n",
      "const             0.1540      0.037      4.158      0.000       0.081       0.227\n",
      "ar.L1.D.value    -0.2906      0.481     -0.604      0.546      -1.233       0.652\n",
      "ma.L1.D.value     0.5350      0.414      1.291      0.197      -0.277       1.347\n",
      "                                    Roots                                    \n",
      "=============================================================================\n",
      "                  Real          Imaginary           Modulus         Frequency\n",
      "-----------------------------------------------------------------------------\n",
      "AR.1           -3.4413           +0.0000j            3.4413            0.5000\n",
      "MA.1           -1.8693           +0.0000j            1.8693            0.5000\n",
      "-----------------------------------------------------------------------------\n"
     ]
    }
   ],
   "source": [
    "# 1,1,1 ARIMA Model\n",
    "model = ARIMA(df.value, order=(1,1,1))\n",
    "model_fit = model.fit(disp=0)\n",
    "print(model_fit.summary())"
   ]
  },
  {
   "cell_type": "code",
   "execution_count": 48,
   "metadata": {},
   "outputs": [
    {
     "data": {
      "image/png": "[encoded data removed]",
      "text/plain": [
       "<Figure size 432x288 with 2 Axes>"
      ]
     },
     "metadata": {
      "needs_background": "light"
     },
     "output_type": "display_data"
    }
   ],
   "source": [
    "# Plot residual errors\n",
    "residuals = pd.DataFrame(model_fit.resid)\n",
    "fig, ax = plt.subplots(1,2)\n",
    "residuals.plot(title=\"Residuals\", ax=ax[0])\n",
    "residuals.plot(kind='kde', title='Density', ax=ax[1])\n",
    "plt.show()"
   ]
  },
  {
   "cell_type": "code",
   "execution_count": 49,
   "metadata": {},
   "outputs": [
    {
     "data": {
      "image/png": "[encoded data removed]",
      "text/plain": [
       "<Figure size 432x288 with 1 Axes>"
      ]
     },
     "metadata": {
      "needs_background": "light"
     },
     "output_type": "display_data"
    }
   ],
   "source": [
    "# Actual vs Fitted\n",
    "model_fit.plot_predict(dynamic=False)\n",
    "plt.show()"
   ]
  },
  {
   "cell_type": "code",
   "execution_count": 50,
   "metadata": {},
   "outputs": [
    {
     "data": {
      "text/plain": [
       "<statsmodels.tsa.arima_model.ARIMAResultsWrapper at 0x1a25c66f10>"
      ]
     },
     "execution_count": 50,
     "metadata": {},
     "output_type": "execute_result"
    }
   ],
   "source": [
    "model_fit"
   ]
  },
  {
   "cell_type": "code",
   "execution_count": 51,
   "metadata": {},
   "outputs": [
    {
     "name": "stdout",
     "output_type": "stream",
     "text": [
      "Accuracy: 99 % \n",
      "\n"
     ]
    }
   ],
   "source": [
    "from sklearn.ensemble import RandomForestRegressor\n",
    "clf_rf = RandomForestRegressor(n_estimators=150)\n",
    "clf_rf.fit(X_train, y_train)\n",
    "acc_rf= round(clf_rf.score(X_train, y_train) * 100, 2)\n",
    "print (\"Accuracy: %i %% \\n\"%acc_rf)"
   ]
  },
  {
   "cell_type": "code",
   "execution_count": 52,
   "metadata": {},
   "outputs": [],
   "source": [
    "y_preds=clf_rf.predict(X_test)"
   ]
  },
  {
   "cell_type": "code",
   "execution_count": 53,
   "metadata": {},
   "outputs": [
    {
     "name": "stdout",
     "output_type": "stream",
     "text": [
      "Xgboost - WAE:1729.5745618861115\n"
     ]
    }
   ],
   "source": [
    "#Calculate the WAE\n",
    "wae = sum(weights * abs(y_actuals - y_preds)) / sum(weights)\n",
    "print (\"Xgboost - WAE:{}\".format(wae))"
   ]
  }
 ],
 "metadata": {
  "kernelspec": {
   "display_name": "Python 3",
   "language": "python",
   "name": "python3"
  },
  "language_info": {
   "codemirror_mode": {
    "name": "ipython",
    "version": 3
   },
   "file_extension": ".py",
   "mimetype": "text/x-python",
   "name": "python",
   "nbconvert_exporter": "python",
   "pygments_lexer": "ipython3",
   "version": "3.7.6"
  }
 },
 "nbformat": 4,
 "nbformat_minor": 4
}
