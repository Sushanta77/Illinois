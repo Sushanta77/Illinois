{
 "cells": [
  {
   "cell_type": "code",
   "execution_count": 27,
   "metadata": {},
   "outputs": [],
   "source": [
    "import numpy as np\n",
    "import pandas as pd\n",
    "from sklearn.linear_model import LinearRegression\n",
    "from sklearn.ensemble import RandomForestRegressor\n",
    "import xgboost as xgb"
   ]
  },
  {
   "cell_type": "code",
   "execution_count": 2,
   "metadata": {},
   "outputs": [],
   "source": [
    "#Load the Train Dataset\n",
    "train = pd.read_csv(\"../data/X_train_ini.csv\")\n",
    "test = pd.read_csv(\"../data/test.csv\")\n",
    "test_fold_1 = pd.read_csv(\"../data/fold/fold_1.csv\")"
   ]
  },
  {
   "cell_type": "code",
   "execution_count": 3,
   "metadata": {},
   "outputs": [],
   "source": [
    "#Load the Train Dataset\n",
    "train = pd.read_csv(\"../data/X_train_ini.csv\")\n",
    "test = pd.read_csv(\"../data/test.csv\")\n",
    "test_fold_1 = pd.read_csv(\"../data/fold/fold_1.csv\")\n",
    "\n",
    "X_test=test_fold_1.copy()\n",
    "\n",
    "#Feature Engineering\n",
    "#One Hot Encoding Train\n",
    "train['IsHoliday_oh'] = train['IsHoliday'].astype(int)\n",
    "#One Hot Encoding Test\n",
    "X_test['IsHoliday_oh'] = X_test['IsHoliday'].astype(int)\n",
    "#Extract Year, Month, Week, Date (Train)\n",
    "train['day'] = pd.to_datetime(train['Date']).dt.day\n",
    "train['week'] = pd.to_datetime(train['Date']).dt.week\n",
    "train['month'] = pd.to_datetime(train['Date']).dt.month\n",
    "train['year'] = pd.to_datetime(train['Date']).dt.year\n",
    "\n",
    "#Extract Year, Month, Week, Date (Test)\n",
    "X_test['day'] = pd.to_datetime(X_test['Date']).dt.day\n",
    "X_test['week'] = pd.to_datetime(X_test['Date']).dt.week\n",
    "X_test['month'] = pd.to_datetime(X_test['Date']).dt.month\n",
    "X_test['year'] = pd.to_datetime(X_test['Date']).dt.year\n",
    "\n",
    "\n",
    "y_train = train['Weekly_Sales']\n",
    "X_train = train.drop(['IsHoliday','Date','Weekly_Sales'],axis=1)\n",
    "\n",
    "X_test = X_test.drop(['IsHoliday','Date','Weekly_Sales'],axis=1)"
   ]
  },
  {
   "cell_type": "code",
   "execution_count": null,
   "metadata": {},
   "outputs": [],
   "source": [
    "#Assign the Weights based on the IsHoliday\n",
    "weights = [5 if i==1 else 1 for i in test_fold_1['IsHoliday'].astype(int)]\n",
    "#Actuals Weekly Sales\n",
    "y_actuals = test_fold_1['Weekly_Sales']"
   ]
  },
  {
   "cell_type": "code",
   "execution_count": null,
   "metadata": {},
   "outputs": [],
   "source": [
    "#xgboost\n",
    "xgb_mod = xgb.XGBRegressor(objective ='reg:squarederror',\n",
    "                           colsample_bytree = 0.1,\n",
    "                           learning_rate = 0.04,\n",
    "                           max_depth = 25,\n",
    "                           alpha = 1, \n",
    "                           n_estimators = 1000,\n",
    "                           verbosity=1\n",
    "                          )\n",
    "xgb_mod.fit(X_train,y_train)\n",
    "\n",
    "#Xgboost (Prediction)\n",
    "y_preds = xgb_mod.predict(X_test)\n",
    "y_preds[np.isnan(y_preds)] = 0\n",
    "\n",
    "#Calculate the WAE\n",
    "wae = sum(weights * abs(y_actuals - y_preds)) / sum(weights)\n",
    "print (\"Xgboost - WAE:{}\".format(wae))"
   ]
  },
  {
   "cell_type": "code",
   "execution_count": 25,
   "metadata": {},
   "outputs": [
    {
     "name": "stdout",
     "output_type": "stream",
     "text": [
      "Linear Regression - WAE:14207.524492659804\n"
     ]
    }
   ],
   "source": [
    "#Linear Regression\n",
    "lin_mod = LinearRegression()\n",
    "lin_mod.fit(X_train,y_train)\n",
    "\n",
    "#Linear Regression (Prediction)\n",
    "y_preds = lin_mod.predict(X_test)\n",
    "y_preds[np.isnan(y_preds)] = 0\n",
    "\n",
    "#Calculate the WAE\n",
    "wae = sum(weights * abs(y_actuals - y_preds)) / sum(weights)\n",
    "print (\"Linear Regression - WAE:{}\".format(wae))"
   ]
  },
  {
   "cell_type": "code",
   "execution_count": 34,
   "metadata": {},
   "outputs": [
    {
     "name": "stderr",
     "output_type": "stream",
     "text": [
      "[Parallel(n_jobs=1)]: Using backend SequentialBackend with 1 concurrent workers.\n",
      "[Parallel(n_jobs=1)]: Done 1000 out of 1000 | elapsed:  2.1min finished\n",
      "[Parallel(n_jobs=1)]: Using backend SequentialBackend with 1 concurrent workers.\n"
     ]
    },
    {
     "name": "stdout",
     "output_type": "stream",
     "text": [
      "Random Forrest - WAE:5373.73496234798\n"
     ]
    },
    {
     "name": "stderr",
     "output_type": "stream",
     "text": [
      "[Parallel(n_jobs=1)]: Done 1000 out of 1000 | elapsed:    0.7s finished\n"
     ]
    }
   ],
   "source": [
    "#Random Forest\n",
    "rf_mod = RandomForestRegressor(max_depth=10,\n",
    "                               n_estimators=1000,\n",
    "                               random_state=125247,\n",
    "                              verbose = True)\n",
    "rf_mod.fit(X_train,y_train)\n",
    "\n",
    "#Random Forest (Prediction)\n",
    "y_preds = rf_mod.predict(X_test)\n",
    "y_preds[np.isnan(y_preds)] = 0\n",
    "\n",
    "#Calculate the WAE\n",
    "wae = sum(weights * abs(y_actuals - y_preds)) / sum(weights)\n",
    "print (\"Random Forrest - WAE:{}\".format(wae))"
   ]
  },
  {
   "cell_type": "code",
   "execution_count": null,
   "metadata": {},
   "outputs": [],
   "source": []
  }
 ],
 "metadata": {
  "kernelspec": {
   "display_name": "Python 3",
   "language": "python",
   "name": "python3"
  },
  "language_info": {
   "codemirror_mode": {
    "name": "ipython",
    "version": 3
   },
   "file_extension": ".py",
   "mimetype": "text/x-python",
   "name": "python",
   "nbconvert_exporter": "python",
   "pygments_lexer": "ipython3",
   "version": "3.7.6"
  }
 },
 "nbformat": 4,
 "nbformat_minor": 4
}
