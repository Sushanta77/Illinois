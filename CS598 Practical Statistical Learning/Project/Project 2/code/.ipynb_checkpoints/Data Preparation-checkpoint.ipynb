{
 "cells": [
  {
   "cell_type": "markdown",
   "metadata": {},
   "source": [
    "#### This code is to generate the following data, which will be used later on for the running of the main Program\n",
    "\n",
    "###### Generate the X_train_ini.csv file\n",
    "\n",
    "(1) Generate the X_train_ini.csv file\n",
    "\n",
    "\n",
    "###### Generate the X_test.csv file\n",
    "\n",
    "(1) Generate the X_test.csv file\n",
    "\n",
    "\n",
    "###### Generate the  fold_<fold number>.csv file\n",
    "\n",
    "(1) Generate the fold_1.csv, fold_2.csv, fold_3.csv .....fold_10.csv file\n",
    "\n",
    "\n"
   ]
  },
  {
   "cell_type": "code",
   "execution_count": 2,
   "metadata": {},
   "outputs": [],
   "source": [
    "import numpy as np\n",
    "import pandas as pd\n",
    "from datetime import timedelta\n",
    "from dateutil.relativedelta import relativedelta\n",
    "from datetime import date"
   ]
  },
  {
   "cell_type": "code",
   "execution_count": 7,
   "metadata": {},
   "outputs": [],
   "source": [
    "#Load the train data\n",
    "train = pd.read_csv(\"../data/train 2.csv\")"
   ]
  },
  {
   "cell_type": "code",
   "execution_count": 9,
   "metadata": {},
   "outputs": [],
   "source": [
    "#Extract the train dates\n",
    "train_dates = train['Date']\n",
    "\n",
    "#Training date data would be from 1st Feb/2010 till 29th Feb 2011\n",
    "X_train = train[(train['Date'] >= '2010-02-01') & (train['Date'] < '2011-03-01')]\n",
    "X_train_idx = train[(train['Date'] >= '2010-02-01') & (train['Date'] < '2011-03-01')].index\n",
    "exclude_idx = train.index.isin(X_train_idx)\n",
    "X_test = train[~(exclude_idx)]\n",
    "\n",
    "#Write down the Train Data to the file\n",
    "X_train.to_csv(\"../data/X_train_ini.csv\",index=False)\n",
    "\n",
    "#Remove the Weekly Sales colum from the Test File\n",
    "X_test_final = X_test.drop(['Weekly_Sales'],axis=1)\n",
    "X_test_final.to_csv(\"../data/test.csv\",index=False)"
   ]
  },
  {
   "cell_type": "code",
   "execution_count": 10,
   "metadata": {},
   "outputs": [],
   "source": [
    "#Number of Folds\n",
    "num_folds = 10\n",
    "\n",
    "#Test Dates\n",
    "test_dates = train_dates[~(exclude_idx)]"
   ]
  },
  {
   "cell_type": "code",
   "execution_count": 15,
   "metadata": {},
   "outputs": [
    {
     "name": "stdout",
     "output_type": "stream",
     "text": [
      "Fold:1 - Start Date:2011-03-01 - End Date:2011-05-01 - Size:(26559, 5)\n",
      "Fold:2 - Start Date:2011-05-01 - End Date:2011-07-01 - Size:(23543, 5)\n",
      "Fold:3 - Start Date:2011-07-01 - End Date:2011-09-01 - Size:(26386, 5)\n",
      "Fold:4 - Start Date:2011-09-01 - End Date:2011-11-01 - Size:(26581, 5)\n",
      "Fold:5 - Start Date:2011-11-01 - End Date:2012-01-01 - Size:(26948, 5)\n",
      "Fold:6 - Start Date:2012-01-01 - End Date:2012-03-01 - Size:(23796, 5)\n",
      "Fold:7 - Start Date:2012-03-01 - End Date:2012-05-01 - Size:(26739, 5)\n",
      "Fold:8 - Start Date:2012-05-01 - End Date:2012-07-01 - Size:(26575, 5)\n",
      "Fold:9 - Start Date:2012-07-01 - End Date:2012-09-01 - Size:(26599, 5)\n",
      "Fold:10 - Start Date:2012-09-01 - End Date:2012-11-01 - Size:(23729, 5)\n"
     ]
    }
   ],
   "source": [
    "#Create the Test Files for the 10 Folders\n",
    "start_datetime = pd.to_datetime(\"2011-03-01\")\n",
    "end_datetime = pd.to_datetime(\"2011-05-01\")\n",
    "\n",
    "for i in np.arange(10):\n",
    "    j = i + 1\n",
    "    start_date = (start_datetime + relativedelta(months=2*(j-1))).strftime(\"%Y-%m-%d\")\n",
    "    end_date = (end_datetime + relativedelta(months=2*(j-1))).strftime(\"%Y-%m-%d\")\n",
    "    test_fold = X_test[(X_test['Date'] >= start_date) & (X_test['Date'] < end_date)]\n",
    "    \n",
    "    test_fold.to_csv(\"../data/fold/fold_\"+np.str(j)+\".csv\",index=False)\n",
    "    print (\"Fold:{} - Start Date:{} - End Date:{} - Size:{}\".format(j,start_date,end_date,test_fold.shape))"
   ]
  }
 ],
 "metadata": {
  "kernelspec": {
   "display_name": "Python 3",
   "language": "python",
   "name": "python3"
  },
  "language_info": {
   "codemirror_mode": {
    "name": "ipython",
    "version": 3
   },
   "file_extension": ".py",
   "mimetype": "text/x-python",
   "name": "python",
   "nbconvert_exporter": "python",
   "pygments_lexer": "ipython3",
   "version": "3.7.6"
  }
 },
 "nbformat": 4,
 "nbformat_minor": 4
}
