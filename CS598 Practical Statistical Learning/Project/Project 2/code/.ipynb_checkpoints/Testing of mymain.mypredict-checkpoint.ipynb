{
 "cells": [
  {
   "cell_type": "code",
   "execution_count": 2,
   "metadata": {},
   "outputs": [
    {
     "name": "stdout",
     "output_type": "stream",
     "text": [
      "Fold - 1 WAE - 2039.6310045307932\n",
      "Fold - 2 WAE - 1685.4740565659997\n",
      "Fold - 3 WAE - 1686.711422661007\n",
      "Fold - 4 WAE - 1679.3520191549735\n",
      "Fold - 5 WAE - 2700.7815920761172\n",
      "Fold - 6 WAE - 1751.4207956685293\n",
      "Fold - 7 WAE - 2104.018830075919\n",
      "Fold - 8 WAE - 1849.1785579855755\n",
      "Fold - 9 WAE - 1824.7670765166613\n",
      "Fold - 10 WAE - 1648.8015094653445\n",
      "[2039.6310045307932, 1685.4740565659997, 1686.711422661007, 1679.3520191549735, 2700.7815920761172, 1751.4207956685293, 2104.018830075919, 1849.1785579855755, 1824.7670765166613, 1648.8015094653445]\n",
      "1897.0136864700921\n",
      "Total Time Taken:822.876179933548\n"
     ]
    }
   ],
   "source": [
    "import numpy as np\n",
    "import pandas as pd\n",
    "\n",
    "from mymain import mypredict\n",
    "\n",
    "train = pd.read_csv('train_ini.csv', parse_dates=['Date'])\n",
    "test = pd.read_csv('test.csv', parse_dates=['Date'])\n",
    "\n",
    "# save weighed mean absolute error WMAE\n",
    "n_folds = 10\n",
    "next_fold = None\n",
    "wae = []\n",
    "\n",
    "# time-series CV\n",
    "for t in range(1, n_folds+1):\n",
    "    print(f'Fold{t}...')\n",
    "\n",
    "    # *** THIS IS YOUR PREDICTION FUNCTION ***\n",
    "    train, test_pred = mypredict(train, test, next_fold, t)\n",
    "\n",
    "    # Load fold file\n",
    "    # You should add this to your training data in the next call to mypredict()\n",
    "    fold_file = 'fold_{t}.csv'.format(t=t)\n",
    "    next_fold = pd.read_csv(fold_file, parse_dates=['Date'])\n",
    "\n",
    "    # extract predictions matching up to the current fold\n",
    "    scoring_df = next_fold.merge(test_pred, on=['Date', 'Store', 'Dept'], how='left')\n",
    "\n",
    "    # extract weights and convert to numpy arrays for wae calculation\n",
    "    weights = scoring_df['IsHoliday_x'].apply(lambda is_holiday:5 if is_holiday else 1).to_numpy()\n",
    "    actuals = scoring_df['Weekly_Sales'].to_numpy()\n",
    "    preds = scoring_df['Weekly_Pred'].fillna(0).to_numpy()\n",
    "\n",
    "    wae.append((np.sum(weights * np.abs(actuals - preds)) / np.sum(weights)).item())\n",
    "\n",
    "print(wae)\n",
    "print(sum(wae)/len(wae))"
   ]
  }
 ],
 "metadata": {
  "kernelspec": {
   "display_name": "Python 3",
   "language": "python",
   "name": "python3"
  },
  "language_info": {
   "codemirror_mode": {
    "name": "ipython",
    "version": 3
   },
   "file_extension": ".py",
   "mimetype": "text/x-python",
   "name": "python",
   "nbconvert_exporter": "python",
   "pygments_lexer": "ipython3",
   "version": "3.7.6"
  }
 },
 "nbformat": 4,
 "nbformat_minor": 4
}
