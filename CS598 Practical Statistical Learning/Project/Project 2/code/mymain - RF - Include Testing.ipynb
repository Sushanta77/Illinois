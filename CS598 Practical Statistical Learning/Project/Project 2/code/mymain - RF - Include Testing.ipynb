{
 "cells": [
  {
   "cell_type": "code",
   "execution_count": null,
   "metadata": {},
   "outputs": [],
   "source": [
    "import numpy as np\n",
    "import pandas as pd\n",
    "from sklearn.linear_model import LinearRegression,ElasticNet\n",
    "from sklearn.ensemble import RandomForestRegressor\n",
    "import xgboost as xgb"
   ]
  },
  {
   "cell_type": "code",
   "execution_count": null,
   "metadata": {},
   "outputs": [],
   "source": [
    "def mypredict(train,test,next_fold,t):\n",
    "    \n",
    "    train = pd.concat([train,next_fold])\n",
    "    X_train = train.copy()\n",
    "    X_test = test.copy()\n",
    "    test_pred_ret = test.copy()\n",
    "\n",
    "    #----------------------------------------------------------\n",
    "    # Feature Engineering\n",
    "    #----------------------------------------------------------\n",
    "    #One Hot Encoding\n",
    "    X_train['IsHoliday_oh'] = X_train['IsHoliday'].astype(int)\n",
    "    #Extract Year, Month, Week, Date (Train)\n",
    "    X_train['day'] = pd.to_datetime(X_train['Date']).dt.day\n",
    "    X_train['week'] = pd.to_datetime(X_train['Date']).dt.week\n",
    "    X_train['month'] = pd.to_datetime(X_train['Date']).dt.month\n",
    "    X_train['year'] = pd.to_datetime(X_train['Date']).dt.year\n",
    "\n",
    "    y_train = train['Weekly_Sales']\n",
    "    X_train = X_train.drop(['IsHoliday','Date','Weekly_Sales'],axis=1)\n",
    "\n",
    "    #One Hot Encoding\n",
    "    X_test['IsHoliday_oh'] = X_test['IsHoliday'].astype(int)\n",
    "    #Extract Year, Month, Week, Date (Train)\n",
    "    X_test['day'] = pd.to_datetime(X_test['Date']).dt.day\n",
    "    X_test['week'] = pd.to_datetime(X_test['Date']).dt.week\n",
    "    X_test['month'] = pd.to_datetime(X_test['Date']).dt.month\n",
    "    X_test['year'] = pd.to_datetime(X_test['Date']).dt.year\n",
    "    X_test = X_test.drop(['IsHoliday','Date'],axis=1)\n",
    "\n",
    "    #----------------------------------------------------------\n",
    "    # Model Building\n",
    "    #----------------------------------------------------------\n",
    "    rf_mod = RandomForestRegressor(n_estimators=150,\n",
    "                                   random_state=125247)\n",
    "    rf_mod.fit(X_train,y_train)\n",
    "\n",
    "    #Random Forest (Prediction)\n",
    "    y_preds = rf_mod.predict(X_test)\n",
    "    #y_preds[np.isnan(y_preds)] = 0\n",
    "\n",
    "    test_pred_ret['Weekly_Pred'] = y_preds\n",
    "    \n",
    "    return train,test_pred_ret\n",
    "        "
   ]
  },
  {
   "cell_type": "code",
   "execution_count": null,
   "metadata": {},
   "outputs": [],
   "source": [
    "train = pd.read_csv('../data/train_ini.csv', parse_dates=['Date'])\n",
    "test = pd.read_csv('../data/test.csv', parse_dates=['Date'])\n",
    "\n",
    "# save weighed mean absolute error WMAE\n",
    "n_folds = 10\n",
    "next_fold = None\n",
    "wae = []\n",
    "\n",
    "# time-series CV\n",
    "for t in range(1, n_folds+1):\n",
    "    #print(f'Fold{t}...')\n",
    "\n",
    "    # *** THIS IS YOUR PREDICTION FUNCTION ***\n",
    "    train, test_pred = mypredict(train, test, next_fold, t)\n",
    "\n",
    "    # Load fold file\n",
    "    # You should add this to your training data in the next call to mypredict()\n",
    "    fold_file = 'fold_{t}.csv'.format(t=t)\n",
    "    next_fold = pd.read_csv(\"../data/fold/\"+fold_file, parse_dates=['Date'])\n",
    "\n",
    "    # extract predictions matching up to the current fold\n",
    "    scoring_df = next_fold.merge(test_pred, on=['Date', 'Store', 'Dept'], how='left')\n",
    "\n",
    "    # extract weights and convert to numpy arrays for wae calculation\n",
    "    weights = scoring_df['IsHoliday_x'].apply(lambda is_holiday:5 if is_holiday else 1).to_numpy()\n",
    "    actuals = scoring_df['Weekly_Sales'].to_numpy()\n",
    "    preds = scoring_df['Weekly_Pred'].fillna(0).to_numpy()\n",
    "\n",
    "    wae.append((np.sum(weights * np.abs(actuals - preds)) / np.sum(weights)).item())\n",
    "    \n",
    "    print (\"WAE for Fold:{} is :{} \".format(t,(np.sum(weights * np.abs(actuals - preds)) / np.sum(weights)).item()))\n",
    "\n",
    "print(wae)\n",
    "print(sum(wae)/len(wae))"
   ]
  },
  {
   "cell_type": "code",
   "execution_count": null,
   "metadata": {},
   "outputs": [],
   "source": [
    "np.mean(wae)"
   ]
  }
 ],
 "metadata": {
  "kernelspec": {
   "display_name": "Python 3",
   "language": "python",
   "name": "python3"
  },
  "language_info": {
   "codemirror_mode": {
    "name": "ipython",
    "version": 3
   },
   "file_extension": ".py",
   "mimetype": "text/x-python",
   "name": "python",
   "nbconvert_exporter": "python",
   "pygments_lexer": "ipython3",
   "version": "3.7.6"
  }
 },
 "nbformat": 4,
 "nbformat_minor": 4
}
