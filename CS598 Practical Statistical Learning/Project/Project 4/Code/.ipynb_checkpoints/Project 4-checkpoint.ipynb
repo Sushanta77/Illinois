{
 "cells": [
  {
   "cell_type": "code",
   "execution_count": 17,
   "metadata": {},
   "outputs": [],
   "source": [
    "import pandas as pd\n",
    "import numpy as np\n",
    "from sklearn.model_selection import train_test_split\n",
    "import warnings\n",
    "warnings.filterwarnings('ignore')"
   ]
  },
  {
   "cell_type": "code",
   "execution_count": 19,
   "metadata": {},
   "outputs": [],
   "source": [
    "header_list = ['UserID', 'MovieID', 'Rating', 'Timestamp']\n",
    "rating = pd.read_csv(\"../data/ratings.dat\",sep=\"::\",names=header_list)\n",
    "rating['Timestamp'] = rating.drop(['Timestamp'],axis=1)"
   ]
  },
  {
   "cell_type": "code",
   "execution_count": 22,
   "metadata": {},
   "outputs": [],
   "source": [
    "#Split the Train, Test Data in 80% , 20 %\n",
    "X_train,X_test = train_test_split(rating,test_size=0.2,random_state=125247)"
   ]
  }
 ],
 "metadata": {
  "kernelspec": {
   "display_name": "Python 3",
   "language": "python",
   "name": "python3"
  },
  "language_info": {
   "codemirror_mode": {
    "name": "ipython",
    "version": 3
   },
   "file_extension": ".py",
   "mimetype": "text/x-python",
   "name": "python",
   "nbconvert_exporter": "python",
   "pygments_lexer": "ipython3",
   "version": "3.7.6"
  }
 },
 "nbformat": 4,
 "nbformat_minor": 4
}
