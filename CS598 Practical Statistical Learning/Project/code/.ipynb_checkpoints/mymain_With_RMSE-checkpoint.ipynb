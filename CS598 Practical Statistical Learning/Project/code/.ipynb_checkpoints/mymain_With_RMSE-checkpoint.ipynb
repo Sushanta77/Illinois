{
 "cells": [
  {
   "cell_type": "code",
   "execution_count": 1,
   "metadata": {},
   "outputs": [],
   "source": [
    "import pandas as pd\n",
    "import numpy as np\n",
    "from sklearn.linear_model import Lasso,ElasticNet\n",
    "from sklearn.ensemble import RandomForestRegressor\n",
    "from sklearn.preprocessing import LabelEncoder,OneHotEncoder\n",
    "from sklearn.model_selection import KFold\n",
    "from sklearn.metrics import mean_squared_error\n",
    "import xgboost as xgb\n",
    "import os\n",
    "import warnings\n",
    "warnings.filterwarnings(\"ignore\")"
   ]
  },
  {
   "cell_type": "code",
   "execution_count": 2,
   "metadata": {},
   "outputs": [],
   "source": [
    "def onehot_encoding(x_train_input,x_test_input):\n",
    "    train_num = x_train_input.shape[0]\n",
    "    test_num = x_test_input.shape[0]\n",
    "    df = [x_train_input,x_test_input]\n",
    "    df_train_test = pd.concat(df)\n",
    "    \n",
    "    #Fill the na values to \"0\" for the feature 'Garage_Yr_Blt'\n",
    "    #df_train_test['Garage_Yr_Blt'] = df_train_test['Garage_Yr_Blt'].fillna(0)\n",
    "    \n",
    "    #Below columns needs to be dropped because of High Imbalance in data\n",
    "    drop_columns = ['Street', 'Utilities', 'Condition_2', 'Roof_Matl', 'Heating', \n",
    "                    'Pool_QC', 'Misc_Feature', 'Low_Qual_Fin_SF', 'Pool_Area', 'Longitude',\n",
    "                    'Latitude','Land_Slope','Bsmt_Half_Bath','Three_season_porch','Misc_Val',\n",
    "                    'Garage_Yr_Blt']\n",
    "    #Let's drop the column\n",
    "    df_train_test = df_train_test.drop(drop_columns,axis=1)\n",
    "    \n",
    "    #Convert the Categorical Variable into dummy variable using Pandas's get_dummmies\n",
    "    for col_name in df_train_test.columns[df_train_test.dtypes == 'object']:\n",
    "        df_get_dummies = pd.get_dummies(df_train_test[col_name],drop_first=True,prefix=col_name)\n",
    "        df_train_test=pd.concat([df_train_test,df_get_dummies],axis=1)\n",
    "        \n",
    "    #Drop all the categorical columns, as we have created the dummies columns\n",
    "    drop_cat_col_name= []\n",
    "    for col_name in df_train_test.columns[df_train_test.dtypes == 'object']:\n",
    "        drop_cat_col_name = np.append(drop_cat_col_name,col_name)\n",
    "    \n",
    "    df_train_test = df_train_test.drop(drop_cat_col_name,axis=1)\n",
    "    \n",
    "    #Split the Train & Test Data\n",
    "    x_train_return = df_train_test.iloc[0:train_num]\n",
    "    x_test_return = df_train_test.iloc[train_num:]\n",
    "    \n",
    "    return x_train_return,x_test_return\n",
    "\n",
    "\n",
    "def winsorization(x_train_input,x_test_input):\n",
    "    #Purposefully, removed the column = \"Three_season_porch\", \"Misc_Val\"\n",
    "    winsorization_cols = ['Lot_Frontage', 'Lot_Area', 'Mas_Vnr_Area', 'BsmtFin_SF_2', 'Bsmt_Unf_SF', \n",
    "                          'Total_Bsmt_SF', 'Second_Flr_SF', 'First_Flr_SF', 'Gr_Liv_Area', 'Garage_Area',\n",
    "                          'Wood_Deck_SF', 'Open_Porch_SF', 'Enclosed_Porch',  \n",
    "                          'Screen_Porch']\n",
    "    quan_val = 0.95\n",
    "    for winso_columns in winsorization_cols:\n",
    "        col_quant_value = np.quantile(x_train_input[winso_columns],quan_val)\n",
    "        x_train_input[winso_columns][x_train_input[winso_columns] > col_quant_value] = col_quant_value\n",
    "        x_test_input[winso_columns][x_test_input[winso_columns] > col_quant_value] = col_quant_value\n",
    "        #print (\"Column : {} 95% Quantile: {}\".format(winso_columns,col_quant_value))\n",
    "        \n",
    "    return x_train_input,x_test_input\n",
    "\n",
    "#------------------------------------------------------------------------\n",
    "#\n",
    "# Shrinking Methods (Lasso)\n",
    "#\n",
    "#------------------------------------------------------------------------\n",
    "def lasso_model(x_train_lasso,y_train_lasso,x_test_lasso,print_ind=False):\n",
    "    \n",
    "    x_train_lasso_PID = x_train_lasso['PID']\n",
    "    x_test_lasso_PID = x_test_lasso['PID']\n",
    "    \n",
    "    x_train_lasso = x_train_lasso.drop(['PID'],axis=1)\n",
    "    x_test_lasso = x_test_lasso.drop(['PID'],axis=1)\n",
    "\n",
    "    alpha_ = 0.0001\n",
    "    \n",
    "    lasso_model = Lasso(alpha=alpha_)\n",
    "    lasso_model.fit(x_train_lasso,y_train_lasso)\n",
    "    y_test_predict  = lasso_model.predict(x_test_lasso)\n",
    "    df_submission = pd.DataFrame({'PID':x_test_lasso_PID,'Sale_Price':round(np.exp(pd.Series(y_test_predict)),1)})\n",
    "    \n",
    "    return df_submission\n",
    "\n",
    "#------------------------------------------------------------------------\n",
    "#\n",
    "# Boosting Model (Xgboost)\n",
    "#\n",
    "#------------------------------------------------------------------------\n",
    "def xgboost_model(x_train_xgboost,y_train_xgboost,x_test_xgboost,print_ind=False):\n",
    "    max_depth_count_ = 0\n",
    "    colsample_bytree_ = 0.1\n",
    "    learning_rate_ = 0.04\n",
    "    max_depth_ = 25\n",
    "    alpha_ = 1\n",
    "    \n",
    "    x_train_xgboost_PID = x_train_xgboost['PID']\n",
    "    x_test_xgboost_PID = x_test_xgboost['PID']\n",
    "    \n",
    "    x_train_xgboost = x_train_xgboost.drop(['PID'],axis=1)\n",
    "    x_test_xgboost = x_test_xgboost.drop(['PID'],axis=1)\n",
    "    \n",
    "    xg_reg = xgb.XGBRegressor(objective ='reg:squarederror', \n",
    "                              colsample_bytree = 0.1, \n",
    "                              learning_rate = 0.04,\n",
    "                              max_depth = 25, \n",
    "                              alpha = 1, \n",
    "                              n_estimators = 1000)\n",
    "\n",
    "    xg_reg.fit(x_train_xgboost,y_train_xgboost)\n",
    "    y_test_predict  = xg_reg.predict(x_test_xgboost)\n",
    "    df_submission = pd.DataFrame({'PID':x_test_xgboost_PID,'Sale_Price':round(np.exp(pd.Series(y_test_predict)),1)})\n",
    "    \n",
    "    return df_submission\n"
   ]
  },
  {
   "cell_type": "code",
   "execution_count": 3,
   "metadata": {},
   "outputs": [
    {
     "name": "stdout",
     "output_type": "stream",
     "text": [
      "Completed ...\n"
     ]
    }
   ],
   "source": [
    "train = pd.read_csv(\"train.csv\")\n",
    "x_test = pd.read_csv(\"test.csv\")\n",
    "#y_test = pd.read_csv(folder_name+\"folder_\"+np.str(i+1)+\"/\"+\"y_test.csv\")\n",
    "\n",
    "y_train = np.log(train['Sale_Price'])\n",
    "x_train = train.drop(['Sale_Price'],axis=1)\n",
    "#y_test = np.log(y_test)\n",
    "\n",
    "x_train_onehot,x_test_onehot = onehot_encoding(x_train,x_test)\n",
    "x_train_final,x_test_final = winsorization(x_train_onehot,x_test_onehot)\n",
    "\n",
    "#Calling the Model - 1\n",
    "df_submission_lasso = lasso_model(x_train_final,y_train,x_test_final,True)\n",
    "#Calling the Model - 2\n",
    "df_submission_xgboost = xgboost_model(x_train_final,y_train,x_test_final,True)\n",
    "\n",
    "#Write the Submission File into the Folder\n",
    "df_submission_lasso.to_csv(\"mysubmission1.txt\",index=False)\n",
    "df_submission_xgboost.to_csv(\"mysubmission2.txt\",index=False)\n",
    "\n",
    "print (\"Completed ...\")\n"
   ]
  },
  {
   "cell_type": "code",
   "execution_count": 4,
   "metadata": {},
   "outputs": [
    {
     "name": "stdout",
     "output_type": "stream",
     "text": [
      "RMSE Lasso:0.124 - RMSE Xgboost:0.126\n"
     ]
    }
   ],
   "source": [
    "##Please remove the Below code while submitting the code for Grading\n",
    "y_test = pd.read_csv(\"y_test.csv\")\n",
    "y_predict_lasso = pd.read_csv(\"mysubmission1.txt\")\n",
    "y_predict_xgboost = pd.read_csv(\"mysubmission2.txt\")\n",
    "rmse_lasso = np.sqrt(np.mean((np.log(y_predict_lasso['Sale_Price']) - np.log(y_test['Sale_Price']))**2))\n",
    "rmse_xgboost = np.sqrt(np.mean((np.log(y_predict_xgboost['Sale_Price']) - np.log(y_test['Sale_Price']))**2))\n",
    "print (\"RMSE Lasso:{:.3f} - RMSE Xgboost:{:.3f}\".format(rmse_lasso,rmse_xgboost))"
   ]
  },
  {
   "cell_type": "code",
   "execution_count": 5,
   "metadata": {},
   "outputs": [],
   "source": [
    "#Folder 1  - RMSE Lasso:0.124 - RMSE Xgboost:0.126\n",
    "#Folder 2  - RMSE Lasso:0.114 - RMSE Xgboost:0.114\n",
    "#Folder 3  - RMSE Lasso:0.126 - RMSE Xgboost:0.126\n",
    "#Folder 4  - RMSE Lasso:0.132 - RMSE Xgboost:0.132\n",
    "#Folder 5  - RMSE Lasso:0.131 - RMSE Xgboost:0.131\n",
    "#Folder 6  - RMSE Lasso:0.124 - RMSE Xgboost:0.124\n",
    "#Folder 7  - RMSE Lasso:0.114 - RMSE Xgboost:0.114\n",
    "#Folder 8  - RMSE Lasso:0.126 - RMSE Xgboost:0.126\n",
    "#Folder 9  - RMSE Lasso:0.132 - RMSE Xgboost:0.132\n",
    "#Folder 10 - RMSE Lasso:0.131 - RMSE Xgboost:0.131"
   ]
  },
  {
   "cell_type": "code",
   "execution_count": 6,
   "metadata": {},
   "outputs": [],
   "source": [
    "import matplotlib.pyplot as plt\n",
    "%matplotlib inline"
   ]
  },
  {
   "cell_type": "code",
   "execution_count": 9,
   "metadata": {},
   "outputs": [],
   "source": [
    "df_error = pd.DataFrame({'Lasso' : [0.124,0.114,0.126,0.132],\n",
    "                        'Ridge' : [0.126,0.114,0.126,0.132]})"
   ]
  },
  {
   "cell_type": "code",
   "execution_count": 10,
   "metadata": {},
   "outputs": [
    {
     "data": {
      "text/plain": [
       "[<matplotlib.lines.Line2D at 0x1a22223290>]"
      ]
     },
     "execution_count": 10,
     "metadata": {},
     "output_type": "execute_result"
    },
    {
     "data": {
      "image/png": "[encoded data removed]",
      "text/plain": [
       "<Figure size 432x288 with 1 Axes>"
      ]
     },
     "metadata": {
      "needs_background": "light"
     },
     "output_type": "display_data"
    }
   ],
   "source": [
    "plt.plot(df_error['Lasso'])\n",
    "plt.plot(df_error['Ridge'])"
   ]
  }
 ],
 "metadata": {
  "kernelspec": {
   "display_name": "Python 3",
   "language": "python",
   "name": "python3"
  },
  "language_info": {
   "codemirror_mode": {
    "name": "ipython",
    "version": 3
   },
   "file_extension": ".py",
   "mimetype": "text/x-python",
   "name": "python",
   "nbconvert_exporter": "python",
   "pygments_lexer": "ipython3",
   "version": "3.7.6"
  }
 },
 "nbformat": 4,
 "nbformat_minor": 4
}
