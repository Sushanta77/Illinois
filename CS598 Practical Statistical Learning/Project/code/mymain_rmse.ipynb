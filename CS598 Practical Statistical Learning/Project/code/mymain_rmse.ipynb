{
 "cells": [
  {
   "cell_type": "code",
   "execution_count": 1,
   "metadata": {},
   "outputs": [],
   "source": [
    "import pandas as pd\n",
    "import numpy as np\n",
    "from sklearn.linear_model import Lasso,ElasticNet\n",
    "from sklearn.ensemble import RandomForestRegressor\n",
    "from sklearn.preprocessing import LabelEncoder,OneHotEncoder\n",
    "from sklearn.model_selection import KFold\n",
    "from sklearn.metrics import mean_squared_error\n",
    "import xgboost as xgb\n",
    "import os\n",
    "import warnings\n",
    "warnings.filterwarnings(\"ignore\")"
   ]
  },
  {
   "cell_type": "code",
   "execution_count": 2,
   "metadata": {},
   "outputs": [
    {
     "name": "stdout",
     "output_type": "stream",
     "text": [
      "RMSE Lasso:0.131 - RMSE Xgboost:0.135\n"
     ]
    }
   ],
   "source": [
    "##Please remove the Below code while submitting the code for Grading\n",
    "y_test = pd.read_csv(\"y_test.csv\")\n",
    "y_predict_lasso = pd.read_csv(\"mysubmission1.txt\")\n",
    "y_predict_xgboost = pd.read_csv(\"mysubmission2.txt\")\n",
    "rmse_lasso = np.sqrt(np.mean((np.log(y_predict_lasso['Sale_Price']) - np.log(y_test['Sale_Price']))**2))\n",
    "rmse_xgboost = np.sqrt(np.mean((np.log(y_predict_xgboost['Sale_Price']) - np.log(y_test['Sale_Price']))**2))\n",
    "print (\"RMSE Lasso:{:.3f} - RMSE Xgboost:{:.3f}\".format(rmse_lasso,rmse_xgboost))"
   ]
  }
 ],
 "metadata": {
  "kernelspec": {
   "display_name": "Python 3",
   "language": "python",
   "name": "python3"
  },
  "language_info": {
   "codemirror_mode": {
    "name": "ipython",
    "version": 3
   },
   "file_extension": ".py",
   "mimetype": "text/x-python",
   "name": "python",
   "nbconvert_exporter": "python",
   "pygments_lexer": "ipython3",
   "version": "3.7.6"
  }
 },
 "nbformat": 4,
 "nbformat_minor": 4
}
