{
 "cells": [
  {
   "cell_type": "code",
   "execution_count": 32,
   "metadata": {},
   "outputs": [],
   "source": [
    "import pandas as pd\n",
    "import numpy as np\n",
    "from sklearn.linear_model import Lasso\n",
    "from sklearn.preprocessing import LabelEncoder"
   ]
  },
  {
   "cell_type": "code",
   "execution_count": 133,
   "metadata": {},
   "outputs": [],
   "source": [
    "def load_data():\n",
    "    columns = [\"Col1\",\"Col 2\",\"Col 3\",\"Col 4\",\"Col 5\",\"Col 6\", \"Col 7\", \"Col 8\",\"Col 9\",\"Col 10\"]\n",
    "    data = pd.read_csv(\"/users/Sushanta/Documents/GitHub/Illinois/CS598 Practical Statistical Learning/Project/data/Ames_data.csv\")\n",
    "    testIds = pd.read_csv(\"/users/Sushanta/Documents/GitHub/Illinois/CS598 Practical Statistical Learning/Project/data/project1_testIDs.dat\",sep = \" \", names = columns)\n",
    "    \n",
    "    return data, testIds\n",
    "\n",
    "def created_train_test(data,testIds,j):\n",
    "    j = j-1\n",
    "    test = data.iloc[np.array(testIds)[:,j]]\n",
    "    train = data.drop(np.array(testIds)[:,j], axis=0)\n",
    "    return train,test\n",
    "\n",
    "def feature_engineering(x_train,x_test):\n",
    "    #number of record\n",
    "    train_num = x_train.shape[0]\n",
    "    test_num = x_test.shape[0]\n",
    "    #Merge the Train & Test\n",
    "    df = [x_train,x_test]\n",
    "    df_train_test = pd.concat(df)\n",
    "    \n",
    "    #Label Encoder to transform the Categoricsal Variable\n",
    "    lbe = LabelEncoder()\n",
    "    for col_name in train.columns[train.dtypes == 'object']:\n",
    "        #col_name = cols+'_Cat'\n",
    "        df_train_test[col_name] = lbe.fit_transform(df_train_test[col_name])\n",
    "        \n",
    "    #Let's drop the column \"Garage_Yr_Blt\" for now, as it ha NaN\n",
    "    df_train_test = df_train_test.drop(['Garage_Yr_Blt'],axis=1)\n",
    "    x_train = pd.DataFrame(np.array(df_train_test)[:train_num,:],columns = df_train_test.columns)\n",
    "    x_test = pd.DataFrame(np.array(df_train_test)[train_num:,:],columns = df_train_test.columns)\n",
    "    \n",
    "    return x_train,x_test\n",
    "\n",
    "def lasso_model(x_train,y_train,x_test,y_test,alpha=0.5):\n",
    "    lasso_model = Lasso(alpha=alpha)\n",
    "    lasso_model.fit(x_train,y_train)\n",
    "    y_predict = lasso_model.predict(x_test)\n",
    "    return lasso_model,y_predict\n",
    "    "
   ]
  },
  {
   "cell_type": "code",
   "execution_count": 135,
   "metadata": {},
   "outputs": [
    {
     "name": "stdout",
     "output_type": "stream",
     "text": [
      "Number of elements in the Training Set: (2051, 83)\n",
      "Number of elements in the Test Set: (879, 83)\n",
      "Number of elements in the Train Transformed Set: (2051, 81)\n",
      "Number of elements in the Test Transformed Set: (879, 81)\n"
     ]
    }
   ],
   "source": [
    "data, testIds = load_data()\n",
    "train,test = created_train_test(data,testIds,j=1)\n",
    "\n",
    "#Print the dataset size\n",
    "print (\"Number of elements in the Training Set: {}\".format(train.shape))\n",
    "print (\"Number of elements in the Test Set: {}\".format(test.shape))\n",
    "\n",
    "#Write to the Train.csv file\n",
    "train.to_csv(\"/users/Sushanta/Documents/GitHub/Illinois/CS598 Practical Statistical Learning/Project/data/train.csv\",index=False)\n",
    "test.to_csv(\"/users/Sushanta/Documents/GitHub/Illinois/CS598 Practical Statistical Learning/Project/data/test.csv\",index=False)\n",
    "\n",
    "y_train = train['Sale_Price']\n",
    "x_train = train.drop(['Sale_Price'],axis=1)\n",
    "y_test = test['Sale_Price']\n",
    "x_test = test.drop(['Sale_Price'],axis=1)\n",
    "\n",
    "x_train_transformed,x_test_transformed = feature_engineering(x_train,x_test)\n",
    "\n",
    "#Print the dataset size\n",
    "print (\"Number of elements in the Train Transformed Set: {}\".format(x_train_transformed.shape))\n",
    "print (\"Number of elements in the Test Transformed Set: {}\".format(x_test_transformed.shape))\n"
   ]
  },
  {
   "cell_type": "code",
   "execution_count": 81,
   "metadata": {},
   "outputs": [
    {
     "data": {
      "text/html": [
       "<div>\n",
       "<style scoped>\n",
       "    .dataframe tbody tr th:only-of-type {\n",
       "        vertical-align: middle;\n",
       "    }\n",
       "\n",
       "    .dataframe tbody tr th {\n",
       "        vertical-align: top;\n",
       "    }\n",
       "\n",
       "    .dataframe thead th {\n",
       "        text-align: right;\n",
       "    }\n",
       "</style>\n",
       "<table border=\"1\" class=\"dataframe\">\n",
       "  <thead>\n",
       "    <tr style=\"text-align: right;\">\n",
       "      <th></th>\n",
       "      <th>PID</th>\n",
       "      <th>MS_SubClass</th>\n",
       "      <th>MS_Zoning</th>\n",
       "      <th>Lot_Frontage</th>\n",
       "      <th>Lot_Area</th>\n",
       "      <th>Street</th>\n",
       "      <th>Alley</th>\n",
       "      <th>Lot_Shape</th>\n",
       "      <th>Land_Contour</th>\n",
       "      <th>Utilities</th>\n",
       "      <th>...</th>\n",
       "      <th>Pool_QC</th>\n",
       "      <th>Fence</th>\n",
       "      <th>Misc_Feature</th>\n",
       "      <th>Misc_Val</th>\n",
       "      <th>Mo_Sold</th>\n",
       "      <th>Year_Sold</th>\n",
       "      <th>Sale_Type</th>\n",
       "      <th>Sale_Condition</th>\n",
       "      <th>Longitude</th>\n",
       "      <th>Latitude</th>\n",
       "    </tr>\n",
       "  </thead>\n",
       "  <tbody>\n",
       "  </tbody>\n",
       "</table>\n",
       "<p>0 rows × 82 columns</p>\n",
       "</div>"
      ],
      "text/plain": [
       "Empty DataFrame\n",
       "Columns: [PID, MS_SubClass, MS_Zoning, Lot_Frontage, Lot_Area, Street, Alley, Lot_Shape, Land_Contour, Utilities, Lot_Config, Land_Slope, Neighborhood, Condition_1, Condition_2, Bldg_Type, House_Style, Overall_Qual, Overall_Cond, Year_Built, Year_Remod_Add, Roof_Style, Roof_Matl, Exterior_1st, Exterior_2nd, Mas_Vnr_Type, Mas_Vnr_Area, Exter_Qual, Exter_Cond, Foundation, Bsmt_Qual, Bsmt_Cond, Bsmt_Exposure, BsmtFin_Type_1, BsmtFin_SF_1, BsmtFin_Type_2, BsmtFin_SF_2, Bsmt_Unf_SF, Total_Bsmt_SF, Heating, Heating_QC, Central_Air, Electrical, First_Flr_SF, Second_Flr_SF, Low_Qual_Fin_SF, Gr_Liv_Area, Bsmt_Full_Bath, Bsmt_Half_Bath, Full_Bath, Half_Bath, Bedroom_AbvGr, Kitchen_AbvGr, Kitchen_Qual, TotRms_AbvGrd, Functional, Fireplaces, Fireplace_Qu, Garage_Type, Garage_Yr_Blt, Garage_Finish, Garage_Cars, Garage_Area, Garage_Qual, Garage_Cond, Paved_Drive, Wood_Deck_SF, Open_Porch_SF, Enclosed_Porch, Three_season_porch, Screen_Porch, Pool_Area, Pool_QC, Fence, Misc_Feature, Misc_Val, Mo_Sold, Year_Sold, Sale_Type, Sale_Condition, Longitude, Latitude]\n",
       "Index: []\n",
       "\n",
       "[0 rows x 82 columns]"
      ]
     },
     "execution_count": 81,
     "metadata": {},
     "output_type": "execute_result"
    }
   ],
   "source": [
    "x_train_transformed[x_train_transformed['MS_SubClass'].isna()]"
   ]
  },
  {
   "cell_type": "code",
   "execution_count": 136,
   "metadata": {},
   "outputs": [
    {
     "name": "stderr",
     "output_type": "stream",
     "text": [
      "/Users/sushanta/opt/anaconda3/lib/python3.7/site-packages/sklearn/linear_model/_coordinate_descent.py:476: ConvergenceWarning: Objective did not converge. You might want to increase the number of iterations. Duality gap: 978522006459.4314, tolerance: 1342123403.9788368\n",
      "  positive)\n"
     ]
    }
   ],
   "source": [
    "lasso_model,y_predict = lasso_model(x_train_transformed,y_train,x_test_transformed,y_test)"
   ]
  },
  {
   "cell_type": "code",
   "execution_count": 143,
   "metadata": {},
   "outputs": [
    {
     "data": {
      "text/plain": [
       "130059.4778816551"
      ]
     },
     "execution_count": 143,
     "metadata": {},
     "output_type": "execute_result"
    }
   ],
   "source": [
    "y_predict[0]"
   ]
  },
  {
   "cell_type": "code",
   "execution_count": 153,
   "metadata": {},
   "outputs": [
    {
     "data": {
      "text/plain": [
       "148000"
      ]
     },
     "execution_count": 153,
     "metadata": {},
     "output_type": "execute_result"
    }
   ],
   "source": [
    "np.array(y_test)[3]"
   ]
  },
  {
   "cell_type": "code",
   "execution_count": 140,
   "metadata": {},
   "outputs": [
    {
     "data": {
      "text/plain": [
       "(879,)"
      ]
     },
     "execution_count": 140,
     "metadata": {},
     "output_type": "execute_result"
    }
   ],
   "source": [
    "y_predict.shape"
   ]
  }
 ],
 "metadata": {
  "kernelspec": {
   "display_name": "Python 3",
   "language": "python",
   "name": "python3"
  },
  "language_info": {
   "codemirror_mode": {
    "name": "ipython",
    "version": 3
   },
   "file_extension": ".py",
   "mimetype": "text/x-python",
   "name": "python",
   "nbconvert_exporter": "python",
   "pygments_lexer": "ipython3",
   "version": "3.7.6"
  }
 },
 "nbformat": 4,
 "nbformat_minor": 4
}
