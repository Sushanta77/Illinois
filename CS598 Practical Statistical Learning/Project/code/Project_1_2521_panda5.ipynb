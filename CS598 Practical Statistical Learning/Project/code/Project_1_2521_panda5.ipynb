{
 "cells": [
  {
   "cell_type": "code",
   "execution_count": 1,
   "metadata": {},
   "outputs": [],
   "source": [
    "import pandas as pd\n",
    "import numpy as np\n",
    "from sklearn.linear_model import Lasso"
   ]
  },
  {
   "cell_type": "code",
   "execution_count": 21,
   "metadata": {},
   "outputs": [],
   "source": [
    "def load_data():\n",
    "    columns = [\"Col1\",\"Col 2\",\"Col 3\",\"Col 4\",\"Col 5\",\"Col 6\", \"Col 7\", \"Col 8\",\"Col 9\",\"Col 10\"]\n",
    "    data = pd.read_csv(\"/users/Sushanta/Documents/GitHub/Illinois/CS598 Practical Statistical Learning/Project/data/Ames_data.csv\")\n",
    "    testIds = pd.read_csv(\"/users/Sushanta/Documents/GitHub/Illinois/CS598 Practical Statistical Learning/Project/data/project1_testIDs.dat\",sep = \" \", names = columns)\n",
    "    \n",
    "    return data, testIds\n",
    "\n",
    "def created_train_test(data,testIds,j):\n",
    "    j = j-1\n",
    "    train = data.iloc[np.array(testIds)[:,j]]\n",
    "    test = data.drop(np.array(testIds)[:,j], axis=0)\n",
    "    #Drop the Sale_Price column from the Test Set\n",
    "    test = test.drop(['Sale_Price'],axis=1)\n",
    "    \n",
    "    train.to_csv(\"/users/Sushanta/Documents/GitHub/Illinois/CS598 Practical Statistical Learning/Project/data/train.csv\", index=False)\n",
    "    test.to_csv(\"/users/Sushanta/Documents/GitHub/Illinois/CS598 Practical Statistical Learning/Project/data/test.csv\",index=False)\n",
    "\n",
    "    return 0\n",
    "\n",
    "def feature_engineering(train,test):\n",
    "    return True\n",
    "\n",
    "    "
   ]
  },
  {
   "cell_type": "code",
   "execution_count": 22,
   "metadata": {},
   "outputs": [
    {
     "name": "stdout",
     "output_type": "stream",
     "text": [
      "Number of elements in the Training Set: (879, 83)\n",
      "Number of elements in the Test Set: (2051, 82)\n"
     ]
    }
   ],
   "source": [
    "data, testIds = load_data()\n",
    "output = created_train_test(data,testIds,j=1)\n",
    "if (output == 0):\n",
    "    #Load the Train, Test data from the Train.csv & Test.csv\n",
    "    train = pd.read_csv(\"/users/Sushanta/Documents/GitHub/Illinois/CS598 Practical Statistical Learning/Project/data/train.csv\")\n",
    "    test = pd.read_csv(\"/users/Sushanta/Documents/GitHub/Illinois/CS598 Practical Statistical Learning/Project/data/test.csv\")\n",
    "\n",
    "#Print the dataset size\n",
    "print (\"Number of elements in the Training Set: {}\".format(train.shape))\n",
    "print (\"Number of elements in the Test Set: {}\".format(test.shape))\n"
   ]
  },
  {
   "cell_type": "code",
   "execution_count": 18,
   "metadata": {},
   "outputs": [
    {
     "data": {
      "text/plain": [
       "(2051, 82)"
      ]
     },
     "execution_count": 18,
     "metadata": {},
     "output_type": "execute_result"
    }
   ],
   "source": []
  }
 ],
 "metadata": {
  "kernelspec": {
   "display_name": "Python 3",
   "language": "python",
   "name": "python3"
  },
  "language_info": {
   "codemirror_mode": {
    "name": "ipython",
    "version": 3
   },
   "file_extension": ".py",
   "mimetype": "text/x-python",
   "name": "python",
   "nbconvert_exporter": "python",
   "pygments_lexer": "ipython3",
   "version": "3.7.6"
  }
 },
 "nbformat": 4,
 "nbformat_minor": 4
}
